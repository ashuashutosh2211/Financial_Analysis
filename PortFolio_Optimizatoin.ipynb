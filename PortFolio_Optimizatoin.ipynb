{
 "cells": [
  {
   "cell_type": "code",
   "execution_count": 1,
   "id": "1ffecc70-82bf-4657-b0ad-0e21930face7",
   "metadata": {},
   "outputs": [],
   "source": [
    "import numpy as np\n",
    "import pandas as pd\n",
    "import matplotlib.pyplot as plt\n",
    "import yfinance as yf\n",
    "from scipy.optimize import minimize\n",
    "import plotly.graph_objs as go\n",
    "import seaborn as sns"
   ]
  },
  {
   "cell_type": "code",
   "execution_count": 2,
   "id": "46dc9179-98f5-4ca6-a464-7da23024a0ab",
   "metadata": {},
   "outputs": [
    {
     "name": "stderr",
     "output_type": "stream",
     "text": [
      "c:\\Python311\\Lib\\site-packages\\yfinance\\utils.py:775: FutureWarning: The 'unit' keyword in TimedeltaIndex construction is deprecated and will be removed in a future version. Use pd.to_timedelta instead.\n",
      "  df.index += _pd.TimedeltaIndex(dst_error_hours, 'h')\n",
      "c:\\Python311\\Lib\\site-packages\\yfinance\\utils.py:775: FutureWarning: The 'unit' keyword in TimedeltaIndex construction is deprecated and will be removed in a future version. Use pd.to_timedelta instead.\n",
      "  df.index += _pd.TimedeltaIndex(dst_error_hours, 'h')\n",
      "c:\\Python311\\Lib\\site-packages\\yfinance\\utils.py:775: FutureWarning: The 'unit' keyword in TimedeltaIndex construction is deprecated and will be removed in a future version. Use pd.to_timedelta instead.\n",
      "  df.index += _pd.TimedeltaIndex(dst_error_hours, 'h')\n",
      "c:\\Python311\\Lib\\site-packages\\yfinance\\utils.py:775: FutureWarning: The 'unit' keyword in TimedeltaIndex construction is deprecated and will be removed in a future version. Use pd.to_timedelta instead.\n",
      "  df.index += _pd.TimedeltaIndex(dst_error_hours, 'h')\n",
      "c:\\Python311\\Lib\\site-packages\\yfinance\\utils.py:775: FutureWarning: The 'unit' keyword in TimedeltaIndex construction is deprecated and will be removed in a future version. Use pd.to_timedelta instead.\n",
      "  df.index += _pd.TimedeltaIndex(dst_error_hours, 'h')\n",
      "[                       0%%                      ]c:\\Python311\\Lib\\site-packages\\yfinance\\utils.py:775: FutureWarning: The 'unit' keyword in TimedeltaIndex construction is deprecated and will be removed in a future version. Use pd.to_timedelta instead.\n",
      "  df.index += _pd.TimedeltaIndex(dst_error_hours, 'h')\n",
      "[                       0%%                      ]c:\\Python311\\Lib\\site-packages\\yfinance\\utils.py:775: FutureWarning: The 'unit' keyword in TimedeltaIndex construction is deprecated and will be removed in a future version. Use pd.to_timedelta instead.\n",
      "  df.index += _pd.TimedeltaIndex(dst_error_hours, 'h')\n",
      "[                       0%%                      ]c:\\Python311\\Lib\\site-packages\\yfinance\\utils.py:775: FutureWarning: The 'unit' keyword in TimedeltaIndex construction is deprecated and will be removed in a future version. Use pd.to_timedelta instead.\n",
      "  df.index += _pd.TimedeltaIndex(dst_error_hours, 'h')\n",
      "c:\\Python311\\Lib\\site-packages\\yfinance\\utils.py:775: FutureWarning: The 'unit' keyword in TimedeltaIndex construction is deprecated and will be removed in a future version. Use pd.to_timedelta instead.\n",
      "  df.index += _pd.TimedeltaIndex(dst_error_hours, 'h')\n",
      "[**********************70%%********              ]  7 of 10 completedc:\\Python311\\Lib\\site-packages\\yfinance\\utils.py:775: FutureWarning: The 'unit' keyword in TimedeltaIndex construction is deprecated and will be removed in a future version. Use pd.to_timedelta instead.\n",
      "  df.index += _pd.TimedeltaIndex(dst_error_hours, 'h')\n",
      "[*********************100%%**********************]  10 of 10 completed\n"
     ]
    }
   ],
   "source": [
    "stocks = ['AAPL', 'MSFT', 'GOOGL', 'AMZN', 'CSCO', 'TSLA', 'NVDA', 'JPM', 'GS', 'NFLX']\n",
    "\n",
    "start_date = pd.Timestamp.now() - pd.DateOffset(months=3)\n",
    "end_date = pd.Timestamp.now()\n",
    "\n",
    "prices = yf.download(stocks, start=start_date, end=end_date)['Adj Close']\n"
   ]
  },
  {
   "cell_type": "code",
   "execution_count": 3,
   "id": "285d9a78-2a1e-4d95-b2fa-33406e206d28",
   "metadata": {},
   "outputs": [
    {
     "data": {
      "text/html": [
       "<div>\n",
       "<style scoped>\n",
       "    .dataframe tbody tr th:only-of-type {\n",
       "        vertical-align: middle;\n",
       "    }\n",
       "\n",
       "    .dataframe tbody tr th {\n",
       "        vertical-align: top;\n",
       "    }\n",
       "\n",
       "    .dataframe thead th {\n",
       "        text-align: right;\n",
       "    }\n",
       "</style>\n",
       "<table border=\"1\" class=\"dataframe\">\n",
       "  <thead>\n",
       "    <tr style=\"text-align: right;\">\n",
       "      <th>Ticker</th>\n",
       "      <th>AAPL</th>\n",
       "      <th>AMZN</th>\n",
       "      <th>CSCO</th>\n",
       "      <th>GOOGL</th>\n",
       "      <th>GS</th>\n",
       "      <th>JPM</th>\n",
       "      <th>MSFT</th>\n",
       "      <th>NFLX</th>\n",
       "      <th>NVDA</th>\n",
       "      <th>TSLA</th>\n",
       "    </tr>\n",
       "    <tr>\n",
       "      <th>Date</th>\n",
       "      <th></th>\n",
       "      <th></th>\n",
       "      <th></th>\n",
       "      <th></th>\n",
       "      <th></th>\n",
       "      <th></th>\n",
       "      <th></th>\n",
       "      <th></th>\n",
       "      <th></th>\n",
       "      <th></th>\n",
       "    </tr>\n",
       "  </thead>\n",
       "  <tbody>\n",
       "    <tr>\n",
       "      <th>2024-03-11</th>\n",
       "      <td>172.516006</td>\n",
       "      <td>171.960007</td>\n",
       "      <td>49.813030</td>\n",
       "      <td>137.669998</td>\n",
       "      <td>383.837158</td>\n",
       "      <td>187.198044</td>\n",
       "      <td>403.791656</td>\n",
       "      <td>600.929993</td>\n",
       "      <td>857.739990</td>\n",
       "      <td>177.770004</td>\n",
       "    </tr>\n",
       "    <tr>\n",
       "      <th>2024-03-12</th>\n",
       "      <td>172.995346</td>\n",
       "      <td>175.389999</td>\n",
       "      <td>49.664246</td>\n",
       "      <td>138.500000</td>\n",
       "      <td>385.845001</td>\n",
       "      <td>188.739059</td>\n",
       "      <td>414.532288</td>\n",
       "      <td>611.080017</td>\n",
       "      <td>919.130005</td>\n",
       "      <td>177.539993</td>\n",
       "    </tr>\n",
       "    <tr>\n",
       "      <th>2024-03-13</th>\n",
       "      <td>170.898209</td>\n",
       "      <td>176.559998</td>\n",
       "      <td>49.703922</td>\n",
       "      <td>139.789993</td>\n",
       "      <td>389.950165</td>\n",
       "      <td>190.270142</td>\n",
       "      <td>414.352631</td>\n",
       "      <td>609.450012</td>\n",
       "      <td>908.880005</td>\n",
       "      <td>169.479996</td>\n",
       "    </tr>\n",
       "    <tr>\n",
       "      <th>2024-03-14</th>\n",
       "      <td>172.765671</td>\n",
       "      <td>178.750000</td>\n",
       "      <td>49.386517</td>\n",
       "      <td>143.100006</td>\n",
       "      <td>386.272400</td>\n",
       "      <td>186.879913</td>\n",
       "      <td>424.454407</td>\n",
       "      <td>613.010010</td>\n",
       "      <td>879.440002</td>\n",
       "      <td>162.500000</td>\n",
       "    </tr>\n",
       "    <tr>\n",
       "      <th>2024-03-15</th>\n",
       "      <td>172.386185</td>\n",
       "      <td>174.419998</td>\n",
       "      <td>48.533485</td>\n",
       "      <td>141.179993</td>\n",
       "      <td>384.880829</td>\n",
       "      <td>189.196396</td>\n",
       "      <td>415.670258</td>\n",
       "      <td>605.880005</td>\n",
       "      <td>878.369995</td>\n",
       "      <td>163.570007</td>\n",
       "    </tr>\n",
       "    <tr>\n",
       "      <th>...</th>\n",
       "      <td>...</td>\n",
       "      <td>...</td>\n",
       "      <td>...</td>\n",
       "      <td>...</td>\n",
       "      <td>...</td>\n",
       "      <td>...</td>\n",
       "      <td>...</td>\n",
       "      <td>...</td>\n",
       "      <td>...</td>\n",
       "      <td>...</td>\n",
       "    </tr>\n",
       "    <tr>\n",
       "      <th>2024-06-03</th>\n",
       "      <td>194.029999</td>\n",
       "      <td>178.339996</td>\n",
       "      <td>46.650002</td>\n",
       "      <td>173.169998</td>\n",
       "      <td>454.980011</td>\n",
       "      <td>201.820007</td>\n",
       "      <td>413.519989</td>\n",
       "      <td>633.789978</td>\n",
       "      <td>1150.000000</td>\n",
       "      <td>176.289993</td>\n",
       "    </tr>\n",
       "    <tr>\n",
       "      <th>2024-06-04</th>\n",
       "      <td>194.350006</td>\n",
       "      <td>179.339996</td>\n",
       "      <td>47.419998</td>\n",
       "      <td>173.789993</td>\n",
       "      <td>455.299988</td>\n",
       "      <td>199.160004</td>\n",
       "      <td>416.070007</td>\n",
       "      <td>631.619995</td>\n",
       "      <td>1164.369995</td>\n",
       "      <td>174.770004</td>\n",
       "    </tr>\n",
       "    <tr>\n",
       "      <th>2024-06-05</th>\n",
       "      <td>195.869995</td>\n",
       "      <td>181.279999</td>\n",
       "      <td>46.020000</td>\n",
       "      <td>175.410004</td>\n",
       "      <td>461.679993</td>\n",
       "      <td>197.259995</td>\n",
       "      <td>424.010010</td>\n",
       "      <td>650.270020</td>\n",
       "      <td>1224.400024</td>\n",
       "      <td>175.000000</td>\n",
       "    </tr>\n",
       "    <tr>\n",
       "      <th>2024-06-06</th>\n",
       "      <td>194.479996</td>\n",
       "      <td>185.000000</td>\n",
       "      <td>46.230000</td>\n",
       "      <td>176.729996</td>\n",
       "      <td>458.100006</td>\n",
       "      <td>196.910004</td>\n",
       "      <td>424.519989</td>\n",
       "      <td>648.520020</td>\n",
       "      <td>1209.979980</td>\n",
       "      <td>177.940002</td>\n",
       "    </tr>\n",
       "    <tr>\n",
       "      <th>2024-06-07</th>\n",
       "      <td>196.889999</td>\n",
       "      <td>184.300003</td>\n",
       "      <td>45.840000</td>\n",
       "      <td>174.460007</td>\n",
       "      <td>454.910004</td>\n",
       "      <td>199.949997</td>\n",
       "      <td>423.850006</td>\n",
       "      <td>641.469971</td>\n",
       "      <td>1208.880005</td>\n",
       "      <td>177.479996</td>\n",
       "    </tr>\n",
       "  </tbody>\n",
       "</table>\n",
       "<p>63 rows × 10 columns</p>\n",
       "</div>"
      ],
      "text/plain": [
       "Ticker            AAPL        AMZN       CSCO       GOOGL          GS  \\\n",
       "Date                                                                    \n",
       "2024-03-11  172.516006  171.960007  49.813030  137.669998  383.837158   \n",
       "2024-03-12  172.995346  175.389999  49.664246  138.500000  385.845001   \n",
       "2024-03-13  170.898209  176.559998  49.703922  139.789993  389.950165   \n",
       "2024-03-14  172.765671  178.750000  49.386517  143.100006  386.272400   \n",
       "2024-03-15  172.386185  174.419998  48.533485  141.179993  384.880829   \n",
       "...                ...         ...        ...         ...         ...   \n",
       "2024-06-03  194.029999  178.339996  46.650002  173.169998  454.980011   \n",
       "2024-06-04  194.350006  179.339996  47.419998  173.789993  455.299988   \n",
       "2024-06-05  195.869995  181.279999  46.020000  175.410004  461.679993   \n",
       "2024-06-06  194.479996  185.000000  46.230000  176.729996  458.100006   \n",
       "2024-06-07  196.889999  184.300003  45.840000  174.460007  454.910004   \n",
       "\n",
       "Ticker             JPM        MSFT        NFLX         NVDA        TSLA  \n",
       "Date                                                                     \n",
       "2024-03-11  187.198044  403.791656  600.929993   857.739990  177.770004  \n",
       "2024-03-12  188.739059  414.532288  611.080017   919.130005  177.539993  \n",
       "2024-03-13  190.270142  414.352631  609.450012   908.880005  169.479996  \n",
       "2024-03-14  186.879913  424.454407  613.010010   879.440002  162.500000  \n",
       "2024-03-15  189.196396  415.670258  605.880005   878.369995  163.570007  \n",
       "...                ...         ...         ...          ...         ...  \n",
       "2024-06-03  201.820007  413.519989  633.789978  1150.000000  176.289993  \n",
       "2024-06-04  199.160004  416.070007  631.619995  1164.369995  174.770004  \n",
       "2024-06-05  197.259995  424.010010  650.270020  1224.400024  175.000000  \n",
       "2024-06-06  196.910004  424.519989  648.520020  1209.979980  177.940002  \n",
       "2024-06-07  199.949997  423.850006  641.469971  1208.880005  177.479996  \n",
       "\n",
       "[63 rows x 10 columns]"
      ]
     },
     "execution_count": 3,
     "metadata": {},
     "output_type": "execute_result"
    }
   ],
   "source": [
    "prices"
   ]
  },
  {
   "cell_type": "code",
   "execution_count": 4,
   "id": "57f2a5ed-70ed-4d01-a065-d0876abadc48",
   "metadata": {},
   "outputs": [
    {
     "data": {
      "text/html": [
       "<div>\n",
       "<style scoped>\n",
       "    .dataframe tbody tr th:only-of-type {\n",
       "        vertical-align: middle;\n",
       "    }\n",
       "\n",
       "    .dataframe tbody tr th {\n",
       "        vertical-align: top;\n",
       "    }\n",
       "\n",
       "    .dataframe thead th {\n",
       "        text-align: right;\n",
       "    }\n",
       "</style>\n",
       "<table border=\"1\" class=\"dataframe\">\n",
       "  <thead>\n",
       "    <tr style=\"text-align: right;\">\n",
       "      <th>Ticker</th>\n",
       "      <th>AAPL</th>\n",
       "      <th>AMZN</th>\n",
       "      <th>CSCO</th>\n",
       "      <th>GOOGL</th>\n",
       "      <th>GS</th>\n",
       "      <th>JPM</th>\n",
       "      <th>MSFT</th>\n",
       "      <th>NFLX</th>\n",
       "      <th>NVDA</th>\n",
       "      <th>TSLA</th>\n",
       "    </tr>\n",
       "    <tr>\n",
       "      <th>Date</th>\n",
       "      <th></th>\n",
       "      <th></th>\n",
       "      <th></th>\n",
       "      <th></th>\n",
       "      <th></th>\n",
       "      <th></th>\n",
       "      <th></th>\n",
       "      <th></th>\n",
       "      <th></th>\n",
       "      <th></th>\n",
       "    </tr>\n",
       "  </thead>\n",
       "  <tbody>\n",
       "    <tr>\n",
       "      <th>2024-03-12</th>\n",
       "      <td>0.002779</td>\n",
       "      <td>0.019946</td>\n",
       "      <td>-0.002987</td>\n",
       "      <td>0.006029</td>\n",
       "      <td>0.005231</td>\n",
       "      <td>0.008232</td>\n",
       "      <td>0.026599</td>\n",
       "      <td>0.016891</td>\n",
       "      <td>0.071572</td>\n",
       "      <td>-0.001294</td>\n",
       "    </tr>\n",
       "    <tr>\n",
       "      <th>2024-03-13</th>\n",
       "      <td>-0.012123</td>\n",
       "      <td>0.006671</td>\n",
       "      <td>0.000799</td>\n",
       "      <td>0.009314</td>\n",
       "      <td>0.010639</td>\n",
       "      <td>0.008112</td>\n",
       "      <td>-0.000433</td>\n",
       "      <td>-0.002667</td>\n",
       "      <td>-0.011152</td>\n",
       "      <td>-0.045398</td>\n",
       "    </tr>\n",
       "    <tr>\n",
       "      <th>2024-03-14</th>\n",
       "      <td>0.010927</td>\n",
       "      <td>0.012404</td>\n",
       "      <td>-0.006386</td>\n",
       "      <td>0.023678</td>\n",
       "      <td>-0.009431</td>\n",
       "      <td>-0.017818</td>\n",
       "      <td>0.024380</td>\n",
       "      <td>0.005841</td>\n",
       "      <td>-0.032392</td>\n",
       "      <td>-0.041185</td>\n",
       "    </tr>\n",
       "    <tr>\n",
       "      <th>2024-03-15</th>\n",
       "      <td>-0.002197</td>\n",
       "      <td>-0.024224</td>\n",
       "      <td>-0.017273</td>\n",
       "      <td>-0.013417</td>\n",
       "      <td>-0.003603</td>\n",
       "      <td>0.012396</td>\n",
       "      <td>-0.020695</td>\n",
       "      <td>-0.011631</td>\n",
       "      <td>-0.001217</td>\n",
       "      <td>0.006585</td>\n",
       "    </tr>\n",
       "    <tr>\n",
       "      <th>2024-03-18</th>\n",
       "      <td>0.006372</td>\n",
       "      <td>0.000344</td>\n",
       "      <td>0.006949</td>\n",
       "      <td>0.046041</td>\n",
       "      <td>-0.007334</td>\n",
       "      <td>0.012401</td>\n",
       "      <td>0.002161</td>\n",
       "      <td>0.020648</td>\n",
       "      <td>0.007036</td>\n",
       "      <td>0.062542</td>\n",
       "    </tr>\n",
       "  </tbody>\n",
       "</table>\n",
       "</div>"
      ],
      "text/plain": [
       "Ticker          AAPL      AMZN      CSCO     GOOGL        GS       JPM  \\\n",
       "Date                                                                     \n",
       "2024-03-12  0.002779  0.019946 -0.002987  0.006029  0.005231  0.008232   \n",
       "2024-03-13 -0.012123  0.006671  0.000799  0.009314  0.010639  0.008112   \n",
       "2024-03-14  0.010927  0.012404 -0.006386  0.023678 -0.009431 -0.017818   \n",
       "2024-03-15 -0.002197 -0.024224 -0.017273 -0.013417 -0.003603  0.012396   \n",
       "2024-03-18  0.006372  0.000344  0.006949  0.046041 -0.007334  0.012401   \n",
       "\n",
       "Ticker          MSFT      NFLX      NVDA      TSLA  \n",
       "Date                                                \n",
       "2024-03-12  0.026599  0.016891  0.071572 -0.001294  \n",
       "2024-03-13 -0.000433 -0.002667 -0.011152 -0.045398  \n",
       "2024-03-14  0.024380  0.005841 -0.032392 -0.041185  \n",
       "2024-03-15 -0.020695 -0.011631 -0.001217  0.006585  \n",
       "2024-03-18  0.002161  0.020648  0.007036  0.062542  "
      ]
     },
     "execution_count": 4,
     "metadata": {},
     "output_type": "execute_result"
    }
   ],
   "source": [
    "returns = prices.pct_change().dropna()\n",
    "returns.head()"
   ]
  },
  {
   "cell_type": "code",
   "execution_count": 5,
   "id": "1bbc9107-7d66-4394-8ac8-f14505cb0350",
   "metadata": {},
   "outputs": [
    {
     "data": {
      "image/png": "[encoded data removed]",
      "text/plain": [
       "<Figure size 3000x800 with 2 Axes>"
      ]
     },
     "metadata": {},
     "output_type": "display_data"
    }
   ],
   "source": [
    "returns_transposed = returns.transpose()\n",
    "\n",
    "# Set x-axis ticks to show only dates\n",
    "dates = returns.index.date\n",
    "\n",
    "# Create a heatmap to visualize returns\n",
    "plt.figure(figsize=( 30 , 8))\n",
    "sns.heatmap(returns_transposed, cmap='BrBG', linecolor='white', linewidth=0.5)\n",
    "plt.title('Returns of Selected Companies')\n",
    "plt.xlabel('Date')\n",
    "plt.ylabel('Company')\n",
    "\n",
    "# Set x-axis ticks and labels\n",
    "plt.xticks(range(len(dates)), dates, rotation=45)\n",
    "\n",
    "plt.show()"
   ]
  },
  {
   "cell_type": "markdown",
   "id": "7f16bf08-7a18-4784-9978-28404d29f9ef",
   "metadata": {},
   "source": [
    "Making the above plot interactive "
   ]
  },
  {
   "cell_type": "code",
   "execution_count": 6,
   "id": "99b6132f-bf43-4204-b86a-5ee5d8f201a6",
   "metadata": {
    "scrolled": true
   },
   "outputs": [
    {
     "data": {
      "application/vnd.plotly.v1+json": {
       "config": {
        "plotlyServerURL": "https://plot.ly"
       },
       "data": [
        {
         "colorbar": {
          "title": {
           "text": "Returns"
          }
         },
         "colorscale": [
          [
           0,
           "rgb(84,48,5)"
          ],
          [
           0.1,
           "rgb(140,81,10)"
          ],
          [
           0.2,
           "rgb(191,129,45)"
          ],
          [
           0.3,
           "rgb(223,194,125)"
          ],
          [
           0.4,
           "rgb(246,232,195)"
          ],
          [
           0.5,
           "rgb(245,245,245)"
          ],
          [
           0.6,
           "rgb(199,234,229)"
          ],
          [
           0.7,
           "rgb(128,205,193)"
          ],
          [
           0.8,
           "rgb(53,151,143)"
          ],
          [
           0.9,
           "rgb(1,102,94)"
          ],
          [
           1,
           "rgb(0,60,48)"
          ]
         ],
         "type": "heatmap",
         "x": [
          "2024-03-12",
          "2024-03-13",
          "2024-03-14",
          "2024-03-15",
          "2024-03-18",
          "2024-03-19",
          "2024-03-20",
          "2024-03-21",
          "2024-03-22",
          "2024-03-25",
          "2024-03-26",
          "2024-03-27",
          "2024-03-28",
          "2024-04-01",
          "2024-04-02",
          "2024-04-03",
          "2024-04-04",
          "2024-04-05",
          "2024-04-08",
          "2024-04-09",
          "2024-04-10",
          "2024-04-11",
          "2024-04-12",
          "2024-04-15",
          "2024-04-16",
          "2024-04-17",
          "2024-04-18",
          "2024-04-19",
          "2024-04-22",
          "2024-04-23",
          "2024-04-24",
          "2024-04-25",
          "2024-04-26",
          "2024-04-29",
          "2024-04-30",
          "2024-05-01",
          "2024-05-02",
          "2024-05-03",
          "2024-05-06",
          "2024-05-07",
          "2024-05-08",
          "2024-05-09",
          "2024-05-10",
          "2024-05-13",
          "2024-05-14",
          "2024-05-15",
          "2024-05-16",
          "2024-05-17",
          "2024-05-20",
          "2024-05-21",
          "2024-05-22",
          "2024-05-23",
          "2024-05-24",
          "2024-05-28",
          "2024-05-29",
          "2024-05-30",
          "2024-05-31",
          "2024-06-03",
          "2024-06-04",
          "2024-06-05",
          "2024-06-06",
          "2024-06-07"
         ],
         "y": [
          "AAPL",
          "AMZN",
          "CSCO",
          "GOOGL",
          "GS",
          "JPM",
          "MSFT",
          "NFLX",
          "NVDA",
          "TSLA"
         ],
         "z": [
          [
           0.0027785224653544827,
           -0.012122507910307334,
           0.010927336063396575,
           -0.0021965363968377005,
           0.006372382706582691,
           0.01358503848852366,
           0.014709281923174222,
           -0.040857464135712784,
           0.005310149387126595,
           -0.008300393188655941,
           -0.006672533416326343,
           0.021212563191846723,
           -0.010559076139025292,
           -0.008455753513065378,
           -0.006998836178275791,
           0.00479741830624314,
           -0.004892317674254132,
           0.0045017550319030875,
           -0.006663488471142287,
           0.00724244883209213,
           -0.01113924702670488,
           0.04327096107219042,
           0.008626659333025755,
           -0.02186355363860748,
           -0.019167264934018324,
           -0.008147344826354375,
           -0.0057143454809786,
           -0.012212612070373052,
           0.005090846727036968,
           0.00639169733497158,
           0.01270229756236807,
           0.005147311612454075,
           -0.0034728474129022135,
           0.02480800013284945,
           -0.01827083069501667,
           -0.006047116574675493,
           0.02203188096694153,
           0.059816232901643396,
           -0.009106700018572389,
           0.003797125512837285,
           0.0018641140988948646,
           0.010014275290102459,
           -0.006890213878013807,
           0.017645428427694565,
           0.006173469529849429,
           0.012217940748059153,
           0.000632485327932919,
           0.00015802138577525326,
           0.006162101432736655,
           0.006857270013722827,
           -0.0075384047882530725,
           -0.021058088749084547,
           0.016588135507972,
           0.00005268852431883353,
           0.0015789661787211084,
           0.005255137081729533,
           0.005018593484036549,
           0.009258771283728873,
           0.0016492672588364066,
           0.007820884826019947,
           -0.007096540686677422,
           0.012392038847459208
          ],
          [
           0.019946455814511488,
           0.0066708374081581034,
           0.012403729449981915,
           -0.024223786467438835,
           0.00034398325434925603,
           0.00813845829732096,
           0.012791359170393646,
           0,
           0.0040415450203241665,
           0.004696213001679439,
           -0.007845994154095037,
           0.008581036192426339,
           0.0030584610251771505,
           0.003270852211551434,
           -0.0015472110151306673,
           0.009519072430478781,
           -0.013212014767422509,
           0.028166707356770848,
           0.0006483768975988902,
           0.002591909504893186,
           0.0015080453603608657,
           0.016671181255133227,
           -0.015445639364236818,
           -0.013485250630092094,
           -0.001633742516860992,
           -0.011128128209780819,
           -0.011363622972558218,
           -0.02561096030926935,
           0.014888568814227066,
           0.01303389727631088,
           -0.016430862529557833,
           -0.016535467634067658,
           0.034260361668536854,
           0.007460258507441919,
           -0.03293549122868411,
           0.02285714285714291,
           0.031955314082140474,
           0.008066292135759712,
           0.013371946429286963,
           0.0003179520909595279,
           -0.004026247769404412,
           0.007978723404255428,
           -0.01065965315282813,
           -0.004853789332504466,
           0.002679959159411549,
           -0.005773249525686364,
           -0.012688857146349708,
           0.005826891232250109,
           -0.006280474722663021,
           -0.0021248741632045043,
           -0.00010914012742568868,
           -0.011358061353112014,
           -0.0016570176564539851,
           0.007745471073219212,
           -0.0007136405620595809,
           -0.014833517662161122,
           -0.016060700229647673,
           0.01076849847083472,
           0.00560726713319748,
           0.010817455564965828,
           0.020520748266509736,
           -0.003783767287795614
          ],
          [
           -0.002986861805547747,
           0.0007988979954502984,
           -0.0063859286385560265,
           -0.017272551653246038,
           0.006948727013835532,
           -0.002638557027855981,
           0.008343503661083274,
           0.006659979288998974,
           -0.00200489121597347,
           -0.0020087643653962095,
           -0.0026167815096977964,
           0.004439934448796645,
           0.0028129587584684312,
           0.0026047227137322437,
           -0.013589176985323026,
           -0.004493411154405602,
           -0.012925749823959665,
           0.00914567909222419,
           -0.00638511974181688,
           0.03669147142373519,
           -0.015996785921028267,
           0.006502737264329372,
           -0.02099731731196386,
           -0.0051557020281775,
           -0.006633571691278095,
           -0.0027127975456020526,
           0.00669595498417852,
           0.0043649777968921555,
           -0.0037251719021650365,
           0.0037391006950133754,
           0.0006208356681776106,
           -0.005170630980139701,
           -0.0049895607356131855,
           -0.0016715802347353481,
           -0.01674339174339179,
           -0.002979978523043103,
           -0.0010674474145531132,
           0.007052746524907949,
           -0.00021218849235660198,
           0.0036085367595593,
           0.015228452607710441,
           -0.004374980926513672,
           0.005649726984540582,
           0.012900518397182648,
           0.005546435005567618,
           0.014708833397015564,
           -0.026776687444876157,
           -0.003516797333594446,
           -0.0215901420046255,
           -0.004031454213880625,
           0.010438894179855884,
           -0.017499511400258516,
           -0.003862667619522364,
           -0.0030159283750703647,
           -0.004321455348258452,
           0.0008679926050507714,
           0.008239398892364802,
           0.003225839266213004,
           0.016505822462604902,
           -0.029523360717851777,
           0.004563213437283498,
           -0.008436067348262188
          ],
          [
           0.006028923092133098,
           0.009314030946807383,
           0.02367846753241931,
           -0.013417284038027777,
           0.046040518042292256,
           -0.00440136733965979,
           0.011630325294595512,
           -0.00766437641217399,
           0.021476951476018913,
           -0.0046428130822175895,
           0.003998073002224212,
           0.0013273840225174194,
           0.0003976772090907854,
           0.03021276776431292,
           -0.005981142849796894,
           0.0023291965323375408,
           -0.028337202695167818,
           0.013087100489461267,
           0.015409876088626984,
           0.011301258837730588,
           -0.0029374629370264582,
           0.020942771136437832,
           -0.010538911586322475,
           -0.018195620331754148,
           -0.0029704682426330287,
           0.006930099524071975,
           0.0034732956962304495,
           -0.0123068921001801,
           0.014212489411733031,
           0.012669540203511742,
           0.005497348705765237,
           -0.01966948272965563,
           0.10224357018103958,
           -0.033730754025565024,
           -0.020282848275559373,
           0.00663473300868489,
           0.016843613429484927,
           0.003721104274072795,
           0.005142313932695375,
           0.01873880893582247,
           -0.010919679516423364,
           0.0034242638702011163,
           -0.007707771038090505,
           0.0029054581138308055,
           0.007094696420553603,
           0.012739216951964893,
           0.009680587920250172,
           0.010793460568757407,
           0.004884701932733826,
           0.005256658061245423,
           -0.008265398764437104,
           -0.016044912987358995,
           0.00829733457842008,
           0.00805753676815213,
           -0.002834467218255199,
           -0.021546295722802533,
           0.002265989124777157,
           0.003884047356204734,
           0.0035802686593704447,
           0.00932165509270333,
           0.007525181220407351,
           -0.012844390134946093
          ],
          [
           0.005230976143574928,
           0.010639411062035808,
           -0.009431371556189228,
           -0.0036025640073525933,
           -0.007334494946191206,
           0.011161110460558676,
           0.020094710460215603,
           0.04348372873969031,
           -0.01665414462321957,
           -0.004621262713962793,
           0.0030621891741133833,
           0.022330002052209252,
           0.005875980023161365,
           -0.010007397532705298,
           -0.008125618578018634,
           0.009386889734081638,
           -0.018719849306788938,
           0.004479998186204925,
           0.006052950507719146,
           0.0004140100832694671,
           -0.024226311786981314,
           -0.008184409065394416,
           -0.020101683271309123,
           0.029243411476728376,
           -0.010028015580890615,
           0.017764467568058606,
           -0.0019806610194859076,
           0.002207903149298973,
           0.03304452184689888,
           0.015933836428129844,
           -0.002264074488318557,
           -0.007067964090608503,
           0.01790269609045203,
           0.007577656637204777,
           -0.009516980849161527,
           0.0005625138281051267,
           0.013163103529138187,
           0.012968949033340449,
           0.012529154290668698,
           0.000292995619320946,
           0.007097839482386847,
           0.019263872567664375,
           -0.0018219441493312338,
           -0.002572959136617814,
           0.010825464057249823,
           0.016620485258703077,
           -0.003368428374819654,
           0.0068888409923415495,
           -0.010219798296684957,
           0.01613602903603173,
           -0.0170702626880066,
           -0.009148328012329787,
           0.006613567805722864,
           -0.002970632400783879,
           -0.005741491525813047,
           -0.009220549970501146,
           0.01397058808577456,
           -0.0033732981345919733,
           0.0007032766251575673,
           0.014012749953583592,
           -0.007754259723313783,
           -0.006963550314132538
          ],
          [
           0.008232007095411165,
           0.008112163734397493,
           -0.017817973135184406,
           0.012395567306657584,
           0.012401470259109981,
           0.005865238135790207,
           0.013106965162111628,
           0.013905182626886337,
           -0.012257650208277737,
           -0.009154661321243651,
           0.004670907097075183,
           0.019363487927636536,
           0.003909333854772656,
           -0.006789809676605141,
           -0.0004020946570322259,
           -0.0028160263519619866,
           -0.007608497028309347,
           0.009200118108412259,
           0.005216504407274725,
           -0.006700936415176217,
           -0.00852139349628056,
           -0.00020467869582041498,
           -0.06467788908234895,
           0.0005471092903814867,
           -0.011427614111572448,
           -0.003982307569414201,
           0.006497102160421875,
           0.02510346511314654,
           0.019429497045519106,
           0.014413154927176652,
           0.004892278777934189,
           0.0015019333094192788,
           0.0006206256348293415,
           -0.0010853620750690407,
           -0.00796768054562802,
           0.0006258220180961338,
           -0.001042410860033094,
           -0.00600025635656809,
           0.007821140812172,
           -0.0013020833333333703,
           0.020338951220257417,
           0.009455692109525016,
           0.006430401379549089,
           -0.00020128059597479542,
           0.013988823222782498,
           0.002977550096133097,
           0.0017812112674504554,
           0.011458448419234157,
           -0.04497285881644575,
           0.02014522141588726,
           -0.006064588452067365,
           -0.007009224984926621,
           0.019246438046735426,
           -0.00602863172433743,
           -0.006967415486959561,
           0.006158201084975223,
           0.016555475951657295,
           -0.003997421601318107,
           -0.013180079107995235,
           -0.009540114080821893,
           -0.0017742616570661784,
           0.015438490831320761
          ],
          [
           0.02659943792987085,
           -0.0004333968373442243,
           0.024379659682738586,
           -0.020695153661905996,
           0.002161271942089815,
           0.009800645723213819,
           0.009064777815801284,
           0.009735888282344618,
           -0.001467289421503315,
           -0.013714610960607443,
           -0.0028614750514195375,
           -0.0005217611978175496,
           -0.0016847117433034242,
           0.00915100436142402,
           -0.007372152075200478,
           -0.0023490951899334256,
           -0.006112488638429392,
           0.018282703553983204,
           -0.0021855345618232436,
           0.003980295098292341,
           -0.007084532215827499,
           0.011033404668973956,
           -0.014091069740346684,
           -0.019578073160961385,
           0.0022724732870196274,
           -0.006609123057280009,
           -0.018380914380097813,
           -0.012738984039346368,
           0.004610099092158926,
           0.016485473390356553,
           0.0036557827317673652,
           -0.024495169785463955,
           0.018243820965047952,
           -0.010016762573547888,
           -0.032119381667644054,
           0.014409409957678365,
           0.007342879479192543,
           0.022169763364169093,
           0.01691831480238637,
           -0.010156226146327385,
           0.002931563077825272,
           0.0043357510533308385,
           0.005869169461544477,
           -0.0024593588063923644,
           0.006864578320660453,
           0.01748392067616744,
           -0.004939955573941224,
           -0.0018527727437477326,
           0.012208193491660246,
           0.008698951988733272,
           0.00344951622057188,
           -0.008176133753362347,
           0.007400476960443436,
           0.0003719631317351535,
           -0.0026724155905164526,
           -0.03378614429323723,
           0.0011092951990325783,
           -0.003878341363436566,
           0.006166614379704338,
           0.019083332856576485,
           0.0012027528508791185,
           -0.0015782128698177411
          ],
          [
           0.016890527245723153,
           -0.0026674164384806742,
           0.005841328225922426,
           -0.011631139409189362,
           0.020647668952278098,
           0.0038001512480332345,
           0.011196333918179091,
           -0.007933821551052822,
           0.00851116507837646,
           -0.0008757627815104696,
           0.002836783539009735,
           -0.024966564715075523,
           -0.01010547472979706,
           0.011492895579566564,
           -0.0001627445204128719,
           0.025838059539012193,
           -0.020537077974909224,
           0.03085195834885246,
           -0.012213555315641389,
           -0.016247292967694116,
           0.0006146956895969335,
           0.01648939817845707,
           -0.009462788144980916,
           -0.02517539656975043,
           0.017079790332208633,
           -0.006202255746706076,
           -0.005100302873373486,
           -0.09093294639880478,
           -0.0007927400886870162,
           0.041741841747476416,
           -0.03916919927790996,
           0.017437658093612418,
           -0.006320834634166772,
           -0.0031003159042247708,
           -0.015817933726088973,
           0.0019432066245710367,
           0.024360627695960924,
           0.025108381541906866,
           0.03043108197330624,
           0.0151264380790197,
           0.0057260242625825075,
           0.004298909344657487,
           -0.00199322270377289,
           0.009363746433779241,
           -0.0047520290360199,
           -0.00022806378027895313,
           -0.004889815987247026,
           0.017329417080885756,
           0.03175017310164541,
           0.015277266495193231,
           -0.015585396592027845,
           -0.0074944775126603025,
           0.017430455091049568,
           0.0034789331271742885,
           0.0086594685935093,
           -0.010632156097539092,
           -0.009325847323894854,
           -0.012203511657104205,
           -0.0034238201697512904,
           0.02952728627693668,
           -0.0026911897326306056,
           -0.010870981027263804
          ],
          [
           0.07157182286867947,
           -0.011151850059890944,
           -0.03239151734359269,
           -0.0012166916688441942,
           0.0070357511187033595,
           0.010660779838242762,
           0.010895087638615797,
           0.011762498591839199,
           0.031213473860718155,
           0.007561862753919346,
           -0.025694231361284015,
           -0.024967303418604425,
           0.0011745125302977666,
           0.00007747944177238786,
           -0.010081543665367731,
           -0.005455445128405012,
           -0.034384724553511825,
           0.024480565270601273,
           -0.009942277781665343,
           -0.020417107999925244,
           0.01974135606399674,
           0.041096471574920024,
           -0.026816443578547844,
           -0.024777148242219882,
           0.01644168612908481,
           -0.03866618759266294,
           0.007568330542621959,
           -0.10004608398906123,
           0.043543297474778475,
           0.036532593954251125,
           -0.03331589676207014,
           0.03708722350064497,
           0.06175569731993247,
           0.0002507912969784698,
           -0.015440349692765531,
           -0.03889961531788688,
           0.033429282719842135,
           0.03463187052697547,
           0.037741172006414914,
           -0.017212986722899726,
           -0.0015681062621327735,
           -0.018415724133945766,
           0.01274415920212979,
           0.005796703050440222,
           0.010586408508503009,
           0.03583781067676961,
           -0.002863744026691095,
           -0.019923958809501707,
           0.024881335559785445,
           0.006393751463011688,
           -0.004570886103326344,
           0.09319640888296465,
           0.025722744364660155,
           0.06980442424506483,
           0.008112299413660429,
           -0.0376660134988025,
           -0.007846193615667407,
           0.04895428027749271,
           0.012495647927989184,
           0.051555802321094024,
           -0.01177723265091668,
           -0.0009090857730649216
          ],
          [
           -0.0012938683737420131,
           -0.04539820808488959,
           -0.04118477639544138,
           0.006584660456730784,
           0.06254200201423088,
           -0.014269250195585559,
           0.025332688257929448,
           -0.016167575308454918,
           -0.01151490226146512,
           0.010536808713131895,
           0.029195349264770964,
           0.012157391142962881,
           -0.022465709302040393,
           -0.003242460249155976,
           -0.049024062767074494,
           0.01050231020055925,
           0.016213301154368365,
           -0.036292482565110196,
           0.04899940648952894,
           0.02254601255405486,
           -0.028946236061948905,
           0.01653476762638495,
           -0.020332204625772565,
           -0.05594859487563397,
           -0.027062145360474688,
           -0.010565868854054306,
           -0.03550983840996058,
           -0.0192088959161848,
           -0.03400203941675628,
           0.018514534090260826,
           0.12061109407252757,
           0.04965143743002587,
           -0.011105884774887609,
           0.1530691710339953,
           -0.05550118063944742,
           -0.017950640048260635,
           0.0001110562423569661,
           0.006555235656792835,
           0.019703030064167848,
           -0.03761635178001177,
           -0.017378079862311324,
           -0.01573946875450305,
           -0.02035238689978358,
           0.020300339194899042,
           0.03292805679333921,
           -0.02005067585133169,
           0.004885285464054867,
           0.014985188920464187,
           -0.014144086952910362,
           0.06659050790792542,
           -0.03478030697150003,
           -0.03536724832380789,
           0.03165649721483632,
           -0.01389201861667555,
           -0.0031683030189180172,
           0.014756744473008343,
           -0.003971091681523098,
           -0.0100517100545634,
           -0.008622094682395387,
           0.0013159908560766986,
           0.01680001395089281,
           -0.0025851787543875737
          ]
         ]
        }
       ],
       "layout": {
        "height": 400,
        "template": {
         "data": {
          "bar": [
           {
            "error_x": {
             "color": "#2a3f5f"
            },
            "error_y": {
             "color": "#2a3f5f"
            },
            "marker": {
             "line": {
              "color": "#E5ECF6",
              "width": 0.5
             },
             "pattern": {
              "fillmode": "overlay",
              "size": 10,
              "solidity": 0.2
             }
            },
            "type": "bar"
           }
          ],
          "barpolar": [
           {
            "marker": {
             "line": {
              "color": "#E5ECF6",
              "width": 0.5
             },
             "pattern": {
              "fillmode": "overlay",
              "size": 10,
              "solidity": 0.2
             }
            },
            "type": "barpolar"
           }
          ],
          "carpet": [
           {
            "aaxis": {
             "endlinecolor": "#2a3f5f",
             "gridcolor": "white",
             "linecolor": "white",
             "minorgridcolor": "white",
             "startlinecolor": "#2a3f5f"
            },
            "baxis": {
             "endlinecolor": "#2a3f5f",
             "gridcolor": "white",
             "linecolor": "white",
             "minorgridcolor": "white",
             "startlinecolor": "#2a3f5f"
            },
            "type": "carpet"
           }
          ],
          "choropleth": [
           {
            "colorbar": {
             "outlinewidth": 0,
             "ticks": ""
            },
            "type": "choropleth"
           }
          ],
          "contour": [
           {
            "colorbar": {
             "outlinewidth": 0,
             "ticks": ""
            },
            "colorscale": [
             [
              0,
              "#0d0887"
             ],
             [
              0.1111111111111111,
              "#46039f"
             ],
             [
              0.2222222222222222,
              "#7201a8"
             ],
             [
              0.3333333333333333,
              "#9c179e"
             ],
             [
              0.4444444444444444,
              "#bd3786"
             ],
             [
              0.5555555555555556,
              "#d8576b"
             ],
             [
              0.6666666666666666,
              "#ed7953"
             ],
             [
              0.7777777777777778,
              "#fb9f3a"
             ],
             [
              0.8888888888888888,
              "#fdca26"
             ],
             [
              1,
              "#f0f921"
             ]
            ],
            "type": "contour"
           }
          ],
          "contourcarpet": [
           {
            "colorbar": {
             "outlinewidth": 0,
             "ticks": ""
            },
            "type": "contourcarpet"
           }
          ],
          "heatmap": [
           {
            "colorbar": {
             "outlinewidth": 0,
             "ticks": ""
            },
            "colorscale": [
             [
              0,
              "#0d0887"
             ],
             [
              0.1111111111111111,
              "#46039f"
             ],
             [
              0.2222222222222222,
              "#7201a8"
             ],
             [
              0.3333333333333333,
              "#9c179e"
             ],
             [
              0.4444444444444444,
              "#bd3786"
             ],
             [
              0.5555555555555556,
              "#d8576b"
             ],
             [
              0.6666666666666666,
              "#ed7953"
             ],
             [
              0.7777777777777778,
              "#fb9f3a"
             ],
             [
              0.8888888888888888,
              "#fdca26"
             ],
             [
              1,
              "#f0f921"
             ]
            ],
            "type": "heatmap"
           }
          ],
          "heatmapgl": [
           {
            "colorbar": {
             "outlinewidth": 0,
             "ticks": ""
            },
            "colorscale": [
             [
              0,
              "#0d0887"
             ],
             [
              0.1111111111111111,
              "#46039f"
             ],
             [
              0.2222222222222222,
              "#7201a8"
             ],
             [
              0.3333333333333333,
              "#9c179e"
             ],
             [
              0.4444444444444444,
              "#bd3786"
             ],
             [
              0.5555555555555556,
              "#d8576b"
             ],
             [
              0.6666666666666666,
              "#ed7953"
             ],
             [
              0.7777777777777778,
              "#fb9f3a"
             ],
             [
              0.8888888888888888,
              "#fdca26"
             ],
             [
              1,
              "#f0f921"
             ]
            ],
            "type": "heatmapgl"
           }
          ],
          "histogram": [
           {
            "marker": {
             "pattern": {
              "fillmode": "overlay",
              "size": 10,
              "solidity": 0.2
             }
            },
            "type": "histogram"
           }
          ],
          "histogram2d": [
           {
            "colorbar": {
             "outlinewidth": 0,
             "ticks": ""
            },
            "colorscale": [
             [
              0,
              "#0d0887"
             ],
             [
              0.1111111111111111,
              "#46039f"
             ],
             [
              0.2222222222222222,
              "#7201a8"
             ],
             [
              0.3333333333333333,
              "#9c179e"
             ],
             [
              0.4444444444444444,
              "#bd3786"
             ],
             [
              0.5555555555555556,
              "#d8576b"
             ],
             [
              0.6666666666666666,
              "#ed7953"
             ],
             [
              0.7777777777777778,
              "#fb9f3a"
             ],
             [
              0.8888888888888888,
              "#fdca26"
             ],
             [
              1,
              "#f0f921"
             ]
            ],
            "type": "histogram2d"
           }
          ],
          "histogram2dcontour": [
           {
            "colorbar": {
             "outlinewidth": 0,
             "ticks": ""
            },
            "colorscale": [
             [
              0,
              "#0d0887"
             ],
             [
              0.1111111111111111,
              "#46039f"
             ],
             [
              0.2222222222222222,
              "#7201a8"
             ],
             [
              0.3333333333333333,
              "#9c179e"
             ],
             [
              0.4444444444444444,
              "#bd3786"
             ],
             [
              0.5555555555555556,
              "#d8576b"
             ],
             [
              0.6666666666666666,
              "#ed7953"
             ],
             [
              0.7777777777777778,
              "#fb9f3a"
             ],
             [
              0.8888888888888888,
              "#fdca26"
             ],
             [
              1,
              "#f0f921"
             ]
            ],
            "type": "histogram2dcontour"
           }
          ],
          "mesh3d": [
           {
            "colorbar": {
             "outlinewidth": 0,
             "ticks": ""
            },
            "type": "mesh3d"
           }
          ],
          "parcoords": [
           {
            "line": {
             "colorbar": {
              "outlinewidth": 0,
              "ticks": ""
             }
            },
            "type": "parcoords"
           }
          ],
          "pie": [
           {
            "automargin": true,
            "type": "pie"
           }
          ],
          "scatter": [
           {
            "fillpattern": {
             "fillmode": "overlay",
             "size": 10,
             "solidity": 0.2
            },
            "type": "scatter"
           }
          ],
          "scatter3d": [
           {
            "line": {
             "colorbar": {
              "outlinewidth": 0,
              "ticks": ""
             }
            },
            "marker": {
             "colorbar": {
              "outlinewidth": 0,
              "ticks": ""
             }
            },
            "type": "scatter3d"
           }
          ],
          "scattercarpet": [
           {
            "marker": {
             "colorbar": {
              "outlinewidth": 0,
              "ticks": ""
             }
            },
            "type": "scattercarpet"
           }
          ],
          "scattergeo": [
           {
            "marker": {
             "colorbar": {
              "outlinewidth": 0,
              "ticks": ""
             }
            },
            "type": "scattergeo"
           }
          ],
          "scattergl": [
           {
            "marker": {
             "colorbar": {
              "outlinewidth": 0,
              "ticks": ""
             }
            },
            "type": "scattergl"
           }
          ],
          "scattermapbox": [
           {
            "marker": {
             "colorbar": {
              "outlinewidth": 0,
              "ticks": ""
             }
            },
            "type": "scattermapbox"
           }
          ],
          "scatterpolar": [
           {
            "marker": {
             "colorbar": {
              "outlinewidth": 0,
              "ticks": ""
             }
            },
            "type": "scatterpolar"
           }
          ],
          "scatterpolargl": [
           {
            "marker": {
             "colorbar": {
              "outlinewidth": 0,
              "ticks": ""
             }
            },
            "type": "scatterpolargl"
           }
          ],
          "scatterternary": [
           {
            "marker": {
             "colorbar": {
              "outlinewidth": 0,
              "ticks": ""
             }
            },
            "type": "scatterternary"
           }
          ],
          "surface": [
           {
            "colorbar": {
             "outlinewidth": 0,
             "ticks": ""
            },
            "colorscale": [
             [
              0,
              "#0d0887"
             ],
             [
              0.1111111111111111,
              "#46039f"
             ],
             [
              0.2222222222222222,
              "#7201a8"
             ],
             [
              0.3333333333333333,
              "#9c179e"
             ],
             [
              0.4444444444444444,
              "#bd3786"
             ],
             [
              0.5555555555555556,
              "#d8576b"
             ],
             [
              0.6666666666666666,
              "#ed7953"
             ],
             [
              0.7777777777777778,
              "#fb9f3a"
             ],
             [
              0.8888888888888888,
              "#fdca26"
             ],
             [
              1,
              "#f0f921"
             ]
            ],
            "type": "surface"
           }
          ],
          "table": [
           {
            "cells": {
             "fill": {
              "color": "#EBF0F8"
             },
             "line": {
              "color": "white"
             }
            },
            "header": {
             "fill": {
              "color": "#C8D4E3"
             },
             "line": {
              "color": "white"
             }
            },
            "type": "table"
           }
          ]
         },
         "layout": {
          "annotationdefaults": {
           "arrowcolor": "#2a3f5f",
           "arrowhead": 0,
           "arrowwidth": 1
          },
          "autotypenumbers": "strict",
          "coloraxis": {
           "colorbar": {
            "outlinewidth": 0,
            "ticks": ""
           }
          },
          "colorscale": {
           "diverging": [
            [
             0,
             "#8e0152"
            ],
            [
             0.1,
             "#c51b7d"
            ],
            [
             0.2,
             "#de77ae"
            ],
            [
             0.3,
             "#f1b6da"
            ],
            [
             0.4,
             "#fde0ef"
            ],
            [
             0.5,
             "#f7f7f7"
            ],
            [
             0.6,
             "#e6f5d0"
            ],
            [
             0.7,
             "#b8e186"
            ],
            [
             0.8,
             "#7fbc41"
            ],
            [
             0.9,
             "#4d9221"
            ],
            [
             1,
             "#276419"
            ]
           ],
           "sequential": [
            [
             0,
             "#0d0887"
            ],
            [
             0.1111111111111111,
             "#46039f"
            ],
            [
             0.2222222222222222,
             "#7201a8"
            ],
            [
             0.3333333333333333,
             "#9c179e"
            ],
            [
             0.4444444444444444,
             "#bd3786"
            ],
            [
             0.5555555555555556,
             "#d8576b"
            ],
            [
             0.6666666666666666,
             "#ed7953"
            ],
            [
             0.7777777777777778,
             "#fb9f3a"
            ],
            [
             0.8888888888888888,
             "#fdca26"
            ],
            [
             1,
             "#f0f921"
            ]
           ],
           "sequentialminus": [
            [
             0,
             "#0d0887"
            ],
            [
             0.1111111111111111,
             "#46039f"
            ],
            [
             0.2222222222222222,
             "#7201a8"
            ],
            [
             0.3333333333333333,
             "#9c179e"
            ],
            [
             0.4444444444444444,
             "#bd3786"
            ],
            [
             0.5555555555555556,
             "#d8576b"
            ],
            [
             0.6666666666666666,
             "#ed7953"
            ],
            [
             0.7777777777777778,
             "#fb9f3a"
            ],
            [
             0.8888888888888888,
             "#fdca26"
            ],
            [
             1,
             "#f0f921"
            ]
           ]
          },
          "colorway": [
           "#636efa",
           "#EF553B",
           "#00cc96",
           "#ab63fa",
           "#FFA15A",
           "#19d3f3",
           "#FF6692",
           "#B6E880",
           "#FF97FF",
           "#FECB52"
          ],
          "font": {
           "color": "#2a3f5f"
          },
          "geo": {
           "bgcolor": "white",
           "lakecolor": "white",
           "landcolor": "#E5ECF6",
           "showlakes": true,
           "showland": true,
           "subunitcolor": "white"
          },
          "hoverlabel": {
           "align": "left"
          },
          "hovermode": "closest",
          "mapbox": {
           "style": "light"
          },
          "paper_bgcolor": "white",
          "plot_bgcolor": "#E5ECF6",
          "polar": {
           "angularaxis": {
            "gridcolor": "white",
            "linecolor": "white",
            "ticks": ""
           },
           "bgcolor": "#E5ECF6",
           "radialaxis": {
            "gridcolor": "white",
            "linecolor": "white",
            "ticks": ""
           }
          },
          "scene": {
           "xaxis": {
            "backgroundcolor": "#E5ECF6",
            "gridcolor": "white",
            "gridwidth": 2,
            "linecolor": "white",
            "showbackground": true,
            "ticks": "",
            "zerolinecolor": "white"
           },
           "yaxis": {
            "backgroundcolor": "#E5ECF6",
            "gridcolor": "white",
            "gridwidth": 2,
            "linecolor": "white",
            "showbackground": true,
            "ticks": "",
            "zerolinecolor": "white"
           },
           "zaxis": {
            "backgroundcolor": "#E5ECF6",
            "gridcolor": "white",
            "gridwidth": 2,
            "linecolor": "white",
            "showbackground": true,
            "ticks": "",
            "zerolinecolor": "white"
           }
          },
          "shapedefaults": {
           "line": {
            "color": "#2a3f5f"
           }
          },
          "ternary": {
           "aaxis": {
            "gridcolor": "white",
            "linecolor": "white",
            "ticks": ""
           },
           "baxis": {
            "gridcolor": "white",
            "linecolor": "white",
            "ticks": ""
           },
           "bgcolor": "#E5ECF6",
           "caxis": {
            "gridcolor": "white",
            "linecolor": "white",
            "ticks": ""
           }
          },
          "title": {
           "x": 0.05
          },
          "xaxis": {
           "automargin": true,
           "gridcolor": "white",
           "linecolor": "white",
           "ticks": "",
           "title": {
            "standoff": 15
           },
           "zerolinecolor": "white",
           "zerolinewidth": 2
          },
          "yaxis": {
           "automargin": true,
           "gridcolor": "white",
           "linecolor": "white",
           "ticks": "",
           "title": {
            "standoff": 15
           },
           "zerolinecolor": "white",
           "zerolinewidth": 2
          }
         }
        },
        "title": {
         "text": "Returns of Selected Companies"
        },
        "width": 1000,
        "xaxis": {
         "title": {
          "text": "Date"
         }
        },
        "yaxis": {
         "title": {
          "text": "Company"
         }
        }
       }
      }
     },
     "metadata": {},
     "output_type": "display_data"
    }
   ],
   "source": [
    "heatmap_trace = go.Heatmap(z=returns_transposed.values,\n",
    "                            x=dates,\n",
    "                            y=returns_transposed.index,\n",
    "                            colorscale='BrBg',\n",
    "                            colorbar=dict(title='Returns'),\n",
    "                            )\n",
    "\n",
    "# Create layout\n",
    "layout = go.Layout(title='Returns of Selected Companies',\n",
    "                   xaxis=dict(title='Date'),\n",
    "                   yaxis=dict(title='Company'),\n",
    "                   width=1000,  # Set the width of the figure\n",
    "                   height=400   # Set the height of the figure\n",
    "                   )\n",
    "\n",
    "# Create figure\n",
    "fig = go.Figure(data=[heatmap_trace], layout=layout)\n",
    "\n",
    "# Show plot\n",
    "fig.show()"
   ]
  },
  {
   "cell_type": "code",
   "execution_count": 7,
   "id": "32d893f1-bd65-43c7-b3c2-beebe52196e3",
   "metadata": {
    "scrolled": true
   },
   "outputs": [
    {
     "data": {
      "application/vnd.plotly.v1+json": {
       "config": {
        "plotlyServerURL": "https://plot.ly"
       },
       "data": [
        {
         "colorscale": [
          [
           0,
           "rgb(84,48,5)"
          ],
          [
           0.1,
           "rgb(140,81,10)"
          ],
          [
           0.2,
           "rgb(191,129,45)"
          ],
          [
           0.3,
           "rgb(223,194,125)"
          ],
          [
           0.4,
           "rgb(246,232,195)"
          ],
          [
           0.5,
           "rgb(245,245,245)"
          ],
          [
           0.6,
           "rgb(199,234,229)"
          ],
          [
           0.7,
           "rgb(128,205,193)"
          ],
          [
           0.8,
           "rgb(53,151,143)"
          ],
          [
           0.9,
           "rgb(1,102,94)"
          ],
          [
           1,
           "rgb(0,60,48)"
          ]
         ],
         "type": "heatmap",
         "x": [
          "AAPL",
          "AMZN",
          "CSCO",
          "GOOGL",
          "GS",
          "JPM",
          "MSFT",
          "NFLX",
          "NVDA",
          "TSLA"
         ],
         "y": [
          "AAPL",
          "AMZN",
          "CSCO",
          "GOOGL",
          "GS",
          "JPM",
          "MSFT",
          "NFLX",
          "NVDA",
          "TSLA"
         ],
         "z": [
          [
           1,
           0.2887144780701659,
           0.1859726353340736,
           0.14383899164455405,
           0.016015769143882634,
           -0.014323074271758532,
           0.31169952899304576,
           0.2998615084318432,
           0.16001490480808184,
           0.39284776735946203
          ],
          [
           0.2887144780701659,
           1,
           0.2100438101791952,
           0.5648073060954183,
           0.2813896174005985,
           0.06325913499686815,
           0.6809900738855569,
           0.49825968671698595,
           0.42228083813582085,
           0.010909041481293787
          ],
          [
           0.1859726353340736,
           0.2100438101791952,
           1,
           0.15087542164491097,
           0.23784558201439418,
           0.3533849817514486,
           0.21735926622510787,
           -0.07876977018860157,
           -0.09398658894525384,
           0.11552222925958482
          ],
          [
           0.14383899164455405,
           0.5648073060954183,
           0.15087542164491097,
           1,
           0.17196662238698315,
           0.040480776576083,
           0.522313147476526,
           0.27434343996514965,
           0.28194915527412917,
           -0.02827357185912629
          ],
          [
           0.016015769143882634,
           0.2813896174005985,
           0.23784558201439418,
           0.17196662238698315,
           1,
           0.5249710100586092,
           0.3192548992450719,
           0.05718772977899816,
           0.08541939202770114,
           0.043566160585101876
          ],
          [
           -0.014323074271758532,
           0.06325913499686815,
           0.3533849817514486,
           0.040480776576083,
           0.5249710100586092,
           1,
           0.06940510330342191,
           -0.14457343433604017,
           -0.062411548149066125,
           0.19189774371896628
          ],
          [
           0.31169952899304576,
           0.6809900738855569,
           0.21735926622510787,
           0.522313147476526,
           0.3192548992450719,
           0.06940510330342191,
           1,
           0.44949812308405257,
           0.3843478281411177,
           0.027903623456829237
          ],
          [
           0.2998615084318432,
           0.49825968671698595,
           -0.07876977018860157,
           0.27434343996514965,
           0.05718772977899816,
           -0.14457343433604017,
           0.44949812308405257,
           1,
           0.5686713788929375,
           0.04722144153735247
          ],
          [
           0.16001490480808184,
           0.42228083813582085,
           -0.09398658894525384,
           0.28194915527412917,
           0.08541939202770114,
           -0.062411548149066125,
           0.3843478281411177,
           0.5686713788929375,
           1,
           -0.04416974598942966
          ],
          [
           0.39284776735946203,
           0.010909041481293787,
           0.11552222925958482,
           -0.02827357185912629,
           0.043566160585101876,
           0.19189774371896628,
           0.027903623456829237,
           0.04722144153735247,
           -0.04416974598942966,
           1
          ]
         ]
        }
       ],
       "layout": {
        "height": 800,
        "template": {
         "data": {
          "bar": [
           {
            "error_x": {
             "color": "#2a3f5f"
            },
            "error_y": {
             "color": "#2a3f5f"
            },
            "marker": {
             "line": {
              "color": "#E5ECF6",
              "width": 0.5
             },
             "pattern": {
              "fillmode": "overlay",
              "size": 10,
              "solidity": 0.2
             }
            },
            "type": "bar"
           }
          ],
          "barpolar": [
           {
            "marker": {
             "line": {
              "color": "#E5ECF6",
              "width": 0.5
             },
             "pattern": {
              "fillmode": "overlay",
              "size": 10,
              "solidity": 0.2
             }
            },
            "type": "barpolar"
           }
          ],
          "carpet": [
           {
            "aaxis": {
             "endlinecolor": "#2a3f5f",
             "gridcolor": "white",
             "linecolor": "white",
             "minorgridcolor": "white",
             "startlinecolor": "#2a3f5f"
            },
            "baxis": {
             "endlinecolor": "#2a3f5f",
             "gridcolor": "white",
             "linecolor": "white",
             "minorgridcolor": "white",
             "startlinecolor": "#2a3f5f"
            },
            "type": "carpet"
           }
          ],
          "choropleth": [
           {
            "colorbar": {
             "outlinewidth": 0,
             "ticks": ""
            },
            "type": "choropleth"
           }
          ],
          "contour": [
           {
            "colorbar": {
             "outlinewidth": 0,
             "ticks": ""
            },
            "colorscale": [
             [
              0,
              "#0d0887"
             ],
             [
              0.1111111111111111,
              "#46039f"
             ],
             [
              0.2222222222222222,
              "#7201a8"
             ],
             [
              0.3333333333333333,
              "#9c179e"
             ],
             [
              0.4444444444444444,
              "#bd3786"
             ],
             [
              0.5555555555555556,
              "#d8576b"
             ],
             [
              0.6666666666666666,
              "#ed7953"
             ],
             [
              0.7777777777777778,
              "#fb9f3a"
             ],
             [
              0.8888888888888888,
              "#fdca26"
             ],
             [
              1,
              "#f0f921"
             ]
            ],
            "type": "contour"
           }
          ],
          "contourcarpet": [
           {
            "colorbar": {
             "outlinewidth": 0,
             "ticks": ""
            },
            "type": "contourcarpet"
           }
          ],
          "heatmap": [
           {
            "colorbar": {
             "outlinewidth": 0,
             "ticks": ""
            },
            "colorscale": [
             [
              0,
              "#0d0887"
             ],
             [
              0.1111111111111111,
              "#46039f"
             ],
             [
              0.2222222222222222,
              "#7201a8"
             ],
             [
              0.3333333333333333,
              "#9c179e"
             ],
             [
              0.4444444444444444,
              "#bd3786"
             ],
             [
              0.5555555555555556,
              "#d8576b"
             ],
             [
              0.6666666666666666,
              "#ed7953"
             ],
             [
              0.7777777777777778,
              "#fb9f3a"
             ],
             [
              0.8888888888888888,
              "#fdca26"
             ],
             [
              1,
              "#f0f921"
             ]
            ],
            "type": "heatmap"
           }
          ],
          "heatmapgl": [
           {
            "colorbar": {
             "outlinewidth": 0,
             "ticks": ""
            },
            "colorscale": [
             [
              0,
              "#0d0887"
             ],
             [
              0.1111111111111111,
              "#46039f"
             ],
             [
              0.2222222222222222,
              "#7201a8"
             ],
             [
              0.3333333333333333,
              "#9c179e"
             ],
             [
              0.4444444444444444,
              "#bd3786"
             ],
             [
              0.5555555555555556,
              "#d8576b"
             ],
             [
              0.6666666666666666,
              "#ed7953"
             ],
             [
              0.7777777777777778,
              "#fb9f3a"
             ],
             [
              0.8888888888888888,
              "#fdca26"
             ],
             [
              1,
              "#f0f921"
             ]
            ],
            "type": "heatmapgl"
           }
          ],
          "histogram": [
           {
            "marker": {
             "pattern": {
              "fillmode": "overlay",
              "size": 10,
              "solidity": 0.2
             }
            },
            "type": "histogram"
           }
          ],
          "histogram2d": [
           {
            "colorbar": {
             "outlinewidth": 0,
             "ticks": ""
            },
            "colorscale": [
             [
              0,
              "#0d0887"
             ],
             [
              0.1111111111111111,
              "#46039f"
             ],
             [
              0.2222222222222222,
              "#7201a8"
             ],
             [
              0.3333333333333333,
              "#9c179e"
             ],
             [
              0.4444444444444444,
              "#bd3786"
             ],
             [
              0.5555555555555556,
              "#d8576b"
             ],
             [
              0.6666666666666666,
              "#ed7953"
             ],
             [
              0.7777777777777778,
              "#fb9f3a"
             ],
             [
              0.8888888888888888,
              "#fdca26"
             ],
             [
              1,
              "#f0f921"
             ]
            ],
            "type": "histogram2d"
           }
          ],
          "histogram2dcontour": [
           {
            "colorbar": {
             "outlinewidth": 0,
             "ticks": ""
            },
            "colorscale": [
             [
              0,
              "#0d0887"
             ],
             [
              0.1111111111111111,
              "#46039f"
             ],
             [
              0.2222222222222222,
              "#7201a8"
             ],
             [
              0.3333333333333333,
              "#9c179e"
             ],
             [
              0.4444444444444444,
              "#bd3786"
             ],
             [
              0.5555555555555556,
              "#d8576b"
             ],
             [
              0.6666666666666666,
              "#ed7953"
             ],
             [
              0.7777777777777778,
              "#fb9f3a"
             ],
             [
              0.8888888888888888,
              "#fdca26"
             ],
             [
              1,
              "#f0f921"
             ]
            ],
            "type": "histogram2dcontour"
           }
          ],
          "mesh3d": [
           {
            "colorbar": {
             "outlinewidth": 0,
             "ticks": ""
            },
            "type": "mesh3d"
           }
          ],
          "parcoords": [
           {
            "line": {
             "colorbar": {
              "outlinewidth": 0,
              "ticks": ""
             }
            },
            "type": "parcoords"
           }
          ],
          "pie": [
           {
            "automargin": true,
            "type": "pie"
           }
          ],
          "scatter": [
           {
            "fillpattern": {
             "fillmode": "overlay",
             "size": 10,
             "solidity": 0.2
            },
            "type": "scatter"
           }
          ],
          "scatter3d": [
           {
            "line": {
             "colorbar": {
              "outlinewidth": 0,
              "ticks": ""
             }
            },
            "marker": {
             "colorbar": {
              "outlinewidth": 0,
              "ticks": ""
             }
            },
            "type": "scatter3d"
           }
          ],
          "scattercarpet": [
           {
            "marker": {
             "colorbar": {
              "outlinewidth": 0,
              "ticks": ""
             }
            },
            "type": "scattercarpet"
           }
          ],
          "scattergeo": [
           {
            "marker": {
             "colorbar": {
              "outlinewidth": 0,
              "ticks": ""
             }
            },
            "type": "scattergeo"
           }
          ],
          "scattergl": [
           {
            "marker": {
             "colorbar": {
              "outlinewidth": 0,
              "ticks": ""
             }
            },
            "type": "scattergl"
           }
          ],
          "scattermapbox": [
           {
            "marker": {
             "colorbar": {
              "outlinewidth": 0,
              "ticks": ""
             }
            },
            "type": "scattermapbox"
           }
          ],
          "scatterpolar": [
           {
            "marker": {
             "colorbar": {
              "outlinewidth": 0,
              "ticks": ""
             }
            },
            "type": "scatterpolar"
           }
          ],
          "scatterpolargl": [
           {
            "marker": {
             "colorbar": {
              "outlinewidth": 0,
              "ticks": ""
             }
            },
            "type": "scatterpolargl"
           }
          ],
          "scatterternary": [
           {
            "marker": {
             "colorbar": {
              "outlinewidth": 0,
              "ticks": ""
             }
            },
            "type": "scatterternary"
           }
          ],
          "surface": [
           {
            "colorbar": {
             "outlinewidth": 0,
             "ticks": ""
            },
            "colorscale": [
             [
              0,
              "#0d0887"
             ],
             [
              0.1111111111111111,
              "#46039f"
             ],
             [
              0.2222222222222222,
              "#7201a8"
             ],
             [
              0.3333333333333333,
              "#9c179e"
             ],
             [
              0.4444444444444444,
              "#bd3786"
             ],
             [
              0.5555555555555556,
              "#d8576b"
             ],
             [
              0.6666666666666666,
              "#ed7953"
             ],
             [
              0.7777777777777778,
              "#fb9f3a"
             ],
             [
              0.8888888888888888,
              "#fdca26"
             ],
             [
              1,
              "#f0f921"
             ]
            ],
            "type": "surface"
           }
          ],
          "table": [
           {
            "cells": {
             "fill": {
              "color": "#EBF0F8"
             },
             "line": {
              "color": "white"
             }
            },
            "header": {
             "fill": {
              "color": "#C8D4E3"
             },
             "line": {
              "color": "white"
             }
            },
            "type": "table"
           }
          ]
         },
         "layout": {
          "annotationdefaults": {
           "arrowcolor": "#2a3f5f",
           "arrowhead": 0,
           "arrowwidth": 1
          },
          "autotypenumbers": "strict",
          "coloraxis": {
           "colorbar": {
            "outlinewidth": 0,
            "ticks": ""
           }
          },
          "colorscale": {
           "diverging": [
            [
             0,
             "#8e0152"
            ],
            [
             0.1,
             "#c51b7d"
            ],
            [
             0.2,
             "#de77ae"
            ],
            [
             0.3,
             "#f1b6da"
            ],
            [
             0.4,
             "#fde0ef"
            ],
            [
             0.5,
             "#f7f7f7"
            ],
            [
             0.6,
             "#e6f5d0"
            ],
            [
             0.7,
             "#b8e186"
            ],
            [
             0.8,
             "#7fbc41"
            ],
            [
             0.9,
             "#4d9221"
            ],
            [
             1,
             "#276419"
            ]
           ],
           "sequential": [
            [
             0,
             "#0d0887"
            ],
            [
             0.1111111111111111,
             "#46039f"
            ],
            [
             0.2222222222222222,
             "#7201a8"
            ],
            [
             0.3333333333333333,
             "#9c179e"
            ],
            [
             0.4444444444444444,
             "#bd3786"
            ],
            [
             0.5555555555555556,
             "#d8576b"
            ],
            [
             0.6666666666666666,
             "#ed7953"
            ],
            [
             0.7777777777777778,
             "#fb9f3a"
            ],
            [
             0.8888888888888888,
             "#fdca26"
            ],
            [
             1,
             "#f0f921"
            ]
           ],
           "sequentialminus": [
            [
             0,
             "#0d0887"
            ],
            [
             0.1111111111111111,
             "#46039f"
            ],
            [
             0.2222222222222222,
             "#7201a8"
            ],
            [
             0.3333333333333333,
             "#9c179e"
            ],
            [
             0.4444444444444444,
             "#bd3786"
            ],
            [
             0.5555555555555556,
             "#d8576b"
            ],
            [
             0.6666666666666666,
             "#ed7953"
            ],
            [
             0.7777777777777778,
             "#fb9f3a"
            ],
            [
             0.8888888888888888,
             "#fdca26"
            ],
            [
             1,
             "#f0f921"
            ]
           ]
          },
          "colorway": [
           "#636efa",
           "#EF553B",
           "#00cc96",
           "#ab63fa",
           "#FFA15A",
           "#19d3f3",
           "#FF6692",
           "#B6E880",
           "#FF97FF",
           "#FECB52"
          ],
          "font": {
           "color": "#2a3f5f"
          },
          "geo": {
           "bgcolor": "white",
           "lakecolor": "white",
           "landcolor": "#E5ECF6",
           "showlakes": true,
           "showland": true,
           "subunitcolor": "white"
          },
          "hoverlabel": {
           "align": "left"
          },
          "hovermode": "closest",
          "mapbox": {
           "style": "light"
          },
          "paper_bgcolor": "white",
          "plot_bgcolor": "#E5ECF6",
          "polar": {
           "angularaxis": {
            "gridcolor": "white",
            "linecolor": "white",
            "ticks": ""
           },
           "bgcolor": "#E5ECF6",
           "radialaxis": {
            "gridcolor": "white",
            "linecolor": "white",
            "ticks": ""
           }
          },
          "scene": {
           "xaxis": {
            "backgroundcolor": "#E5ECF6",
            "gridcolor": "white",
            "gridwidth": 2,
            "linecolor": "white",
            "showbackground": true,
            "ticks": "",
            "zerolinecolor": "white"
           },
           "yaxis": {
            "backgroundcolor": "#E5ECF6",
            "gridcolor": "white",
            "gridwidth": 2,
            "linecolor": "white",
            "showbackground": true,
            "ticks": "",
            "zerolinecolor": "white"
           },
           "zaxis": {
            "backgroundcolor": "#E5ECF6",
            "gridcolor": "white",
            "gridwidth": 2,
            "linecolor": "white",
            "showbackground": true,
            "ticks": "",
            "zerolinecolor": "white"
           }
          },
          "shapedefaults": {
           "line": {
            "color": "#2a3f5f"
           }
          },
          "ternary": {
           "aaxis": {
            "gridcolor": "white",
            "linecolor": "white",
            "ticks": ""
           },
           "baxis": {
            "gridcolor": "white",
            "linecolor": "white",
            "ticks": ""
           },
           "bgcolor": "#E5ECF6",
           "caxis": {
            "gridcolor": "white",
            "linecolor": "white",
            "ticks": ""
           }
          },
          "title": {
           "x": 0.05
          },
          "xaxis": {
           "automargin": true,
           "gridcolor": "white",
           "linecolor": "white",
           "ticks": "",
           "title": {
            "standoff": 15
           },
           "zerolinecolor": "white",
           "zerolinewidth": 2
          },
          "yaxis": {
           "automargin": true,
           "gridcolor": "white",
           "linecolor": "white",
           "ticks": "",
           "title": {
            "standoff": 15
           },
           "zerolinecolor": "white",
           "zerolinewidth": 2
          }
         }
        },
        "title": {
         "text": "Correlation Matrix Heatmap"
        },
        "width": 800,
        "xaxis": {
         "title": {
          "text": "Assets"
         }
        },
        "yaxis": {
         "title": {
          "text": "Assets"
         }
        }
       }
      }
     },
     "metadata": {},
     "output_type": "display_data"
    }
   ],
   "source": [
    "corr = returns.corr()\n",
    "fig = go.Figure(data=go.Heatmap(z= corr ,\n",
    "                                 x= corr.index,\n",
    "                                 y= corr.index,\n",
    "                                 colorscale='BrBg'))\n",
    "\n",
    "# Customize layout\n",
    "fig.update_layout(title='Correlation Matrix Heatmap',\n",
    "                  xaxis_title='Assets',\n",
    "                  yaxis_title='Assets' , width = 800 , height = 800 )\n",
    "\n",
    "# Show the plot\n",
    "fig.show()"
   ]
  },
  {
   "cell_type": "code",
   "execution_count": 8,
   "id": "05341775-09d5-427a-8c22-5c9beb185a52",
   "metadata": {},
   "outputs": [
    {
     "data": {
      "application/vnd.plotly.v1+json": {
       "config": {
        "plotlyServerURL": "https://plot.ly"
       },
       "data": [
        {
         "colorscale": [
          [
           0,
           "rgb(84,48,5)"
          ],
          [
           0.1,
           "rgb(140,81,10)"
          ],
          [
           0.2,
           "rgb(191,129,45)"
          ],
          [
           0.3,
           "rgb(223,194,125)"
          ],
          [
           0.4,
           "rgb(246,232,195)"
          ],
          [
           0.5,
           "rgb(245,245,245)"
          ],
          [
           0.6,
           "rgb(199,234,229)"
          ],
          [
           0.7,
           "rgb(128,205,193)"
          ],
          [
           0.8,
           "rgb(53,151,143)"
          ],
          [
           0.9,
           "rgb(1,102,94)"
          ],
          [
           1,
           "rgb(0,60,48)"
          ]
         ],
         "type": "heatmap",
         "x": [
          "AAPL",
          "AMZN",
          "CSCO",
          "GOOGL",
          "GS",
          "JPM",
          "MSFT",
          "NFLX",
          "NVDA",
          "TSLA"
         ],
         "y": [
          "AAPL",
          "AMZN",
          "CSCO",
          "GOOGL",
          "GS",
          "JPM",
          "MSFT",
          "NFLX",
          "NVDA",
          "TSLA"
         ],
         "z": [
          [
           0.0002223454723526872,
           0.00005807281230559748,
           0.000030348785519995656,
           0.00004032180075954979,
           0.0000031679973416153707,
           -0.0000030607183478949356,
           0.00005919231343611392,
           0.00008878322144834101,
           0.00007721481788015149,
           0.00021752006206133311
          ],
          [
           0.00005807281230559748,
           0.00018196183190972277,
           0.00003100831476813631,
           0.0001432318497089637,
           0.00005035250513452707,
           0.000012228871379512878,
           0.00011698924945216082,
           0.0001334571768196457,
           0.00018433915564891785,
           0.000005464338910585897
          ],
          [
           0.000030348785519995656,
           0.00003100831476813631,
           0.00011977226207884289,
           0.00003104171927806118,
           0.00003452996021691793,
           0.00005542416930588202,
           0.00003029502450362072,
           -0.000017117239884086173,
           -0.00003328664948435519,
           0.000046946646055360435
          ],
          [
           0.00004032180075954979,
           0.0001432318497089637,
           0.00003104171927806118,
           0.0003534258316827229,
           0.00004288606197640174,
           0.000010906137217915345,
           0.00012505329088421022,
           0.00010240938471056482,
           0.0001715323394947987,
           -0.000019737434676102784
          ],
          [
           0.0000031679973416153707,
           0.00005035250513452707,
           0.00003452996021691793,
           0.00004288606197640174,
           0.00017597287376043295,
           0.00009980014276847699,
           0.000053935592836535,
           0.00001506335641981163,
           0.00003666953544369583,
           0.00002146016393426276
          ],
          [
           -0.0000030607183478949356,
           0.000012228871379512878,
           0.00005542416930588202,
           0.000010906137217915345,
           0.00009980014276847699,
           0.0002053742335975926,
           0.000012667164360497772,
           -0.00004113935783480225,
           -0.000028944363408739986,
           0.00010211833622300033
          ],
          [
           0.00005919231343611392,
           0.00011698924945216082,
           0.00003029502450362072,
           0.00012505329088421022,
           0.000053935592836535,
           0.000012667164360497772,
           0.0001621922302517709,
           0.00011366818831168567,
           0.00015840377343319175,
           0.000013195823852552091
          ],
          [
           0.00008878322144834101,
           0.0001334571768196457,
           -0.000017117239884086173,
           0.00010240938471056482,
           0.00001506335641981163,
           -0.00004113935783480225,
           0.00011366818831168567,
           0.00039426848604449857,
           0.00036541256116704243,
           0.000034817385607189567
          ],
          [
           0.00007721481788015149,
           0.00018433915564891785,
           -0.00003328664948435519,
           0.0001715323394947987,
           0.00003666953544369583,
           -0.000028944363408739986,
           0.00015840377343319175,
           0.00036541256116704243,
           0.0010472542647571958,
           -0.000053077670563962234
          ],
          [
           0.00021752006206133311,
           0.000005464338910585897,
           0.000046946646055360435,
           -0.000019737434676102784,
           0.00002146016393426276,
           0.00010211833622300033,
           0.000013195823852552091,
           0.000034817385607189567,
           -0.000053077670563962234,
           0.0013788650639588102
          ]
         ]
        }
       ],
       "layout": {
        "height": 800,
        "template": {
         "data": {
          "bar": [
           {
            "error_x": {
             "color": "#2a3f5f"
            },
            "error_y": {
             "color": "#2a3f5f"
            },
            "marker": {
             "line": {
              "color": "#E5ECF6",
              "width": 0.5
             },
             "pattern": {
              "fillmode": "overlay",
              "size": 10,
              "solidity": 0.2
             }
            },
            "type": "bar"
           }
          ],
          "barpolar": [
           {
            "marker": {
             "line": {
              "color": "#E5ECF6",
              "width": 0.5
             },
             "pattern": {
              "fillmode": "overlay",
              "size": 10,
              "solidity": 0.2
             }
            },
            "type": "barpolar"
           }
          ],
          "carpet": [
           {
            "aaxis": {
             "endlinecolor": "#2a3f5f",
             "gridcolor": "white",
             "linecolor": "white",
             "minorgridcolor": "white",
             "startlinecolor": "#2a3f5f"
            },
            "baxis": {
             "endlinecolor": "#2a3f5f",
             "gridcolor": "white",
             "linecolor": "white",
             "minorgridcolor": "white",
             "startlinecolor": "#2a3f5f"
            },
            "type": "carpet"
           }
          ],
          "choropleth": [
           {
            "colorbar": {
             "outlinewidth": 0,
             "ticks": ""
            },
            "type": "choropleth"
           }
          ],
          "contour": [
           {
            "colorbar": {
             "outlinewidth": 0,
             "ticks": ""
            },
            "colorscale": [
             [
              0,
              "#0d0887"
             ],
             [
              0.1111111111111111,
              "#46039f"
             ],
             [
              0.2222222222222222,
              "#7201a8"
             ],
             [
              0.3333333333333333,
              "#9c179e"
             ],
             [
              0.4444444444444444,
              "#bd3786"
             ],
             [
              0.5555555555555556,
              "#d8576b"
             ],
             [
              0.6666666666666666,
              "#ed7953"
             ],
             [
              0.7777777777777778,
              "#fb9f3a"
             ],
             [
              0.8888888888888888,
              "#fdca26"
             ],
             [
              1,
              "#f0f921"
             ]
            ],
            "type": "contour"
           }
          ],
          "contourcarpet": [
           {
            "colorbar": {
             "outlinewidth": 0,
             "ticks": ""
            },
            "type": "contourcarpet"
           }
          ],
          "heatmap": [
           {
            "colorbar": {
             "outlinewidth": 0,
             "ticks": ""
            },
            "colorscale": [
             [
              0,
              "#0d0887"
             ],
             [
              0.1111111111111111,
              "#46039f"
             ],
             [
              0.2222222222222222,
              "#7201a8"
             ],
             [
              0.3333333333333333,
              "#9c179e"
             ],
             [
              0.4444444444444444,
              "#bd3786"
             ],
             [
              0.5555555555555556,
              "#d8576b"
             ],
             [
              0.6666666666666666,
              "#ed7953"
             ],
             [
              0.7777777777777778,
              "#fb9f3a"
             ],
             [
              0.8888888888888888,
              "#fdca26"
             ],
             [
              1,
              "#f0f921"
             ]
            ],
            "type": "heatmap"
           }
          ],
          "heatmapgl": [
           {
            "colorbar": {
             "outlinewidth": 0,
             "ticks": ""
            },
            "colorscale": [
             [
              0,
              "#0d0887"
             ],
             [
              0.1111111111111111,
              "#46039f"
             ],
             [
              0.2222222222222222,
              "#7201a8"
             ],
             [
              0.3333333333333333,
              "#9c179e"
             ],
             [
              0.4444444444444444,
              "#bd3786"
             ],
             [
              0.5555555555555556,
              "#d8576b"
             ],
             [
              0.6666666666666666,
              "#ed7953"
             ],
             [
              0.7777777777777778,
              "#fb9f3a"
             ],
             [
              0.8888888888888888,
              "#fdca26"
             ],
             [
              1,
              "#f0f921"
             ]
            ],
            "type": "heatmapgl"
           }
          ],
          "histogram": [
           {
            "marker": {
             "pattern": {
              "fillmode": "overlay",
              "size": 10,
              "solidity": 0.2
             }
            },
            "type": "histogram"
           }
          ],
          "histogram2d": [
           {
            "colorbar": {
             "outlinewidth": 0,
             "ticks": ""
            },
            "colorscale": [
             [
              0,
              "#0d0887"
             ],
             [
              0.1111111111111111,
              "#46039f"
             ],
             [
              0.2222222222222222,
              "#7201a8"
             ],
             [
              0.3333333333333333,
              "#9c179e"
             ],
             [
              0.4444444444444444,
              "#bd3786"
             ],
             [
              0.5555555555555556,
              "#d8576b"
             ],
             [
              0.6666666666666666,
              "#ed7953"
             ],
             [
              0.7777777777777778,
              "#fb9f3a"
             ],
             [
              0.8888888888888888,
              "#fdca26"
             ],
             [
              1,
              "#f0f921"
             ]
            ],
            "type": "histogram2d"
           }
          ],
          "histogram2dcontour": [
           {
            "colorbar": {
             "outlinewidth": 0,
             "ticks": ""
            },
            "colorscale": [
             [
              0,
              "#0d0887"
             ],
             [
              0.1111111111111111,
              "#46039f"
             ],
             [
              0.2222222222222222,
              "#7201a8"
             ],
             [
              0.3333333333333333,
              "#9c179e"
             ],
             [
              0.4444444444444444,
              "#bd3786"
             ],
             [
              0.5555555555555556,
              "#d8576b"
             ],
             [
              0.6666666666666666,
              "#ed7953"
             ],
             [
              0.7777777777777778,
              "#fb9f3a"
             ],
             [
              0.8888888888888888,
              "#fdca26"
             ],
             [
              1,
              "#f0f921"
             ]
            ],
            "type": "histogram2dcontour"
           }
          ],
          "mesh3d": [
           {
            "colorbar": {
             "outlinewidth": 0,
             "ticks": ""
            },
            "type": "mesh3d"
           }
          ],
          "parcoords": [
           {
            "line": {
             "colorbar": {
              "outlinewidth": 0,
              "ticks": ""
             }
            },
            "type": "parcoords"
           }
          ],
          "pie": [
           {
            "automargin": true,
            "type": "pie"
           }
          ],
          "scatter": [
           {
            "fillpattern": {
             "fillmode": "overlay",
             "size": 10,
             "solidity": 0.2
            },
            "type": "scatter"
           }
          ],
          "scatter3d": [
           {
            "line": {
             "colorbar": {
              "outlinewidth": 0,
              "ticks": ""
             }
            },
            "marker": {
             "colorbar": {
              "outlinewidth": 0,
              "ticks": ""
             }
            },
            "type": "scatter3d"
           }
          ],
          "scattercarpet": [
           {
            "marker": {
             "colorbar": {
              "outlinewidth": 0,
              "ticks": ""
             }
            },
            "type": "scattercarpet"
           }
          ],
          "scattergeo": [
           {
            "marker": {
             "colorbar": {
              "outlinewidth": 0,
              "ticks": ""
             }
            },
            "type": "scattergeo"
           }
          ],
          "scattergl": [
           {
            "marker": {
             "colorbar": {
              "outlinewidth": 0,
              "ticks": ""
             }
            },
            "type": "scattergl"
           }
          ],
          "scattermapbox": [
           {
            "marker": {
             "colorbar": {
              "outlinewidth": 0,
              "ticks": ""
             }
            },
            "type": "scattermapbox"
           }
          ],
          "scatterpolar": [
           {
            "marker": {
             "colorbar": {
              "outlinewidth": 0,
              "ticks": ""
             }
            },
            "type": "scatterpolar"
           }
          ],
          "scatterpolargl": [
           {
            "marker": {
             "colorbar": {
              "outlinewidth": 0,
              "ticks": ""
             }
            },
            "type": "scatterpolargl"
           }
          ],
          "scatterternary": [
           {
            "marker": {
             "colorbar": {
              "outlinewidth": 0,
              "ticks": ""
             }
            },
            "type": "scatterternary"
           }
          ],
          "surface": [
           {
            "colorbar": {
             "outlinewidth": 0,
             "ticks": ""
            },
            "colorscale": [
             [
              0,
              "#0d0887"
             ],
             [
              0.1111111111111111,
              "#46039f"
             ],
             [
              0.2222222222222222,
              "#7201a8"
             ],
             [
              0.3333333333333333,
              "#9c179e"
             ],
             [
              0.4444444444444444,
              "#bd3786"
             ],
             [
              0.5555555555555556,
              "#d8576b"
             ],
             [
              0.6666666666666666,
              "#ed7953"
             ],
             [
              0.7777777777777778,
              "#fb9f3a"
             ],
             [
              0.8888888888888888,
              "#fdca26"
             ],
             [
              1,
              "#f0f921"
             ]
            ],
            "type": "surface"
           }
          ],
          "table": [
           {
            "cells": {
             "fill": {
              "color": "#EBF0F8"
             },
             "line": {
              "color": "white"
             }
            },
            "header": {
             "fill": {
              "color": "#C8D4E3"
             },
             "line": {
              "color": "white"
             }
            },
            "type": "table"
           }
          ]
         },
         "layout": {
          "annotationdefaults": {
           "arrowcolor": "#2a3f5f",
           "arrowhead": 0,
           "arrowwidth": 1
          },
          "autotypenumbers": "strict",
          "coloraxis": {
           "colorbar": {
            "outlinewidth": 0,
            "ticks": ""
           }
          },
          "colorscale": {
           "diverging": [
            [
             0,
             "#8e0152"
            ],
            [
             0.1,
             "#c51b7d"
            ],
            [
             0.2,
             "#de77ae"
            ],
            [
             0.3,
             "#f1b6da"
            ],
            [
             0.4,
             "#fde0ef"
            ],
            [
             0.5,
             "#f7f7f7"
            ],
            [
             0.6,
             "#e6f5d0"
            ],
            [
             0.7,
             "#b8e186"
            ],
            [
             0.8,
             "#7fbc41"
            ],
            [
             0.9,
             "#4d9221"
            ],
            [
             1,
             "#276419"
            ]
           ],
           "sequential": [
            [
             0,
             "#0d0887"
            ],
            [
             0.1111111111111111,
             "#46039f"
            ],
            [
             0.2222222222222222,
             "#7201a8"
            ],
            [
             0.3333333333333333,
             "#9c179e"
            ],
            [
             0.4444444444444444,
             "#bd3786"
            ],
            [
             0.5555555555555556,
             "#d8576b"
            ],
            [
             0.6666666666666666,
             "#ed7953"
            ],
            [
             0.7777777777777778,
             "#fb9f3a"
            ],
            [
             0.8888888888888888,
             "#fdca26"
            ],
            [
             1,
             "#f0f921"
            ]
           ],
           "sequentialminus": [
            [
             0,
             "#0d0887"
            ],
            [
             0.1111111111111111,
             "#46039f"
            ],
            [
             0.2222222222222222,
             "#7201a8"
            ],
            [
             0.3333333333333333,
             "#9c179e"
            ],
            [
             0.4444444444444444,
             "#bd3786"
            ],
            [
             0.5555555555555556,
             "#d8576b"
            ],
            [
             0.6666666666666666,
             "#ed7953"
            ],
            [
             0.7777777777777778,
             "#fb9f3a"
            ],
            [
             0.8888888888888888,
             "#fdca26"
            ],
            [
             1,
             "#f0f921"
            ]
           ]
          },
          "colorway": [
           "#636efa",
           "#EF553B",
           "#00cc96",
           "#ab63fa",
           "#FFA15A",
           "#19d3f3",
           "#FF6692",
           "#B6E880",
           "#FF97FF",
           "#FECB52"
          ],
          "font": {
           "color": "#2a3f5f"
          },
          "geo": {
           "bgcolor": "white",
           "lakecolor": "white",
           "landcolor": "#E5ECF6",
           "showlakes": true,
           "showland": true,
           "subunitcolor": "white"
          },
          "hoverlabel": {
           "align": "left"
          },
          "hovermode": "closest",
          "mapbox": {
           "style": "light"
          },
          "paper_bgcolor": "white",
          "plot_bgcolor": "#E5ECF6",
          "polar": {
           "angularaxis": {
            "gridcolor": "white",
            "linecolor": "white",
            "ticks": ""
           },
           "bgcolor": "#E5ECF6",
           "radialaxis": {
            "gridcolor": "white",
            "linecolor": "white",
            "ticks": ""
           }
          },
          "scene": {
           "xaxis": {
            "backgroundcolor": "#E5ECF6",
            "gridcolor": "white",
            "gridwidth": 2,
            "linecolor": "white",
            "showbackground": true,
            "ticks": "",
            "zerolinecolor": "white"
           },
           "yaxis": {
            "backgroundcolor": "#E5ECF6",
            "gridcolor": "white",
            "gridwidth": 2,
            "linecolor": "white",
            "showbackground": true,
            "ticks": "",
            "zerolinecolor": "white"
           },
           "zaxis": {
            "backgroundcolor": "#E5ECF6",
            "gridcolor": "white",
            "gridwidth": 2,
            "linecolor": "white",
            "showbackground": true,
            "ticks": "",
            "zerolinecolor": "white"
           }
          },
          "shapedefaults": {
           "line": {
            "color": "#2a3f5f"
           }
          },
          "ternary": {
           "aaxis": {
            "gridcolor": "white",
            "linecolor": "white",
            "ticks": ""
           },
           "baxis": {
            "gridcolor": "white",
            "linecolor": "white",
            "ticks": ""
           },
           "bgcolor": "#E5ECF6",
           "caxis": {
            "gridcolor": "white",
            "linecolor": "white",
            "ticks": ""
           }
          },
          "title": {
           "x": 0.05
          },
          "xaxis": {
           "automargin": true,
           "gridcolor": "white",
           "linecolor": "white",
           "ticks": "",
           "title": {
            "standoff": 15
           },
           "zerolinecolor": "white",
           "zerolinewidth": 2
          },
          "yaxis": {
           "automargin": true,
           "gridcolor": "white",
           "linecolor": "white",
           "ticks": "",
           "title": {
            "standoff": 15
           },
           "zerolinecolor": "white",
           "zerolinewidth": 2
          }
         }
        },
        "title": {
         "text": "Covariance Matrix Heatmap"
        },
        "width": 800,
        "xaxis": {
         "title": {
          "text": "Assets"
         }
        },
        "yaxis": {
         "title": {
          "text": "Assets"
         }
        }
       }
      }
     },
     "metadata": {},
     "output_type": "display_data"
    }
   ],
   "source": [
    "cov = returns.cov()\n",
    "fig = go.Figure(data=go.Heatmap(z=cov,\n",
    "                                 x= cov.index,\n",
    "                                 y= cov.index,\n",
    "                                 colorscale='BrBg'))\n",
    "\n",
    "# Customize layout\n",
    "fig.update_layout(title='Covariance Matrix Heatmap',\n",
    "                  xaxis_title='Assets',\n",
    "                  yaxis_title='Assets' , width = 800 , height = 800 )\n",
    "\n",
    "# Show the plot\n",
    "fig.show()"
   ]
  },
  {
   "cell_type": "code",
   "execution_count": 9,
   "id": "143a2451-03e1-4b23-bf97-d4215447ecba",
   "metadata": {},
   "outputs": [
    {
     "data": {
      "text/plain": [
       "Ticker\n",
       "AAPL     0.002242\n",
       "AMZN     0.001208\n",
       "CSCO    -0.001281\n",
       "GOOGL    0.003996\n",
       "GS       0.002830\n",
       "JPM      0.001166\n",
       "MSFT     0.000862\n",
       "NFLX     0.001251\n",
       "NVDA     0.006063\n",
       "TSLA     0.000627\n",
       "dtype: float64"
      ]
     },
     "execution_count": 9,
     "metadata": {},
     "output_type": "execute_result"
    }
   ],
   "source": [
    "returns_mean = returns.mean() \n",
    "returns_mean"
   ]
  },
  {
   "cell_type": "code",
   "execution_count": 10,
   "id": "f79c9c87-48f9-47e4-aad5-73a15a303fd2",
   "metadata": {},
   "outputs": [
    {
     "data": {
      "text/plain": [
       "Ticker\n",
       "AAPL     0.014911\n",
       "AMZN     0.013489\n",
       "CSCO     0.010944\n",
       "GOOGL    0.018800\n",
       "GS       0.013265\n",
       "JPM      0.014331\n",
       "MSFT     0.012735\n",
       "NFLX     0.019856\n",
       "NVDA     0.032361\n",
       "TSLA     0.037133\n",
       "dtype: float64"
      ]
     },
     "execution_count": 10,
     "metadata": {},
     "output_type": "execute_result"
    }
   ],
   "source": [
    "\n",
    "risks = prices.pct_change().dropna().std()\n",
    "risks"
   ]
  },
  {
   "cell_type": "markdown",
   "id": "966d0784-9b1e-4299-aabf-9c0b8e5fa37c",
   "metadata": {},
   "source": [
    "# With Short Selling "
   ]
  },
  {
   "cell_type": "code",
   "execution_count": 11,
   "id": "299bdcca-26eb-46ca-8357-9b758ccc9903",
   "metadata": {},
   "outputs": [],
   "source": [
    "\n",
    "class PortfolioOptimizer:\n",
    "    def __init__(self , prices ):\n",
    "        self.prices = prices \n",
    "        self.returns = prices.pct_change().dropna()\n",
    "        self.risks = prices.pct_change().dropna().std()\n",
    "        self.optimal_return = None\n",
    "        \n",
    "    def markowitz_optimization(self):\n",
    "        returns = self.returns\n",
    "        num_assets = len(returns.columns)\n",
    "        returns_mean = returns.mean()\n",
    "        cov_matrix = returns.cov()\n",
    "        optimal_return = None\n",
    "\n",
    "        # Define optimization function\n",
    "        def portfolio_return(weights):\n",
    "            return -np.dot(weights, returns_mean)\n",
    "\n",
    "        def portfolio_variance(weights):\n",
    "            return np.sqrt(np.dot(weights.T, np.dot(cov_matrix, weights)))\n",
    "\n",
    "        # Define constraints and bounds for optimization\n",
    "        constraints = ({'type': 'eq', 'fun': lambda x: np.sum(x) - 1})\n",
    "        bounds = tuple((-1, 1) for asset in range(num_assets))\n",
    "\n",
    "        # Initial guess (equal weighting)\n",
    "        initial_guess = np.array(num_assets * [1. / num_assets,])\n",
    "\n",
    "        # Perform optimization\n",
    "        optimal_weights = minimize(portfolio_variance, initial_guess, method='SLSQP', bounds=bounds, constraints=constraints)\n",
    "        optimal_risk = portfolio_variance(optimal_weights.x)\n",
    "        optimal_return = -portfolio_return(optimal_weights.x)\n",
    "        self.optimal_return = optimal_return\n",
    "        return optimal_weights.x, optimal_risk, optimal_return\n",
    "\n",
    "    def markowitz_optimization_for_target_return(self, target_return):\n",
    "        returns = self.returns\n",
    "        num_assets = len(returns.columns)\n",
    "        returns_mean = returns.mean()\n",
    "        cov_matrix = returns.cov()\n",
    "\n",
    "        # Define optimization function\n",
    "        def portfolio_variance(weights):\n",
    "            return np.sqrt(np.dot(weights.T, np.dot(cov_matrix, weights)))\n",
    "\n",
    "        # Define constraints and bounds for optimization\n",
    "        constraints = ({'type': 'eq', 'fun': lambda x: np.sum(x) - 1},\n",
    "                       {'type': 'eq', 'fun': lambda x: np.dot(x, returns_mean) - target_return})\n",
    "        bounds = tuple((-1, 1) for asset in range(num_assets))\n",
    "\n",
    "        # Initial guess (equal weighting)\n",
    "        initial_guess = np.array(num_assets * [1. / num_assets,])\n",
    "\n",
    "        # Perform optimization\n",
    "        optimal_weights = minimize(portfolio_variance, initial_guess, method='SLSQP', bounds=bounds, constraints=constraints)\n",
    "        optimal_risk = portfolio_variance(optimal_weights.x)\n",
    "        return optimal_weights.x, optimal_risk, target_return\n",
    "\n",
    "    def plot_efficient_frontier_(self):\n",
    "        returns = self.returns \n",
    "        min_return = returns.mean().min()\n",
    "        max_return = returns.mean().max()\n",
    "        # creating a list of target returns for plotting efficient frontier \n",
    "        targets = np.linspace(min_return, max_return, 100)\n",
    "        weights = []\n",
    "        risks = []\n",
    "        return_ = []\n",
    "\n",
    "        for i in range(len(targets)):\n",
    "            # for each return finding risk and weights associciated to it using the optimization problem\n",
    "            w, ri, re = self.markowitz_optimization_for_target_return( targets[i])\n",
    "            weights.append(w)\n",
    "            risks.append(ri) # store the obtained risks in a list to plot efficient frontier\n",
    "            return_.append(re) # creating a list of returns \n",
    "        plt.figure(figsize=(20, 5))\n",
    "        plt.plot(risks, return_) # plot of risk vs return (i.e. efficient frontier )\n",
    "        plt.show()\n",
    "\n",
    "    def plot_efficient_frontier_parabola(self):\n",
    "        returns = self.returns \n",
    "        min_return = returns.mean().min()\n",
    "        max_return = returns.mean().max()\n",
    "        # creating a list of target returns for plotting efficient frontier \n",
    "        targets = np.linspace(min_return, max_return, 100)\n",
    "        weights = []\n",
    "        risks = []\n",
    "        return_ = []\n",
    "\n",
    "        for i in range(len(targets)):\n",
    "            # for each return finding risk and weights associciated to it using the optimization problem\n",
    "            w, ri, re = self.markowitz_optimization_for_target_return( targets[i])\n",
    "            weights.append(w)\n",
    "            risks.append(ri) # store the obtained risks in a list to plot efficient frontier\n",
    "            return_.append(re) # creating a list of returns \n",
    "\n",
    "        # Create trace for the efficient frontier\n",
    "        efficient_frontier_trace = go.Scatter(\n",
    "            x=risks,\n",
    "            y=return_,\n",
    "            mode='lines',\n",
    "            name='Efficient Frontier'\n",
    "        )\n",
    "\n",
    "        # Create a list of points for hover text\n",
    "        hover_text = []\n",
    "        for i in range(len(risks)):\n",
    "            hover_text.append(\n",
    "                f'Risks: {risks[i]:.4f}<br>Weights: {weights[i]}<br>Return: {return_[i]:.4f}')\n",
    "\n",
    "        # Create trace for individual points with hover text\n",
    "        efficient_frontier_points_trace = go.Scatter(\n",
    "            x=risks,\n",
    "            y=return_,\n",
    "            mode='markers',\n",
    "            name='Efficient Frontier Points',\n",
    "            text=hover_text,\n",
    "            hoverinfo='text'\n",
    "        )\n",
    "\n",
    "        # Create layout\n",
    "        layout = go.Layout(\n",
    "            title='Efficient Frontier parabola',\n",
    "            xaxis=dict(title='Volatility'),\n",
    "            yaxis=dict(title='Return')\n",
    "        )\n",
    "\n",
    "        # Create figure\n",
    "        fig = go.Figure(data=[efficient_frontier_trace,\n",
    "                              efficient_frontier_points_trace], layout=layout)\n",
    "\n",
    "        # Show plot\n",
    "        fig.show()\n",
    "\n",
    "    def plot_efficient_frontier(self):\n",
    "        returns = self.returns\n",
    "        # min_return = returns.mean().min()\n",
    "        min_return = self.optimal_return\n",
    "        max_return = returns.mean().max()\n",
    "        # creating a list of target returns for plotting efficient frontier \n",
    "        targets = np.linspace(min_return, max_return, 75)\n",
    "        # list for storing corresponding risks , returns and weights \n",
    "        weights = []\n",
    "        risks = [] \n",
    "        return_ = []\n",
    "\n",
    "        for i in range(len(targets)):\n",
    "            w, ri, re = self.markowitz_optimization_for_target_return( targets[i])\n",
    "            weights.append(w) # storing the weights \n",
    "            risks.append(ri) # store the corresponding risk \n",
    "            return_.append(re) # store the returns \n",
    "\n",
    "        # Create trace for the efficient frontier\n",
    "        efficient_frontier_trace = go.Scatter(\n",
    "            x=risks,\n",
    "            y=return_,\n",
    "            mode='lines',\n",
    "            name='Efficient Frontier'\n",
    "        )\n",
    "\n",
    "        # Create a list of points for hover text\n",
    "        hover_text = []\n",
    "        for i in range(len(risks)):\n",
    "            hover_text.append(\n",
    "                f'Risks: {risks[i]:.4f}<br>Weights: {weights[i]}<br>Return: {return_[i]:.4f}')\n",
    "\n",
    "        # Create trace for individual points with hover text\n",
    "        efficient_frontier_points_trace = go.Scatter(\n",
    "            x=risks,\n",
    "            y=return_,\n",
    "            mode='markers',\n",
    "            name='Efficient Frontier Points',\n",
    "            text=hover_text,\n",
    "            hoverinfo='text'\n",
    "        )\n",
    "\n",
    "        # Create layout\n",
    "        layout = go.Layout(\n",
    "            title='Efficient Frontier',\n",
    "            xaxis=dict(title='Volatility'),\n",
    "            yaxis=dict(title='Return')\n",
    "        )\n",
    "\n",
    "        # Create figure\n",
    "        fig = go.Figure(data=[efficient_frontier_trace,\n",
    "                              efficient_frontier_points_trace], layout=layout)\n",
    "\n",
    "        # Show plot\n",
    "        fig.show()\n",
    "        \n",
    "    def plot_efficient_frontier_for_given_risk_tolerance_levels(self,  risk_tolerance1, risk_tolerance2):\n",
    "        returns = self.returns\n",
    "        min_return = self.optimal_return\n",
    "        max_return = returns.mean().max()\n",
    "        targets = np.linspace(min_return, max_return, 60 )\n",
    "        weights = []\n",
    "        risks = []\n",
    "        return_ = []\n",
    "        \n",
    "        for i in range(len(targets)):\n",
    "            w, ri, re = self.markowitz_optimization_for_target_return( targets[i])\n",
    "            weights.append(w)\n",
    "            risks.append(ri)\n",
    "            return_.append(re)\n",
    "        \n",
    "        closest_risk1 = risk_tolerance1\n",
    "        closest_risk2 = risk_tolerance2\n",
    "        # finding closest risks to the risk tolerances selected (to plot on the efficient frontier ) \n",
    "        for i in range(len(risks) - 1):\n",
    "            if(risks[i] <= risk_tolerance1 <= risks[i+1]):\n",
    "                closest_risk1 = risks[i] if risk_tolerance1 - risks[i] < risks[i+1] - risk_tolerance1 else risks[i+1]\n",
    "            if(risks[i] <= risk_tolerance2 <= risks[i+1]):\n",
    "                closest_risk2 = risks[i] if risk_tolerance2 - risks[i] < risks[i+1] - risk_tolerance2 else risks[i+1]\n",
    "        \n",
    "        # Create trace for the efficient frontier\n",
    "        efficient_frontier_trace = go.Scatter(\n",
    "            x=risks,\n",
    "            y=return_,\n",
    "            mode='lines',\n",
    "            name='Efficient Frontier'\n",
    "        )\n",
    "\n",
    "        # Create a list of points for hover text\n",
    "        hover_text = []\n",
    "        for i in range(len(risks)):\n",
    "            hover_text.append(\n",
    "                f'Risks: {risks[i]:.4f}<br>Weights: {weights[i]}<br>Return: {return_[i]:.4f}')\n",
    "\n",
    "        # Create trace for individual points with hover text\n",
    "        efficient_frontier_points_trace = go.Scatter(\n",
    "            x=risks,\n",
    "            y=return_,\n",
    "            mode='markers',\n",
    "            name='Efficient Frontier Points',\n",
    "            text=hover_text,\n",
    "            hoverinfo='text'\n",
    "        )\n",
    "\n",
    "        # Highlight closest risk tolerance levels\n",
    "        closest_risk1_index = risks.index(closest_risk1)\n",
    "        closest_risk2_index = risks.index(closest_risk2)\n",
    "\n",
    "        # Create trace for closest risk tolerance levels\n",
    "        closest_risk1_trace = go.Scatter(\n",
    "            x=[risks[closest_risk1_index]],\n",
    "            y=[return_[closest_risk1_index]],\n",
    "            mode='markers',\n",
    "            marker=dict(symbol='star', color='purple', size=15),\n",
    "            name=f'Risk Tolerance {risk_tolerance1}'\n",
    "        )\n",
    "\n",
    "        closest_risk2_trace = go.Scatter(\n",
    "            x=[risks[closest_risk2_index]],\n",
    "            y=[return_[closest_risk2_index]],\n",
    "            mode='markers',\n",
    "            marker=dict(symbol='star', color='black', size=15),\n",
    "            name=f'Risk Tolerance {risk_tolerance2}'\n",
    "        )\n",
    "\n",
    "        # Create layout\n",
    "        layout = go.Layout(\n",
    "            title='Efficient Frontier',\n",
    "            xaxis=dict(title='Volatility'),\n",
    "            yaxis=dict(title='Return')\n",
    "        )\n",
    "\n",
    "        # Create figure\n",
    "        fig = go.Figure(data=[efficient_frontier_trace, efficient_frontier_points_trace, closest_risk1_trace, closest_risk2_trace], layout=layout)\n",
    "\n",
    "        # Show plot\n",
    "        fig.show() \n",
    "\n",
    "\n",
    "    def plot_efficient_frontier_for_given_target_return(self,  target_return ):\n",
    "        returns = self.returns\n",
    "        min_return = self.optimal_return\n",
    "        max_return = returns.mean().max()\n",
    "        targets = np.linspace(min_return, max_return, 60 )\n",
    "        weights = []\n",
    "        risks = []\n",
    "        return_ = []\n",
    "        # print(min_return , max_return )\n",
    "        for i in range(len(targets)):\n",
    "            w, ri, re = self.markowitz_optimization_for_target_return( targets[i])\n",
    "            weights.append(w)\n",
    "            risks.append(ri)\n",
    "            return_.append(re)\n",
    "        # print(risks)\n",
    "        # finding closest value on the efficient frontier to the target return \n",
    "        closest_target = target_return\n",
    "\n",
    "        for i in range(len(return_) - 1):\n",
    "            if(return_[i] <= target_return <= return_[i+1]):\n",
    "                if target_return - return_[i] < return_[i+1] - target_return :\n",
    "                    closest_target = return_[i]\n",
    "                else:\n",
    "                    closest_target = return_[i+1]\n",
    "        # print(closest_target)\n",
    "        # print(closest_risk1 , closest_risk2)\n",
    "        # Create trace for the efficient frontier\n",
    "        efficient_frontier_trace = go.Scatter(\n",
    "            x=risks,\n",
    "            y=return_,\n",
    "            mode='lines',\n",
    "            name='Efficient Frontier'\n",
    "        )\n",
    "\n",
    "        # Create a list of points for hover text\n",
    "        hover_text = []\n",
    "        for i in range(len(risks)):\n",
    "            hover_text.append(\n",
    "                f'Risks: {risks[i]:.4f}<br>Weights: {weights[i]}<br>Return: {return_[i]:.4f}')\n",
    "\n",
    "        # Create trace for individual points with hover text\n",
    "        efficient_frontier_points_trace = go.Scatter(\n",
    "            x=risks,\n",
    "            y=return_,\n",
    "            mode='markers',\n",
    "            name='Efficient Frontier Points',\n",
    "            text=hover_text,\n",
    "            hoverinfo='text'\n",
    "        )\n",
    "\n",
    "\n",
    "        closest_target_index = return_.index(closest_target) \n",
    "        closest_target_trace = go.Scatter(\n",
    "            x = [risks[closest_target_index]] , \n",
    "            y = [return_[closest_target_index]] , \n",
    "            mode = 'markers' , \n",
    "            marker=dict(symbol='star', color='purple', size=15),\n",
    "            name=f'Target Return  {target_return }'\n",
    "            \n",
    "        )\n",
    "        \n",
    "        # Create layout\n",
    "        layout = go.Layout(\n",
    "            title='Efficient Frontier',\n",
    "            xaxis=dict(title='Volatility'),\n",
    "            yaxis=dict(title='Return')\n",
    "        )\n",
    "\n",
    "        # Create figure\n",
    "        fig = go.Figure(data=[efficient_frontier_trace, efficient_frontier_points_trace , closest_target_trace ], layout=layout)\n",
    "\n",
    "        # Show plot\n",
    "        fig.show() \n",
    "    \n",
    "    def markowitz_optimization_max_return(self , target_risk):\n",
    "        returns = self.returns\n",
    "        num_assets = len(returns.columns)\n",
    "        returns_mean = returns.mean()\n",
    "        cov_matrix = returns.cov()\n",
    "    \n",
    "        # Define optimization function (negative of portfolio return to convert maximization to minimization)\n",
    "        def negative_portfolio_return(weights):\n",
    "            return -np.dot(weights, returns_mean)\n",
    "    \n",
    "        # Define constraints and bounds for optimization\n",
    "        constraints = ({'type': 'eq', 'fun': lambda x: np.sum(x) - 1},\n",
    "                       {'type': 'eq', 'fun': lambda x: np.sqrt(np.dot(x.T, np.dot(cov_matrix, x))) - target_risk})\n",
    "        bounds = tuple((-1, 1) for asset in range(num_assets))\n",
    "    \n",
    "        initial_guess = np.array(num_assets * [1. / num_assets,])\n",
    "    \n",
    "        # Perform optimization\n",
    "        optimal_weights = minimize(negative_portfolio_return, initial_guess, method='SLSQP', bounds=bounds, constraints=constraints)\n",
    "        # optimal_risk = np.sqrt(np.dot(optimal_weights.x.T, np.dot(cov_matrix, optimal_weights.x)))\n",
    "        optimal_return = -negative_portfolio_return(optimal_weights.x)\n",
    "        \n",
    "        return optimal_weights.x, optimal_return\n",
    "    \n",
    " "
   ]
  },
  {
   "cell_type": "code",
   "execution_count": 12,
   "id": "1db1f888-3677-4414-b433-f6f019921445",
   "metadata": {},
   "outputs": [
    {
     "name": "stdout",
     "output_type": "stream",
     "text": [
      "Markowitz Optimization Results:\n",
      "Optimal Weights:\n",
      "AAPL : 17.1\n",
      "MSFT : 3.7\n",
      "GOOGL : 31.66\n",
      "AMZN : 3.38\n",
      "CSCO : 12.21\n",
      "TSLA : 15.76\n",
      "NVDA : 7.87\n",
      "JPM : 10.24\n",
      "GS : -0.67\n",
      "NFLX : -1.24\n",
      "Optimal Risk: 0.77 %\n",
      "Optimal Return: 0.08 %\n"
     ]
    }
   ],
   "source": [
    "portfolio_optimizer1 = PortfolioOptimizer(prices)\n",
    "\n",
    "# Call the markowitz_optimization function\n",
    "optimal_weights, optimal_risk, optimal_return = portfolio_optimizer1.markowitz_optimization()\n",
    "print(\"Markowitz Optimization Results:\")\n",
    "print(\"Optimal Weights:\")\n",
    "for i in range(len(stocks)):\n",
    "    we = optimal_weights[i] * 100 \n",
    "    we = round(we , 2)\n",
    "    print(stocks[i] , \":\" , we ) \n",
    "print(\"Optimal Risk:\", round(optimal_risk * 100 , 2 ) , \"%\")\n",
    "print(\"Optimal Return:\", round(optimal_return * 100 , 2 ) , \"%\" ) "
   ]
  },
  {
   "cell_type": "code",
   "execution_count": 13,
   "id": "2c63826e-addb-4b7a-999c-b4df0143d73b",
   "metadata": {},
   "outputs": [
    {
     "data": {
      "application/vnd.plotly.v1+json": {
       "config": {
        "plotlyServerURL": "https://plot.ly"
       },
       "data": [
        {
         "mode": "lines",
         "name": "Efficient Frontier",
         "type": "scatter",
         "x": [
          0.009229429786298232,
          0.009131876383823172,
          0.009036816552875348,
          0.008944300556393111,
          0.008854411976820646,
          0.008767684375438324,
          0.008683332712984375,
          0.008601881336766206,
          0.00852374899215401,
          0.008467025270329963,
          0.008376048684462407,
          0.00830743140099927,
          0.008241477606068694,
          0.008178959819596904,
          0.008119770203973527,
          0.008064537704569453,
          0.008012916948561722,
          0.007964992608825123,
          0.007920806102315847,
          0.007880374005041638,
          0.007843172588191538,
          0.007810475003110325,
          0.007787501883806492,
          0.007761316548718106,
          0.007740251916243402,
          0.007725010466771333,
          0.007708277804842155,
          0.007700017216756371,
          0.007695887288482087,
          0.007695906494040975,
          0.007700088303366525,
          0.0077084308015412896,
          0.007720916859318109,
          0.007737515631368472,
          0.007758776799389862,
          0.007783453024633524,
          0.007812188884763279,
          0.007844934502725477,
          0.007881625399602691,
          0.007922153672640311,
          0.007966294500744065,
          0.008032808503509818,
          0.008065505560150347,
          0.008120790910201268,
          0.008199265920473816,
          0.008241541706973474,
          0.008307169040242639,
          0.00837605282585859,
          0.008448129580295111,
          0.00854101359619844,
          0.008602458726404886,
          0.008702570758036588,
          0.008787241512077958,
          0.008874130608453618,
          0.008963775739906265,
          0.009056056836801146,
          0.009150962251329232,
          0.009246575759382496,
          0.009328019286484858,
          0.0094486255864178,
          0.009560455668035895,
          0.009640963664779935,
          0.009767301039535558,
          0.009878663163731472,
          0.009991463659793486,
          0.010106110353555147,
          0.010223294527297144,
          0.010341348506078967,
          0.010461792623349701,
          0.01058385145925679,
          0.010706971376603877,
          0.010831702875083131,
          0.010957976714199392,
          0.01108578124224299,
          0.011213886227171505,
          0.011343880994646142,
          0.011475679250071931,
          0.011608737979451639,
          0.011743011132739472,
          0.011878445249893019,
          0.012014989616381127,
          0.012152604761821326,
          0.01229126322220476,
          0.012430977565551888,
          0.012572210945456965,
          0.012714342716408788,
          0.012856787817134785,
          0.013000253218693459,
          0.01314459402204174,
          0.013289881136241348,
          0.01343551111939674,
          0.013582369774494962,
          0.013729775007566345,
          0.013878181102269878,
          0.014026754331830402,
          0.014176152447675233,
          0.014326213610136891,
          0.014477363030923247,
          0.014629166011811065,
          0.01478084095582867
         ],
         "y": [
          -0.0012807593524801191,
          -0.0012065781675635486,
          -0.0011323969826469783,
          -0.0010582157977304077,
          -0.0009840346128138374,
          -0.0009098534278972668,
          -0.0008356722429806963,
          -0.0007614910580641259,
          -0.0006873098731475554,
          -0.000613128688230985,
          -0.0005389475033144146,
          -0.00046476631839784403,
          -0.0003905851334812736,
          -0.00031640394856470317,
          -0.00024222276364813263,
          -0.0001680415787315623,
          -0.00009386039381499177,
          -0.000019679208898421225,
          0.0000545019760181491,
          0.00012868316093471964,
          0.00020286434585128996,
          0.0002770455307678605,
          0.00035122671568443104,
          0.00042540790060100137,
          0.0004995890855175719,
          0.0005737702704341425,
          0.0006479514553507128,
          0.0007221326402672831,
          0.0007963138251838539,
          0.0008704950101004242,
          0.0009446761950169945,
          0.0010188573799335653,
          0.0010930385648501356,
          0.001167219749766706,
          0.0012414009346832767,
          0.001315582119599847,
          0.0013897633045164173,
          0.001463944489432988,
          0.0015381256743495584,
          0.0016123068592661287,
          0.001686488044182699,
          0.0017606692290992698,
          0.0018348504140158401,
          0.0019090315989324104,
          0.001983212783848981,
          0.0020573939687655515,
          0.002131575153682122,
          0.0022057563385986926,
          0.002279937523515263,
          0.0023541187084318333,
          0.002428299893348404,
          0.0025024810782649743,
          0.0025766622631815447,
          0.002650843448098115,
          0.0027250246330146853,
          0.0027992058179312565,
          0.002873387002847827,
          0.002947568187764397,
          0.0030217493726809675,
          0.003095930557597538,
          0.003170111742514108,
          0.0032442929274306793,
          0.0033184741123472496,
          0.00339265529726382,
          0.0034668364821803903,
          0.0035410176670969606,
          0.003615198852013531,
          0.0036893800369301013,
          0.0037635612218466724,
          0.0038377424067632428,
          0.003911923591679813,
          0.003986104776596383,
          0.004060285961512954,
          0.004134467146429524,
          0.004208648331346095,
          0.004282829516262666,
          0.004357010701179236,
          0.004431191886095806,
          0.0045053730710123766,
          0.004579554255928947,
          0.004653735440845517,
          0.004727916625762088,
          0.004802097810678659,
          0.004876278995595229,
          0.004950460180511799,
          0.00502464136542837,
          0.00509882255034494,
          0.005173003735261511,
          0.0052471849201780815,
          0.005321366105094652,
          0.005395547290011222,
          0.0054697284749277925,
          0.005543909659844363,
          0.005618090844760934,
          0.005692272029677504,
          0.005766453214594075,
          0.005840634399510645,
          0.005914815584427215,
          0.005988996769343786,
          0.006063177954260356
         ]
        },
        {
         "hoverinfo": "text",
         "mode": "markers",
         "name": "Efficient Frontier Points",
         "text": [
          "Risks: 0.0092<br>Weights: [-0.00917582  0.13207753  0.61004743 -0.13540484 -0.09569194  0.15589964\n  0.23286313  0.17609173 -0.07130865  0.00460179]<br>Return: -0.0013",
          "Risks: 0.0091<br>Weights: [-0.00300748  0.12825343  0.60030783 -0.12898396 -0.08819658  0.15607066\n  0.22760189  0.17292566 -0.06894707  0.00397562]<br>Return: -0.0012",
          "Risks: 0.0090<br>Weights: [ 0.00318834  0.12446824  0.59050002 -0.12262226 -0.08063902  0.15626546\n  0.22231784  0.16979963 -0.06661624  0.00333799]<br>Return: -0.0011",
          "Risks: 0.0089<br>Weights: [ 0.00943005  0.12070463  0.5806199  -0.11619643 -0.07293976  0.15653108\n  0.21700837  0.16662333 -0.06442404  0.00264287]<br>Return: -0.0011",
          "Risks: 0.0089<br>Weights: [ 0.01569559  0.11712132  0.57044782 -0.10978815 -0.06489052  0.15703384\n  0.21168627  0.16334645 -0.06250302  0.00185039]<br>Return: -0.0010",
          "Risks: 0.0088<br>Weights: [ 0.0215235   0.11349905  0.56132085 -0.10478108 -0.05838063  0.15716869\n  0.20631198  0.16024453 -0.05857022  0.00166334]<br>Return: -0.0009",
          "Risks: 0.0087<br>Weights: [ 0.02791492  0.10973218  0.55131935 -0.09835223 -0.0505884   0.15736968\n  0.20094566  0.1572286  -0.05651384  0.00094408]<br>Return: -0.0008",
          "Risks: 0.0086<br>Weights: [ 3.43114332e-02  1.06319162e-01  5.40785042e-01 -9.21841217e-02\n -4.26149512e-02  1.57579175e-01  1.95648080e-01  1.54544430e-01\n -5.46375164e-02  2.49267471e-04]<br>Return: -0.0008",
          "Risks: 0.0085<br>Weights: [ 4.04345999e-02  1.02529319e-01  5.31596594e-01 -8.69006441e-02\n -3.58088566e-02  1.57802010e-01  1.90146524e-01  1.51296582e-01\n -5.10739129e-02 -2.22155675e-05]<br>Return: -0.0007",
          "Risks: 0.0085<br>Weights: [ 0.03872289  0.12216792  0.49776359 -0.10381821 -0.01310385  0.17773965\n  0.18893437  0.14370796 -0.05066059 -0.00145372]<br>Return: -0.0006",
          "Risks: 0.0084<br>Weights: [ 0.0533314   0.09558448  0.51065873 -0.07463397 -0.0199804   0.15814899\n  0.17943486  0.14591975 -0.04718926 -0.00127459]<br>Return: -0.0005",
          "Risks: 0.0083<br>Weights: [ 5.98852983e-02  9.11470551e-02  5.00962956e-01 -6.90157681e-02\n -1.26349795e-02  1.58444980e-01  1.73437502e-01  1.42232262e-01\n -4.42237731e-02 -2.35532497e-04]<br>Return: -0.0005",
          "Risks: 0.0082<br>Weights: [ 0.06627397  0.08797456  0.4898157  -0.06302141 -0.0046688   0.15801202\n  0.16831344  0.14087125 -0.042571   -0.00099972]<br>Return: -0.0004",
          "Risks: 0.0082<br>Weights: [ 0.07261837  0.08437515  0.47939645 -0.05702054  0.0031877   0.15774783\n  0.16301404  0.13905619 -0.04052059 -0.0018546 ]<br>Return: -0.0003",
          "Risks: 0.0081<br>Weights: [ 0.07895142  0.08015571  0.47026782 -0.05116193  0.01103943  0.15793679\n  0.15747866  0.13656601 -0.03781477 -0.00341916]<br>Return: -0.0002",
          "Risks: 0.0081<br>Weights: [ 0.08538948  0.07670653  0.45965956 -0.04543295  0.01866578  0.15786074\n  0.15200583  0.13417335 -0.03555763 -0.00347069]<br>Return: -0.0002",
          "Risks: 0.0080<br>Weights: [ 0.09176918  0.07326474  0.44916543 -0.03997595  0.02633751  0.15798481\n  0.14651416  0.13165634 -0.03309849 -0.00361774]<br>Return: -0.0001",
          "Risks: 0.0080<br>Weights: [ 0.09812252  0.06979987  0.43876597 -0.0347924   0.03403181  0.15826362\n  0.14098826  0.12905356 -0.03043953 -0.00379368]<br>Return: -0.0000",
          "Risks: 0.0079<br>Weights: [ 0.10446908  0.06633817  0.42841815 -0.02972066  0.0417957   0.15865151\n  0.13546113  0.12641439 -0.02772626 -0.00410122]<br>Return: 0.0001",
          "Risks: 0.0079<br>Weights: [ 0.11082645  0.06290202  0.41805801 -0.02448979  0.04963736  0.15901264\n  0.12997018  0.12383858 -0.02515958 -0.00459589]<br>Return: 0.0001",
          "Risks: 0.0078<br>Weights: [ 0.11728289  0.0585098   0.40914442 -0.01769554  0.05764047  0.15849351\n  0.12439354  0.12224479 -0.02306857 -0.0069453 ]<br>Return: 0.0002",
          "Risks: 0.0078<br>Weights: [ 0.12338318  0.05508409  0.39866163 -0.01245068  0.0654776   0.15855691\n  0.11893634  0.12019677 -0.02050904 -0.00733682]<br>Return: 0.0003",
          "Risks: 0.0078<br>Weights: [ 0.13121168  0.06036001  0.38048769 -0.00955112  0.07633998  0.16788472\n  0.11636158  0.10704278 -0.0216327  -0.00850461]<br>Return: 0.0004",
          "Risks: 0.0078<br>Weights: [ 0.14010862  0.05555013  0.37275623 -0.00126256  0.08094877  0.16380346\n  0.11076636  0.10790481 -0.01928585 -0.01128997]<br>Return: 0.0004",
          "Risks: 0.0077<br>Weights: [ 0.14678844  0.05213066  0.362986    0.00197999  0.08564144  0.16108415\n  0.10566422  0.10952896 -0.01429503 -0.01150884]<br>Return: 0.0005",
          "Risks: 0.0077<br>Weights: [ 0.15079879  0.05045635  0.35019729  0.00194945  0.09320691  0.16257772\n  0.10114262  0.10817431 -0.0089934  -0.00951005]<br>Return: 0.0006",
          "Risks: 0.0077<br>Weights: [ 0.15505932  0.03986679  0.34365241  0.01641226  0.10686264  0.16214923\n  0.0920213   0.10433908 -0.01139771 -0.00896532]<br>Return: 0.0006",
          "Risks: 0.0077<br>Weights: [ 0.16172957  0.03651524  0.33331207  0.02287558  0.11421824  0.161513\n  0.08662467  0.10240918 -0.00947224 -0.00972531]<br>Return: 0.0007",
          "Risks: 0.0077<br>Weights: [ 0.16806561  0.03340781  0.32278924  0.02909575  0.1216576   0.16105743\n  0.08137535  0.10047567 -0.00744472 -0.01047974]<br>Return: 0.0008",
          "Risks: 0.0077<br>Weights: [ 0.17423886  0.03041089  0.31221553  0.03513904  0.12914529  0.16074266\n  0.07619229  0.09849336 -0.00531969 -0.01125822]<br>Return: 0.0009",
          "Risks: 0.0077<br>Weights: [ 0.18031167  0.02748415  0.30160541  0.04103592  0.13667625  0.16056242\n  0.07104881  0.09642667 -0.00311727 -0.01203404]<br>Return: 0.0009",
          "Risks: 0.0077<br>Weights: [ 0.18630901  0.0246098   0.29094828  0.04683022  0.14425288  0.16050879\n  0.06593369  0.09424861 -0.00087044 -0.01277083]<br>Return: 0.0010",
          "Risks: 0.0077<br>Weights: [ 0.19226303  0.02175324  0.28026129  0.05257392  0.1518661   0.16054755\n  0.06082649  0.09196463  0.00139606 -0.01345231]<br>Return: 0.0011",
          "Risks: 0.0077<br>Weights: [ 0.19818965  0.01889789  0.26957451  0.05829276  0.15950155  0.16064559\n  0.05572157  0.08960763  0.00367945 -0.01411059]<br>Return: 0.0012",
          "Risks: 0.0078<br>Weights: [ 0.20306047  0.01748497  0.25708285  0.06434434  0.1662209   0.16046107\n  0.05156136  0.0869416   0.00567665 -0.01283421]<br>Return: 0.0012",
          "Risks: 0.0078<br>Weights: [ 0.20893461  0.01450139  0.24662039  0.07032297  0.17377937  0.16041887\n  0.04640827  0.08460663  0.00795171 -0.01354421]<br>Return: 0.0013",
          "Risks: 0.0078<br>Weights: [ 0.2147      0.01161834  0.23602314  0.07626647  0.18130771  0.16043755\n  0.04131934  0.08215981  0.01023905 -0.01407141]<br>Return: 0.0014",
          "Risks: 0.0078<br>Weights: [ 0.22030172  0.0088686   0.22529801  0.08221394  0.18874841  0.16046474\n  0.03633052  0.07964301  0.0125518  -0.01442076]<br>Return: 0.0015",
          "Risks: 0.0079<br>Weights: [ 0.22576916  0.00621527  0.21450373  0.08816218  0.19611125  0.16049972\n  0.0314231   0.07707063  0.01490305 -0.01465808]<br>Return: 0.0015",
          "Risks: 0.0079<br>Weights: [ 0.23126988  0.00349426  0.20381178  0.094128    0.20348585  0.16053555\n  0.02647423  0.07449065  0.01727446 -0.01496467]<br>Return: 0.0016",
          "Risks: 0.0080<br>Weights: [ 2.37385225e-01  1.75566424e-04  1.93705119e-01  1.00181185e-01\n  2.11214639e-01  1.60557993e-01  2.10514599e-02  7.20468936e-02\n  1.95410667e-02 -1.58591477e-02]<br>Return: 0.0017",
          "Risks: 0.0080<br>Weights: [ 0.23768065  0.01475963  0.16520344  0.07946537  0.22029062  0.18131483\n  0.03144422  0.05769435  0.02983855 -0.01769167]<br>Return: 0.0018",
          "Risks: 0.0081<br>Weights: [ 0.25007187 -0.00705603  0.17387295  0.11186566  0.22747671  0.1611395\n  0.00967651  0.0668583   0.02407577 -0.01798125]<br>Return: 0.0018",
          "Risks: 0.0081<br>Weights: [ 0.25565514 -0.00996044  0.16334709  0.11797928  0.2348783   0.16109372\n  0.00455334  0.0642633   0.02641538 -0.0182251 ]<br>Return: 0.0019",
          "Risks: 0.0082<br>Weights: [ 0.25433407  0.0066579   0.13229063  0.09752308  0.2424548   0.1826781\n  0.01822705  0.04818956  0.03649947 -0.01885466]<br>Return: 0.0020",
          "Risks: 0.0082<br>Weights: [ 0.26696791 -0.01640445  0.14307101  0.13018982  0.25022037  0.16111483\n -0.00625336  0.05909962  0.03119325 -0.01919901]<br>Return: 0.0021",
          "Risks: 0.0083<br>Weights: [ 0.2724751  -0.01933919  0.13266957  0.13640523  0.25756377  0.16101023\n -0.01142602  0.05649006  0.03357251 -0.01942125]<br>Return: 0.0021",
          "Risks: 0.0084<br>Weights: [ 0.27820474 -0.02238742  0.12233824  0.14244505  0.265103    0.16106774\n -0.01669102  0.0538479   0.03594353 -0.01987176]<br>Return: 0.0022",
          "Risks: 0.0084<br>Weights: [ 0.28406099 -0.02550617  0.11203295  0.14839835  0.27275811  0.16121549\n -0.02201842  0.05117351  0.03829772 -0.02041255]<br>Return: 0.0023",
          "Risks: 0.0085<br>Weights: [ 0.28480854 -0.0100158   0.08046984  0.12833466  0.27863851  0.18169337\n -0.0067299   0.03580091  0.04811328 -0.02111342]<br>Return: 0.0024",
          "Risks: 0.0086<br>Weights: [ 0.29323036 -0.02935745  0.09019953  0.1608815   0.28543637  0.16069132\n -0.03037727  0.04592577  0.04375713 -0.02038726]<br>Return: 0.0024",
          "Risks: 0.0087<br>Weights: [ 0.29713709 -0.01572215  0.05792324  0.13919268  0.29452165  0.18412258\n -0.01555194  0.02832447  0.05227346 -0.02222109]<br>Return: 0.0025",
          "Risks: 0.0088<br>Weights: [ 0.30415623 -0.01921526  0.04722987  0.1440956   0.30211955  0.18443439\n -0.02059157  0.02597637  0.05479389 -0.02299907]<br>Return: 0.0026",
          "Risks: 0.0089<br>Weights: [ 0.30978555 -0.02209409  0.03669135  0.15020649  0.309276    0.18454509\n -0.02510082  0.02319687  0.05719275 -0.02369919]<br>Return: 0.0027",
          "Risks: 0.0090<br>Weights: [ 0.31543683 -0.02500763  0.02610882  0.15633976  0.31648809  0.18471979\n -0.02963681  0.0202971   0.05954556 -0.02429151]<br>Return: 0.0027",
          "Risks: 0.0091<br>Weights: [ 0.32106548 -0.02793064  0.01552752  0.16251201  0.32370369  0.18490667\n -0.03417866  0.01734311  0.06188621 -0.02483539]<br>Return: 0.0028",
          "Risks: 0.0092<br>Weights: [ 0.32704686 -0.03105469  0.00485957  0.16847303  0.33106897  0.18515303\n -0.03890358  0.01439641  0.06418458 -0.02522418]<br>Return: 0.0029",
          "Risks: 0.0092<br>Weights: [ 0.33177114 -0.03414594 -0.00426819  0.1766119   0.33788065  0.18414692\n -0.04394662  0.0121227   0.06632882 -0.02650139]<br>Return: 0.0029",
          "Risks: 0.0093<br>Weights: [ 0.34116861 -0.0561046   0.00913806  0.20911291  0.34754816  0.16154583\n -0.07504587  0.02455535  0.06233444 -0.02425288]<br>Return: 0.0030",
          "Risks: 0.0094<br>Weights: [ 0.34458089 -0.04068109 -0.02487821  0.18864534  0.35297114  0.18435989\n -0.05380515  0.00717582  0.07068119 -0.02904982]<br>Return: 0.0031",
          "Risks: 0.0096<br>Weights: [ 3.49262161e-01 -4.08204625e-02 -4.02194545e-02  1.88712885e-01\n  3.60224518e-01  1.89478165e-01 -5.39176859e-02  2.58309541e-04\n  7.48777090e-02 -2.78561452e-02]<br>Return: 0.0032",
          "Risks: 0.0096<br>Weights: [ 0.35683702 -0.06497171 -0.02058365  0.22799166  0.36907453  0.16084307\n -0.09091192  0.01712863  0.07032027 -0.0257279 ]<br>Return: 0.0032",
          "Risks: 0.0098<br>Weights: [ 0.36185387 -0.0509384  -0.0571678   0.20556808  0.37310077  0.18321034\n -0.06912238 -0.00087276  0.07930782 -0.02493952]<br>Return: 0.0033",
          "Risks: 0.0099<br>Weights: [ 0.36888586 -0.054122   -0.06850267  0.2109838   0.38161901  0.18469309\n -0.07367556 -0.00462374  0.08089937 -0.02615717]<br>Return: 0.0034",
          "Risks: 0.0100<br>Weights: [ 0.37494106 -0.05718185 -0.07915589  0.21684448  0.38910683  0.18512205\n -0.07829474 -0.00761885  0.08316952 -0.02693259]<br>Return: 0.0035",
          "Risks: 0.0101<br>Weights: [ 0.38092288 -0.06025486 -0.08974281  0.22272848  0.39647173  0.18541373\n -0.08294725 -0.01050862  0.08552447 -0.02760774]<br>Return: 0.0035",
          "Risks: 0.0102<br>Weights: [ 0.38881883 -0.06414716 -0.10122602  0.22828961  0.4054051   0.18666582\n -0.08831336 -0.01416368  0.08667171 -0.02800087]<br>Return: 0.0036",
          "Risks: 0.0103<br>Weights: [ 0.39414803 -0.06689357 -0.11153494  0.23404855  0.4120368   0.18651195\n -0.09263768 -0.01657569  0.08963297 -0.0287364 ]<br>Return: 0.0037",
          "Risks: 0.0105<br>Weights: [ 0.40126638 -0.0703127  -0.12255276  0.23947026  0.42013229  0.1872362\n -0.09753206 -0.01950228  0.09149823 -0.02970356]<br>Return: 0.0038",
          "Risks: 0.0106<br>Weights: [ 0.40460608 -0.0719205  -0.13313175  0.24575896  0.42589768  0.1876021\n -0.10037259 -0.02324249  0.09489361 -0.0300911 ]<br>Return: 0.0038",
          "Risks: 0.0107<br>Weights: [ 0.41070706 -0.07514335 -0.14363812  0.25160771  0.43316824  0.1876708\n -0.10519967 -0.02590185  0.09732072 -0.03059154]<br>Return: 0.0039",
          "Risks: 0.0108<br>Weights: [ 0.41700902 -0.07846115 -0.15429329  0.25759337  0.44075617  0.18797533\n -0.11010644 -0.02887106  0.09944823 -0.03105018]<br>Return: 0.0040",
          "Risks: 0.0110<br>Weights: [ 0.42308175 -0.08161928 -0.16485918  0.26332566  0.44795533  0.18806812\n -0.11482485 -0.03151949  0.10194868 -0.03155674]<br>Return: 0.0041",
          "Risks: 0.0111<br>Weights: [ 0.42893515 -0.084628   -0.17543281  0.26912313  0.45507611  0.18824702\n -0.11934048 -0.03431484  0.10448654 -0.03215182]<br>Return: 0.0041",
          "Risks: 0.0112<br>Weights: [ 0.4361347  -0.08878721 -0.18539002  0.27506543  0.4628983   0.18760171\n -0.12562636 -0.03592048  0.10661149 -0.03258757]<br>Return: 0.0042",
          "Risks: 0.0113<br>Weights: [ 0.44118432 -0.09180129 -0.19564329  0.28222518  0.47030592  0.18797608\n -0.13035645 -0.03974829  0.10864912 -0.03279131]<br>Return: 0.0043",
          "Risks: 0.0115<br>Weights: [ 0.44763507 -0.09510046 -0.20625393  0.28768912  0.47761409  0.18800843\n -0.13524705 -0.04211432  0.11113979 -0.03337074]<br>Return: 0.0044",
          "Risks: 0.0116<br>Weights: [ 0.45402074 -0.09837811 -0.21684643  0.29318892  0.48489059  0.18802807\n -0.14011951 -0.04449559  0.11364669 -0.03393537]<br>Return: 0.0044",
          "Risks: 0.0117<br>Weights: [ 0.46030285 -0.10161719 -0.22742263  0.2987742   0.49215018  0.18807007\n -0.14495017 -0.04695993  0.11614535 -0.03449274]<br>Return: 0.0045",
          "Risks: 0.0119<br>Weights: [ 0.46647579 -0.10481983 -0.23799034  0.30448446  0.49942241  0.18816492\n -0.1497388  -0.04956325  0.11860185 -0.03503721]<br>Return: 0.0046",
          "Risks: 0.0120<br>Weights: [ 0.4725426  -0.10799189 -0.24855581  0.31034151  0.50672762  0.18833035\n -0.1544902  -0.05233849  0.12099419 -0.03555988]<br>Return: 0.0047",
          "Risks: 0.0122<br>Weights: [ 0.47850811 -0.11113775 -0.25911977  0.31633988  0.51406406  0.18856376\n -0.1592085  -0.05528299  0.12332539 -0.03605218]<br>Return: 0.0047",
          "Risks: 0.0123<br>Weights: [ 0.48438564 -0.11426209 -0.26967812  0.32244239  0.52141023  0.18884143\n -0.16389933 -0.05835291  0.12562273 -0.03650997]<br>Return: 0.0048",
          "Risks: 0.0124<br>Weights: [ 0.49037537 -0.11741869 -0.28024804  0.32839862  0.52872603  0.18905362\n -0.1686232  -0.06125952  0.12797826 -0.03698245]<br>Return: 0.0049",
          "Risks: 0.0126<br>Weights: [ 0.49718571 -0.12057687 -0.29098088  0.33305553  0.53573252  0.18889867\n -0.17320642 -0.06284935  0.13084268 -0.03810158]<br>Return: 0.0050",
          "Risks: 0.0127<br>Weights: [ 0.50158924 -0.12288164 -0.30173777  0.33934465  0.54209222  0.18948493\n -0.17655405 -0.06688188  0.13372659 -0.03818229]<br>Return: 0.0050",
          "Risks: 0.0129<br>Weights: [ 0.50911394 -0.12681781 -0.3128587   0.34547942  0.5507621   0.19012893\n -0.18220664 -0.07012101  0.13489219 -0.03837242]<br>Return: 0.0051",
          "Risks: 0.0130<br>Weights: [ 0.51508646 -0.12997597 -0.32340714  0.35145352  0.5580489   0.19031488\n -0.18692386 -0.07301195  0.13726173 -0.03884657]<br>Return: 0.0052",
          "Risks: 0.0131<br>Weights: [ 0.52074076 -0.13304165 -0.33394032  0.3575093   0.56512333  0.19048138\n -0.1915078  -0.07607231  0.13977234 -0.03906502]<br>Return: 0.0052",
          "Risks: 0.0133<br>Weights: [ 0.52565624 -0.13597843 -0.34448493  0.36363023  0.57156276  0.1904584\n -0.19589574 -0.0794447   0.14274777 -0.03825159]<br>Return: 0.0053",
          "Risks: 0.0134<br>Weights: [ 0.53072983 -0.13888179 -0.35452072  0.37036236  0.57874163  0.19073173\n -0.20046555 -0.08282354  0.145152   -0.03902596]<br>Return: 0.0054",
          "Risks: 0.0136<br>Weights: [ 0.53744395 -0.14237392 -0.36528688  0.37574517  0.58611919  0.19066718\n -0.20558616 -0.0851169   0.14756384 -0.03917546]<br>Return: 0.0055",
          "Risks: 0.0137<br>Weights: [ 0.54368361 -0.1455315  -0.37572412  0.38187188  0.59381273  0.19105329\n -0.21033596 -0.08798045  0.14961198 -0.04046147]<br>Return: 0.0055",
          "Risks: 0.0139<br>Weights: [ 0.55011853 -0.1489586  -0.38655009  0.38746001  0.60110761  0.19108218\n -0.21533493 -0.09064     0.15201261 -0.04029733]<br>Return: 0.0056",
          "Risks: 0.0140<br>Weights: [ 0.55565723 -0.15192164 -0.39651357  0.39414876  0.60871927  0.19148797\n -0.22002931 -0.0937754   0.15412622 -0.04189955]<br>Return: 0.0057",
          "Risks: 0.0142<br>Weights: [ 0.56194541 -0.15531408 -0.40682766  0.40003964  0.61622351  0.19145268\n -0.22525784 -0.09620119  0.15646339 -0.04252385]<br>Return: 0.0058",
          "Risks: 0.0143<br>Weights: [ 0.56736349 -0.15839767 -0.41693533  0.40627038  0.62329235  0.19145906\n -0.23008819 -0.09907818  0.15909475 -0.04298065]<br>Return: 0.0058",
          "Risks: 0.0145<br>Weights: [ 0.57526884 -0.1622828  -0.42816075  0.41156257  0.63160491  0.19170377\n -0.23565968 -0.10133024  0.16069486 -0.04340147]<br>Return: 0.0059",
          "Risks: 0.0146<br>Weights: [ 0.58255848 -0.16599493 -0.43923918  0.41713568  0.63962484  0.19194771\n -0.24103257 -0.10391775  0.16248548 -0.04356776]<br>Return: 0.0060",
          "Risks: 0.0148<br>Weights: [ 0.58518287 -0.16795737 -0.44829312  0.42424166  0.64517146  0.19190154\n -0.24451062 -0.10762624  0.16631345 -0.04442364]<br>Return: 0.0061"
         ],
         "type": "scatter",
         "x": [
          0.009229429786298232,
          0.009131876383823172,
          0.009036816552875348,
          0.008944300556393111,
          0.008854411976820646,
          0.008767684375438324,
          0.008683332712984375,
          0.008601881336766206,
          0.00852374899215401,
          0.008467025270329963,
          0.008376048684462407,
          0.00830743140099927,
          0.008241477606068694,
          0.008178959819596904,
          0.008119770203973527,
          0.008064537704569453,
          0.008012916948561722,
          0.007964992608825123,
          0.007920806102315847,
          0.007880374005041638,
          0.007843172588191538,
          0.007810475003110325,
          0.007787501883806492,
          0.007761316548718106,
          0.007740251916243402,
          0.007725010466771333,
          0.007708277804842155,
          0.007700017216756371,
          0.007695887288482087,
          0.007695906494040975,
          0.007700088303366525,
          0.0077084308015412896,
          0.007720916859318109,
          0.007737515631368472,
          0.007758776799389862,
          0.007783453024633524,
          0.007812188884763279,
          0.007844934502725477,
          0.007881625399602691,
          0.007922153672640311,
          0.007966294500744065,
          0.008032808503509818,
          0.008065505560150347,
          0.008120790910201268,
          0.008199265920473816,
          0.008241541706973474,
          0.008307169040242639,
          0.00837605282585859,
          0.008448129580295111,
          0.00854101359619844,
          0.008602458726404886,
          0.008702570758036588,
          0.008787241512077958,
          0.008874130608453618,
          0.008963775739906265,
          0.009056056836801146,
          0.009150962251329232,
          0.009246575759382496,
          0.009328019286484858,
          0.0094486255864178,
          0.009560455668035895,
          0.009640963664779935,
          0.009767301039535558,
          0.009878663163731472,
          0.009991463659793486,
          0.010106110353555147,
          0.010223294527297144,
          0.010341348506078967,
          0.010461792623349701,
          0.01058385145925679,
          0.010706971376603877,
          0.010831702875083131,
          0.010957976714199392,
          0.01108578124224299,
          0.011213886227171505,
          0.011343880994646142,
          0.011475679250071931,
          0.011608737979451639,
          0.011743011132739472,
          0.011878445249893019,
          0.012014989616381127,
          0.012152604761821326,
          0.01229126322220476,
          0.012430977565551888,
          0.012572210945456965,
          0.012714342716408788,
          0.012856787817134785,
          0.013000253218693459,
          0.01314459402204174,
          0.013289881136241348,
          0.01343551111939674,
          0.013582369774494962,
          0.013729775007566345,
          0.013878181102269878,
          0.014026754331830402,
          0.014176152447675233,
          0.014326213610136891,
          0.014477363030923247,
          0.014629166011811065,
          0.01478084095582867
         ],
         "y": [
          -0.0012807593524801191,
          -0.0012065781675635486,
          -0.0011323969826469783,
          -0.0010582157977304077,
          -0.0009840346128138374,
          -0.0009098534278972668,
          -0.0008356722429806963,
          -0.0007614910580641259,
          -0.0006873098731475554,
          -0.000613128688230985,
          -0.0005389475033144146,
          -0.00046476631839784403,
          -0.0003905851334812736,
          -0.00031640394856470317,
          -0.00024222276364813263,
          -0.0001680415787315623,
          -0.00009386039381499177,
          -0.000019679208898421225,
          0.0000545019760181491,
          0.00012868316093471964,
          0.00020286434585128996,
          0.0002770455307678605,
          0.00035122671568443104,
          0.00042540790060100137,
          0.0004995890855175719,
          0.0005737702704341425,
          0.0006479514553507128,
          0.0007221326402672831,
          0.0007963138251838539,
          0.0008704950101004242,
          0.0009446761950169945,
          0.0010188573799335653,
          0.0010930385648501356,
          0.001167219749766706,
          0.0012414009346832767,
          0.001315582119599847,
          0.0013897633045164173,
          0.001463944489432988,
          0.0015381256743495584,
          0.0016123068592661287,
          0.001686488044182699,
          0.0017606692290992698,
          0.0018348504140158401,
          0.0019090315989324104,
          0.001983212783848981,
          0.0020573939687655515,
          0.002131575153682122,
          0.0022057563385986926,
          0.002279937523515263,
          0.0023541187084318333,
          0.002428299893348404,
          0.0025024810782649743,
          0.0025766622631815447,
          0.002650843448098115,
          0.0027250246330146853,
          0.0027992058179312565,
          0.002873387002847827,
          0.002947568187764397,
          0.0030217493726809675,
          0.003095930557597538,
          0.003170111742514108,
          0.0032442929274306793,
          0.0033184741123472496,
          0.00339265529726382,
          0.0034668364821803903,
          0.0035410176670969606,
          0.003615198852013531,
          0.0036893800369301013,
          0.0037635612218466724,
          0.0038377424067632428,
          0.003911923591679813,
          0.003986104776596383,
          0.004060285961512954,
          0.004134467146429524,
          0.004208648331346095,
          0.004282829516262666,
          0.004357010701179236,
          0.004431191886095806,
          0.0045053730710123766,
          0.004579554255928947,
          0.004653735440845517,
          0.004727916625762088,
          0.004802097810678659,
          0.004876278995595229,
          0.004950460180511799,
          0.00502464136542837,
          0.00509882255034494,
          0.005173003735261511,
          0.0052471849201780815,
          0.005321366105094652,
          0.005395547290011222,
          0.0054697284749277925,
          0.005543909659844363,
          0.005618090844760934,
          0.005692272029677504,
          0.005766453214594075,
          0.005840634399510645,
          0.005914815584427215,
          0.005988996769343786,
          0.006063177954260356
         ]
        }
       ],
       "layout": {
        "template": {
         "data": {
          "bar": [
           {
            "error_x": {
             "color": "#2a3f5f"
            },
            "error_y": {
             "color": "#2a3f5f"
            },
            "marker": {
             "line": {
              "color": "#E5ECF6",
              "width": 0.5
             },
             "pattern": {
              "fillmode": "overlay",
              "size": 10,
              "solidity": 0.2
             }
            },
            "type": "bar"
           }
          ],
          "barpolar": [
           {
            "marker": {
             "line": {
              "color": "#E5ECF6",
              "width": 0.5
             },
             "pattern": {
              "fillmode": "overlay",
              "size": 10,
              "solidity": 0.2
             }
            },
            "type": "barpolar"
           }
          ],
          "carpet": [
           {
            "aaxis": {
             "endlinecolor": "#2a3f5f",
             "gridcolor": "white",
             "linecolor": "white",
             "minorgridcolor": "white",
             "startlinecolor": "#2a3f5f"
            },
            "baxis": {
             "endlinecolor": "#2a3f5f",
             "gridcolor": "white",
             "linecolor": "white",
             "minorgridcolor": "white",
             "startlinecolor": "#2a3f5f"
            },
            "type": "carpet"
           }
          ],
          "choropleth": [
           {
            "colorbar": {
             "outlinewidth": 0,
             "ticks": ""
            },
            "type": "choropleth"
           }
          ],
          "contour": [
           {
            "colorbar": {
             "outlinewidth": 0,
             "ticks": ""
            },
            "colorscale": [
             [
              0,
              "#0d0887"
             ],
             [
              0.1111111111111111,
              "#46039f"
             ],
             [
              0.2222222222222222,
              "#7201a8"
             ],
             [
              0.3333333333333333,
              "#9c179e"
             ],
             [
              0.4444444444444444,
              "#bd3786"
             ],
             [
              0.5555555555555556,
              "#d8576b"
             ],
             [
              0.6666666666666666,
              "#ed7953"
             ],
             [
              0.7777777777777778,
              "#fb9f3a"
             ],
             [
              0.8888888888888888,
              "#fdca26"
             ],
             [
              1,
              "#f0f921"
             ]
            ],
            "type": "contour"
           }
          ],
          "contourcarpet": [
           {
            "colorbar": {
             "outlinewidth": 0,
             "ticks": ""
            },
            "type": "contourcarpet"
           }
          ],
          "heatmap": [
           {
            "colorbar": {
             "outlinewidth": 0,
             "ticks": ""
            },
            "colorscale": [
             [
              0,
              "#0d0887"
             ],
             [
              0.1111111111111111,
              "#46039f"
             ],
             [
              0.2222222222222222,
              "#7201a8"
             ],
             [
              0.3333333333333333,
              "#9c179e"
             ],
             [
              0.4444444444444444,
              "#bd3786"
             ],
             [
              0.5555555555555556,
              "#d8576b"
             ],
             [
              0.6666666666666666,
              "#ed7953"
             ],
             [
              0.7777777777777778,
              "#fb9f3a"
             ],
             [
              0.8888888888888888,
              "#fdca26"
             ],
             [
              1,
              "#f0f921"
             ]
            ],
            "type": "heatmap"
           }
          ],
          "heatmapgl": [
           {
            "colorbar": {
             "outlinewidth": 0,
             "ticks": ""
            },
            "colorscale": [
             [
              0,
              "#0d0887"
             ],
             [
              0.1111111111111111,
              "#46039f"
             ],
             [
              0.2222222222222222,
              "#7201a8"
             ],
             [
              0.3333333333333333,
              "#9c179e"
             ],
             [
              0.4444444444444444,
              "#bd3786"
             ],
             [
              0.5555555555555556,
              "#d8576b"
             ],
             [
              0.6666666666666666,
              "#ed7953"
             ],
             [
              0.7777777777777778,
              "#fb9f3a"
             ],
             [
              0.8888888888888888,
              "#fdca26"
             ],
             [
              1,
              "#f0f921"
             ]
            ],
            "type": "heatmapgl"
           }
          ],
          "histogram": [
           {
            "marker": {
             "pattern": {
              "fillmode": "overlay",
              "size": 10,
              "solidity": 0.2
             }
            },
            "type": "histogram"
           }
          ],
          "histogram2d": [
           {
            "colorbar": {
             "outlinewidth": 0,
             "ticks": ""
            },
            "colorscale": [
             [
              0,
              "#0d0887"
             ],
             [
              0.1111111111111111,
              "#46039f"
             ],
             [
              0.2222222222222222,
              "#7201a8"
             ],
             [
              0.3333333333333333,
              "#9c179e"
             ],
             [
              0.4444444444444444,
              "#bd3786"
             ],
             [
              0.5555555555555556,
              "#d8576b"
             ],
             [
              0.6666666666666666,
              "#ed7953"
             ],
             [
              0.7777777777777778,
              "#fb9f3a"
             ],
             [
              0.8888888888888888,
              "#fdca26"
             ],
             [
              1,
              "#f0f921"
             ]
            ],
            "type": "histogram2d"
           }
          ],
          "histogram2dcontour": [
           {
            "colorbar": {
             "outlinewidth": 0,
             "ticks": ""
            },
            "colorscale": [
             [
              0,
              "#0d0887"
             ],
             [
              0.1111111111111111,
              "#46039f"
             ],
             [
              0.2222222222222222,
              "#7201a8"
             ],
             [
              0.3333333333333333,
              "#9c179e"
             ],
             [
              0.4444444444444444,
              "#bd3786"
             ],
             [
              0.5555555555555556,
              "#d8576b"
             ],
             [
              0.6666666666666666,
              "#ed7953"
             ],
             [
              0.7777777777777778,
              "#fb9f3a"
             ],
             [
              0.8888888888888888,
              "#fdca26"
             ],
             [
              1,
              "#f0f921"
             ]
            ],
            "type": "histogram2dcontour"
           }
          ],
          "mesh3d": [
           {
            "colorbar": {
             "outlinewidth": 0,
             "ticks": ""
            },
            "type": "mesh3d"
           }
          ],
          "parcoords": [
           {
            "line": {
             "colorbar": {
              "outlinewidth": 0,
              "ticks": ""
             }
            },
            "type": "parcoords"
           }
          ],
          "pie": [
           {
            "automargin": true,
            "type": "pie"
           }
          ],
          "scatter": [
           {
            "fillpattern": {
             "fillmode": "overlay",
             "size": 10,
             "solidity": 0.2
            },
            "type": "scatter"
           }
          ],
          "scatter3d": [
           {
            "line": {
             "colorbar": {
              "outlinewidth": 0,
              "ticks": ""
             }
            },
            "marker": {
             "colorbar": {
              "outlinewidth": 0,
              "ticks": ""
             }
            },
            "type": "scatter3d"
           }
          ],
          "scattercarpet": [
           {
            "marker": {
             "colorbar": {
              "outlinewidth": 0,
              "ticks": ""
             }
            },
            "type": "scattercarpet"
           }
          ],
          "scattergeo": [
           {
            "marker": {
             "colorbar": {
              "outlinewidth": 0,
              "ticks": ""
             }
            },
            "type": "scattergeo"
           }
          ],
          "scattergl": [
           {
            "marker": {
             "colorbar": {
              "outlinewidth": 0,
              "ticks": ""
             }
            },
            "type": "scattergl"
           }
          ],
          "scattermapbox": [
           {
            "marker": {
             "colorbar": {
              "outlinewidth": 0,
              "ticks": ""
             }
            },
            "type": "scattermapbox"
           }
          ],
          "scatterpolar": [
           {
            "marker": {
             "colorbar": {
              "outlinewidth": 0,
              "ticks": ""
             }
            },
            "type": "scatterpolar"
           }
          ],
          "scatterpolargl": [
           {
            "marker": {
             "colorbar": {
              "outlinewidth": 0,
              "ticks": ""
             }
            },
            "type": "scatterpolargl"
           }
          ],
          "scatterternary": [
           {
            "marker": {
             "colorbar": {
              "outlinewidth": 0,
              "ticks": ""
             }
            },
            "type": "scatterternary"
           }
          ],
          "surface": [
           {
            "colorbar": {
             "outlinewidth": 0,
             "ticks": ""
            },
            "colorscale": [
             [
              0,
              "#0d0887"
             ],
             [
              0.1111111111111111,
              "#46039f"
             ],
             [
              0.2222222222222222,
              "#7201a8"
             ],
             [
              0.3333333333333333,
              "#9c179e"
             ],
             [
              0.4444444444444444,
              "#bd3786"
             ],
             [
              0.5555555555555556,
              "#d8576b"
             ],
             [
              0.6666666666666666,
              "#ed7953"
             ],
             [
              0.7777777777777778,
              "#fb9f3a"
             ],
             [
              0.8888888888888888,
              "#fdca26"
             ],
             [
              1,
              "#f0f921"
             ]
            ],
            "type": "surface"
           }
          ],
          "table": [
           {
            "cells": {
             "fill": {
              "color": "#EBF0F8"
             },
             "line": {
              "color": "white"
             }
            },
            "header": {
             "fill": {
              "color": "#C8D4E3"
             },
             "line": {
              "color": "white"
             }
            },
            "type": "table"
           }
          ]
         },
         "layout": {
          "annotationdefaults": {
           "arrowcolor": "#2a3f5f",
           "arrowhead": 0,
           "arrowwidth": 1
          },
          "autotypenumbers": "strict",
          "coloraxis": {
           "colorbar": {
            "outlinewidth": 0,
            "ticks": ""
           }
          },
          "colorscale": {
           "diverging": [
            [
             0,
             "#8e0152"
            ],
            [
             0.1,
             "#c51b7d"
            ],
            [
             0.2,
             "#de77ae"
            ],
            [
             0.3,
             "#f1b6da"
            ],
            [
             0.4,
             "#fde0ef"
            ],
            [
             0.5,
             "#f7f7f7"
            ],
            [
             0.6,
             "#e6f5d0"
            ],
            [
             0.7,
             "#b8e186"
            ],
            [
             0.8,
             "#7fbc41"
            ],
            [
             0.9,
             "#4d9221"
            ],
            [
             1,
             "#276419"
            ]
           ],
           "sequential": [
            [
             0,
             "#0d0887"
            ],
            [
             0.1111111111111111,
             "#46039f"
            ],
            [
             0.2222222222222222,
             "#7201a8"
            ],
            [
             0.3333333333333333,
             "#9c179e"
            ],
            [
             0.4444444444444444,
             "#bd3786"
            ],
            [
             0.5555555555555556,
             "#d8576b"
            ],
            [
             0.6666666666666666,
             "#ed7953"
            ],
            [
             0.7777777777777778,
             "#fb9f3a"
            ],
            [
             0.8888888888888888,
             "#fdca26"
            ],
            [
             1,
             "#f0f921"
            ]
           ],
           "sequentialminus": [
            [
             0,
             "#0d0887"
            ],
            [
             0.1111111111111111,
             "#46039f"
            ],
            [
             0.2222222222222222,
             "#7201a8"
            ],
            [
             0.3333333333333333,
             "#9c179e"
            ],
            [
             0.4444444444444444,
             "#bd3786"
            ],
            [
             0.5555555555555556,
             "#d8576b"
            ],
            [
             0.6666666666666666,
             "#ed7953"
            ],
            [
             0.7777777777777778,
             "#fb9f3a"
            ],
            [
             0.8888888888888888,
             "#fdca26"
            ],
            [
             1,
             "#f0f921"
            ]
           ]
          },
          "colorway": [
           "#636efa",
           "#EF553B",
           "#00cc96",
           "#ab63fa",
           "#FFA15A",
           "#19d3f3",
           "#FF6692",
           "#B6E880",
           "#FF97FF",
           "#FECB52"
          ],
          "font": {
           "color": "#2a3f5f"
          },
          "geo": {
           "bgcolor": "white",
           "lakecolor": "white",
           "landcolor": "#E5ECF6",
           "showlakes": true,
           "showland": true,
           "subunitcolor": "white"
          },
          "hoverlabel": {
           "align": "left"
          },
          "hovermode": "closest",
          "mapbox": {
           "style": "light"
          },
          "paper_bgcolor": "white",
          "plot_bgcolor": "#E5ECF6",
          "polar": {
           "angularaxis": {
            "gridcolor": "white",
            "linecolor": "white",
            "ticks": ""
           },
           "bgcolor": "#E5ECF6",
           "radialaxis": {
            "gridcolor": "white",
            "linecolor": "white",
            "ticks": ""
           }
          },
          "scene": {
           "xaxis": {
            "backgroundcolor": "#E5ECF6",
            "gridcolor": "white",
            "gridwidth": 2,
            "linecolor": "white",
            "showbackground": true,
            "ticks": "",
            "zerolinecolor": "white"
           },
           "yaxis": {
            "backgroundcolor": "#E5ECF6",
            "gridcolor": "white",
            "gridwidth": 2,
            "linecolor": "white",
            "showbackground": true,
            "ticks": "",
            "zerolinecolor": "white"
           },
           "zaxis": {
            "backgroundcolor": "#E5ECF6",
            "gridcolor": "white",
            "gridwidth": 2,
            "linecolor": "white",
            "showbackground": true,
            "ticks": "",
            "zerolinecolor": "white"
           }
          },
          "shapedefaults": {
           "line": {
            "color": "#2a3f5f"
           }
          },
          "ternary": {
           "aaxis": {
            "gridcolor": "white",
            "linecolor": "white",
            "ticks": ""
           },
           "baxis": {
            "gridcolor": "white",
            "linecolor": "white",
            "ticks": ""
           },
           "bgcolor": "#E5ECF6",
           "caxis": {
            "gridcolor": "white",
            "linecolor": "white",
            "ticks": ""
           }
          },
          "title": {
           "x": 0.05
          },
          "xaxis": {
           "automargin": true,
           "gridcolor": "white",
           "linecolor": "white",
           "ticks": "",
           "title": {
            "standoff": 15
           },
           "zerolinecolor": "white",
           "zerolinewidth": 2
          },
          "yaxis": {
           "automargin": true,
           "gridcolor": "white",
           "linecolor": "white",
           "ticks": "",
           "title": {
            "standoff": 15
           },
           "zerolinecolor": "white",
           "zerolinewidth": 2
          }
         }
        },
        "title": {
         "text": "Efficient Frontier parabola"
        },
        "xaxis": {
         "title": {
          "text": "Volatility"
         }
        },
        "yaxis": {
         "title": {
          "text": "Return"
         }
        }
       }
      }
     },
     "metadata": {},
     "output_type": "display_data"
    },
    {
     "data": {
      "application/vnd.plotly.v1+json": {
       "config": {
        "plotlyServerURL": "https://plot.ly"
       },
       "data": [
        {
         "mode": "lines",
         "name": "Efficient Frontier",
         "type": "scatter",
         "x": [
          0.007695377754371738,
          0.007697331672956206,
          0.007703064087263485,
          0.007712565884028817,
          0.0077258214022062005,
          0.007742793669201384,
          0.007764028602272363,
          0.007788325418726761,
          0.007816297401926289,
          0.007847901194363098,
          0.007883078612970157,
          0.00792173349750948,
          0.007963673052768528,
          0.00800924536872009,
          0.008057731410252178,
          0.008109457347238646,
          0.008165865226002116,
          0.008223370115670705,
          0.008284346129102744,
          0.008348831335132405,
          0.008416239137694318,
          0.00848708828879832,
          0.008577237300243267,
          0.00865339599412955,
          0.008734294370007951,
          0.008815217091916424,
          0.00889879706615753,
          0.008984833756667632,
          0.009073245525893392,
          0.009163602619492084,
          0.009255283040070878,
          0.009332793488016489,
          0.009447958841782173,
          0.009554632170086518,
          0.009629992959650944,
          0.009751857717744231,
          0.009857469159555106,
          0.009963777287667005,
          0.01007251649220736,
          0.010182901751638896,
          0.010295535728774915,
          0.010408977901459907,
          0.010524515221985947,
          0.010641669764329838,
          0.010759639891686172,
          0.010879056760568757,
          0.01099984071299363,
          0.011121560642484004,
          0.011244337037360419,
          0.011368369621699053,
          0.0114941104465466,
          0.011620990071296189,
          0.011748967305249759,
          0.011877995743333519,
          0.012008031597046432,
          0.012139040421004142,
          0.012270998005722832,
          0.012403903186239816,
          0.012537639386127147,
          0.012673110119206877,
          0.012808849729738272,
          0.012945201867123338,
          0.013082354239350277,
          0.013220308703754383,
          0.013359321882514022,
          0.01349817241056191,
          0.013638242792041668,
          0.01377899765769756,
          0.013920592538662874,
          0.014062269697863547,
          0.014204690636741612,
          0.014347689191146339,
          0.01449174998570815,
          0.014636394222785058,
          0.01478084095582867
         ],
         "y": [
          0.0008343066230323329,
          0.0009049670464273062,
          0.0009756274698222795,
          0.0010462878932172527,
          0.001116948316612226,
          0.0011876087400071993,
          0.0012582691634021727,
          0.001328929586797146,
          0.0013995900101921193,
          0.0014702504335870926,
          0.0015409108569820658,
          0.001611571280377039,
          0.0016822317037720124,
          0.0017528921271669855,
          0.0018235525505619589,
          0.0018942129739569322,
          0.0019648733973519055,
          0.002035533820746879,
          0.002106194244141852,
          0.002176854667536825,
          0.002247515090931799,
          0.0023181755143267717,
          0.0023888359377217455,
          0.0024594963611167184,
          0.002530156784511692,
          0.002600817207906665,
          0.0026714776313016384,
          0.0027421380546966117,
          0.0028127984780915846,
          0.0028834589014865583,
          0.0029541193248815312,
          0.003024779748276505,
          0.003095440171671478,
          0.0031661005950664517,
          0.0032367610184614246,
          0.0033074214418563983,
          0.003378081865251371,
          0.003448742288646345,
          0.003519402712041318,
          0.0035900631354362908,
          0.0036607235588312645,
          0.0037313839822262374,
          0.003802044405621211,
          0.003872704829016184,
          0.003943365252411158,
          0.004014025675806131,
          0.0040846860992011045,
          0.004155346522596077,
          0.004226006945991051,
          0.004296667369386024,
          0.004367327792780997,
          0.004437988216175971,
          0.004508648639570944,
          0.004579309062965917,
          0.00464996948636089,
          0.004720629909755864,
          0.004791290333150837,
          0.004861950756545811,
          0.004932611179940784,
          0.005003271603335757,
          0.00507393202673073,
          0.005144592450125704,
          0.005215252873520677,
          0.005285913296915651,
          0.0053565737203106235,
          0.005427234143705596,
          0.00549789456710057,
          0.005568554990495543,
          0.005639215413890517,
          0.00570987583728549,
          0.0057805362606804635,
          0.005851196684075436,
          0.00592185710747041,
          0.005992517530865383,
          0.006063177954260356
         ]
        },
        {
         "hoverinfo": "text",
         "mode": "markers",
         "name": "Efficient Frontier Points",
         "text": [
          "Risks: 0.0077<br>Weights: [ 0.17124169  0.03186346  0.31737704  0.03221106  0.12548726  0.1608796\n  0.07871531  0.09946853 -0.0063679  -0.01087606]<br>Return: 0.0008",
          "Risks: 0.0077<br>Weights: [ 0.1770721   0.02904253  0.30729105  0.03789531  0.13263929  0.16064204\n  0.07379753  0.09754579 -0.00430376 -0.01162187]<br>Return: 0.0009",
          "Risks: 0.0077<br>Weights: [ 0.1828212   0.02628059  0.29716367  0.04346305  0.13983209  0.1605261\n  0.06891238  0.0955318  -0.00218362 -0.01234726]<br>Return: 0.0010",
          "Risks: 0.0077<br>Weights: [ 1.88514750e-01  2.35524268e-02  2.87000105e-01  4.89567095e-02\n  1.47065122e-01  1.60515032e-01  6.40448696e-02  9.34155736e-02\n -3.30878910e-05 -1.30315003e-02]<br>Return: 0.0010",
          "Risks: 0.0077<br>Weights: [ 0.19417292  0.02083701  0.27680888  0.0544248   0.15432046  0.16056899\n  0.05918303  0.09121199  0.00212703 -0.01365512]<br>Return: 0.0011",
          "Risks: 0.0077<br>Weights: [ 0.19981729  0.01810704  0.26664127  0.05986296  0.16160833  0.16068383\n  0.05431449  0.08894481  0.004308   -0.01428802]<br>Return: 0.0012",
          "Risks: 0.0078<br>Weights: [ 0.20440176  0.01680028  0.25471565  0.06571102  0.1679377   0.16044107\n  0.05038657  0.08642454  0.00619307 -0.01301165]<br>Return: 0.0013",
          "Risks: 0.0078<br>Weights: [ 0.20998221  0.01397377  0.24472364  0.07139312  0.17513852  0.16042009\n  0.04548644  0.08417277  0.00836214 -0.01365271]<br>Return: 0.0013",
          "Risks: 0.0078<br>Weights: [ 0.21545195  0.01124627  0.23460923  0.07705388  0.18229899  0.16044107\n  0.04065237  0.08183003  0.01054357 -0.01412737]<br>Return: 0.0014",
          "Risks: 0.0078<br>Weights: [ 0.22077042  0.00864058  0.22438165  0.0827197   0.18937662  0.16046723\n  0.03591105  0.07942628  0.01275012 -0.01444366]<br>Return: 0.0015",
          "Risks: 0.0079<br>Weights: [ 0.22597349  0.0061159   0.21409886  0.08838551  0.19638709  0.16050127\n  0.03123926  0.07697333  0.01499201 -0.01466672]<br>Return: 0.0015",
          "Risks: 0.0079<br>Weights: [ 0.23121413  0.0035226   0.20391627  0.0940685   0.20341212  0.16053536\n  0.02652432  0.07451588  0.01725107 -0.01496025]<br>Return: 0.0016",
          "Risks: 0.0080<br>Weights: [ 0.23698028  0.00041228  0.19424623  0.09983612  0.21073604  0.16054875\n  0.02140037  0.07218187  0.01942112 -0.01576307]<br>Return: 0.0017",
          "Risks: 0.0080<br>Weights: [ 0.24451762 -0.00293487  0.18429502  0.10442649  0.21869265  0.16146222\n  0.01608229  0.06960753  0.02141147 -0.01756042]<br>Return: 0.0018",
          "Risks: 0.0081<br>Weights: [ 0.24899342 -0.00591497  0.174995    0.11141824  0.22628701  0.16142116\n  0.0110483   0.06686164  0.02326143 -0.01837123]<br>Return: 0.0018",
          "Risks: 0.0081<br>Weights: [ 0.25458556 -0.00939498  0.16545816  0.11671158  0.23342917  0.16113118\n  0.00556538  0.06478374  0.02595324 -0.01822302]<br>Return: 0.0019",
          "Risks: 0.0082<br>Weights: [ 0.26320013 -0.01213081  0.15446497  0.12024169  0.24058849  0.16183644\n  0.00080903  0.0629561   0.02808329 -0.02004932]<br>Return: 0.0020",
          "Risks: 0.0082<br>Weights: [ 0.26382511 -0.01414556  0.14499387  0.1288148   0.24659415  0.1606317\n -0.00352195  0.05971194  0.03072016 -0.01762422]<br>Return: 0.0020",
          "Risks: 0.0083<br>Weights: [ 0.2705543  -0.01831763  0.13621761  0.134311    0.25501873  0.16101734\n -0.00964264  0.05738852  0.03275839 -0.01930561]<br>Return: 0.0021",
          "Risks: 0.0083<br>Weights: [ 0.27595584 -0.02119051  0.12635833  0.14010277  0.2621509   0.16103414\n -0.01463165  0.05488031  0.03502155 -0.01968168]<br>Return: 0.0022",
          "Risks: 0.0084<br>Weights: [ 0.2814858  -0.02413467  0.1165361   0.1458081   0.26939774  0.16113904\n -0.01968251  0.05234751  0.03727103 -0.02016815]<br>Return: 0.0022",
          "Risks: 0.0085<br>Weights: [ 0.28495146 -0.02542232  0.10574422  0.15201438  0.27474721  0.16058978\n -0.02319199  0.04974192  0.04008149 -0.01925615]<br>Return: 0.0023",
          "Risks: 0.0086<br>Weights: [ 0.28707037 -0.01118248  0.07552425  0.13133033  0.28175245  0.18160866\n -0.008699    0.03451811  0.04933925 -0.02126196]<br>Return: 0.0024",
          "Risks: 0.0087<br>Weights: [ 0.2922604  -0.01368113  0.06552347  0.1369432   0.28843075  0.18174115\n -0.01276943  0.03202916  0.05181694 -0.02229453]<br>Return: 0.0025",
          "Risks: 0.0087<br>Weights: [ 0.30086523 -0.01757953  0.05371538  0.14030416  0.29792453  0.18458196\n -0.01792209  0.02742033  0.05307169 -0.02238165]<br>Return: 0.0025",
          "Risks: 0.0088<br>Weights: [ 0.30595561 -0.02012891  0.0438169   0.14609329  0.30442036  0.18444819\n -0.02203829  0.02510186  0.05559383 -0.02326286]<br>Return: 0.0026",
          "Risks: 0.0089<br>Weights: [ 0.31136734 -0.02290831  0.03374665  0.15190505  0.31128484  0.18459282\n -0.02636657  0.02239666  0.05784736 -0.02386583]<br>Return: 0.0027",
          "Risks: 0.0090<br>Weights: [ 0.31673202 -0.02567795  0.0236681   0.15776294  0.31815039  0.18476176\n -0.03068099  0.0196192   0.06008717 -0.02442264]<br>Return: 0.0027",
          "Risks: 0.0091<br>Weights: [ 0.32210564 -0.02847354  0.01358828  0.16364112  0.32503016  0.18494198\n -0.03501768  0.01679975  0.06231299 -0.0249287 ]<br>Return: 0.0028",
          "Risks: 0.0092<br>Weights: [ 0.32824217 -0.03186437  0.00363498  0.16943596  0.33219972  0.18492012\n -0.03999915  0.01426698  0.06436938 -0.02520578]<br>Return: 0.0029",
          "Risks: 0.0093<br>Weights: [ 0.3322871  -0.03441861 -0.00518041  0.17716385  0.33852797  0.18415511\n -0.04436638  0.01187932  0.06653057 -0.02657854]<br>Return: 0.0030",
          "Risks: 0.0093<br>Weights: [ 0.33848536 -0.05419689  0.00854836  0.21119114  0.3463464   0.16154515\n -0.07315126  0.02345356  0.06252192 -0.02474375]<br>Return: 0.0030",
          "Risks: 0.0094<br>Weights: [ 0.34454111 -0.04065396 -0.02483039  0.18858085  0.35292258  0.18437571\n -0.05376155  0.00717823  0.0706726  -0.02902518]<br>Return: 0.0031",
          "Risks: 0.0096<br>Weights: [ 3.49083789e-01 -4.08231869e-02 -3.98157228e-02  1.88303063e-01\n  3.59834428e-01  1.89426669e-01 -5.38429547e-02  3.29649858e-04\n  7.47405532e-02 -2.72362874e-02]<br>Return: 0.0032",
          "Risks: 0.0096<br>Weights: [ 0.35663873 -0.06481931 -0.01965479  0.22735713  0.36870573  0.16108689\n -0.09051311  0.01721574  0.06979459 -0.0258116 ]<br>Return: 0.0032",
          "Risks: 0.0098<br>Weights: [ 0.36212358 -0.05064752 -0.05665265  0.20424054  0.37328813  0.1845652\n -0.06832916 -0.00169234  0.0780164  -0.02491218]<br>Return: 0.0033",
          "Risks: 0.0099<br>Weights: [ 0.36851337 -0.05376636 -0.06725136  0.21004144  0.38141705  0.18582935\n -0.07285423 -0.00548595  0.07934695 -0.02579025]<br>Return: 0.0034",
          "Risks: 0.0100<br>Weights: [ 0.37346621 -0.05642996 -0.07656203  0.21541169  0.38728934  0.18503104\n -0.07716002 -0.00689719  0.08261066 -0.02675973]<br>Return: 0.0034",
          "Risks: 0.0101<br>Weights: [ 0.37919467 -0.05936381 -0.08666561  0.22101084  0.39434066  0.18534017\n -0.08159483 -0.00967488  0.08482755 -0.02741476]<br>Return: 0.0035",
          "Risks: 0.0102<br>Weights: [ 0.38478113 -0.06225363 -0.09670207  0.22664531  0.40125902  0.1855531\n -0.08599483 -0.01239039  0.08713837 -0.028036  ]<br>Return: 0.0036",
          "Risks: 0.0103<br>Weights: [ 0.3921808  -0.0658726  -0.10756783  0.23178154  0.40951635  0.18657316\n -0.09100974 -0.0156101   0.08846799 -0.02845956]<br>Return: 0.0037",
          "Risks: 0.0104<br>Weights: [ 0.39687574 -0.06833439 -0.11733554  0.23748933  0.41569656  0.18644901\n -0.09496425 -0.01811291  0.09133567 -0.02909923]<br>Return: 0.0037",
          "Risks: 0.0105<br>Weights: [ 0.40013545 -0.07001049 -0.12726989  0.24352944  0.42116815  0.18659328\n -0.09791162 -0.02146512  0.09459586 -0.02936505]<br>Return: 0.0038",
          "Risks: 0.0106<br>Weights: [ 0.40751641 -0.07346445 -0.13808838  0.24853583  0.42936364  0.18764597\n -0.10267864 -0.02451325  0.09600185 -0.03031898]<br>Return: 0.0039",
          "Risks: 0.0108<br>Weights: [ 0.41332152 -0.076519   -0.14810734  0.25407062  0.43626571  0.18771029\n -0.1072523  -0.02703184  0.09833947 -0.03079713]<br>Return: 0.0039",
          "Risks: 0.0109<br>Weights: [ 0.41926528 -0.07963592 -0.15826452  0.25976203  0.44345169  0.18801016\n -0.11186713 -0.02987738  0.10039791 -0.03124211]<br>Return: 0.0040",
          "Risks: 0.0110<br>Weights: [ 0.42509195 -0.08266303 -0.16835415  0.2652371   0.45036101  0.18813388\n -0.11637715 -0.03244189  0.10273209 -0.03171979]<br>Return: 0.0041",
          "Risks: 0.0111<br>Weights: [ 0.43074377 -0.08579623 -0.17819001  0.27118787  0.45736599  0.18815087\n -0.12114233 -0.03511067  0.10491864 -0.0321279 ]<br>Return: 0.0042",
          "Risks: 0.0112<br>Weights: [ 0.43776246 -0.08958986 -0.18785868  0.2761736   0.46456321  0.18752189\n -0.12680727 -0.03625993  0.10727704 -0.03278247]<br>Return: 0.0042",
          "Risks: 0.0114<br>Weights: [ 0.44238977 -0.09241658 -0.19762371  0.28324325  0.47167109  0.18798441\n -0.1312678  -0.04019077  0.10911253 -0.03290219]<br>Return: 0.0043",
          "Risks: 0.0115<br>Weights: [ 0.44852844 -0.09555833 -0.2077283   0.28845077  0.47862801  0.18801115\n -0.13592674 -0.04244308  0.11148775 -0.03344968]<br>Return: 0.0044",
          "Risks: 0.0116<br>Weights: [ 0.45460082 -0.09867651 -0.21781598  0.29369637  0.48555597  0.18803047\n -0.14056391 -0.04471694  0.11387648 -0.03398678]<br>Return: 0.0044",
          "Risks: 0.0117<br>Weights: [ 0.46057772 -0.10175933 -0.22788938  0.29902347  0.49247081  0.18807296\n -0.14516247 -0.04707161  0.11625494 -0.03451712]<br>Return: 0.0045",
          "Risks: 0.0119<br>Weights: [ 0.46645556 -0.1048093  -0.23795542  0.30446536  0.49939833  0.1881645\n -0.14972303 -0.04955437  0.11859382 -0.03503544]<br>Return: 0.0046",
          "Risks: 0.0120<br>Weights: [ 0.4722371  -0.10783151 -0.24801945  0.31004058  0.5063559   0.18832019\n -0.15424981 -0.05219333  0.12087436 -0.03553401]<br>Return: 0.0046",
          "Risks: 0.0121<br>Weights: [ 0.47792635 -0.11082978 -0.25808225  0.31574525  0.51334254  0.18853835\n -0.15874637 -0.05498722  0.12309846 -0.03600534]<br>Return: 0.0047",
          "Risks: 0.0123<br>Weights: [ 0.48353395 -0.11380799 -0.26814042  0.32154886  0.52034039  0.18879947\n -0.1632173  -0.05790032  0.12528877 -0.03644542]<br>Return: 0.0048",
          "Risks: 0.0124<br>Weights: [ 0.48918169 -0.1167997  -0.2782009   0.32729481  0.52732077  0.18903152\n -0.16770159 -0.06074903  0.12750667 -0.03688423]<br>Return: 0.0049",
          "Risks: 0.0125<br>Weights: [ 0.49399781 -0.11954497 -0.28817313  0.33376873  0.53420272  0.18952901\n -0.17188574 -0.0644793   0.12962693 -0.03704206]<br>Return: 0.0049",
          "Risks: 0.0127<br>Weights: [ 0.49920625 -0.12184646 -0.29834326  0.33831546  0.53997892  0.18948265\n -0.17519607 -0.06649429  0.13297534 -0.03807854]<br>Return: 0.0050",
          "Risks: 0.0128<br>Weights: [ 0.50697071 -0.12569627 -0.30928738  0.34350521  0.54822897  0.19006052\n -0.18054429 -0.06918984  0.13416162 -0.03820926]<br>Return: 0.0051",
          "Risks: 0.0129<br>Weights: [ 0.51283796 -0.12878228 -0.31937311  0.34915109  0.55527828  0.19024077\n -0.18513867 -0.07188395  0.13634176 -0.03867184]<br>Return: 0.0051",
          "Risks: 0.0131<br>Weights: [ 0.51835717 -0.13173139 -0.32940456  0.35489664  0.56212002  0.19042074\n -0.18954928 -0.07473126  0.13866172 -0.0390398 ]<br>Return: 0.0052",
          "Risks: 0.0132<br>Weights: [ 0.52345227 -0.13460081 -0.339446    0.36069062  0.5686082   0.19050603\n -0.19383699 -0.07777283  0.14123529 -0.03883578]<br>Return: 0.0053",
          "Risks: 0.0134<br>Weights: [ 0.52744914 -0.1372668  -0.3494724   0.36661214  0.5741871   0.19033129\n -0.19782712 -0.08127969  0.14447447 -0.03720812]<br>Return: 0.0054",
          "Risks: 0.0135<br>Weights: [ 0.53352389 -0.1403686  -0.35913635  0.37264123  0.58180227  0.19066736\n -0.20263793 -0.08382525  0.14625273 -0.03891934]<br>Return: 0.0054",
          "Risks: 0.0136<br>Weights: [ 0.5399506  -0.14362054 -0.36927375  0.3779988   0.58909555  0.19079511\n -0.20745281 -0.08610885  0.14831366 -0.03969777]<br>Return: 0.0055",
          "Risks: 0.0138<br>Weights: [ 0.54582255 -0.14666849 -0.37931565  0.38368964  0.59620454  0.19103532\n -0.21199581 -0.08881779  0.15044519 -0.0403995 ]<br>Return: 0.0056",
          "Risks: 0.0139<br>Weights: [ 0.55202458 -0.14997799 -0.38968259  0.38909605  0.60327853  0.19113907\n -0.21680669 -0.09147268  0.1526019  -0.04020019]<br>Return: 0.0056",
          "Risks: 0.0141<br>Weights: [ 0.55778994 -0.15298675 -0.39930315  0.39526531  0.61076714  0.19149755\n -0.2215188  -0.09421787  0.15445821 -0.04175157]<br>Return: 0.0057",
          "Risks: 0.0142<br>Weights: [ 0.56379217 -0.15619725 -0.40907745  0.40092311  0.61798116  0.19149501\n -0.22649431 -0.09651163  0.15663535 -0.04254617]<br>Return: 0.0058",
          "Risks: 0.0143<br>Weights: [ 0.56846756 -0.15894024 -0.41852243  0.40701825  0.62445426  0.19148591\n -0.23086833 -0.09939002  0.15934329 -0.04304826]<br>Return: 0.0059",
          "Risks: 0.0145<br>Weights: [ 0.57602488 -0.16265791 -0.42923374  0.41207244  0.63240344  0.19173153\n -0.23619639 -0.10155656  0.16083597 -0.04342367]<br>Return: 0.0059",
          "Risks: 0.0146<br>Weights: [ 0.58294147 -0.16618681 -0.43978049  0.41739505  0.64003108  0.19196453\n -0.24130649 -0.10403796  0.16254852 -0.0435689 ]<br>Return: 0.0060",
          "Risks: 0.0148<br>Weights: [ 0.58518287 -0.16795737 -0.44829312  0.42424166  0.64517146  0.19190154\n -0.24451062 -0.10762624  0.16631345 -0.04442364]<br>Return: 0.0061"
         ],
         "type": "scatter",
         "x": [
          0.007695377754371738,
          0.007697331672956206,
          0.007703064087263485,
          0.007712565884028817,
          0.0077258214022062005,
          0.007742793669201384,
          0.007764028602272363,
          0.007788325418726761,
          0.007816297401926289,
          0.007847901194363098,
          0.007883078612970157,
          0.00792173349750948,
          0.007963673052768528,
          0.00800924536872009,
          0.008057731410252178,
          0.008109457347238646,
          0.008165865226002116,
          0.008223370115670705,
          0.008284346129102744,
          0.008348831335132405,
          0.008416239137694318,
          0.00848708828879832,
          0.008577237300243267,
          0.00865339599412955,
          0.008734294370007951,
          0.008815217091916424,
          0.00889879706615753,
          0.008984833756667632,
          0.009073245525893392,
          0.009163602619492084,
          0.009255283040070878,
          0.009332793488016489,
          0.009447958841782173,
          0.009554632170086518,
          0.009629992959650944,
          0.009751857717744231,
          0.009857469159555106,
          0.009963777287667005,
          0.01007251649220736,
          0.010182901751638896,
          0.010295535728774915,
          0.010408977901459907,
          0.010524515221985947,
          0.010641669764329838,
          0.010759639891686172,
          0.010879056760568757,
          0.01099984071299363,
          0.011121560642484004,
          0.011244337037360419,
          0.011368369621699053,
          0.0114941104465466,
          0.011620990071296189,
          0.011748967305249759,
          0.011877995743333519,
          0.012008031597046432,
          0.012139040421004142,
          0.012270998005722832,
          0.012403903186239816,
          0.012537639386127147,
          0.012673110119206877,
          0.012808849729738272,
          0.012945201867123338,
          0.013082354239350277,
          0.013220308703754383,
          0.013359321882514022,
          0.01349817241056191,
          0.013638242792041668,
          0.01377899765769756,
          0.013920592538662874,
          0.014062269697863547,
          0.014204690636741612,
          0.014347689191146339,
          0.01449174998570815,
          0.014636394222785058,
          0.01478084095582867
         ],
         "y": [
          0.0008343066230323329,
          0.0009049670464273062,
          0.0009756274698222795,
          0.0010462878932172527,
          0.001116948316612226,
          0.0011876087400071993,
          0.0012582691634021727,
          0.001328929586797146,
          0.0013995900101921193,
          0.0014702504335870926,
          0.0015409108569820658,
          0.001611571280377039,
          0.0016822317037720124,
          0.0017528921271669855,
          0.0018235525505619589,
          0.0018942129739569322,
          0.0019648733973519055,
          0.002035533820746879,
          0.002106194244141852,
          0.002176854667536825,
          0.002247515090931799,
          0.0023181755143267717,
          0.0023888359377217455,
          0.0024594963611167184,
          0.002530156784511692,
          0.002600817207906665,
          0.0026714776313016384,
          0.0027421380546966117,
          0.0028127984780915846,
          0.0028834589014865583,
          0.0029541193248815312,
          0.003024779748276505,
          0.003095440171671478,
          0.0031661005950664517,
          0.0032367610184614246,
          0.0033074214418563983,
          0.003378081865251371,
          0.003448742288646345,
          0.003519402712041318,
          0.0035900631354362908,
          0.0036607235588312645,
          0.0037313839822262374,
          0.003802044405621211,
          0.003872704829016184,
          0.003943365252411158,
          0.004014025675806131,
          0.0040846860992011045,
          0.004155346522596077,
          0.004226006945991051,
          0.004296667369386024,
          0.004367327792780997,
          0.004437988216175971,
          0.004508648639570944,
          0.004579309062965917,
          0.00464996948636089,
          0.004720629909755864,
          0.004791290333150837,
          0.004861950756545811,
          0.004932611179940784,
          0.005003271603335757,
          0.00507393202673073,
          0.005144592450125704,
          0.005215252873520677,
          0.005285913296915651,
          0.0053565737203106235,
          0.005427234143705596,
          0.00549789456710057,
          0.005568554990495543,
          0.005639215413890517,
          0.00570987583728549,
          0.0057805362606804635,
          0.005851196684075436,
          0.00592185710747041,
          0.005992517530865383,
          0.006063177954260356
         ]
        }
       ],
       "layout": {
        "template": {
         "data": {
          "bar": [
           {
            "error_x": {
             "color": "#2a3f5f"
            },
            "error_y": {
             "color": "#2a3f5f"
            },
            "marker": {
             "line": {
              "color": "#E5ECF6",
              "width": 0.5
             },
             "pattern": {
              "fillmode": "overlay",
              "size": 10,
              "solidity": 0.2
             }
            },
            "type": "bar"
           }
          ],
          "barpolar": [
           {
            "marker": {
             "line": {
              "color": "#E5ECF6",
              "width": 0.5
             },
             "pattern": {
              "fillmode": "overlay",
              "size": 10,
              "solidity": 0.2
             }
            },
            "type": "barpolar"
           }
          ],
          "carpet": [
           {
            "aaxis": {
             "endlinecolor": "#2a3f5f",
             "gridcolor": "white",
             "linecolor": "white",
             "minorgridcolor": "white",
             "startlinecolor": "#2a3f5f"
            },
            "baxis": {
             "endlinecolor": "#2a3f5f",
             "gridcolor": "white",
             "linecolor": "white",
             "minorgridcolor": "white",
             "startlinecolor": "#2a3f5f"
            },
            "type": "carpet"
           }
          ],
          "choropleth": [
           {
            "colorbar": {
             "outlinewidth": 0,
             "ticks": ""
            },
            "type": "choropleth"
           }
          ],
          "contour": [
           {
            "colorbar": {
             "outlinewidth": 0,
             "ticks": ""
            },
            "colorscale": [
             [
              0,
              "#0d0887"
             ],
             [
              0.1111111111111111,
              "#46039f"
             ],
             [
              0.2222222222222222,
              "#7201a8"
             ],
             [
              0.3333333333333333,
              "#9c179e"
             ],
             [
              0.4444444444444444,
              "#bd3786"
             ],
             [
              0.5555555555555556,
              "#d8576b"
             ],
             [
              0.6666666666666666,
              "#ed7953"
             ],
             [
              0.7777777777777778,
              "#fb9f3a"
             ],
             [
              0.8888888888888888,
              "#fdca26"
             ],
             [
              1,
              "#f0f921"
             ]
            ],
            "type": "contour"
           }
          ],
          "contourcarpet": [
           {
            "colorbar": {
             "outlinewidth": 0,
             "ticks": ""
            },
            "type": "contourcarpet"
           }
          ],
          "heatmap": [
           {
            "colorbar": {
             "outlinewidth": 0,
             "ticks": ""
            },
            "colorscale": [
             [
              0,
              "#0d0887"
             ],
             [
              0.1111111111111111,
              "#46039f"
             ],
             [
              0.2222222222222222,
              "#7201a8"
             ],
             [
              0.3333333333333333,
              "#9c179e"
             ],
             [
              0.4444444444444444,
              "#bd3786"
             ],
             [
              0.5555555555555556,
              "#d8576b"
             ],
             [
              0.6666666666666666,
              "#ed7953"
             ],
             [
              0.7777777777777778,
              "#fb9f3a"
             ],
             [
              0.8888888888888888,
              "#fdca26"
             ],
             [
              1,
              "#f0f921"
             ]
            ],
            "type": "heatmap"
           }
          ],
          "heatmapgl": [
           {
            "colorbar": {
             "outlinewidth": 0,
             "ticks": ""
            },
            "colorscale": [
             [
              0,
              "#0d0887"
             ],
             [
              0.1111111111111111,
              "#46039f"
             ],
             [
              0.2222222222222222,
              "#7201a8"
             ],
             [
              0.3333333333333333,
              "#9c179e"
             ],
             [
              0.4444444444444444,
              "#bd3786"
             ],
             [
              0.5555555555555556,
              "#d8576b"
             ],
             [
              0.6666666666666666,
              "#ed7953"
             ],
             [
              0.7777777777777778,
              "#fb9f3a"
             ],
             [
              0.8888888888888888,
              "#fdca26"
             ],
             [
              1,
              "#f0f921"
             ]
            ],
            "type": "heatmapgl"
           }
          ],
          "histogram": [
           {
            "marker": {
             "pattern": {
              "fillmode": "overlay",
              "size": 10,
              "solidity": 0.2
             }
            },
            "type": "histogram"
           }
          ],
          "histogram2d": [
           {
            "colorbar": {
             "outlinewidth": 0,
             "ticks": ""
            },
            "colorscale": [
             [
              0,
              "#0d0887"
             ],
             [
              0.1111111111111111,
              "#46039f"
             ],
             [
              0.2222222222222222,
              "#7201a8"
             ],
             [
              0.3333333333333333,
              "#9c179e"
             ],
             [
              0.4444444444444444,
              "#bd3786"
             ],
             [
              0.5555555555555556,
              "#d8576b"
             ],
             [
              0.6666666666666666,
              "#ed7953"
             ],
             [
              0.7777777777777778,
              "#fb9f3a"
             ],
             [
              0.8888888888888888,
              "#fdca26"
             ],
             [
              1,
              "#f0f921"
             ]
            ],
            "type": "histogram2d"
           }
          ],
          "histogram2dcontour": [
           {
            "colorbar": {
             "outlinewidth": 0,
             "ticks": ""
            },
            "colorscale": [
             [
              0,
              "#0d0887"
             ],
             [
              0.1111111111111111,
              "#46039f"
             ],
             [
              0.2222222222222222,
              "#7201a8"
             ],
             [
              0.3333333333333333,
              "#9c179e"
             ],
             [
              0.4444444444444444,
              "#bd3786"
             ],
             [
              0.5555555555555556,
              "#d8576b"
             ],
             [
              0.6666666666666666,
              "#ed7953"
             ],
             [
              0.7777777777777778,
              "#fb9f3a"
             ],
             [
              0.8888888888888888,
              "#fdca26"
             ],
             [
              1,
              "#f0f921"
             ]
            ],
            "type": "histogram2dcontour"
           }
          ],
          "mesh3d": [
           {
            "colorbar": {
             "outlinewidth": 0,
             "ticks": ""
            },
            "type": "mesh3d"
           }
          ],
          "parcoords": [
           {
            "line": {
             "colorbar": {
              "outlinewidth": 0,
              "ticks": ""
             }
            },
            "type": "parcoords"
           }
          ],
          "pie": [
           {
            "automargin": true,
            "type": "pie"
           }
          ],
          "scatter": [
           {
            "fillpattern": {
             "fillmode": "overlay",
             "size": 10,
             "solidity": 0.2
            },
            "type": "scatter"
           }
          ],
          "scatter3d": [
           {
            "line": {
             "colorbar": {
              "outlinewidth": 0,
              "ticks": ""
             }
            },
            "marker": {
             "colorbar": {
              "outlinewidth": 0,
              "ticks": ""
             }
            },
            "type": "scatter3d"
           }
          ],
          "scattercarpet": [
           {
            "marker": {
             "colorbar": {
              "outlinewidth": 0,
              "ticks": ""
             }
            },
            "type": "scattercarpet"
           }
          ],
          "scattergeo": [
           {
            "marker": {
             "colorbar": {
              "outlinewidth": 0,
              "ticks": ""
             }
            },
            "type": "scattergeo"
           }
          ],
          "scattergl": [
           {
            "marker": {
             "colorbar": {
              "outlinewidth": 0,
              "ticks": ""
             }
            },
            "type": "scattergl"
           }
          ],
          "scattermapbox": [
           {
            "marker": {
             "colorbar": {
              "outlinewidth": 0,
              "ticks": ""
             }
            },
            "type": "scattermapbox"
           }
          ],
          "scatterpolar": [
           {
            "marker": {
             "colorbar": {
              "outlinewidth": 0,
              "ticks": ""
             }
            },
            "type": "scatterpolar"
           }
          ],
          "scatterpolargl": [
           {
            "marker": {
             "colorbar": {
              "outlinewidth": 0,
              "ticks": ""
             }
            },
            "type": "scatterpolargl"
           }
          ],
          "scatterternary": [
           {
            "marker": {
             "colorbar": {
              "outlinewidth": 0,
              "ticks": ""
             }
            },
            "type": "scatterternary"
           }
          ],
          "surface": [
           {
            "colorbar": {
             "outlinewidth": 0,
             "ticks": ""
            },
            "colorscale": [
             [
              0,
              "#0d0887"
             ],
             [
              0.1111111111111111,
              "#46039f"
             ],
             [
              0.2222222222222222,
              "#7201a8"
             ],
             [
              0.3333333333333333,
              "#9c179e"
             ],
             [
              0.4444444444444444,
              "#bd3786"
             ],
             [
              0.5555555555555556,
              "#d8576b"
             ],
             [
              0.6666666666666666,
              "#ed7953"
             ],
             [
              0.7777777777777778,
              "#fb9f3a"
             ],
             [
              0.8888888888888888,
              "#fdca26"
             ],
             [
              1,
              "#f0f921"
             ]
            ],
            "type": "surface"
           }
          ],
          "table": [
           {
            "cells": {
             "fill": {
              "color": "#EBF0F8"
             },
             "line": {
              "color": "white"
             }
            },
            "header": {
             "fill": {
              "color": "#C8D4E3"
             },
             "line": {
              "color": "white"
             }
            },
            "type": "table"
           }
          ]
         },
         "layout": {
          "annotationdefaults": {
           "arrowcolor": "#2a3f5f",
           "arrowhead": 0,
           "arrowwidth": 1
          },
          "autotypenumbers": "strict",
          "coloraxis": {
           "colorbar": {
            "outlinewidth": 0,
            "ticks": ""
           }
          },
          "colorscale": {
           "diverging": [
            [
             0,
             "#8e0152"
            ],
            [
             0.1,
             "#c51b7d"
            ],
            [
             0.2,
             "#de77ae"
            ],
            [
             0.3,
             "#f1b6da"
            ],
            [
             0.4,
             "#fde0ef"
            ],
            [
             0.5,
             "#f7f7f7"
            ],
            [
             0.6,
             "#e6f5d0"
            ],
            [
             0.7,
             "#b8e186"
            ],
            [
             0.8,
             "#7fbc41"
            ],
            [
             0.9,
             "#4d9221"
            ],
            [
             1,
             "#276419"
            ]
           ],
           "sequential": [
            [
             0,
             "#0d0887"
            ],
            [
             0.1111111111111111,
             "#46039f"
            ],
            [
             0.2222222222222222,
             "#7201a8"
            ],
            [
             0.3333333333333333,
             "#9c179e"
            ],
            [
             0.4444444444444444,
             "#bd3786"
            ],
            [
             0.5555555555555556,
             "#d8576b"
            ],
            [
             0.6666666666666666,
             "#ed7953"
            ],
            [
             0.7777777777777778,
             "#fb9f3a"
            ],
            [
             0.8888888888888888,
             "#fdca26"
            ],
            [
             1,
             "#f0f921"
            ]
           ],
           "sequentialminus": [
            [
             0,
             "#0d0887"
            ],
            [
             0.1111111111111111,
             "#46039f"
            ],
            [
             0.2222222222222222,
             "#7201a8"
            ],
            [
             0.3333333333333333,
             "#9c179e"
            ],
            [
             0.4444444444444444,
             "#bd3786"
            ],
            [
             0.5555555555555556,
             "#d8576b"
            ],
            [
             0.6666666666666666,
             "#ed7953"
            ],
            [
             0.7777777777777778,
             "#fb9f3a"
            ],
            [
             0.8888888888888888,
             "#fdca26"
            ],
            [
             1,
             "#f0f921"
            ]
           ]
          },
          "colorway": [
           "#636efa",
           "#EF553B",
           "#00cc96",
           "#ab63fa",
           "#FFA15A",
           "#19d3f3",
           "#FF6692",
           "#B6E880",
           "#FF97FF",
           "#FECB52"
          ],
          "font": {
           "color": "#2a3f5f"
          },
          "geo": {
           "bgcolor": "white",
           "lakecolor": "white",
           "landcolor": "#E5ECF6",
           "showlakes": true,
           "showland": true,
           "subunitcolor": "white"
          },
          "hoverlabel": {
           "align": "left"
          },
          "hovermode": "closest",
          "mapbox": {
           "style": "light"
          },
          "paper_bgcolor": "white",
          "plot_bgcolor": "#E5ECF6",
          "polar": {
           "angularaxis": {
            "gridcolor": "white",
            "linecolor": "white",
            "ticks": ""
           },
           "bgcolor": "#E5ECF6",
           "radialaxis": {
            "gridcolor": "white",
            "linecolor": "white",
            "ticks": ""
           }
          },
          "scene": {
           "xaxis": {
            "backgroundcolor": "#E5ECF6",
            "gridcolor": "white",
            "gridwidth": 2,
            "linecolor": "white",
            "showbackground": true,
            "ticks": "",
            "zerolinecolor": "white"
           },
           "yaxis": {
            "backgroundcolor": "#E5ECF6",
            "gridcolor": "white",
            "gridwidth": 2,
            "linecolor": "white",
            "showbackground": true,
            "ticks": "",
            "zerolinecolor": "white"
           },
           "zaxis": {
            "backgroundcolor": "#E5ECF6",
            "gridcolor": "white",
            "gridwidth": 2,
            "linecolor": "white",
            "showbackground": true,
            "ticks": "",
            "zerolinecolor": "white"
           }
          },
          "shapedefaults": {
           "line": {
            "color": "#2a3f5f"
           }
          },
          "ternary": {
           "aaxis": {
            "gridcolor": "white",
            "linecolor": "white",
            "ticks": ""
           },
           "baxis": {
            "gridcolor": "white",
            "linecolor": "white",
            "ticks": ""
           },
           "bgcolor": "#E5ECF6",
           "caxis": {
            "gridcolor": "white",
            "linecolor": "white",
            "ticks": ""
           }
          },
          "title": {
           "x": 0.05
          },
          "xaxis": {
           "automargin": true,
           "gridcolor": "white",
           "linecolor": "white",
           "ticks": "",
           "title": {
            "standoff": 15
           },
           "zerolinecolor": "white",
           "zerolinewidth": 2
          },
          "yaxis": {
           "automargin": true,
           "gridcolor": "white",
           "linecolor": "white",
           "ticks": "",
           "title": {
            "standoff": 15
           },
           "zerolinecolor": "white",
           "zerolinewidth": 2
          }
         }
        },
        "title": {
         "text": "Efficient Frontier"
        },
        "xaxis": {
         "title": {
          "text": "Volatility"
         }
        },
        "yaxis": {
         "title": {
          "text": "Return"
         }
        }
       }
      }
     },
     "metadata": {},
     "output_type": "display_data"
    }
   ],
   "source": [
    "\n",
    "# Call the plot_efficient_frontier_parabola function\n",
    "portfolio_optimizer1.plot_efficient_frontier_parabola()\n",
    "\n",
    "# Call the plot_efficient_frontier function\n",
    "portfolio_optimizer1.plot_efficient_frontier()"
   ]
  },
  {
   "cell_type": "code",
   "execution_count": 14,
   "id": "8eae352d-df56-4479-8599-43dd094e6ac0",
   "metadata": {},
   "outputs": [
    {
     "name": "stdout",
     "output_type": "stream",
     "text": [
      "Markowitz Optimization for Target Return 0.004 Results:\n",
      "Optimal Weights:\n",
      "AAPL : 41.81\n",
      "MSFT : -7.9\n",
      "GOOGL : -15.63\n",
      "AMZN : 25.87\n",
      "CSCO : 44.21\n",
      "TSLA : 18.8\n",
      "NVDA : -11.1\n",
      "JPM : -2.94\n",
      "GS : 9.99\n",
      "NFLX : -3.11\n",
      "Optimal Risk: 1.09 %\n",
      "Optimal Return: 0.4 %\n"
     ]
    },
    {
     "data": {
      "application/vnd.plotly.v1+json": {
       "config": {
        "plotlyServerURL": "https://plot.ly"
       },
       "data": [
        {
         "mode": "lines",
         "name": "Efficient Frontier",
         "type": "scatter",
         "x": [
          0.007695377754371738,
          0.0076984309513376675,
          0.0077074255879854845,
          0.00772233790062156,
          0.007743113287273852,
          0.0077702519057076345,
          0.007802566984591885,
          0.007840628255617196,
          0.007884332709084304,
          0.007933494742426153,
          0.007987634277128154,
          0.008067006225310838,
          0.008112189351345805,
          0.00820195512508652,
          0.008256869763022883,
          0.008336585272739953,
          0.008420913367769277,
          0.008527421948444924,
          0.008603788333428774,
          0.008720887930870851,
          0.008822199908316541,
          0.00892769168197047,
          0.009036999275517673,
          0.009150039338527297,
          0.009264847397944975,
          0.009385850465373236,
          0.009516321083395238,
          0.009616056275871105,
          0.009763305885097402,
          0.009896437169806883,
          0.010031775206027757,
          0.010169720525414917,
          0.010310823508712305,
          0.010453601481407733,
          0.010600039581076307,
          0.010747578727505036,
          0.010897392822893598,
          0.011049365241853645,
          0.011202326692796201,
          0.01135776695853935,
          0.011515536321859832,
          0.01167508635633768,
          0.01183633226838378,
          0.011999184534317085,
          0.012163571340063394,
          0.012329444708924029,
          0.012496760831084391,
          0.012666272613907518,
          0.012836516344168344,
          0.013007868302362186,
          0.013180472151329304,
          0.013354583357389458,
          0.013529004779800955,
          0.013704879456657224,
          0.013882117575831045,
          0.01405984974268086,
          0.014238756488462689,
          0.014418412889829283,
          0.01459957242031757,
          0.01478084095582867
         ],
         "y": [
          0.0008343066230323329,
          0.000922931560849757,
          0.0010115564986671812,
          0.0011001814364846052,
          0.0011888063743020294,
          0.0012774313121194534,
          0.0013660562499368777,
          0.0014546811877543017,
          0.0015433061255717257,
          0.00163193106338915,
          0.0017205560012065742,
          0.0018091809390239982,
          0.0018978058768414222,
          0.0019864308146588464,
          0.0020750557524762707,
          0.002163680690293695,
          0.0022523056281111187,
          0.0023409305659285425,
          0.0024295555037459667,
          0.002518180441563391,
          0.002606805379380815,
          0.0026954303171982394,
          0.0027840552550156637,
          0.002872680192833088,
          0.0029613051306505113,
          0.0030499300684679355,
          0.0031385550062853597,
          0.003227179944102784,
          0.003315804881920208,
          0.0034044298197376324,
          0.0034930547575550567,
          0.00358167969537248,
          0.0036703046331899043,
          0.0037589295710073285,
          0.0038475545088247527,
          0.003936179446642177,
          0.004024804384459601,
          0.004113429322277025,
          0.004202054260094449,
          0.004290679197911873,
          0.004379304135729297,
          0.0044679290735467215,
          0.004556554011364146,
          0.00464517894918157,
          0.004733803886998994,
          0.004822428824816418,
          0.004911053762633843,
          0.004999678700451266,
          0.00508830363826869,
          0.0051769285760861145,
          0.005265553513903539,
          0.005354178451720963,
          0.005442803389538387,
          0.005531428327355811,
          0.005620053265173235,
          0.005708678202990659,
          0.005797303140808083,
          0.0058859280786255075,
          0.005974553016442932,
          0.006063177954260356
         ]
        },
        {
         "hoverinfo": "text",
         "mode": "markers",
         "name": "Efficient Frontier Points",
         "text": [
          "Risks: 0.0077<br>Weights: [ 0.17124169  0.03186346  0.31737704  0.03221106  0.12548726  0.1608796\n  0.07871531  0.09946853 -0.0063679  -0.01087606]<br>Return: 0.0008",
          "Risks: 0.0077<br>Weights: [ 0.17854072  0.02833526  0.30472071  0.03932029  0.13446398  0.16060126\n  0.07255276  0.0970434  -0.00376883 -0.01180956]<br>Return: 0.0009",
          "Risks: 0.0077<br>Weights: [ 0.1857211   0.02489145  0.29199868  0.04626307  0.14350527  0.16050925\n  0.0664365   0.09446795 -0.00109282 -0.01270044]<br>Return: 0.0010",
          "Risks: 0.0077<br>Weights: [ 0.19283344  0.02147996  0.27922815  0.0531284   0.15259863  0.16055278\n  0.06033558  0.09173982  0.00161325 -0.01351   ]<br>Return: 0.0011",
          "Risks: 0.0077<br>Weights: [ 0.19991285  0.01806052  0.26646895  0.05995531  0.16173213  0.16068613\n  0.05423179  0.08890568  0.00434486 -0.01429822]<br>Return: 0.0012",
          "Risks: 0.0078<br>Weights: [ 0.20592228  0.01602645  0.25201794  0.0672573   0.16989041  0.16042711\n  0.04905366  0.08582614  0.00678042 -0.01320173]<br>Return: 0.0013",
          "Risks: 0.0078<br>Weights: [ 0.21287373  0.01252591  0.23942462  0.07436736  0.17890966  0.16042942\n  0.04293582  0.08295046  0.00950613 -0.01392311]<br>Return: 0.0014",
          "Risks: 0.0078<br>Weights: [ 0.21961129  0.00920497  0.22664307  0.08147097  0.18782448  0.16046119\n  0.03694789  0.07996062  0.01226101 -0.0143855 ]<br>Return: 0.0015",
          "Risks: 0.0079<br>Weights: [ 0.22614924  0.00603037  0.21375077  0.08857759  0.19662433  0.16050262\n  0.03108112  0.07688963  0.01506854 -0.01467421]<br>Return: 0.0015",
          "Risks: 0.0079<br>Weights: [ 0.23277598  0.00271921  0.20104393  0.09571991  0.20546286  0.16053815\n  0.02512284  0.07382343  0.01789556 -0.01510188]<br>Return: 0.0016",
          "Risks: 0.0080<br>Weights: [ 0.24123369 -0.00208916  0.18959484  0.10254312  0.21553833  0.16102134\n  0.01796193  0.07085184  0.02047325 -0.01712919]<br>Return: 0.0017",
          "Risks: 0.0081<br>Weights: [ 0.24006495  0.01406082  0.15725027  0.08361576  0.2250371   0.1821506\n  0.02945651  0.05485896  0.03117085 -0.01766582]<br>Return: 0.0018",
          "Risks: 0.0081<br>Weights: [ 0.25486142 -0.00953964  0.16495239  0.11700364  0.2337943   0.16113407\n  0.00531442  0.06465721  0.02606631 -0.01824412]<br>Return: 0.0019",
          "Risks: 0.0082<br>Weights: [ 0.25456023  0.00656484  0.13179158  0.09776404  0.24278784  0.18273601\n  0.01806014  0.04801883  0.03659585 -0.01887937]<br>Return: 0.0020",
          "Risks: 0.0083<br>Weights: [ 0.26824299 -0.01708655  0.14058488  0.13170384  0.25193601  0.16105993\n -0.00747228  0.05848469  0.03175907 -0.01921259]<br>Return: 0.0021",
          "Risks: 0.0083<br>Weights: [ 0.27493722 -0.0206486   0.12819262  0.13903092  0.26081111  0.16102326\n -0.01369617  0.05534956  0.03460049 -0.01960039]<br>Return: 0.0022",
          "Risks: 0.0084<br>Weights: [ 0.28186466 -0.02433646  0.11587073  0.14619213  0.26989273  0.16114907\n -0.0200269   0.05217461  0.03742295 -0.02020351]<br>Return: 0.0023",
          "Risks: 0.0085<br>Weights: [ 0.28386176 -0.00952432  0.08235901  0.12723382  0.27740192  0.18169727\n -0.00593746  0.03629796  0.0476706  -0.02106056]<br>Return: 0.0023",
          "Risks: 0.0086<br>Weights: [ 0.29343104 -0.02948724  0.09006254  0.1609898   0.28563834  0.16070201\n -0.03054314  0.04589029  0.0437555  -0.02043915]<br>Return: 0.0024",
          "Risks: 0.0087<br>Weights: [ 0.30009992 -0.01721615  0.0553431   0.13937782  0.29697966  0.18472224\n -0.01728965  0.02765145  0.05251753 -0.02218593]<br>Return: 0.0025",
          "Risks: 0.0088<br>Weights: [ 0.30640581 -0.02035854  0.04296834  0.14658867  0.30499536  0.18445519\n -0.02239982  0.0248798   0.0557888  -0.02332363]<br>Return: 0.0026",
          "Risks: 0.0089<br>Weights: [ 0.3131927  -0.02384889  0.03032967  0.15388451  0.31361349  0.1846489\n -0.02783112  0.0214617   0.05860738 -0.02405833]<br>Return: 0.0027",
          "Risks: 0.0090<br>Weights: [ 0.31991055 -0.02732877  0.01768896  0.16125204  0.32222712  0.18486758\n -0.03324653  0.01794872  0.06140976 -0.02472943]<br>Return: 0.0028",
          "Risks: 0.0092<br>Weights: [ 0.32693519 -0.03099501  0.00497331  0.16844877  0.33097668  0.185145\n -0.03883021  0.01441686  0.06416899 -0.02523958]<br>Return: 0.0029",
          "Risks: 0.0093<br>Weights: [ 0.33281464 -0.03470191 -0.00617098  0.17779949  0.33922343  0.18415704\n -0.0448134   0.01160383  0.06675337 -0.02666551]<br>Return: 0.0030",
          "Risks: 0.0094<br>Weights: [ 0.34143401 -0.0387511  -0.01949542  0.18341675  0.34861421  0.18505214\n -0.05059899  0.00830684  0.06950558 -0.02748403]<br>Return: 0.0030",
          "Risks: 0.0095<br>Weights: [ 0.34704852 -0.04046074 -0.03702364  0.18596549  0.3568786   0.18911427\n -0.05294493  0.00041459  0.07384808 -0.02284024]<br>Return: 0.0031",
          "Risks: 0.0096<br>Weights: [ 0.35669866 -0.06467393 -0.01858438  0.2261726   0.36841975  0.16158506\n -0.09000135  0.01737072  0.06913504 -0.02612217]<br>Return: 0.0032",
          "Risks: 0.0098<br>Weights: [ 0.36158549 -0.05083471 -0.05673033  0.20539616  0.37277105  0.18311535\n -0.06897973 -0.00070536  0.07926316 -0.02488109]<br>Return: 0.0033",
          "Risks: 0.0099<br>Weights: [ 0.36984851 -0.05460206 -0.07018726  0.21190273  0.38280499  0.18476037\n -0.07440246 -0.00508457  0.08126706 -0.02630731]<br>Return: 0.0034",
          "Risks: 0.0100<br>Weights: [ 0.37706999 -0.05827177 -0.08290618  0.21892129  0.39172611  0.18523854\n -0.07994147 -0.00865062  0.08399001 -0.02717591]<br>Return: 0.0035",
          "Risks: 0.0102<br>Weights: [ 0.38412858 -0.06191455 -0.09551479  0.22597339  0.40044558  0.18553175\n -0.08547631 -0.01206905  0.08685933 -0.02796393]<br>Return: 0.0036",
          "Risks: 0.0103<br>Weights: [ 0.39285109 -0.06621915 -0.10889595  0.23253246  0.41036371  0.18655205\n -0.0915596  -0.0159265   0.08885574 -0.02855384]<br>Return: 0.0037",
          "Risks: 0.0105<br>Weights: [ 0.398322   -0.06915238 -0.12107383  0.23990947  0.41792592  0.18636978\n -0.09636352 -0.01923341  0.09254242 -0.02924646]<br>Return: 0.0038",
          "Risks: 0.0106<br>Weights: [ 0.4054251  -0.07235618 -0.13452169  0.24654024  0.4268724   0.18761346\n -0.10102318 -0.02359853  0.09520276 -0.03015438]<br>Return: 0.0038",
          "Risks: 0.0107<br>Weights: [ 0.41270805 -0.07619523 -0.14707769  0.25349559  0.43553389  0.18768673\n -0.10677331 -0.02675343  0.09812918 -0.03075379]<br>Return: 0.0039",
          "Risks: 0.0109<br>Weights: [ 0.42015008 -0.08009604 -0.15979796  0.26058949  0.44449431  0.18801873\n -0.11255468 -0.03025363  0.10076564 -0.03131593]<br>Return: 0.0040",
          "Risks: 0.0110<br>Weights: [ 0.42743299 -0.08387591 -0.17247661  0.26750006  0.45318749  0.18822471\n -0.11818203 -0.0335547   0.10365593 -0.03191193]<br>Return: 0.0041",
          "Risks: 0.0112<br>Weights: [ 0.43542326 -0.08845246 -0.18444747  0.27473448  0.4622622   0.18766369\n -0.12514509 -0.03589283  0.10633759 -0.03248335]<br>Return: 0.0042",
          "Risks: 0.0114<br>Weights: [ 0.44186821 -0.09215025 -0.19676676  0.28280259  0.4710804   0.18798095\n -0.13087329 -0.03999934  0.10891197 -0.03285446]<br>Return: 0.0043",
          "Risks: 0.0115<br>Weights: [ 0.44956363 -0.09608912 -0.2094393   0.28933592  0.47980414  0.1880141\n -0.13671507 -0.04282527  0.11189209 -0.03354112]<br>Return: 0.0044",
          "Risks: 0.0117<br>Weights: [ 0.45714557 -0.09998711 -0.22208573  0.29594147  0.48848608  0.18804397\n -0.14251732 -0.04570173  0.11488734 -0.03421254]<br>Return: 0.0045",
          "Risks: 0.0118<br>Weights: [ 0.46457336 -0.10383037 -0.23471421  0.30269885  0.49716467  0.18812844\n -0.14825826 -0.04873864  0.11784644 -0.03487028]<br>Return: 0.0046",
          "Risks: 0.0120<br>Weights: [ 0.47184811 -0.10762742 -0.24733716  0.30965832  0.50588316  0.18830754\n -0.15394391 -0.05200931  0.12072168 -0.03550101]<br>Return: 0.0046",
          "Risks: 0.0122<br>Weights: [ 0.47897753 -0.11138641 -0.25995798  0.31682107  0.51464707  0.18858459\n -0.15958169 -0.05552286  0.12350848 -0.03608979]<br>Return: 0.0047",
          "Risks: 0.0123<br>Weights: [ 0.48598418 -0.11511553 -0.27257024  0.32412612  0.52342187  0.18892099\n -0.16518133 -0.05920772  0.12625111 -0.03662945]<br>Return: 0.0048",
          "Risks: 0.0125<br>Weights: [ 0.49272887 -0.11876703 -0.28516352  0.33162254  0.53213051  0.18932203\n -0.17067738 -0.06314675  0.12899644 -0.03704571]<br>Return: 0.0049",
          "Risks: 0.0127<br>Weights: [ 0.49917491 -0.12177297 -0.29784739  0.33779491  0.53964919  0.18937489\n -0.17507138 -0.0660563   0.1329011  -0.03814697]<br>Return: 0.0050",
          "Risks: 0.0128<br>Weights: [ 0.50822476 -0.12635153 -0.31135413  0.34464391  0.54970404  0.19010266\n -0.1815137  -0.06972652  0.13457344 -0.03830292]<br>Return: 0.0051",
          "Risks: 0.0130<br>Weights: [ 0.51539427 -0.13013997 -0.32396424  0.35177255  0.55843     0.19032519\n -0.18716919 -0.0731695   0.13738982 -0.03886894]<br>Return: 0.0052",
          "Risks: 0.0132<br>Weights: [ 0.52205755 -0.13378634 -0.33655115  0.35901595  0.56680307  0.19050146\n -0.19262039 -0.0768664   0.14044636 -0.03900012]<br>Return: 0.0053",
          "Risks: 0.0134<br>Weights: [ 0.52734256 -0.1371825  -0.34913411  0.36640624  0.57401997  0.19034251\n -0.19770037 -0.08114778  0.14434881 -0.03729534]<br>Return: 0.0054",
          "Risks: 0.0135<br>Weights: [ 0.53494954 -0.14110895 -0.36140107  0.37375753  0.58335238  0.19064776\n -0.20372181 -0.0842927   0.14676009 -0.03894275]<br>Return: 0.0054",
          "Risks: 0.0137<br>Weights: [ 0.54259239 -0.14495325 -0.37390428  0.38096236  0.59260403  0.19106809\n -0.20949219 -0.08756936  0.14918534 -0.04049313]<br>Return: 0.0055",
          "Risks: 0.0139<br>Weights: [ 0.55029193 -0.14905117 -0.38683881  0.38761195  0.60130649  0.19108662\n -0.21546924 -0.09071607  0.15207001 -0.04029171]<br>Return: 0.0056",
          "Risks: 0.0141<br>Weights: [ 0.55762657 -0.15290597 -0.3991056   0.39519421  0.61061733  0.19149598\n -0.22140761 -0.09419078  0.15444414 -0.04176826]<br>Return: 0.0057",
          "Risks: 0.0142<br>Weights: [ 0.56629187 -0.15736917 -0.41187155  0.40195471  0.62030445  0.19160961\n -0.22811    -0.09687762  0.15664149 -0.04257379]<br>Return: 0.0058",
          "Risks: 0.0144<br>Weights: [ 0.57216181 -0.1607516  -0.42376901  0.40948699  0.6283346   0.1915948\n -0.23346753 -0.10042914  0.16010562 -0.04326653]<br>Return: 0.0059",
          "Risks: 0.0146<br>Weights: [ 0.58125301 -0.16531671 -0.43712542  0.41601808  0.63812916  0.19190787\n -0.24003863 -0.10338651  0.16208433 -0.04352518]<br>Return: 0.0060",
          "Risks: 0.0148<br>Weights: [ 0.58518287 -0.16795737 -0.44829312  0.42424166  0.64517146  0.19190154\n -0.24451062 -0.10762624  0.16631345 -0.04442364]<br>Return: 0.0061"
         ],
         "type": "scatter",
         "x": [
          0.007695377754371738,
          0.0076984309513376675,
          0.0077074255879854845,
          0.00772233790062156,
          0.007743113287273852,
          0.0077702519057076345,
          0.007802566984591885,
          0.007840628255617196,
          0.007884332709084304,
          0.007933494742426153,
          0.007987634277128154,
          0.008067006225310838,
          0.008112189351345805,
          0.00820195512508652,
          0.008256869763022883,
          0.008336585272739953,
          0.008420913367769277,
          0.008527421948444924,
          0.008603788333428774,
          0.008720887930870851,
          0.008822199908316541,
          0.00892769168197047,
          0.009036999275517673,
          0.009150039338527297,
          0.009264847397944975,
          0.009385850465373236,
          0.009516321083395238,
          0.009616056275871105,
          0.009763305885097402,
          0.009896437169806883,
          0.010031775206027757,
          0.010169720525414917,
          0.010310823508712305,
          0.010453601481407733,
          0.010600039581076307,
          0.010747578727505036,
          0.010897392822893598,
          0.011049365241853645,
          0.011202326692796201,
          0.01135776695853935,
          0.011515536321859832,
          0.01167508635633768,
          0.01183633226838378,
          0.011999184534317085,
          0.012163571340063394,
          0.012329444708924029,
          0.012496760831084391,
          0.012666272613907518,
          0.012836516344168344,
          0.013007868302362186,
          0.013180472151329304,
          0.013354583357389458,
          0.013529004779800955,
          0.013704879456657224,
          0.013882117575831045,
          0.01405984974268086,
          0.014238756488462689,
          0.014418412889829283,
          0.01459957242031757,
          0.01478084095582867
         ],
         "y": [
          0.0008343066230323329,
          0.000922931560849757,
          0.0010115564986671812,
          0.0011001814364846052,
          0.0011888063743020294,
          0.0012774313121194534,
          0.0013660562499368777,
          0.0014546811877543017,
          0.0015433061255717257,
          0.00163193106338915,
          0.0017205560012065742,
          0.0018091809390239982,
          0.0018978058768414222,
          0.0019864308146588464,
          0.0020750557524762707,
          0.002163680690293695,
          0.0022523056281111187,
          0.0023409305659285425,
          0.0024295555037459667,
          0.002518180441563391,
          0.002606805379380815,
          0.0026954303171982394,
          0.0027840552550156637,
          0.002872680192833088,
          0.0029613051306505113,
          0.0030499300684679355,
          0.0031385550062853597,
          0.003227179944102784,
          0.003315804881920208,
          0.0034044298197376324,
          0.0034930547575550567,
          0.00358167969537248,
          0.0036703046331899043,
          0.0037589295710073285,
          0.0038475545088247527,
          0.003936179446642177,
          0.004024804384459601,
          0.004113429322277025,
          0.004202054260094449,
          0.004290679197911873,
          0.004379304135729297,
          0.0044679290735467215,
          0.004556554011364146,
          0.00464517894918157,
          0.004733803886998994,
          0.004822428824816418,
          0.004911053762633843,
          0.004999678700451266,
          0.00508830363826869,
          0.0051769285760861145,
          0.005265553513903539,
          0.005354178451720963,
          0.005442803389538387,
          0.005531428327355811,
          0.005620053265173235,
          0.005708678202990659,
          0.005797303140808083,
          0.0058859280786255075,
          0.005974553016442932,
          0.006063177954260356
         ]
        },
        {
         "marker": {
          "color": "purple",
          "size": 15,
          "symbol": "star"
         },
         "mode": "markers",
         "name": "Target Return  0.004",
         "type": "scatter",
         "x": [
          0.010897392822893598
         ],
         "y": [
          0.004024804384459601
         ]
        }
       ],
       "layout": {
        "template": {
         "data": {
          "bar": [
           {
            "error_x": {
             "color": "#2a3f5f"
            },
            "error_y": {
             "color": "#2a3f5f"
            },
            "marker": {
             "line": {
              "color": "#E5ECF6",
              "width": 0.5
             },
             "pattern": {
              "fillmode": "overlay",
              "size": 10,
              "solidity": 0.2
             }
            },
            "type": "bar"
           }
          ],
          "barpolar": [
           {
            "marker": {
             "line": {
              "color": "#E5ECF6",
              "width": 0.5
             },
             "pattern": {
              "fillmode": "overlay",
              "size": 10,
              "solidity": 0.2
             }
            },
            "type": "barpolar"
           }
          ],
          "carpet": [
           {
            "aaxis": {
             "endlinecolor": "#2a3f5f",
             "gridcolor": "white",
             "linecolor": "white",
             "minorgridcolor": "white",
             "startlinecolor": "#2a3f5f"
            },
            "baxis": {
             "endlinecolor": "#2a3f5f",
             "gridcolor": "white",
             "linecolor": "white",
             "minorgridcolor": "white",
             "startlinecolor": "#2a3f5f"
            },
            "type": "carpet"
           }
          ],
          "choropleth": [
           {
            "colorbar": {
             "outlinewidth": 0,
             "ticks": ""
            },
            "type": "choropleth"
           }
          ],
          "contour": [
           {
            "colorbar": {
             "outlinewidth": 0,
             "ticks": ""
            },
            "colorscale": [
             [
              0,
              "#0d0887"
             ],
             [
              0.1111111111111111,
              "#46039f"
             ],
             [
              0.2222222222222222,
              "#7201a8"
             ],
             [
              0.3333333333333333,
              "#9c179e"
             ],
             [
              0.4444444444444444,
              "#bd3786"
             ],
             [
              0.5555555555555556,
              "#d8576b"
             ],
             [
              0.6666666666666666,
              "#ed7953"
             ],
             [
              0.7777777777777778,
              "#fb9f3a"
             ],
             [
              0.8888888888888888,
              "#fdca26"
             ],
             [
              1,
              "#f0f921"
             ]
            ],
            "type": "contour"
           }
          ],
          "contourcarpet": [
           {
            "colorbar": {
             "outlinewidth": 0,
             "ticks": ""
            },
            "type": "contourcarpet"
           }
          ],
          "heatmap": [
           {
            "colorbar": {
             "outlinewidth": 0,
             "ticks": ""
            },
            "colorscale": [
             [
              0,
              "#0d0887"
             ],
             [
              0.1111111111111111,
              "#46039f"
             ],
             [
              0.2222222222222222,
              "#7201a8"
             ],
             [
              0.3333333333333333,
              "#9c179e"
             ],
             [
              0.4444444444444444,
              "#bd3786"
             ],
             [
              0.5555555555555556,
              "#d8576b"
             ],
             [
              0.6666666666666666,
              "#ed7953"
             ],
             [
              0.7777777777777778,
              "#fb9f3a"
             ],
             [
              0.8888888888888888,
              "#fdca26"
             ],
             [
              1,
              "#f0f921"
             ]
            ],
            "type": "heatmap"
           }
          ],
          "heatmapgl": [
           {
            "colorbar": {
             "outlinewidth": 0,
             "ticks": ""
            },
            "colorscale": [
             [
              0,
              "#0d0887"
             ],
             [
              0.1111111111111111,
              "#46039f"
             ],
             [
              0.2222222222222222,
              "#7201a8"
             ],
             [
              0.3333333333333333,
              "#9c179e"
             ],
             [
              0.4444444444444444,
              "#bd3786"
             ],
             [
              0.5555555555555556,
              "#d8576b"
             ],
             [
              0.6666666666666666,
              "#ed7953"
             ],
             [
              0.7777777777777778,
              "#fb9f3a"
             ],
             [
              0.8888888888888888,
              "#fdca26"
             ],
             [
              1,
              "#f0f921"
             ]
            ],
            "type": "heatmapgl"
           }
          ],
          "histogram": [
           {
            "marker": {
             "pattern": {
              "fillmode": "overlay",
              "size": 10,
              "solidity": 0.2
             }
            },
            "type": "histogram"
           }
          ],
          "histogram2d": [
           {
            "colorbar": {
             "outlinewidth": 0,
             "ticks": ""
            },
            "colorscale": [
             [
              0,
              "#0d0887"
             ],
             [
              0.1111111111111111,
              "#46039f"
             ],
             [
              0.2222222222222222,
              "#7201a8"
             ],
             [
              0.3333333333333333,
              "#9c179e"
             ],
             [
              0.4444444444444444,
              "#bd3786"
             ],
             [
              0.5555555555555556,
              "#d8576b"
             ],
             [
              0.6666666666666666,
              "#ed7953"
             ],
             [
              0.7777777777777778,
              "#fb9f3a"
             ],
             [
              0.8888888888888888,
              "#fdca26"
             ],
             [
              1,
              "#f0f921"
             ]
            ],
            "type": "histogram2d"
           }
          ],
          "histogram2dcontour": [
           {
            "colorbar": {
             "outlinewidth": 0,
             "ticks": ""
            },
            "colorscale": [
             [
              0,
              "#0d0887"
             ],
             [
              0.1111111111111111,
              "#46039f"
             ],
             [
              0.2222222222222222,
              "#7201a8"
             ],
             [
              0.3333333333333333,
              "#9c179e"
             ],
             [
              0.4444444444444444,
              "#bd3786"
             ],
             [
              0.5555555555555556,
              "#d8576b"
             ],
             [
              0.6666666666666666,
              "#ed7953"
             ],
             [
              0.7777777777777778,
              "#fb9f3a"
             ],
             [
              0.8888888888888888,
              "#fdca26"
             ],
             [
              1,
              "#f0f921"
             ]
            ],
            "type": "histogram2dcontour"
           }
          ],
          "mesh3d": [
           {
            "colorbar": {
             "outlinewidth": 0,
             "ticks": ""
            },
            "type": "mesh3d"
           }
          ],
          "parcoords": [
           {
            "line": {
             "colorbar": {
              "outlinewidth": 0,
              "ticks": ""
             }
            },
            "type": "parcoords"
           }
          ],
          "pie": [
           {
            "automargin": true,
            "type": "pie"
           }
          ],
          "scatter": [
           {
            "fillpattern": {
             "fillmode": "overlay",
             "size": 10,
             "solidity": 0.2
            },
            "type": "scatter"
           }
          ],
          "scatter3d": [
           {
            "line": {
             "colorbar": {
              "outlinewidth": 0,
              "ticks": ""
             }
            },
            "marker": {
             "colorbar": {
              "outlinewidth": 0,
              "ticks": ""
             }
            },
            "type": "scatter3d"
           }
          ],
          "scattercarpet": [
           {
            "marker": {
             "colorbar": {
              "outlinewidth": 0,
              "ticks": ""
             }
            },
            "type": "scattercarpet"
           }
          ],
          "scattergeo": [
           {
            "marker": {
             "colorbar": {
              "outlinewidth": 0,
              "ticks": ""
             }
            },
            "type": "scattergeo"
           }
          ],
          "scattergl": [
           {
            "marker": {
             "colorbar": {
              "outlinewidth": 0,
              "ticks": ""
             }
            },
            "type": "scattergl"
           }
          ],
          "scattermapbox": [
           {
            "marker": {
             "colorbar": {
              "outlinewidth": 0,
              "ticks": ""
             }
            },
            "type": "scattermapbox"
           }
          ],
          "scatterpolar": [
           {
            "marker": {
             "colorbar": {
              "outlinewidth": 0,
              "ticks": ""
             }
            },
            "type": "scatterpolar"
           }
          ],
          "scatterpolargl": [
           {
            "marker": {
             "colorbar": {
              "outlinewidth": 0,
              "ticks": ""
             }
            },
            "type": "scatterpolargl"
           }
          ],
          "scatterternary": [
           {
            "marker": {
             "colorbar": {
              "outlinewidth": 0,
              "ticks": ""
             }
            },
            "type": "scatterternary"
           }
          ],
          "surface": [
           {
            "colorbar": {
             "outlinewidth": 0,
             "ticks": ""
            },
            "colorscale": [
             [
              0,
              "#0d0887"
             ],
             [
              0.1111111111111111,
              "#46039f"
             ],
             [
              0.2222222222222222,
              "#7201a8"
             ],
             [
              0.3333333333333333,
              "#9c179e"
             ],
             [
              0.4444444444444444,
              "#bd3786"
             ],
             [
              0.5555555555555556,
              "#d8576b"
             ],
             [
              0.6666666666666666,
              "#ed7953"
             ],
             [
              0.7777777777777778,
              "#fb9f3a"
             ],
             [
              0.8888888888888888,
              "#fdca26"
             ],
             [
              1,
              "#f0f921"
             ]
            ],
            "type": "surface"
           }
          ],
          "table": [
           {
            "cells": {
             "fill": {
              "color": "#EBF0F8"
             },
             "line": {
              "color": "white"
             }
            },
            "header": {
             "fill": {
              "color": "#C8D4E3"
             },
             "line": {
              "color": "white"
             }
            },
            "type": "table"
           }
          ]
         },
         "layout": {
          "annotationdefaults": {
           "arrowcolor": "#2a3f5f",
           "arrowhead": 0,
           "arrowwidth": 1
          },
          "autotypenumbers": "strict",
          "coloraxis": {
           "colorbar": {
            "outlinewidth": 0,
            "ticks": ""
           }
          },
          "colorscale": {
           "diverging": [
            [
             0,
             "#8e0152"
            ],
            [
             0.1,
             "#c51b7d"
            ],
            [
             0.2,
             "#de77ae"
            ],
            [
             0.3,
             "#f1b6da"
            ],
            [
             0.4,
             "#fde0ef"
            ],
            [
             0.5,
             "#f7f7f7"
            ],
            [
             0.6,
             "#e6f5d0"
            ],
            [
             0.7,
             "#b8e186"
            ],
            [
             0.8,
             "#7fbc41"
            ],
            [
             0.9,
             "#4d9221"
            ],
            [
             1,
             "#276419"
            ]
           ],
           "sequential": [
            [
             0,
             "#0d0887"
            ],
            [
             0.1111111111111111,
             "#46039f"
            ],
            [
             0.2222222222222222,
             "#7201a8"
            ],
            [
             0.3333333333333333,
             "#9c179e"
            ],
            [
             0.4444444444444444,
             "#bd3786"
            ],
            [
             0.5555555555555556,
             "#d8576b"
            ],
            [
             0.6666666666666666,
             "#ed7953"
            ],
            [
             0.7777777777777778,
             "#fb9f3a"
            ],
            [
             0.8888888888888888,
             "#fdca26"
            ],
            [
             1,
             "#f0f921"
            ]
           ],
           "sequentialminus": [
            [
             0,
             "#0d0887"
            ],
            [
             0.1111111111111111,
             "#46039f"
            ],
            [
             0.2222222222222222,
             "#7201a8"
            ],
            [
             0.3333333333333333,
             "#9c179e"
            ],
            [
             0.4444444444444444,
             "#bd3786"
            ],
            [
             0.5555555555555556,
             "#d8576b"
            ],
            [
             0.6666666666666666,
             "#ed7953"
            ],
            [
             0.7777777777777778,
             "#fb9f3a"
            ],
            [
             0.8888888888888888,
             "#fdca26"
            ],
            [
             1,
             "#f0f921"
            ]
           ]
          },
          "colorway": [
           "#636efa",
           "#EF553B",
           "#00cc96",
           "#ab63fa",
           "#FFA15A",
           "#19d3f3",
           "#FF6692",
           "#B6E880",
           "#FF97FF",
           "#FECB52"
          ],
          "font": {
           "color": "#2a3f5f"
          },
          "geo": {
           "bgcolor": "white",
           "lakecolor": "white",
           "landcolor": "#E5ECF6",
           "showlakes": true,
           "showland": true,
           "subunitcolor": "white"
          },
          "hoverlabel": {
           "align": "left"
          },
          "hovermode": "closest",
          "mapbox": {
           "style": "light"
          },
          "paper_bgcolor": "white",
          "plot_bgcolor": "#E5ECF6",
          "polar": {
           "angularaxis": {
            "gridcolor": "white",
            "linecolor": "white",
            "ticks": ""
           },
           "bgcolor": "#E5ECF6",
           "radialaxis": {
            "gridcolor": "white",
            "linecolor": "white",
            "ticks": ""
           }
          },
          "scene": {
           "xaxis": {
            "backgroundcolor": "#E5ECF6",
            "gridcolor": "white",
            "gridwidth": 2,
            "linecolor": "white",
            "showbackground": true,
            "ticks": "",
            "zerolinecolor": "white"
           },
           "yaxis": {
            "backgroundcolor": "#E5ECF6",
            "gridcolor": "white",
            "gridwidth": 2,
            "linecolor": "white",
            "showbackground": true,
            "ticks": "",
            "zerolinecolor": "white"
           },
           "zaxis": {
            "backgroundcolor": "#E5ECF6",
            "gridcolor": "white",
            "gridwidth": 2,
            "linecolor": "white",
            "showbackground": true,
            "ticks": "",
            "zerolinecolor": "white"
           }
          },
          "shapedefaults": {
           "line": {
            "color": "#2a3f5f"
           }
          },
          "ternary": {
           "aaxis": {
            "gridcolor": "white",
            "linecolor": "white",
            "ticks": ""
           },
           "baxis": {
            "gridcolor": "white",
            "linecolor": "white",
            "ticks": ""
           },
           "bgcolor": "#E5ECF6",
           "caxis": {
            "gridcolor": "white",
            "linecolor": "white",
            "ticks": ""
           }
          },
          "title": {
           "x": 0.05
          },
          "xaxis": {
           "automargin": true,
           "gridcolor": "white",
           "linecolor": "white",
           "ticks": "",
           "title": {
            "standoff": 15
           },
           "zerolinecolor": "white",
           "zerolinewidth": 2
          },
          "yaxis": {
           "automargin": true,
           "gridcolor": "white",
           "linecolor": "white",
           "ticks": "",
           "title": {
            "standoff": 15
           },
           "zerolinecolor": "white",
           "zerolinewidth": 2
          }
         }
        },
        "title": {
         "text": "Efficient Frontier"
        },
        "xaxis": {
         "title": {
          "text": "Volatility"
         }
        },
        "yaxis": {
         "title": {
          "text": "Return"
         }
        }
       }
      }
     },
     "metadata": {},
     "output_type": "display_data"
    }
   ],
   "source": [
    "\n",
    "# Call the markowitz_optimization_for_target_return function\n",
    "target_return = 0.004\n",
    "optimal_weights_target, optimal_risk_target, optimal_return = portfolio_optimizer1.markowitz_optimization_for_target_return( target_return)\n",
    "print(f\"Markowitz Optimization for Target Return {target_return} Results:\")\n",
    "print(\"Optimal Weights:\" )\n",
    "for i in range(len(stocks)):\n",
    "    we = optimal_weights_target[i] * 100 \n",
    "    we = round(we , 2)\n",
    "    print(stocks[i] , \":\" , we ) \n",
    "print(\"Optimal Risk:\", round(optimal_risk_target * 100 , 2 ) , \"%\")\n",
    "print(\"Optimal Return:\", round(optimal_return * 100 , 2 ) , \"%\" ) \n",
    "portfolio_optimizer1.plot_efficient_frontier_for_given_target_return( target_return )"
   ]
  },
  {
   "cell_type": "code",
   "execution_count": 18,
   "id": "a5c845d0-1125-4f55-bba9-def3996a80fe",
   "metadata": {},
   "outputs": [],
   "source": [
    "# portfolio_optimizer1.plot_efficient_frontier_for_given_risk_tolerance_levels(  0.003 , 0.01 )"
   ]
  },
  {
   "cell_type": "code",
   "execution_count": 19,
   "id": "37cf4a38-2f77-4efa-82e7-402592d5feb3",
   "metadata": {},
   "outputs": [
    {
     "name": "stdout",
     "output_type": "stream",
     "text": [
      "For risk :  0.006\n",
      "Expected Return :  0.08 %\n",
      "Optimal Weights  \n",
      "AAPL  :  15.8\n",
      "MSFT  :  2.04\n",
      "GOOGL  :  32.77\n",
      "AMZN  :  3.41\n",
      "CSCO  :  13.72\n",
      "TSLA  :  15.29\n",
      "NVDA  :  7.77\n",
      "JPM  :  10.54\n",
      "GS  :  -0.35\n",
      "NFLX  :  -0.98\n",
      "------------------------------------\n",
      "For risk :  0.01\n",
      "Expected Return :  0.35 %\n",
      "Optimal Weights \n",
      "AAPL  :  38.14\n",
      "MSFT  :  -6.44\n",
      "GOOGL  :  -7.29\n",
      "AMZN  :  22.5\n",
      "CSCO  :  38.61\n",
      "TSLA  :  18.04\n",
      "NVDA  :  -8.11\n",
      "JPM  :  -0.9\n",
      "GS  :  8.28\n",
      "NFLX  :  -2.83\n"
     ]
    }
   ],
   "source": [
    "weights , expected_return = portfolio_optimizer1.markowitz_optimization_max_return( 0.006) \n",
    "print(\"For risk : \" , 0.006 ) \n",
    "print(\"Expected Return : \" , round(expected_return * 100 , 2 )  , \"%\" )\n",
    "print(\"Optimal Weights  \"  )  \n",
    "for i in range(len(stocks)):\n",
    "    print(stocks[i] , \" : \" , round(weights[i] *100  , 2 ) ) \n",
    "print(\"------------------------------------\" ) \n",
    "weights , expected_return = portfolio_optimizer1.markowitz_optimization_max_return( 0.01) \n",
    "print(\"For risk : \" , 0.01) \n",
    "print(\"Expected Return : \" , round(expected_return * 100 , 2)  , \"%\" )\n",
    "print(\"Optimal Weights \" )  \n",
    "for i in range(len(stocks)):\n",
    "    print(stocks[i] , \" : \" , round(weights[i] * 100 , 2 )  ) "
   ]
  },
  {
   "cell_type": "markdown",
   "id": "3879bf90-0c95-44ff-8b2a-010eb8a644c4",
   "metadata": {},
   "source": [
    "# Without Short Selling "
   ]
  },
  {
   "cell_type": "code",
   "execution_count": 20,
   "id": "377c8f9b-a625-4cb0-8dea-150403a167da",
   "metadata": {},
   "outputs": [],
   "source": [
    "\n",
    "class PortfolioOptimizer:\n",
    "    def __init__(self , prices ):\n",
    "        self.prices = prices \n",
    "        self.returns = prices.pct_change().dropna()\n",
    "        self.risks = prices.pct_change().dropna().std()\n",
    "        self.optimal_return = None\n",
    "        \n",
    "    def markowitz_optimization(self):\n",
    "        returns = self.returns\n",
    "        num_assets = len(returns.columns)\n",
    "        returns_mean = returns.mean()\n",
    "        cov_matrix = returns.cov()\n",
    "        optimal_return = None\n",
    "\n",
    "        # Define optimization function\n",
    "        def portfolio_return(weights):\n",
    "            return -np.dot(weights, returns_mean)\n",
    "\n",
    "        def portfolio_variance(weights):\n",
    "            return np.sqrt(np.dot(weights.T, np.dot(cov_matrix, weights)))\n",
    "\n",
    "        # Define constraints and bounds for optimization\n",
    "        constraints = ({'type': 'eq', 'fun': lambda x: np.sum(x) - 1})\n",
    "        bounds = tuple((0,1) for asset in range(num_assets))\n",
    "\n",
    "        # Initial guess (equal weighting)\n",
    "        initial_guess = np.array(num_assets * [1. / num_assets,])\n",
    "\n",
    "        # Perform optimization\n",
    "        optimal_weights = minimize(portfolio_variance, initial_guess, method='SLSQP', bounds=bounds, constraints=constraints)\n",
    "        optimal_risk = portfolio_variance(optimal_weights.x)\n",
    "        optimal_return = -portfolio_return(optimal_weights.x)\n",
    "        self.optimal_return = optimal_return\n",
    "        return optimal_weights.x, optimal_risk, optimal_return\n",
    "\n",
    "    def markowitz_optimization_for_target_return(self, target_return):\n",
    "        returns = self.returns\n",
    "        num_assets = len(returns.columns)\n",
    "        returns_mean = returns.mean()\n",
    "        cov_matrix = returns.cov()\n",
    "\n",
    "        # Define optimization function\n",
    "        def portfolio_variance(weights):\n",
    "            return np.sqrt(np.dot(weights.T, np.dot(cov_matrix, weights)))\n",
    "\n",
    "        # Define constraints and bounds for optimization\n",
    "        constraints = ({'type': 'eq', 'fun': lambda x: np.sum(x) - 1},\n",
    "                       {'type': 'eq', 'fun': lambda x: np.dot(x, returns_mean) - target_return})\n",
    "        bounds = tuple((0,1) for asset in range(num_assets))\n",
    "\n",
    "        # Initial guess (equal weighting)\n",
    "        initial_guess = np.array(num_assets * [1. / num_assets,])\n",
    "\n",
    "        # Perform optimization\n",
    "        optimal_weights = minimize(portfolio_variance, initial_guess, method='SLSQP', bounds=bounds, constraints=constraints)\n",
    "        optimal_risk = portfolio_variance(optimal_weights.x)\n",
    "        return optimal_weights.x, optimal_risk, target_return\n",
    "\n",
    "    def plot_efficient_frontier_(self):\n",
    "        returns = self.returns \n",
    "        min_return = returns.mean().min()\n",
    "        max_return = returns.mean().max()\n",
    "        targets = np.linspace(min_return, max_return, 100)\n",
    "        weights = []\n",
    "        risks = []\n",
    "        return_ = []\n",
    "\n",
    "        for i in range(len(targets)):\n",
    "            w, ri, re = self.markowitz_optimization_for_target_return( targets[i])\n",
    "            weights.append(w)\n",
    "            risks.append(ri)\n",
    "            return_.append(re)\n",
    "        plt.figure(figsize=(20, 5))\n",
    "        plt.plot(risks, return_)\n",
    "        plt.show()\n",
    "\n",
    "    def plot_efficient_frontier_parabola(self):\n",
    "        returns = self.returns \n",
    "        min_return = returns.mean().min()\n",
    "        max_return = returns.mean().max()\n",
    "        targets = np.linspace(min_return, max_return, 100)\n",
    "        weights = []\n",
    "        risks = []\n",
    "        return_ = []\n",
    "\n",
    "        for i in range(len(targets)):\n",
    "            w, ri, re = self.markowitz_optimization_for_target_return( targets[i])\n",
    "            weights.append(w)\n",
    "            risks.append(ri)\n",
    "            return_.append(re)\n",
    "\n",
    "        # Create trace for the efficient frontier\n",
    "        efficient_frontier_trace = go.Scatter(\n",
    "            x=risks,\n",
    "            y=return_,\n",
    "            mode='lines',\n",
    "            name='Efficient Frontier'\n",
    "        )\n",
    "\n",
    "        # Create a list of points for hover text\n",
    "        hover_text = []\n",
    "        for i in range(len(risks)):\n",
    "            hover_text.append(\n",
    "                f'Risks: {risks[i]:.4f}<br>Weights: {weights[i]}<br>Return: {return_[i]:.4f}')\n",
    "\n",
    "        # Create trace for individual points with hover text\n",
    "        efficient_frontier_points_trace = go.Scatter(\n",
    "            x=risks,\n",
    "            y=return_,\n",
    "            mode='markers',\n",
    "            name='Efficient Frontier Points',\n",
    "            text=hover_text,\n",
    "            hoverinfo='text'\n",
    "        )\n",
    "\n",
    "        # Create layout\n",
    "        layout = go.Layout(\n",
    "            title='Efficient Frontier',\n",
    "            xaxis=dict(title='Volatility'),\n",
    "            yaxis=dict(title='Return')\n",
    "        )\n",
    "\n",
    "        # Create figure\n",
    "        fig = go.Figure(data=[efficient_frontier_trace,\n",
    "                              efficient_frontier_points_trace], layout=layout)\n",
    "\n",
    "        # Show plot\n",
    "        fig.show()\n",
    "\n",
    "    def plot_efficient_frontier(self):\n",
    "        returns = self.returns\n",
    "        # min_return = returns.mean().min()\n",
    "        min_return = self.optimal_return\n",
    "        max_return = returns.mean().max()\n",
    "        targets = np.linspace(min_return, max_return, 75)\n",
    "        weights = []\n",
    "        risks = []\n",
    "        return_ = []\n",
    "\n",
    "        for i in range(len(targets)):\n",
    "            w, ri, re = self.markowitz_optimization_for_target_return( targets[i])\n",
    "            weights.append(w)\n",
    "            risks.append(ri) # store thr\n",
    "            return_.append(re)\n",
    "\n",
    "        # Create trace for the efficient frontier\n",
    "        efficient_frontier_trace = go.Scatter(\n",
    "            x=risks,\n",
    "            y=return_,\n",
    "            mode='lines',\n",
    "            name='Efficient Frontier'\n",
    "        )\n",
    "\n",
    "        # Create a list of points for hover text\n",
    "        hover_text = []\n",
    "        for i in range(len(risks)):\n",
    "            hover_text.append(\n",
    "                f'Risks: {risks[i]:.4f}<br>Weights: {weights[i]}<br>Return: {return_[i]:.4f}')\n",
    "\n",
    "        # Create trace for individual points with hover text\n",
    "        efficient_frontier_points_trace = go.Scatter(\n",
    "            x=risks,\n",
    "            y=return_,\n",
    "            mode='markers',\n",
    "            name='Efficient Frontier Points',\n",
    "            text=hover_text,\n",
    "            hoverinfo='text'\n",
    "        )\n",
    "\n",
    "        # Create layout\n",
    "        layout = go.Layout(\n",
    "            title='Efficient Frontier',\n",
    "            xaxis=dict(title='Volatility'),\n",
    "            yaxis=dict(title='Return')\n",
    "        )\n",
    "\n",
    "        # Create figure\n",
    "        fig = go.Figure(data=[efficient_frontier_trace,\n",
    "                              efficient_frontier_points_trace], layout=layout)\n",
    "\n",
    "        # Show plot\n",
    "        fig.show()\n",
    "        \n",
    "    def plot_efficient_frontier_for_given_risk_tolerance_levels(self,  risk_tolerance1, risk_tolerance2):\n",
    "        returns = self.returns\n",
    "        min_return = self.optimal_return\n",
    "        max_return = returns.mean().max()\n",
    "        targets = np.linspace(min_return, max_return, 60 )\n",
    "        weights = []\n",
    "        risks = []\n",
    "        return_ = []\n",
    "        \n",
    "        for i in range(len(targets)):\n",
    "            w, ri, re = self.markowitz_optimization_for_target_return( targets[i])\n",
    "            weights.append(w)\n",
    "            risks.append(ri)\n",
    "            return_.append(re)\n",
    "        # print(risks)\n",
    "        closest_risk1 = risk_tolerance1\n",
    "        closest_risk2 = risk_tolerance2\n",
    "\n",
    "        for i in range(len(risks) - 1):\n",
    "            if(risks[i] <= risk_tolerance1 <= risks[i+1]):\n",
    "                closest_risk1 = risks[i] if risk_tolerance1 - risks[i] < risks[i+1] - risk_tolerance1 else risks[i+1]\n",
    "            if(risks[i] <= risk_tolerance2 <= risks[i+1]):\n",
    "                closest_risk2 = risks[i] if risk_tolerance2 - risks[i] < risks[i+1] - risk_tolerance2 else risks[i+1]\n",
    "        # print(closest_risk1 , closest_risk2)\n",
    "        # Create trace for the efficient frontier\n",
    "        efficient_frontier_trace = go.Scatter(\n",
    "            x=risks,\n",
    "            y=return_,\n",
    "            mode='lines',\n",
    "            name='Efficient Frontier'\n",
    "        )\n",
    "\n",
    "        # Create a list of points for hover text\n",
    "        hover_text = []\n",
    "        for i in range(len(risks)):\n",
    "            hover_text.append(\n",
    "                f'Risks: {risks[i]:.4f}<br>Weights: {weights[i]}<br>Return: {return_[i]:.4f}')\n",
    "\n",
    "        # Create trace for individual points with hover text\n",
    "        efficient_frontier_points_trace = go.Scatter(\n",
    "            x=risks,\n",
    "            y=return_,\n",
    "            mode='markers',\n",
    "            name='Efficient Frontier Points',\n",
    "            text=hover_text,\n",
    "            hoverinfo='text'\n",
    "        )\n",
    "\n",
    "        # Highlight closest risk tolerance levels\n",
    "        closest_risk1_index = risks.index(closest_risk1)\n",
    "        closest_risk2_index = risks.index(closest_risk2)\n",
    "\n",
    "        # Create trace for closest risk tolerance levels\n",
    "        closest_risk1_trace = go.Scatter(\n",
    "            x=[risks[closest_risk1_index]],\n",
    "            y=[return_[closest_risk1_index]],\n",
    "            mode='markers',\n",
    "            marker=dict(symbol='star', color='purple', size=15),\n",
    "            name=f'Risk Tolerance {risk_tolerance1}'\n",
    "        )\n",
    "\n",
    "        closest_risk2_trace = go.Scatter(\n",
    "            x=[risks[closest_risk2_index]],\n",
    "            y=[return_[closest_risk2_index]],\n",
    "            mode='markers',\n",
    "            marker=dict(symbol='star', color='black', size=15),\n",
    "            name=f'Risk Tolerance {risk_tolerance2}'\n",
    "        )\n",
    "\n",
    "        # Create layout\n",
    "        layout = go.Layout(\n",
    "            title='Efficient Frontier',\n",
    "            xaxis=dict(title='Volatility'),\n",
    "            yaxis=dict(title='Return')\n",
    "        )\n",
    "\n",
    "        # Create figure\n",
    "        fig = go.Figure(data=[efficient_frontier_trace, efficient_frontier_points_trace, closest_risk1_trace, closest_risk2_trace], layout=layout)\n",
    "\n",
    "        # Show plot\n",
    "        fig.show() \n",
    "    def markowitz_optimization_max_return(self , target_risk):\n",
    "        returns = self.returns\n",
    "        num_assets = len(returns.columns)\n",
    "        returns_mean = returns.mean()\n",
    "        cov_matrix = returns.cov()\n",
    "    \n",
    "        # Define optimization function (negative of portfolio return to convert maximization to minimization)\n",
    "        def negative_portfolio_return(weights):\n",
    "            return -np.dot(weights, returns_mean)\n",
    "    \n",
    "        # Define constraints and bounds for optimization\n",
    "        constraints = ({'type': 'eq', 'fun': lambda x: np.sum(x) - 1},\n",
    "                       {'type': 'eq', 'fun': lambda x: np.sqrt(np.dot(x.T, np.dot(cov_matrix, x))) - target_risk})\n",
    "        bounds = tuple((0,1) for asset in range(num_assets))\n",
    "    \n",
    "        initial_guess = np.array(num_assets * [1. / num_assets,])\n",
    "    \n",
    "        # Perform optimization\n",
    "        optimal_weights = minimize(negative_portfolio_return, initial_guess, method='SLSQP', bounds=bounds, constraints=constraints)\n",
    "        # optimal_risk = np.sqrt(np.dot(optimal_weights.x.T, np.dot(cov_matrix, optimal_weights.x)))\n",
    "        optimal_return = -negative_portfolio_return(optimal_weights.x)\n",
    "        \n",
    "        return optimal_weights.x, optimal_return\n",
    "    def plot_efficient_frontier_for_given_target_return(self,  target_return ):\n",
    "        returns = self.returns\n",
    "        min_return = self.optimal_return\n",
    "        max_return = returns.mean().max()\n",
    "        targets = np.linspace(min_return, max_return, 60 )\n",
    "        weights = []\n",
    "        risks = []\n",
    "        return_ = []\n",
    "        # print(min_return , max_return )\n",
    "        for i in range(len(targets)):\n",
    "            w, ri, re = self.markowitz_optimization_for_target_return( targets[i])\n",
    "            weights.append(w)\n",
    "            risks.append(ri)\n",
    "            return_.append(re)\n",
    "        # print(risks)\n",
    "        closest_target = target_return\n",
    "\n",
    "        for i in range(len(return_) - 1):\n",
    "            if(return_[i] <= target_return <= return_[i+1]):\n",
    "                if target_return - return_[i] < return_[i+1] - target_return :\n",
    "                    closest_target = return_[i]\n",
    "                else:\n",
    "                    closest_target = return_[i+1]\n",
    "        # print(closest_target)\n",
    "        # print(closest_risk1 , closest_risk2)\n",
    "        # Create trace for the efficient frontier\n",
    "        efficient_frontier_trace = go.Scatter(\n",
    "            x=risks,\n",
    "            y=return_,\n",
    "            mode='lines',\n",
    "            name='Efficient Frontier'\n",
    "        )\n",
    "\n",
    "        # Create a list of points for hover text\n",
    "        hover_text = []\n",
    "        for i in range(len(risks)):\n",
    "            hover_text.append(\n",
    "                f'Risks: {risks[i]:.4f}<br>Weights: {weights[i]}<br>Return: {return_[i]:.4f}')\n",
    "\n",
    "        # Create trace for individual points with hover text\n",
    "        efficient_frontier_points_trace = go.Scatter(\n",
    "            x=risks,\n",
    "            y=return_,\n",
    "            mode='markers',\n",
    "            name='Efficient Frontier Points',\n",
    "            text=hover_text,\n",
    "            hoverinfo='text'\n",
    "        )\n",
    "\n",
    "\n",
    "        closest_target_index = return_.index(closest_target) \n",
    "        closest_target_trace = go.Scatter(\n",
    "            x = [risks[closest_target_index]] , \n",
    "            y = [return_[closest_target_index]] , \n",
    "            mode = 'markers' , \n",
    "            marker=dict(symbol='star', color='purple', size=15),\n",
    "            name=f'Target Return  {target_return }'\n",
    "            \n",
    "        )\n",
    "        \n",
    "        # Create layout\n",
    "        layout = go.Layout(\n",
    "            title='Efficient Frontier',\n",
    "            xaxis=dict(title='Volatility'),\n",
    "            yaxis=dict(title='Return')\n",
    "        )\n",
    "\n",
    "        # Create figure\n",
    "        fig = go.Figure(data=[efficient_frontier_trace, efficient_frontier_points_trace , closest_target_trace ], layout=layout)\n",
    "\n",
    "        # Show plot\n",
    "        fig.show() \n",
    "\n"
   ]
  },
  {
   "cell_type": "code",
   "execution_count": 21,
   "id": "695e43b1-dbfd-40ac-a820-461caab365aa",
   "metadata": {},
   "outputs": [
    {
     "name": "stdout",
     "output_type": "stream",
     "text": [
      "Markowitz Optimization Results:\n",
      "Optimal Weights:\n",
      "AAPL : 17.02\n",
      "MSFT : 5.07\n",
      "GOOGL : 28.86\n",
      "AMZN : 1.51\n",
      "CSCO : 13.19\n",
      "TSLA : 16.32\n",
      "NVDA : 8.41\n",
      "JPM : 9.63\n",
      "GS : 0.0\n",
      "NFLX : 0.0\n",
      "Optimal Risk: 0.77 %\n",
      "Optimal Return: 0.09 %\n"
     ]
    }
   ],
   "source": [
    "portfolio_optimizer2 = PortfolioOptimizer(prices)\n",
    "\n",
    "# Call the markowitz_optimization function\n",
    "optimal_weights, optimal_risk, optimal_return = portfolio_optimizer2.markowitz_optimization()\n",
    "print(\"Markowitz Optimization Results:\")\n",
    "print(\"Optimal Weights:\")\n",
    "for i in range(len(stocks)):\n",
    "    we = optimal_weights[i] * 100 \n",
    "    we = round(we , 2)\n",
    "    print(stocks[i] , \":\" , we ) \n",
    "print(\"Optimal Risk:\", round(optimal_risk * 100 , 2 ) , \"%\")\n",
    "print(\"Optimal Return:\", round(optimal_return * 100 , 2 ) , \"%\" ) "
   ]
  },
  {
   "cell_type": "code",
   "execution_count": 22,
   "id": "e4590027-2769-47fc-8ef3-6cebee70b3f0",
   "metadata": {},
   "outputs": [
    {
     "data": {
      "application/vnd.plotly.v1+json": {
       "config": {
        "plotlyServerURL": "https://plot.ly"
       },
       "data": [
        {
         "mode": "lines",
         "name": "Efficient Frontier",
         "type": "scatter",
         "x": [
          0.010944051383164146,
          0.010593478116113558,
          0.010276795502694626,
          0.009997224798787275,
          0.009756761474787023,
          0.009541720833399376,
          0.00934789494255209,
          0.009181412891987635,
          0.00901448891441933,
          0.008861316755480396,
          0.008715368505801648,
          0.008595424900215802,
          0.008480621889875289,
          0.008378347636662491,
          0.008284515604217571,
          0.008201024630248596,
          0.008129660130779844,
          0.00805514912777936,
          0.007992696870490222,
          0.007937259081996124,
          0.007887602300677282,
          0.007844562044780871,
          0.007808449896766378,
          0.0077779178103070945,
          0.007753946539096342,
          0.007737285817321074,
          0.007723673637711648,
          0.007718869509378764,
          0.007714637413347425,
          0.0077155141645938756,
          0.0077051140167840315,
          0.007717364114622218,
          0.007732057427792447,
          0.0077488823145022605,
          0.007769871839762876,
          0.007817318899128975,
          0.00782456331986613,
          0.007858366192881784,
          0.007895310981405156,
          0.007936746268966625,
          0.007982511748245864,
          0.008031193367210046,
          0.008108405776149363,
          0.008164993789441577,
          0.008225270335853796,
          0.008267143309202514,
          0.008335592649251057,
          0.008425444544136582,
          0.008496255839428212,
          0.008581047900975395,
          0.008648246965554196,
          0.008737012053316463,
          0.00882902922272653,
          0.008923939391584356,
          0.00901984018954151,
          0.009116284828904461,
          0.009235520517730477,
          0.009363150649120872,
          0.009507052646725958,
          0.009672027074943284,
          0.009842351594678922,
          0.010038530726811353,
          0.010251877541304721,
          0.01049504733976648,
          0.010766818967788888,
          0.011062853804081788,
          0.011381249717575254,
          0.01172138377069328,
          0.012087591641858617,
          0.012478040887470844,
          0.012884689596954439,
          0.013299600017822794,
          0.013731982002191208,
          0.014175642699286289,
          0.01462881240482789,
          0.015097261323926341,
          0.015591191726261843,
          0.016110628390688674,
          0.016654244397894678,
          0.017220438502550606,
          0.017779270512643157,
          0.018364643115636334,
          0.018962370464224197,
          0.019571320939559742,
          0.0201904785994274,
          0.020818946403722408,
          0.021455873249263478,
          0.022116905708151526,
          0.022818496378877413,
          0.023557037133620767,
          0.024329163251930654,
          0.025131779389864158,
          0.025962057930103873,
          0.026817429627120016,
          0.027695569613435396,
          0.028594380307805308,
          0.029511972929417138,
          0.030446650252930616,
          0.03139688491456554,
          0.03236130814347317
         ],
         "y": [
          -0.0012807593524801191,
          -0.0012065781675635486,
          -0.0011323969826469783,
          -0.0010582157977304077,
          -0.0009840346128138374,
          -0.0009098534278972668,
          -0.0008356722429806963,
          -0.0007614910580641259,
          -0.0006873098731475554,
          -0.000613128688230985,
          -0.0005389475033144146,
          -0.00046476631839784403,
          -0.0003905851334812736,
          -0.00031640394856470317,
          -0.00024222276364813263,
          -0.0001680415787315623,
          -0.00009386039381499177,
          -0.000019679208898421225,
          0.0000545019760181491,
          0.00012868316093471964,
          0.00020286434585128996,
          0.0002770455307678605,
          0.00035122671568443104,
          0.00042540790060100137,
          0.0004995890855175719,
          0.0005737702704341425,
          0.0006479514553507128,
          0.0007221326402672831,
          0.0007963138251838539,
          0.0008704950101004242,
          0.0009446761950169945,
          0.0010188573799335653,
          0.0010930385648501356,
          0.001167219749766706,
          0.0012414009346832767,
          0.001315582119599847,
          0.0013897633045164173,
          0.001463944489432988,
          0.0015381256743495584,
          0.0016123068592661287,
          0.001686488044182699,
          0.0017606692290992698,
          0.0018348504140158401,
          0.0019090315989324104,
          0.001983212783848981,
          0.0020573939687655515,
          0.002131575153682122,
          0.0022057563385986926,
          0.002279937523515263,
          0.0023541187084318333,
          0.002428299893348404,
          0.0025024810782649743,
          0.0025766622631815447,
          0.002650843448098115,
          0.0027250246330146853,
          0.0027992058179312565,
          0.002873387002847827,
          0.002947568187764397,
          0.0030217493726809675,
          0.003095930557597538,
          0.003170111742514108,
          0.0032442929274306793,
          0.0033184741123472496,
          0.00339265529726382,
          0.0034668364821803903,
          0.0035410176670969606,
          0.003615198852013531,
          0.0036893800369301013,
          0.0037635612218466724,
          0.0038377424067632428,
          0.003911923591679813,
          0.003986104776596383,
          0.004060285961512954,
          0.004134467146429524,
          0.004208648331346095,
          0.004282829516262666,
          0.004357010701179236,
          0.004431191886095806,
          0.0045053730710123766,
          0.004579554255928947,
          0.004653735440845517,
          0.004727916625762088,
          0.004802097810678659,
          0.004876278995595229,
          0.004950460180511799,
          0.00502464136542837,
          0.00509882255034494,
          0.005173003735261511,
          0.0052471849201780815,
          0.005321366105094652,
          0.005395547290011222,
          0.0054697284749277925,
          0.005543909659844363,
          0.005618090844760934,
          0.005692272029677504,
          0.005766453214594075,
          0.005840634399510645,
          0.005914815584427215,
          0.005988996769343786,
          0.006063177954260356
         ]
        },
        {
         "hoverinfo": "text",
         "mode": "markers",
         "name": "Efficient Frontier Points",
         "text": [
          "Risks: 0.0109<br>Weights: [0.00000000e+00 1.38777878e-16 9.99999990e-01 3.60822483e-16\n 0.00000000e+00 2.49800181e-16 0.00000000e+00 8.32667268e-17\n 0.00000000e+00 9.62234206e-09]<br>Return: -0.0013",
          "Risks: 0.0106<br>Weights: [0.00000000e+00 0.00000000e+00 9.70702286e-01 0.00000000e+00\n 4.05298577e-18 0.00000000e+00 0.00000000e+00 2.92977135e-02\n 0.00000000e+00 3.01799190e-18]<br>Return: -0.0012",
          "Risks: 0.0103<br>Weights: [1.08059706e-18 0.00000000e+00 9.41404573e-01 1.02935460e-17\n 1.06917269e-18 0.00000000e+00 1.04083409e-17 5.85954270e-02\n 0.00000000e+00 0.00000000e+00]<br>Return: -0.0011",
          "Risks: 0.0100<br>Weights: [6.31828799e-19 1.52179998e-18 9.12106859e-01 0.00000000e+00\n 3.46458331e-18 2.25057670e-18 0.00000000e+00 8.78931405e-02\n 0.00000000e+00 0.00000000e+00]<br>Return: -0.0011",
          "Risks: 0.0098<br>Weights: [1.95427254e-18 0.00000000e+00 8.81170580e-01 0.00000000e+00\n 0.00000000e+00 1.03493657e-18 8.17189204e-03 1.09102789e-01\n 0.00000000e+00 1.55473942e-03]<br>Return: -0.0010",
          "Risks: 0.0095<br>Weights: [9.32136572e-20 0.00000000e+00 8.47108927e-01 2.06011298e-18\n 5.25640913e-19 0.00000000e+00 3.69666959e-02 1.12987092e-01\n 1.65659936e-18 2.93728439e-03]<br>Return: -0.0009",
          "Risks: 0.0093<br>Weights: [1.37141932e-18 1.12322652e-17 8.12987083e-01 0.00000000e+00\n 1.33225087e-18 0.00000000e+00 6.39800127e-02 1.17358971e-01\n 0.00000000e+00 5.67393293e-03]<br>Return: -0.0008",
          "Risks: 0.0092<br>Weights: [0.00000000e+00 7.11612358e-18 7.75533336e-01 0.00000000e+00\n 2.33707136e-19 3.51693997e-03 1.12348763e-01 1.00459677e-01\n 1.44863567e-18 8.14128421e-03]<br>Return: -0.0008",
          "Risks: 0.0090<br>Weights: [8.22851594e-19 6.88539498e-18 7.44427619e-01 9.85504854e-19\n 0.00000000e+00 1.81791903e-02 1.18290456e-01 1.09324472e-01\n 0.00000000e+00 9.77826307e-03]<br>Return: -0.0007",
          "Risks: 0.0089<br>Weights: [0.00000000e+00 3.68644413e-18 7.13948250e-01 0.00000000e+00\n 4.14163153e-19 3.24612217e-02 1.18832830e-01 1.22467236e-01\n 8.36424375e-19 1.22904628e-02]<br>Return: -0.0006",
          "Risks: 0.0087<br>Weights: [8.57137077e-20 0.00000000e+00 6.84261937e-01 3.77771191e-19\n 1.38012675e-18 6.50669058e-02 1.20533007e-01 1.21766218e-01\n 9.98851102e-19 8.37193245e-03]<br>Return: -0.0005",
          "Risks: 0.0086<br>Weights: [1.09713546e-18 7.03607223e-03 6.54000362e-01 1.99831364e-18\n 0.00000000e+00 7.15552119e-02 1.20395308e-01 1.36017755e-01\n 3.62219560e-19 1.09952915e-02]<br>Return: -0.0005",
          "Risks: 0.0085<br>Weights: [2.52557257e-04 9.99656973e-03 6.23717458e-01 2.27004830e-19\n 0.00000000e+00 9.49900728e-02 1.21184881e-01 1.38351934e-01\n 0.00000000e+00 1.15065276e-02]<br>Return: -0.0004",
          "Risks: 0.0084<br>Weights: [9.48389336e-03 1.27671404e-02 5.98134242e-01 0.00000000e+00\n 1.28749008e-18 1.13195580e-01 1.20637671e-01 1.37015096e-01\n 0.00000000e+00 8.76637733e-03]<br>Return: -0.0003",
          "Risks: 0.0083<br>Weights: [2.73381033e-02 1.69087052e-02 5.76634878e-01 0.00000000e+00\n 4.44522891e-18 1.26347934e-01 1.19963627e-01 1.28985385e-01\n 0.00000000e+00 3.82136835e-03]<br>Return: -0.0002",
          "Risks: 0.0082<br>Weights: [0.04317691 0.02487731 0.553331   0.         0.         0.13724678\n 0.12107135 0.11837012 0.         0.00192653]<br>Return: -0.0002",
          "Risks: 0.0081<br>Weights: [5.34748047e-02 3.21926406e-02 5.32073110e-01 0.00000000e+00\n 6.69941568e-03 1.45865237e-01 1.21897665e-01 1.07388455e-01\n 2.98155597e-19 4.08672725e-04]<br>Return: -0.0001",
          "Risks: 0.0081<br>Weights: [6.64811338e-02 3.14942091e-02 5.09169362e-01 4.33680869e-19\n 8.54276086e-03 1.45168729e-01 1.21778795e-01 1.17365011e-01\n 0.00000000e+00 2.16840434e-19]<br>Return: -0.0000",
          "Risks: 0.0080<br>Weights: [7.77224617e-02 3.38830386e-02 4.89023295e-01 0.00000000e+00\n 1.59830085e-02 1.49149492e-01 1.19903910e-01 1.14334793e-01\n 0.00000000e+00 4.33680869e-19]<br>Return: 0.0001",
          "Risks: 0.0079<br>Weights: [8.73770630e-02 3.83020342e-02 4.68041479e-01 1.08420217e-18\n 2.33583391e-02 1.52972887e-01 1.18971245e-01 1.10976953e-01\n 0.00000000e+00 2.16840434e-18]<br>Return: 0.0001",
          "Risks: 0.0079<br>Weights: [9.68861842e-02 4.02748849e-02 4.48571858e-01 0.00000000e+00\n 3.27525418e-02 1.56259973e-01 1.16407317e-01 1.08847241e-01\n 6.50521303e-19 0.00000000e+00]<br>Return: 0.0002",
          "Risks: 0.0078<br>Weights: [1.06438761e-01 4.19176402e-02 4.29289540e-01 6.50521303e-19\n 4.23470241e-02 1.59317614e-01 1.13634545e-01 1.07054876e-01\n 2.16840434e-19 2.81892565e-18]<br>Return: 0.0003",
          "Risks: 0.0078<br>Weights: [1.14940303e-01 4.50714032e-02 4.09315563e-01 1.08420217e-19\n 5.17151415e-02 1.62164949e-01 1.11645107e-01 1.05147533e-01\n 0.00000000e+00 4.33680869e-19]<br>Return: 0.0004",
          "Risks: 0.0078<br>Weights: [1.22823077e-01 4.78227224e-02 3.90805296e-01 2.38524478e-18\n 6.35719938e-02 1.62531505e-01 1.09237541e-01 1.03207864e-01\n 0.00000000e+00 2.87313576e-18]<br>Return: 0.0004",
          "Risks: 0.0078<br>Weights: [1.31764345e-01 4.90445140e-02 3.73186872e-01 1.08420217e-18\n 7.59552831e-02 1.63422433e-01 1.05913798e-01 1.00712755e-01\n 0.00000000e+00 3.25260652e-19]<br>Return: 0.0005",
          "Risks: 0.0077<br>Weights: [1.40159139e-01 5.16153614e-02 3.54724836e-01 1.19262239e-18\n 8.75771470e-02 1.64477913e-01 1.03412840e-01 9.80327631e-02\n 0.00000000e+00 8.67361738e-19]<br>Return: 0.0006",
          "Risks: 0.0077<br>Weights: [1.48592850e-01 4.88548263e-02 3.42394934e-01 6.70229404e-03\n 9.63356293e-02 1.62595528e-01 9.80056961e-02 9.65182417e-02\n 4.33680869e-19 0.00000000e+00]<br>Return: 0.0006",
          "Risks: 0.0077<br>Weights: [1.55953033e-01 5.19522509e-02 3.22986350e-01 6.50903453e-03\n 1.07615431e-01 1.64335680e-01 9.60702969e-02 9.45779234e-02\n 0.00000000e+00 2.60208521e-18]<br>Return: 0.0007",
          "Risks: 0.0077<br>Weights: [1.61653563e-01 4.99104843e-02 3.09149357e-01 1.30441201e-02\n 1.16296324e-01 1.64842284e-01 9.14137520e-02 9.36901164e-02\n 0.00000000e+00 3.04931861e-18]<br>Return: 0.0008",
          "Risks: 0.0077<br>Weights: [1.66867679e-01 4.80248496e-02 2.95768089e-01 1.89995518e-02\n 1.24651193e-01 1.65546037e-01 8.69527605e-02 9.23915881e-02\n 7.98252046e-04 8.67361738e-19]<br>Return: 0.0009",
          "Risks: 0.0077<br>Weights: [1.57927527e-01 2.60756073e-02 3.06016319e-01 4.77511739e-02\n 1.41010816e-01 1.52557389e-01 7.14422596e-02 9.72189074e-02\n 0.00000000e+00 1.30104261e-18]<br>Return: 0.0009",
          "Risks: 0.0077<br>Weights: [1.74536105e-01 2.64169451e-02 2.88102423e-01 4.87985406e-02\n 1.46101790e-01 1.55030931e-01 6.71255260e-02 9.38877400e-02\n 2.16840434e-19 1.08420217e-19]<br>Return: 0.0010",
          "Risks: 0.0077<br>Weights: [1.83290856e-01 2.28487198e-02 2.76985537e-01 5.41159974e-02\n 1.54161363e-01 1.56078631e-01 6.11805332e-02 8.97460576e-02\n 1.59230486e-03 3.57786717e-18]<br>Return: 0.0011",
          "Risks: 0.0077<br>Weights: [0.18577315 0.02212552 0.26575307 0.06158167 0.16012492 0.15395896\n 0.05781912 0.08880726 0.00405633 0.        ]<br>Return: 0.0012",
          "Risks: 0.0078<br>Weights: [1.92301116e-01 1.76608253e-02 2.56567247e-01 6.66861762e-02\n 1.68368102e-01 1.54164186e-01 5.15651570e-02 8.55505694e-02\n 7.13662144e-03 1.84314369e-18]<br>Return: 0.0012",
          "Risks: 0.0078<br>Weights: [1.89621355e-01 3.86610238e-02 2.22846041e-01 4.67198831e-02\n 1.72871670e-01 1.76767201e-01 6.37397378e-02 7.19281040e-02\n 1.68449842e-02 1.28749008e-18]<br>Return: 0.0013",
          "Risks: 0.0078<br>Weights: [2.03595969e-01 9.79949710e-03 2.37461797e-01 7.96385341e-02\n 1.83740269e-01 1.52444413e-01 3.96250865e-02 8.16020729e-02\n 1.20923611e-02 3.46944695e-18]<br>Return: 0.0014",
          "Risks: 0.0079<br>Weights: [2.10076996e-01 6.40517376e-03 2.26895076e-01 8.48260245e-02\n 1.91410979e-01 1.52158464e-01 3.40434483e-02 7.95323373e-02\n 1.46515011e-02 3.42201311e-19]<br>Return: 0.0015",
          "Risks: 0.0079<br>Weights: [0.21269067 0.00532936 0.21525065 0.09234371 0.19934141 0.15252438\n 0.03034748 0.07596188 0.01621047 0.        ]<br>Return: 0.0015",
          "Risks: 0.0079<br>Weights: [0.21809358 0.00266982 0.20434164 0.09830292 0.2069475  0.15240974\n 0.02537662 0.07340663 0.01845154 0.        ]<br>Return: 0.0016",
          "Risks: 0.0080<br>Weights: [2.25161238e-01 0.00000000e+00 1.92951671e-01 1.02612284e-01\n 2.14011448e-01 1.52448870e-01 2.02480075e-02 7.13609659e-02\n 2.12055142e-02 1.30104261e-18]<br>Return: 0.0017",
          "Risks: 0.0080<br>Weights: [0.22726847 0.         0.18053953 0.10914229 0.22134163 0.15375885\n 0.01757713 0.06703777 0.02333432 0.        ]<br>Return: 0.0018",
          "Risks: 0.0081<br>Weights: [2.27991189e-01 1.88231145e-02 1.46500369e-01 8.83689611e-02\n 2.23776620e-01 1.79208030e-01 3.23170554e-02 4.94631288e-02\n 3.35515327e-02 8.67361738e-19]<br>Return: 0.0018",
          "Risks: 0.0082<br>Weights: [2.33081370e-01 1.58708191e-02 1.35870647e-01 9.41656408e-02\n 2.31577582e-01 1.79576992e-01 2.78033630e-02 4.59779894e-02\n 3.60755953e-02 2.87313576e-18]<br>Return: 0.0019",
          "Risks: 0.0082<br>Weights: [0.23855119 0.01293441 0.12514061 0.09979018 0.2387288  0.17994156\n 0.02332813 0.04280191 0.0387832  0.        ]<br>Return: 0.0020",
          "Risks: 0.0083<br>Weights: [2.40555927e-01 4.06575815e-19 1.30322168e-01 1.29590173e-01\n 2.47770347e-01 1.60064608e-01 6.71456527e-03 5.02439995e-02\n 3.47382122e-02 0.00000000e+00]<br>Return: 0.0021",
          "Risks: 0.0083<br>Weights: [2.44586774e-01 0.00000000e+00 1.18204296e-01 1.35537545e-01\n 2.54200726e-01 1.60806305e-01 3.27888667e-03 4.62040802e-02\n 3.71813856e-02 7.86046575e-19]<br>Return: 0.0021",
          "Risks: 0.0084<br>Weights: [2.55456213e-01 3.68347782e-03 9.31911418e-02 1.17645105e-01\n 2.60259099e-01 1.80674074e-01 9.46603695e-03 3.33247993e-02\n 4.63000533e-02 4.33680869e-18]<br>Return: 0.0022",
          "Risks: 0.0085<br>Weights: [2.54322059e-01 6.23416249e-19 7.62914475e-02 1.29651830e-01\n 2.68777500e-01 1.82137125e-01 2.66557524e-03 4.32974474e-02\n 4.28570150e-02 0.00000000e+00]<br>Return: 0.0023",
          "Risks: 0.0086<br>Weights: [2.47088907e-01 0.00000000e+00 5.85150549e-02 1.45329580e-01\n 2.75636177e-01 1.84569368e-01 0.00000000e+00 4.98172308e-02\n 3.90436831e-02 1.84314369e-18]<br>Return: 0.0024",
          "Risks: 0.0086<br>Weights: [2.70134158e-01 0.00000000e+00 6.67466986e-02 1.43873351e-01\n 2.82884302e-01 1.61328504e-01 0.00000000e+00 2.29449823e-02\n 5.20880038e-02 7.58941521e-19]<br>Return: 0.0024",
          "Risks: 0.0087<br>Weights: [0.27523052 0.         0.04707656 0.14675222 0.29136351 0.16518302\n 0.         0.02264547 0.0517487  0.        ]<br>Return: 0.0025",
          "Risks: 0.0088<br>Weights: [2.77858143e-01 1.08420217e-18 2.93070294e-02 1.52535373e-01\n 2.98553173e-01 1.69075793e-01 0.00000000e+00 2.09855562e-02\n 5.16849323e-02 4.11996826e-18]<br>Return: 0.0026",
          "Risks: 0.0089<br>Weights: [2.82902705e-01 6.50521303e-19 1.44197974e-02 1.55425553e-01\n 3.04758392e-01 1.68857054e-01 1.51788304e-18 1.90958803e-02\n 5.45406177e-02 0.00000000e+00]<br>Return: 0.0027",
          "Risks: 0.0090<br>Weights: [0.28613    0.         0.00163868 0.16247994 0.31198454 0.16923773\n 0.         0.01235002 0.0561791  0.        ]<br>Return: 0.0027",
          "Risks: 0.0091<br>Weights: [2.88107913e-01 0.00000000e+00 4.60785923e-18 1.69135791e-01\n 3.17143663e-01 1.60922824e-01 0.00000000e+00 6.93889390e-18\n 6.46898095e-02 0.00000000e+00]<br>Return: 0.0028",
          "Risks: 0.0092<br>Weights: [2.78734129e-01 3.03576608e-18 3.90312782e-18 1.76934767e-01\n 3.12343456e-01 1.52965815e-01 0.00000000e+00 1.51788304e-18\n 7.90218338e-02 4.33680869e-19]<br>Return: 0.0029",
          "Risks: 0.0094<br>Weights: [2.79662991e-01 0.00000000e+00 1.08420217e-18 1.84708818e-01\n 3.25219033e-01 1.25308803e-01 1.25767452e-17 1.08420217e-19\n 8.51003548e-02 0.00000000e+00]<br>Return: 0.0029",
          "Risks: 0.0095<br>Weights: [2.82026285e-01 0.00000000e+00 0.00000000e+00 1.95851661e-01\n 3.44191535e-01 9.10845811e-02 0.00000000e+00 8.67361738e-19\n 8.68459377e-02 8.67361738e-19]<br>Return: 0.0030",
          "Risks: 0.0097<br>Weights: [2.76218341e-01 0.00000000e+00 0.00000000e+00 2.13672439e-01\n 3.62610227e-01 6.07829959e-02 1.73472348e-18 0.00000000e+00\n 8.67159976e-02 0.00000000e+00]<br>Return: 0.0031",
          "Risks: 0.0098<br>Weights: [2.61486260e-01 0.00000000e+00 2.38524478e-18 2.07384957e-01\n 3.95078219e-01 3.83449628e-02 0.00000000e+00 7.04731412e-18\n 9.77056005e-02 1.40946282e-18]<br>Return: 0.0032",
          "Risks: 0.0100<br>Weights: [2.56181175e-01 8.23993651e-18 2.49366500e-18 2.14015771e-01\n 4.14273235e-01 1.18620802e-02 7.91467586e-18 0.00000000e+00\n 1.03667737e-01 4.55364912e-18]<br>Return: 0.0032",
          "Risks: 0.0103<br>Weights: [2.43091620e-01 0.00000000e+00 0.00000000e+00 2.24403768e-01\n 4.18122845e-01 0.00000000e+00 6.72205347e-18 0.00000000e+00\n 1.14381767e-01 0.00000000e+00]<br>Return: 0.0033",
          "Risks: 0.0105<br>Weights: [2.26436148e-01 1.58293517e-17 8.67361738e-18 2.37185097e-01\n 4.06691789e-01 0.00000000e+00 5.42101086e-18 8.83624771e-18\n 1.29686966e-01 8.45677695e-18]<br>Return: 0.0034",
          "Risks: 0.0108<br>Weights: [2.09122358e-01 1.50704102e-17 0.00000000e+00 2.48815951e-01\n 3.96774177e-01 0.00000000e+00 2.81892565e-18 2.74303150e-17\n 1.45287514e-01 2.92734587e-18]<br>Return: 0.0035",
          "Risks: 0.0111<br>Weights: [1.88804366e-01 8.29414662e-18 0.00000000e+00 2.58097173e-01\n 3.91908787e-01 0.00000000e+00 3.14418630e-17 1.41691671e-17\n 1.61189674e-01 0.00000000e+00]<br>Return: 0.0035",
          "Risks: 0.0114<br>Weights: [1.64602800e-01 1.76724954e-17 3.79470760e-18 2.66778522e-01\n 3.92016158e-01 0.00000000e+00 6.50521303e-18 0.00000000e+00\n 1.76602521e-01 2.60208521e-18]<br>Return: 0.0036",
          "Risks: 0.0117<br>Weights: [1.34903697e-01 0.00000000e+00 0.00000000e+00 2.80056760e-01\n 3.95681219e-01 2.03830008e-17 1.00153176e-17 9.54097912e-18\n 1.89358324e-01 0.00000000e+00]<br>Return: 0.0037",
          "Risks: 0.0121<br>Weights: [1.05858061e-01 2.92734587e-17 0.00000000e+00 3.07264781e-01\n 3.89668721e-01 0.00000000e+00 0.00000000e+00 0.00000000e+00\n 1.97208438e-01 3.55618313e-17]<br>Return: 0.0038",
          "Risks: 0.0125<br>Weights: [8.96346546e-02 0.00000000e+00 5.52943108e-18 3.32931006e-01\n 3.69489736e-01 3.29597460e-17 2.60208521e-18 1.47451495e-17\n 2.07944604e-01 0.00000000e+00]<br>Return: 0.0038",
          "Risks: 0.0129<br>Weights: [7.63983361e-02 0.00000000e+00 5.20417043e-18 3.51018370e-01\n 3.50626067e-01 4.68375339e-17 0.00000000e+00 0.00000000e+00\n 2.21957227e-01 5.20417043e-18]<br>Return: 0.0039",
          "Risks: 0.0133<br>Weights: [5.91957643e-02 2.38524478e-17 0.00000000e+00 3.61958720e-01\n 3.41018468e-01 3.20923843e-17 1.30104261e-18 0.00000000e+00\n 2.37827048e-01 6.93889390e-18]<br>Return: 0.0040",
          "Risks: 0.0137<br>Weights: [4.33683314e-02 1.12757026e-17 0.00000000e+00 3.74957046e-01\n 3.28470182e-01 0.00000000e+00 5.20417043e-18 3.55618313e-17\n 2.53204441e-01 0.00000000e+00]<br>Return: 0.0041",
          "Risks: 0.0142<br>Weights: [2.41767094e-02 0.00000000e+00 0.00000000e+00 3.88384761e-01\n 3.19622884e-01 3.46944695e-18 1.73472348e-18 1.90819582e-17\n 2.67815645e-01 0.00000000e+00]<br>Return: 0.0041",
          "Risks: 0.0146<br>Weights: [4.60046984e-03 6.93889390e-18 0.00000000e+00 4.00008949e-01\n 3.12383093e-01 0.00000000e+00 0.00000000e+00 2.08166817e-17\n 2.83007488e-01 0.00000000e+00]<br>Return: 0.0042",
          "Risks: 0.0151<br>Weights: [0.00000000e+00 1.56125113e-17 0.00000000e+00 3.99833199e-01\n 2.94990015e-01 0.00000000e+00 2.60208521e-18 2.56955915e-17\n 3.05176786e-01 6.72205347e-18]<br>Return: 0.0043",
          "Risks: 0.0156<br>Weights: [1.38777878e-17 3.12250226e-17 0.00000000e+00 3.94342138e-01\n 2.75558611e-01 0.00000000e+00 3.46944695e-18 3.46944695e-18\n 3.30099252e-01 0.00000000e+00]<br>Return: 0.0044",
          "Risks: 0.0161<br>Weights: [5.37764278e-17 0.00000000e+00 0.00000000e+00 3.87727392e-01\n 2.56845580e-01 0.00000000e+00 1.12757026e-17 0.00000000e+00\n 3.55427028e-01 0.00000000e+00]<br>Return: 0.0044",
          "Risks: 0.0167<br>Weights: [3.81639165e-17 0.00000000e+00 0.00000000e+00 3.80370743e-01\n 2.38606851e-01 0.00000000e+00 6.93889390e-18 0.00000000e+00\n 3.81022406e-01 6.07153217e-18]<br>Return: 0.0045",
          "Risks: 0.0172<br>Weights: [1.38777878e-17 0.00000000e+00 0.00000000e+00 3.72435776e-01\n 2.20737841e-01 1.21430643e-17 0.00000000e+00 6.93889390e-18\n 4.06826382e-01 0.00000000e+00]<br>Return: 0.0046",
          "Risks: 0.0178<br>Weights: [0.00000000e+00 0.00000000e+00 4.69459602e-18 4.14269024e-01\n 1.71051865e-01 0.00000000e+00 7.88795104e-18 1.58349678e-18\n 4.14679111e-01 0.00000000e+00]<br>Return: 0.0047",
          "Risks: 0.0184<br>Weights: [3.08284148e-17 1.39190609e-18 0.00000000e+00 4.22765183e-01\n 1.42678387e-01 1.50869541e-18 5.64656236e-19 6.37192657e-18\n 4.34556429e-01 4.85094101e-18]<br>Return: 0.0047",
          "Risks: 0.0190<br>Weights: [3.65444280e-17 7.95507288e-18 0.00000000e+00 4.31307650e-01\n 1.14275305e-01 2.60030177e-18 9.81075795e-19 2.03118839e-18\n 4.54417044e-01 0.00000000e+00]<br>Return: 0.0048",
          "Risks: 0.0196<br>Weights: [0.00000000e+00 0.00000000e+00 4.32744031e-18 4.39895934e-01\n 8.58429332e-02 0.00000000e+00 7.20022815e-19 3.45884744e-18\n 4.74261133e-01 4.00947096e-18]<br>Return: 0.0049",
          "Risks: 0.0202<br>Weights: [1.99015288e-17 0.00000000e+00 0.00000000e+00 4.48449746e-01\n 5.74325999e-02 5.67412026e-18 6.38695996e-18 9.50108290e-18\n 4.94117655e-01 5.25805746e-18]<br>Return: 0.0050",
          "Risks: 0.0208<br>Weights: [0.00000000e+00 1.46018694e-17 4.57022749e-18 4.57685128e-01\n 2.85865344e-02 1.24902000e-18 4.89072240e-18 0.00000000e+00\n 5.13728338e-01 0.00000000e+00]<br>Return: 0.0050",
          "Risks: 0.0215<br>Weights: [1.42642338e-17 6.75537456e-19 9.56391367e-20 4.65889047e-01\n 3.99888408e-04 1.30075656e-18 0.00000000e+00 0.00000000e+00\n 5.33711064e-01 5.33237478e-18]<br>Return: 0.0051",
          "Risks: 0.0221<br>Weights: [0.00000000e+00 0.00000000e+00 0.00000000e+00 4.30628820e-01\n 0.00000000e+00 0.00000000e+00 4.11169661e-18 7.74220019e-19\n 5.69371180e-01 9.57354489e-18]<br>Return: 0.0052",
          "Risks: 0.0228<br>Weights: [0.00000000e+00 0.00000000e+00 2.43852799e-18 3.94743082e-01\n 0.00000000e+00 9.40628655e-18 0.00000000e+00 1.26008343e-18\n 6.05256918e-01 3.33960876e-18]<br>Return: 0.0052",
          "Risks: 0.0236<br>Weights: [1.23516974e-17 0.00000000e+00 2.79901603e-18 3.58857348e-01\n 3.81639165e-17 0.00000000e+00 3.80327195e-18 1.00254155e-17\n 6.41142652e-01 0.00000000e+00]<br>Return: 0.0053",
          "Risks: 0.0243<br>Weights: [1.65051003e-18 0.00000000e+00 2.81421360e-18 3.22971613e-01\n 0.00000000e+00 3.39435886e-18 8.33393157e-19 4.90207556e-18\n 6.77028387e-01 3.81085995e-18]<br>Return: 0.0054",
          "Risks: 0.0251<br>Weights: [1.54527214e-17 0.00000000e+00 0.00000000e+00 2.87085878e-01\n 0.00000000e+00 2.14814766e-18 0.00000000e+00 1.83447569e-17\n 7.12914122e-01 2.55166370e-18]<br>Return: 0.0055",
          "Risks: 0.0260<br>Weights: [0.00000000e+00 0.00000000e+00 9.71445147e-17 2.51200142e-01\n 2.49800181e-16 0.00000000e+00 1.24900090e-16 9.71445147e-17\n 7.48799858e-01 0.00000000e+00]<br>Return: 0.0055",
          "Risks: 0.0268<br>Weights: [0.00000000e+00 0.00000000e+00 0.00000000e+00 2.15314407e-01\n 0.00000000e+00 1.38777878e-16 5.55111512e-17 1.80411242e-16\n 7.84685593e-01 3.19189120e-16]<br>Return: 0.0056",
          "Risks: 0.0277<br>Weights: [0.00000000e+00 2.77555756e-17 3.60822483e-16 1.79428673e-01\n 0.00000000e+00 5.55111512e-17 0.00000000e+00 1.94289029e-16\n 8.20571327e-01 0.00000000e+00]<br>Return: 0.0057",
          "Risks: 0.0286<br>Weights: [2.77555756e-17 0.00000000e+00 1.80411242e-16 1.43542938e-01\n 2.77555756e-16 6.93889390e-17 0.00000000e+00 0.00000000e+00\n 8.56457062e-01 0.00000000e+00]<br>Return: 0.0058",
          "Risks: 0.0295<br>Weights: [1.52655666e-16 0.00000000e+00 2.63677968e-16 1.07657211e-01\n 0.00000000e+00 0.00000000e+00 0.00000000e+00 2.35922393e-16\n 8.92342789e-01 0.00000000e+00]<br>Return: 0.0058",
          "Risks: 0.0304<br>Weights: [4.16333634e-16 0.00000000e+00 0.00000000e+00 7.17714591e-02\n 2.77555756e-17 2.77555756e-17 2.77555756e-16 1.80411242e-16\n 9.28228541e-01 4.30211422e-16]<br>Return: 0.0059",
          "Risks: 0.0314<br>Weights: [0.00000000e+00 0.00000000e+00 3.60822483e-16 3.58857439e-02\n 0.00000000e+00 3.05311332e-16 0.00000000e+00 0.00000000e+00\n 9.64114256e-01 0.00000000e+00]<br>Return: 0.0060",
          "Risks: 0.0324<br>Weights: [5.62436902e-18 0.00000000e+00 8.34932988e-18 2.13251888e-13\n 0.00000000e+00 0.00000000e+00 9.82316721e-18 0.00000000e+00\n 1.00000000e+00 0.00000000e+00]<br>Return: 0.0061"
         ],
         "type": "scatter",
         "x": [
          0.010944051383164146,
          0.010593478116113558,
          0.010276795502694626,
          0.009997224798787275,
          0.009756761474787023,
          0.009541720833399376,
          0.00934789494255209,
          0.009181412891987635,
          0.00901448891441933,
          0.008861316755480396,
          0.008715368505801648,
          0.008595424900215802,
          0.008480621889875289,
          0.008378347636662491,
          0.008284515604217571,
          0.008201024630248596,
          0.008129660130779844,
          0.00805514912777936,
          0.007992696870490222,
          0.007937259081996124,
          0.007887602300677282,
          0.007844562044780871,
          0.007808449896766378,
          0.0077779178103070945,
          0.007753946539096342,
          0.007737285817321074,
          0.007723673637711648,
          0.007718869509378764,
          0.007714637413347425,
          0.0077155141645938756,
          0.0077051140167840315,
          0.007717364114622218,
          0.007732057427792447,
          0.0077488823145022605,
          0.007769871839762876,
          0.007817318899128975,
          0.00782456331986613,
          0.007858366192881784,
          0.007895310981405156,
          0.007936746268966625,
          0.007982511748245864,
          0.008031193367210046,
          0.008108405776149363,
          0.008164993789441577,
          0.008225270335853796,
          0.008267143309202514,
          0.008335592649251057,
          0.008425444544136582,
          0.008496255839428212,
          0.008581047900975395,
          0.008648246965554196,
          0.008737012053316463,
          0.00882902922272653,
          0.008923939391584356,
          0.00901984018954151,
          0.009116284828904461,
          0.009235520517730477,
          0.009363150649120872,
          0.009507052646725958,
          0.009672027074943284,
          0.009842351594678922,
          0.010038530726811353,
          0.010251877541304721,
          0.01049504733976648,
          0.010766818967788888,
          0.011062853804081788,
          0.011381249717575254,
          0.01172138377069328,
          0.012087591641858617,
          0.012478040887470844,
          0.012884689596954439,
          0.013299600017822794,
          0.013731982002191208,
          0.014175642699286289,
          0.01462881240482789,
          0.015097261323926341,
          0.015591191726261843,
          0.016110628390688674,
          0.016654244397894678,
          0.017220438502550606,
          0.017779270512643157,
          0.018364643115636334,
          0.018962370464224197,
          0.019571320939559742,
          0.0201904785994274,
          0.020818946403722408,
          0.021455873249263478,
          0.022116905708151526,
          0.022818496378877413,
          0.023557037133620767,
          0.024329163251930654,
          0.025131779389864158,
          0.025962057930103873,
          0.026817429627120016,
          0.027695569613435396,
          0.028594380307805308,
          0.029511972929417138,
          0.030446650252930616,
          0.03139688491456554,
          0.03236130814347317
         ],
         "y": [
          -0.0012807593524801191,
          -0.0012065781675635486,
          -0.0011323969826469783,
          -0.0010582157977304077,
          -0.0009840346128138374,
          -0.0009098534278972668,
          -0.0008356722429806963,
          -0.0007614910580641259,
          -0.0006873098731475554,
          -0.000613128688230985,
          -0.0005389475033144146,
          -0.00046476631839784403,
          -0.0003905851334812736,
          -0.00031640394856470317,
          -0.00024222276364813263,
          -0.0001680415787315623,
          -0.00009386039381499177,
          -0.000019679208898421225,
          0.0000545019760181491,
          0.00012868316093471964,
          0.00020286434585128996,
          0.0002770455307678605,
          0.00035122671568443104,
          0.00042540790060100137,
          0.0004995890855175719,
          0.0005737702704341425,
          0.0006479514553507128,
          0.0007221326402672831,
          0.0007963138251838539,
          0.0008704950101004242,
          0.0009446761950169945,
          0.0010188573799335653,
          0.0010930385648501356,
          0.001167219749766706,
          0.0012414009346832767,
          0.001315582119599847,
          0.0013897633045164173,
          0.001463944489432988,
          0.0015381256743495584,
          0.0016123068592661287,
          0.001686488044182699,
          0.0017606692290992698,
          0.0018348504140158401,
          0.0019090315989324104,
          0.001983212783848981,
          0.0020573939687655515,
          0.002131575153682122,
          0.0022057563385986926,
          0.002279937523515263,
          0.0023541187084318333,
          0.002428299893348404,
          0.0025024810782649743,
          0.0025766622631815447,
          0.002650843448098115,
          0.0027250246330146853,
          0.0027992058179312565,
          0.002873387002847827,
          0.002947568187764397,
          0.0030217493726809675,
          0.003095930557597538,
          0.003170111742514108,
          0.0032442929274306793,
          0.0033184741123472496,
          0.00339265529726382,
          0.0034668364821803903,
          0.0035410176670969606,
          0.003615198852013531,
          0.0036893800369301013,
          0.0037635612218466724,
          0.0038377424067632428,
          0.003911923591679813,
          0.003986104776596383,
          0.004060285961512954,
          0.004134467146429524,
          0.004208648331346095,
          0.004282829516262666,
          0.004357010701179236,
          0.004431191886095806,
          0.0045053730710123766,
          0.004579554255928947,
          0.004653735440845517,
          0.004727916625762088,
          0.004802097810678659,
          0.004876278995595229,
          0.004950460180511799,
          0.00502464136542837,
          0.00509882255034494,
          0.005173003735261511,
          0.0052471849201780815,
          0.005321366105094652,
          0.005395547290011222,
          0.0054697284749277925,
          0.005543909659844363,
          0.005618090844760934,
          0.005692272029677504,
          0.005766453214594075,
          0.005840634399510645,
          0.005914815584427215,
          0.005988996769343786,
          0.006063177954260356
         ]
        }
       ],
       "layout": {
        "template": {
         "data": {
          "bar": [
           {
            "error_x": {
             "color": "#2a3f5f"
            },
            "error_y": {
             "color": "#2a3f5f"
            },
            "marker": {
             "line": {
              "color": "#E5ECF6",
              "width": 0.5
             },
             "pattern": {
              "fillmode": "overlay",
              "size": 10,
              "solidity": 0.2
             }
            },
            "type": "bar"
           }
          ],
          "barpolar": [
           {
            "marker": {
             "line": {
              "color": "#E5ECF6",
              "width": 0.5
             },
             "pattern": {
              "fillmode": "overlay",
              "size": 10,
              "solidity": 0.2
             }
            },
            "type": "barpolar"
           }
          ],
          "carpet": [
           {
            "aaxis": {
             "endlinecolor": "#2a3f5f",
             "gridcolor": "white",
             "linecolor": "white",
             "minorgridcolor": "white",
             "startlinecolor": "#2a3f5f"
            },
            "baxis": {
             "endlinecolor": "#2a3f5f",
             "gridcolor": "white",
             "linecolor": "white",
             "minorgridcolor": "white",
             "startlinecolor": "#2a3f5f"
            },
            "type": "carpet"
           }
          ],
          "choropleth": [
           {
            "colorbar": {
             "outlinewidth": 0,
             "ticks": ""
            },
            "type": "choropleth"
           }
          ],
          "contour": [
           {
            "colorbar": {
             "outlinewidth": 0,
             "ticks": ""
            },
            "colorscale": [
             [
              0,
              "#0d0887"
             ],
             [
              0.1111111111111111,
              "#46039f"
             ],
             [
              0.2222222222222222,
              "#7201a8"
             ],
             [
              0.3333333333333333,
              "#9c179e"
             ],
             [
              0.4444444444444444,
              "#bd3786"
             ],
             [
              0.5555555555555556,
              "#d8576b"
             ],
             [
              0.6666666666666666,
              "#ed7953"
             ],
             [
              0.7777777777777778,
              "#fb9f3a"
             ],
             [
              0.8888888888888888,
              "#fdca26"
             ],
             [
              1,
              "#f0f921"
             ]
            ],
            "type": "contour"
           }
          ],
          "contourcarpet": [
           {
            "colorbar": {
             "outlinewidth": 0,
             "ticks": ""
            },
            "type": "contourcarpet"
           }
          ],
          "heatmap": [
           {
            "colorbar": {
             "outlinewidth": 0,
             "ticks": ""
            },
            "colorscale": [
             [
              0,
              "#0d0887"
             ],
             [
              0.1111111111111111,
              "#46039f"
             ],
             [
              0.2222222222222222,
              "#7201a8"
             ],
             [
              0.3333333333333333,
              "#9c179e"
             ],
             [
              0.4444444444444444,
              "#bd3786"
             ],
             [
              0.5555555555555556,
              "#d8576b"
             ],
             [
              0.6666666666666666,
              "#ed7953"
             ],
             [
              0.7777777777777778,
              "#fb9f3a"
             ],
             [
              0.8888888888888888,
              "#fdca26"
             ],
             [
              1,
              "#f0f921"
             ]
            ],
            "type": "heatmap"
           }
          ],
          "heatmapgl": [
           {
            "colorbar": {
             "outlinewidth": 0,
             "ticks": ""
            },
            "colorscale": [
             [
              0,
              "#0d0887"
             ],
             [
              0.1111111111111111,
              "#46039f"
             ],
             [
              0.2222222222222222,
              "#7201a8"
             ],
             [
              0.3333333333333333,
              "#9c179e"
             ],
             [
              0.4444444444444444,
              "#bd3786"
             ],
             [
              0.5555555555555556,
              "#d8576b"
             ],
             [
              0.6666666666666666,
              "#ed7953"
             ],
             [
              0.7777777777777778,
              "#fb9f3a"
             ],
             [
              0.8888888888888888,
              "#fdca26"
             ],
             [
              1,
              "#f0f921"
             ]
            ],
            "type": "heatmapgl"
           }
          ],
          "histogram": [
           {
            "marker": {
             "pattern": {
              "fillmode": "overlay",
              "size": 10,
              "solidity": 0.2
             }
            },
            "type": "histogram"
           }
          ],
          "histogram2d": [
           {
            "colorbar": {
             "outlinewidth": 0,
             "ticks": ""
            },
            "colorscale": [
             [
              0,
              "#0d0887"
             ],
             [
              0.1111111111111111,
              "#46039f"
             ],
             [
              0.2222222222222222,
              "#7201a8"
             ],
             [
              0.3333333333333333,
              "#9c179e"
             ],
             [
              0.4444444444444444,
              "#bd3786"
             ],
             [
              0.5555555555555556,
              "#d8576b"
             ],
             [
              0.6666666666666666,
              "#ed7953"
             ],
             [
              0.7777777777777778,
              "#fb9f3a"
             ],
             [
              0.8888888888888888,
              "#fdca26"
             ],
             [
              1,
              "#f0f921"
             ]
            ],
            "type": "histogram2d"
           }
          ],
          "histogram2dcontour": [
           {
            "colorbar": {
             "outlinewidth": 0,
             "ticks": ""
            },
            "colorscale": [
             [
              0,
              "#0d0887"
             ],
             [
              0.1111111111111111,
              "#46039f"
             ],
             [
              0.2222222222222222,
              "#7201a8"
             ],
             [
              0.3333333333333333,
              "#9c179e"
             ],
             [
              0.4444444444444444,
              "#bd3786"
             ],
             [
              0.5555555555555556,
              "#d8576b"
             ],
             [
              0.6666666666666666,
              "#ed7953"
             ],
             [
              0.7777777777777778,
              "#fb9f3a"
             ],
             [
              0.8888888888888888,
              "#fdca26"
             ],
             [
              1,
              "#f0f921"
             ]
            ],
            "type": "histogram2dcontour"
           }
          ],
          "mesh3d": [
           {
            "colorbar": {
             "outlinewidth": 0,
             "ticks": ""
            },
            "type": "mesh3d"
           }
          ],
          "parcoords": [
           {
            "line": {
             "colorbar": {
              "outlinewidth": 0,
              "ticks": ""
             }
            },
            "type": "parcoords"
           }
          ],
          "pie": [
           {
            "automargin": true,
            "type": "pie"
           }
          ],
          "scatter": [
           {
            "fillpattern": {
             "fillmode": "overlay",
             "size": 10,
             "solidity": 0.2
            },
            "type": "scatter"
           }
          ],
          "scatter3d": [
           {
            "line": {
             "colorbar": {
              "outlinewidth": 0,
              "ticks": ""
             }
            },
            "marker": {
             "colorbar": {
              "outlinewidth": 0,
              "ticks": ""
             }
            },
            "type": "scatter3d"
           }
          ],
          "scattercarpet": [
           {
            "marker": {
             "colorbar": {
              "outlinewidth": 0,
              "ticks": ""
             }
            },
            "type": "scattercarpet"
           }
          ],
          "scattergeo": [
           {
            "marker": {
             "colorbar": {
              "outlinewidth": 0,
              "ticks": ""
             }
            },
            "type": "scattergeo"
           }
          ],
          "scattergl": [
           {
            "marker": {
             "colorbar": {
              "outlinewidth": 0,
              "ticks": ""
             }
            },
            "type": "scattergl"
           }
          ],
          "scattermapbox": [
           {
            "marker": {
             "colorbar": {
              "outlinewidth": 0,
              "ticks": ""
             }
            },
            "type": "scattermapbox"
           }
          ],
          "scatterpolar": [
           {
            "marker": {
             "colorbar": {
              "outlinewidth": 0,
              "ticks": ""
             }
            },
            "type": "scatterpolar"
           }
          ],
          "scatterpolargl": [
           {
            "marker": {
             "colorbar": {
              "outlinewidth": 0,
              "ticks": ""
             }
            },
            "type": "scatterpolargl"
           }
          ],
          "scatterternary": [
           {
            "marker": {
             "colorbar": {
              "outlinewidth": 0,
              "ticks": ""
             }
            },
            "type": "scatterternary"
           }
          ],
          "surface": [
           {
            "colorbar": {
             "outlinewidth": 0,
             "ticks": ""
            },
            "colorscale": [
             [
              0,
              "#0d0887"
             ],
             [
              0.1111111111111111,
              "#46039f"
             ],
             [
              0.2222222222222222,
              "#7201a8"
             ],
             [
              0.3333333333333333,
              "#9c179e"
             ],
             [
              0.4444444444444444,
              "#bd3786"
             ],
             [
              0.5555555555555556,
              "#d8576b"
             ],
             [
              0.6666666666666666,
              "#ed7953"
             ],
             [
              0.7777777777777778,
              "#fb9f3a"
             ],
             [
              0.8888888888888888,
              "#fdca26"
             ],
             [
              1,
              "#f0f921"
             ]
            ],
            "type": "surface"
           }
          ],
          "table": [
           {
            "cells": {
             "fill": {
              "color": "#EBF0F8"
             },
             "line": {
              "color": "white"
             }
            },
            "header": {
             "fill": {
              "color": "#C8D4E3"
             },
             "line": {
              "color": "white"
             }
            },
            "type": "table"
           }
          ]
         },
         "layout": {
          "annotationdefaults": {
           "arrowcolor": "#2a3f5f",
           "arrowhead": 0,
           "arrowwidth": 1
          },
          "autotypenumbers": "strict",
          "coloraxis": {
           "colorbar": {
            "outlinewidth": 0,
            "ticks": ""
           }
          },
          "colorscale": {
           "diverging": [
            [
             0,
             "#8e0152"
            ],
            [
             0.1,
             "#c51b7d"
            ],
            [
             0.2,
             "#de77ae"
            ],
            [
             0.3,
             "#f1b6da"
            ],
            [
             0.4,
             "#fde0ef"
            ],
            [
             0.5,
             "#f7f7f7"
            ],
            [
             0.6,
             "#e6f5d0"
            ],
            [
             0.7,
             "#b8e186"
            ],
            [
             0.8,
             "#7fbc41"
            ],
            [
             0.9,
             "#4d9221"
            ],
            [
             1,
             "#276419"
            ]
           ],
           "sequential": [
            [
             0,
             "#0d0887"
            ],
            [
             0.1111111111111111,
             "#46039f"
            ],
            [
             0.2222222222222222,
             "#7201a8"
            ],
            [
             0.3333333333333333,
             "#9c179e"
            ],
            [
             0.4444444444444444,
             "#bd3786"
            ],
            [
             0.5555555555555556,
             "#d8576b"
            ],
            [
             0.6666666666666666,
             "#ed7953"
            ],
            [
             0.7777777777777778,
             "#fb9f3a"
            ],
            [
             0.8888888888888888,
             "#fdca26"
            ],
            [
             1,
             "#f0f921"
            ]
           ],
           "sequentialminus": [
            [
             0,
             "#0d0887"
            ],
            [
             0.1111111111111111,
             "#46039f"
            ],
            [
             0.2222222222222222,
             "#7201a8"
            ],
            [
             0.3333333333333333,
             "#9c179e"
            ],
            [
             0.4444444444444444,
             "#bd3786"
            ],
            [
             0.5555555555555556,
             "#d8576b"
            ],
            [
             0.6666666666666666,
             "#ed7953"
            ],
            [
             0.7777777777777778,
             "#fb9f3a"
            ],
            [
             0.8888888888888888,
             "#fdca26"
            ],
            [
             1,
             "#f0f921"
            ]
           ]
          },
          "colorway": [
           "#636efa",
           "#EF553B",
           "#00cc96",
           "#ab63fa",
           "#FFA15A",
           "#19d3f3",
           "#FF6692",
           "#B6E880",
           "#FF97FF",
           "#FECB52"
          ],
          "font": {
           "color": "#2a3f5f"
          },
          "geo": {
           "bgcolor": "white",
           "lakecolor": "white",
           "landcolor": "#E5ECF6",
           "showlakes": true,
           "showland": true,
           "subunitcolor": "white"
          },
          "hoverlabel": {
           "align": "left"
          },
          "hovermode": "closest",
          "mapbox": {
           "style": "light"
          },
          "paper_bgcolor": "white",
          "plot_bgcolor": "#E5ECF6",
          "polar": {
           "angularaxis": {
            "gridcolor": "white",
            "linecolor": "white",
            "ticks": ""
           },
           "bgcolor": "#E5ECF6",
           "radialaxis": {
            "gridcolor": "white",
            "linecolor": "white",
            "ticks": ""
           }
          },
          "scene": {
           "xaxis": {
            "backgroundcolor": "#E5ECF6",
            "gridcolor": "white",
            "gridwidth": 2,
            "linecolor": "white",
            "showbackground": true,
            "ticks": "",
            "zerolinecolor": "white"
           },
           "yaxis": {
            "backgroundcolor": "#E5ECF6",
            "gridcolor": "white",
            "gridwidth": 2,
            "linecolor": "white",
            "showbackground": true,
            "ticks": "",
            "zerolinecolor": "white"
           },
           "zaxis": {
            "backgroundcolor": "#E5ECF6",
            "gridcolor": "white",
            "gridwidth": 2,
            "linecolor": "white",
            "showbackground": true,
            "ticks": "",
            "zerolinecolor": "white"
           }
          },
          "shapedefaults": {
           "line": {
            "color": "#2a3f5f"
           }
          },
          "ternary": {
           "aaxis": {
            "gridcolor": "white",
            "linecolor": "white",
            "ticks": ""
           },
           "baxis": {
            "gridcolor": "white",
            "linecolor": "white",
            "ticks": ""
           },
           "bgcolor": "#E5ECF6",
           "caxis": {
            "gridcolor": "white",
            "linecolor": "white",
            "ticks": ""
           }
          },
          "title": {
           "x": 0.05
          },
          "xaxis": {
           "automargin": true,
           "gridcolor": "white",
           "linecolor": "white",
           "ticks": "",
           "title": {
            "standoff": 15
           },
           "zerolinecolor": "white",
           "zerolinewidth": 2
          },
          "yaxis": {
           "automargin": true,
           "gridcolor": "white",
           "linecolor": "white",
           "ticks": "",
           "title": {
            "standoff": 15
           },
           "zerolinecolor": "white",
           "zerolinewidth": 2
          }
         }
        },
        "title": {
         "text": "Efficient Frontier"
        },
        "xaxis": {
         "title": {
          "text": "Volatility"
         }
        },
        "yaxis": {
         "title": {
          "text": "Return"
         }
        }
       }
      }
     },
     "metadata": {},
     "output_type": "display_data"
    },
    {
     "data": {
      "application/vnd.plotly.v1+json": {
       "config": {
        "plotlyServerURL": "https://plot.ly"
       },
       "data": [
        {
         "mode": "lines",
         "name": "Efficient Frontier",
         "type": "scatter",
         "x": [
          0.007716848025703703,
          0.007706404537777945,
          0.0077190643054981705,
          0.007733527080728119,
          0.007749717020603207,
          0.007769261149713801,
          0.007792548699742621,
          0.007842496761899421,
          0.007851310338202855,
          0.007885279951992855,
          0.007923288778517843,
          0.007965339979023978,
          0.00803442305579037,
          0.008057941333517065,
          0.008110077368623403,
          0.008165357719297585,
          0.008224093734607007,
          0.008286019889851264,
          0.008370831208920869,
          0.008437449376005934,
          0.008504921812156974,
          0.00858564748081034,
          0.008647751336164883,
          0.008731314273208718,
          0.008817739524622142,
          0.008906630708380915,
          0.008997584786916668,
          0.009087303774128759,
          0.009191227800031765,
          0.009309048429429433,
          0.009437692420799618,
          0.00958313314810093,
          0.009749301967390453,
          0.009911303062763029,
          0.010101000212060009,
          0.01030853075018022,
          0.010544230215008712,
          0.010804092220807334,
          0.011085344864918044,
          0.011386302338314686,
          0.011706562130733983,
          0.01204976641031851,
          0.012415480094875421,
          0.012779136199282056,
          0.013184271021064895,
          0.013567178460234818,
          0.01400241407771038,
          0.01442382541493597,
          0.014859595622432966,
          0.01531105794998475,
          0.015786681880835388,
          0.016284396787072844,
          0.016803254702012594,
          0.017341720232517205,
          0.017867192014768038,
          0.018420354980146717,
          0.018984390570647863,
          0.019558358419744126,
          0.02014140910873087,
          0.020732797577523963,
          0.021331778090480976,
          0.02194673678925118,
          0.02259758391478395,
          0.023282217143700643,
          0.02399774502409247,
          0.024741487270558384,
          0.025510976294994252,
          0.02630395269130701,
          0.02711835606441142,
          0.02795231365007208,
          0.02880412705592613,
          0.029672258756983025,
          0.030555317500372173,
          0.03145204619413684,
          0.03236130814347317
         ],
         "y": [
          0.0008898607227128155,
          0.0009597704150310255,
          0.0010296801073492355,
          0.0010995897996674455,
          0.0011694994919856554,
          0.0012394091843038655,
          0.0013093188766220756,
          0.0013792285689402856,
          0.0014491382612584955,
          0.0015190479535767054,
          0.0015889576458949155,
          0.0016588673382131255,
          0.0017287770305313356,
          0.0017986867228495455,
          0.0018685964151677556,
          0.0019385061074859654,
          0.0020084157998041755,
          0.0020783254921223856,
          0.0021482351844405957,
          0.0022181448767588053,
          0.0022880545690770154,
          0.0023579642613952255,
          0.0024278739537134356,
          0.0024977836460316457,
          0.0025676933383498553,
          0.002637603030668066,
          0.0027075127229862755,
          0.0027774224153044856,
          0.0028473321076226956,
          0.0029172417999409057,
          0.0029871514922591154,
          0.0030570611845773255,
          0.0031269708768955355,
          0.0031968805692137456,
          0.0032667902615319557,
          0.0033366999538501653,
          0.0034066096461683754,
          0.0034765193384865855,
          0.0035464290308047956,
          0.0036163387231230057,
          0.0036862484154412153,
          0.0037561581077594254,
          0.0038260678000776355,
          0.0038959774923958456,
          0.003965887184714056,
          0.004035796877032266,
          0.004105706569350475,
          0.004175616261668685,
          0.0042455259539868955,
          0.004315435646305106,
          0.004385345338623316,
          0.004455255030941525,
          0.004525164723259735,
          0.0045950744155779455,
          0.004664984107896156,
          0.004734893800214366,
          0.004804803492532575,
          0.004874713184850785,
          0.004944622877168996,
          0.005014532569487206,
          0.005084442261805416,
          0.005154351954123625,
          0.005224261646441835,
          0.005294171338760046,
          0.005364081031078256,
          0.005433990723396466,
          0.005503900415714675,
          0.005573810108032885,
          0.005643719800351096,
          0.005713629492669306,
          0.005783539184987516,
          0.005853448877305725,
          0.005923358569623935,
          0.005993268261942146,
          0.006063177954260356
         ]
        },
        {
         "hoverinfo": "text",
         "mode": "markers",
         "name": "Efficient Frontier Points",
         "text": [
          "Risks: 0.0077<br>Weights: [0.16777669 0.04759293 0.29281263 0.01984871 0.1265924  0.16601699\n 0.08590083 0.09158015 0.00187866 0.        ]<br>Return: 0.0009",
          "Risks: 0.0077<br>Weights: [1.59082843e-01 2.32285877e-02 3.05730729e-01 5.03580000e-02\n 1.43815795e-01 1.51692380e-01 6.89686145e-02 9.70224366e-02\n 1.00614863e-04 2.52077005e-18]<br>Return: 0.0010",
          "Risks: 0.0077<br>Weights: [1.75349816e-01 2.56939054e-02 2.86776909e-01 5.03098077e-02\n 1.47424602e-01 1.54817859e-01 6.61626500e-02 9.34644525e-02\n 0.00000000e+00 2.92734587e-18]<br>Return: 0.0010",
          "Risks: 0.0077<br>Weights: [0.18376422 0.02301992 0.27563907 0.05449356 0.1546078  0.15608566\n 0.06101404 0.08960157 0.00177417 0.        ]<br>Return: 0.0011",
          "Risks: 0.0077<br>Weights: [1.85775412e-01 2.27625765e-02 2.64776956e-01 6.15195073e-02\n 1.60015427e-01 1.53983124e-01 5.81746036e-02 8.88700970e-02\n 4.12229719e-03 4.90601483e-18]<br>Return: 0.0012",
          "Risks: 0.0078<br>Weights: [1.92178847e-01 1.77682092e-02 2.56804170e-01 6.64876116e-02\n 1.68164243e-01 1.54198512e-01 5.17220916e-02 8.56093683e-02\n 7.06694676e-03 2.38524478e-18]<br>Return: 0.0012",
          "Risks: 0.0078<br>Weights: [1.96188331e-01 1.38537977e-02 2.48727414e-01 7.39682066e-02\n 1.75008176e-01 1.52254046e-01 4.60079385e-02 8.45159942e-02\n 9.47609575e-03 4.06575815e-18]<br>Return: 0.0013",
          "Risks: 0.0078<br>Weights: [0.19425477 0.03631834 0.21328453 0.05201623 0.17917308 0.176831\n 0.05989954 0.06955474 0.01866776 0.        ]<br>Return: 0.0014",
          "Risks: 0.0079<br>Weights: [0.20884932 0.00702058 0.22905056 0.08376413 0.18987638 0.15218594\n 0.03510938 0.07998085 0.01416287 0.        ]<br>Return: 0.0014",
          "Risks: 0.0079<br>Weights: [2.11285858e-01 6.02839309e-03 2.18046629e-01 9.08138638e-02\n 1.97380820e-01 1.52563331e-01 3.16396827e-02 7.66078660e-02\n 1.56335555e-02 4.94667241e-18]<br>Return: 0.0015",
          "Risks: 0.0079<br>Weights: [0.21640167 0.00349815 0.20778087 0.09642538 0.20455667 0.15244029\n 0.0269329  0.07421772 0.01774637 0.        ]<br>Return: 0.0016",
          "Risks: 0.0080<br>Weights: [2.24166235e-01 0.00000000e+00 1.97562455e-01 1.00036801e-01\n 2.11390099e-01 1.52227193e-01 2.13685850e-02 7.27364391e-02\n 2.05121930e-02 8.26704157e-19]<br>Return: 0.0017",
          "Risks: 0.0080<br>Weights: [2.19364621e-01 2.34638336e-02 1.61580965e-01 7.99227928e-02\n 2.14059219e-01 1.79281929e-01 3.91710669e-02 5.33333592e-02\n 2.98222145e-02 1.73472348e-18]<br>Return: 0.0017",
          "Risks: 0.0081<br>Weights: [2.28316601e-01 3.03576608e-18 1.74501300e-01 1.12401983e-01\n 2.24189541e-01 1.53547428e-01 1.62796420e-02 6.58238334e-02\n 2.49396717e-02 2.87313576e-18]<br>Return: 0.0018",
          "Risks: 0.0081<br>Weights: [2.33572515e-01 2.49366500e-18 1.62044924e-01 1.16208928e-01\n 2.30781500e-01 1.55346313e-01 1.28951047e-02 6.18952407e-02\n 2.72554731e-02 0.00000000e+00]<br>Return: 0.0019",
          "Risks: 0.0082<br>Weights: [2.36905199e-01 2.16840434e-19 1.50317223e-01 1.20925914e-01\n 2.36796826e-01 1.56405127e-01 1.01745250e-02 5.84137632e-02\n 3.00614230e-02 0.00000000e+00]<br>Return: 0.0019",
          "Risks: 0.0082<br>Weights: [0.23907943 0.         0.13842614 0.12642226 0.24319467 0.15840745\n 0.00827201 0.05366535 0.03253271 0.        ]<br>Return: 0.0020",
          "Risks: 0.0083<br>Weights: [2.41638832e-01 2.65629532e-18 1.26937084e-01 1.31163557e-01\n 2.49767779e-01 1.60431214e-01 5.66311528e-03 4.89457327e-02\n 3.54526855e-02 0.00000000e+00]<br>Return: 0.0021",
          "Risks: 0.0084<br>Weights: [2.51021352e-01 6.10808413e-03 1.01445707e-01 1.13061029e-01\n 2.54703818e-01 1.80475519e-01 1.30732297e-02 3.57611645e-02\n 4.43500962e-02 1.30104261e-18]<br>Return: 0.0021",
          "Risks: 0.0084<br>Weights: [0.25634085 0.00317762 0.09136834 0.11867223 0.26144707 0.18074299\n 0.00870315 0.03285508 0.04669267 0.        ]<br>Return: 0.0022",
          "Risks: 0.0085<br>Weights: [0.25343662 0.         0.07415711 0.13143527 0.26957206 0.18243707\n 0.00223621 0.04442987 0.04229579 0.        ]<br>Return: 0.0023",
          "Risks: 0.0086<br>Weights: [0.24678514 0.         0.0577441  0.14609027 0.27595641 0.1846803\n 0.         0.04978104 0.03896274 0.        ]<br>Return: 0.0024",
          "Risks: 0.0086<br>Weights: [2.70087839e-01 0.00000000e+00 6.68580991e-02 1.43859346e-01\n 2.82825759e-01 1.61311874e-01 1.30104261e-18 2.29625413e-02\n 5.20945431e-02 2.60208521e-18]<br>Return: 0.0024",
          "Risks: 0.0087<br>Weights: [0.2747784  0.         0.04842597 0.14635943 0.29069834 0.16527094\n 0.         0.02244747 0.05201946 0.        ]<br>Return: 0.0025",
          "Risks: 0.0088<br>Weights: [2.77451124e-01 2.16840434e-19 3.13060913e-02 1.51974168e-01\n 2.97764012e-01 1.68873497e-01 1.08420217e-18 2.10989351e-02\n 5.15321721e-02 0.00000000e+00]<br>Return: 0.0026",
          "Risks: 0.0089<br>Weights: [2.82167299e-01 6.50521303e-19 1.71038570e-02 1.54951785e-01\n 3.03922631e-01 1.68882194e-01 4.33680869e-19 1.90745715e-02\n 5.38976628e-02 0.00000000e+00]<br>Return: 0.0026",
          "Risks: 0.0090<br>Weights: [2.85174508e-01 5.42101086e-20 3.23667415e-03 1.61307582e-01\n 3.10703374e-01 1.70611286e-01 2.71050543e-20 1.42758666e-02\n 5.46907098e-02 4.09286320e-18]<br>Return: 0.0027",
          "Risks: 0.0091<br>Weights: [2.89629109e-01 8.13151629e-18 0.00000000e+00 1.65688506e-01\n 3.15905237e-01 1.61882153e-01 2.38524478e-18 4.65582609e-03\n 6.22391691e-02 0.00000000e+00]<br>Return: 0.0028",
          "Risks: 0.0092<br>Weights: [2.85422835e-01 1.04083409e-17 2.60208521e-18 1.70701401e-01\n 3.14106653e-01 1.54534468e-01 8.67361738e-19 1.73472348e-18\n 7.52346427e-02 1.73472348e-18]<br>Return: 0.0028",
          "Risks: 0.0093<br>Weights: [2.78810527e-01 4.01154804e-18 1.62630326e-18 1.81564430e-01\n 3.19241184e-01 1.37441561e-01 0.00000000e+00 3.90312782e-18\n 8.29422981e-02 0.00000000e+00]<br>Return: 0.0029",
          "Risks: 0.0094<br>Weights: [2.81952832e-01 1.21430643e-17 0.00000000e+00 1.89421768e-01\n 3.35032730e-01 1.06969113e-01 8.67361738e-18 0.00000000e+00\n 8.66235575e-02 0.00000000e+00]<br>Return: 0.0030",
          "Risks: 0.0096<br>Weights: [2.80594523e-01 4.33680869e-18 1.73472348e-18 2.02870918e-01\n 3.52442205e-01 7.65796193e-02 0.00000000e+00 0.00000000e+00\n 8.75127348e-02 0.00000000e+00]<br>Return: 0.0031",
          "Risks: 0.0097<br>Weights: [2.69310588e-01 0.00000000e+00 4.33680869e-18 2.25318472e-01\n 3.69581078e-01 5.03151393e-02 4.33680869e-18 1.73472348e-18\n 8.54747233e-02 2.16840434e-18]<br>Return: 0.0031",
          "Risks: 0.0099<br>Weights: [2.60438541e-01 1.43656788e-17 0.00000000e+00 2.08753422e-01\n 4.03565387e-01 2.75141592e-02 0.00000000e+00 0.00000000e+00\n 9.97284907e-02 4.11996826e-18]<br>Return: 0.0032",
          "Risks: 0.0101<br>Weights: [2.53915308e-01 0.00000000e+00 6.01732206e-18 2.16491709e-01\n 4.19478091e-01 4.55390747e-03 5.90890184e-18 2.81892565e-18\n 1.05560984e-01 0.00000000e+00]<br>Return: 0.0033",
          "Risks: 0.0103<br>Weights: [2.38412793e-01 6.83047369e-18 3.25260652e-18 2.27431117e-01\n 4.16079803e-01 0.00000000e+00 1.19262239e-17 0.00000000e+00\n 1.18076287e-01 2.81892565e-18]<br>Return: 0.0033",
          "Risks: 0.0105<br>Weights: [2.23473335e-01 1.56125113e-17 0.00000000e+00 2.39557022e-01\n 4.04360965e-01 0.00000000e+00 7.58941521e-19 1.38777878e-17\n 1.32608678e-01 1.56125113e-17]<br>Return: 0.0034",
          "Risks: 0.0108<br>Weights: [2.06592744e-01 0.00000000e+00 2.71050543e-18 2.50129498e-01\n 3.95929096e-01 2.23345648e-17 0.00000000e+00 0.00000000e+00\n 1.47348661e-01 5.96311195e-18]<br>Return: 0.0035",
          "Risks: 0.0111<br>Weights: [1.87193989e-01 8.13151629e-19 1.84314369e-18 2.58703072e-01\n 3.91750872e-01 4.11996826e-18 4.93311988e-18 0.00000000e+00\n 1.62352067e-01 7.37257477e-18]<br>Return: 0.0035",
          "Risks: 0.0114<br>Weights: [1.64175713e-01 0.00000000e+00 1.53956708e-17 2.66926048e-01\n 3.92074011e-01 6.28837260e-18 6.76271105e-18 7.53520510e-18\n 1.76824228e-01 0.00000000e+00]<br>Return: 0.0036",
          "Risks: 0.0117<br>Weights: [1.36291670e-01 1.30104261e-18 5.33969570e-18 2.79224948e-01\n 3.95541327e-01 0.00000000e+00 8.23993651e-18 8.51098705e-18\n 1.88942055e-01 0.00000000e+00]<br>Return: 0.0037",
          "Risks: 0.0120<br>Weights: [1.08110354e-01 0.00000000e+00 0.00000000e+00 3.04270594e-01\n 3.91210900e-01 8.67361738e-19 0.00000000e+00 6.93889390e-18\n 1.96408152e-01 0.00000000e+00]<br>Return: 0.0038",
          "Risks: 0.0124<br>Weights: [9.17398128e-02 6.93889390e-18 0.00000000e+00 3.29593736e-01\n 3.72746156e-01 3.45318392e-17 4.33680869e-18 0.00000000e+00\n 2.05920296e-01 5.48877350e-18]<br>Return: 0.0038",
          "Risks: 0.0128<br>Weights: [7.24889306e-02 2.38524478e-18 1.73472348e-18 3.15441710e-01\n 3.82921732e-01 9.10729825e-18 0.00000000e+00 0.00000000e+00\n 2.29147627e-01 1.30104261e-18]<br>Return: 0.0039",
          "Risks: 0.0132<br>Weights: [6.36182525e-02 0.00000000e+00 0.00000000e+00 3.58360347e-01\n 3.44345470e-01 0.00000000e+00 6.07153217e-18 1.43114687e-17\n 2.33675931e-01 0.00000000e+00]<br>Return: 0.0040",
          "Risks: 0.0136<br>Weights: [3.16244931e-02 4.85722573e-17 0.00000000e+00 3.39460803e-01\n 3.72614538e-01 0.00000000e+00 1.71303943e-17 2.91650384e-17\n 2.56300166e-01 0.00000000e+00]<br>Return: 0.0040",
          "Risks: 0.0140<br>Weights: [3.09361728e-02 0.00000000e+00 0.00000000e+00 3.83858514e-01\n 3.23423523e-01 0.00000000e+00 0.00000000e+00 0.00000000e+00\n 2.61781791e-01 4.33680869e-18]<br>Return: 0.0041",
          "Risks: 0.0144<br>Weights: [1.33726050e-02 0.00000000e+00 0.00000000e+00 3.92976651e-01\n 3.16728498e-01 0.00000000e+00 1.38777878e-17 5.20417043e-18\n 2.76922247e-01 0.00000000e+00]<br>Return: 0.0042",
          "Risks: 0.0149<br>Weights: [1.38777878e-17 0.00000000e+00 2.08166817e-17 4.02892733e-01\n 3.04570840e-01 2.29850861e-17 0.00000000e+00 0.00000000e+00\n 2.92536427e-01 0.00000000e+00]<br>Return: 0.0042",
          "Risks: 0.0153<br>Weights: [0.00000000e+00 1.04083409e-17 0.00000000e+00 3.97404187e-01\n 2.86458861e-01 3.46944695e-18 0.00000000e+00 2.16840434e-18\n 3.16136952e-01 1.95156391e-18]<br>Return: 0.0043",
          "Risks: 0.0158<br>Weights: [1.38777878e-17 6.93889390e-18 0.00000000e+00 3.92079494e-01\n 2.68242132e-01 0.00000000e+00 0.00000000e+00 2.38524478e-17\n 3.39678373e-01 0.00000000e+00]<br>Return: 0.0044",
          "Risks: 0.0163<br>Weights: [0.00000000e+00 1.38777878e-17 0.00000000e+00 3.85396902e-01\n 2.50893513e-01 6.93889390e-18 0.00000000e+00 6.93889390e-18\n 3.63709585e-01 0.00000000e+00]<br>Return: 0.0045",
          "Risks: 0.0168<br>Weights: [0.00000000e+00 1.82145965e-17 0.00000000e+00 3.78129534e-01\n 2.33918740e-01 6.93889390e-18 0.00000000e+00 5.63785130e-18\n 3.87951726e-01 0.00000000e+00]<br>Return: 0.0045",
          "Risks: 0.0173<br>Weights: [3.29597460e-17 0.00000000e+00 2.81892565e-18 3.70572549e-01\n 2.17129122e-01 0.00000000e+00 0.00000000e+00 0.00000000e+00\n 4.12298330e-01 4.98732999e-18]<br>Return: 0.0046",
          "Risks: 0.0179<br>Weights: [0.00000000e+00 6.91408694e-18 2.53647771e-18 4.15554668e-01\n 1.66751097e-01 9.81045749e-19 0.00000000e+00 0.00000000e+00\n 4.17694235e-01 0.00000000e+00]<br>Return: 0.0047",
          "Risks: 0.0184<br>Weights: [0.00000000e+00 0.00000000e+00 2.22668239e-18 4.23566648e-01\n 1.40008193e-01 1.97585817e-18 0.00000000e+00 0.00000000e+00\n 4.36425158e-01 7.28195745e-18]<br>Return: 0.0047",
          "Risks: 0.0190<br>Weights: [1.60229664e-17 5.38318598e-18 1.22752064e-17 4.31620168e-01\n 1.13238732e-01 0.00000000e+00 0.00000000e+00 0.00000000e+00\n 4.55141100e-01 0.00000000e+00]<br>Return: 0.0048",
          "Risks: 0.0196<br>Weights: [0.00000000e+00 1.28251224e-17 0.00000000e+00 4.39714322e-01\n 8.64432932e-02 0.00000000e+00 0.00000000e+00 0.00000000e+00\n 4.73842385e-01 0.00000000e+00]<br>Return: 0.0049",
          "Risks: 0.0201<br>Weights: [8.86145170e-18 0.00000000e+00 0.00000000e+00 4.47786181e-01\n 5.96621068e-02 1.50276517e-18 6.56018743e-18 1.53744890e-17\n 4.92551712e-01 0.00000000e+00]<br>Return: 0.0049",
          "Risks: 0.0207<br>Weights: [1.44549845e-17 1.09000646e-17 7.87895343e-18 4.56806675e-01\n 3.22744579e-02 4.04307591e-18 0.00000000e+00 0.00000000e+00\n 5.10918867e-01 0.00000000e+00]<br>Return: 0.0050",
          "Risks: 0.0213<br>Weights: [1.21740026e-17 4.18785267e-19 1.51688705e-18 4.64402919e-01\n 5.79733379e-03 0.00000000e+00 3.43548708e-18 0.00000000e+00\n 5.29799747e-01 2.59118149e-18]<br>Return: 0.0051",
          "Risks: 0.0219<br>Weights: [0.00000000e+00 4.44571674e-18 0.00000000e+00 4.39651764e-01\n 0.00000000e+00 6.34470893e-18 3.92431853e-18 0.00000000e+00\n 5.60348236e-01 9.69401487e-18]<br>Return: 0.0052",
          "Risks: 0.0226<br>Weights: [5.86345945e-18 0.00000000e+00 0.00000000e+00 4.05832397e-01\n 0.00000000e+00 3.10783054e-18 0.00000000e+00 9.31287010e-19\n 5.94167603e-01 0.00000000e+00]<br>Return: 0.0052",
          "Risks: 0.0233<br>Weights: [0.00000000e+00 1.71051160e-17 5.12673018e-18 3.72013031e-01\n 0.00000000e+00 0.00000000e+00 5.67024862e-18 0.00000000e+00\n 6.27986969e-01 0.00000000e+00]<br>Return: 0.0053",
          "Risks: 0.0240<br>Weights: [0.00000000e+00 3.14908944e-18 0.00000000e+00 3.38193665e-01\n 0.00000000e+00 0.00000000e+00 9.65773404e-18 2.83737827e-19\n 6.61806335e-01 3.95147352e-19]<br>Return: 0.0054",
          "Risks: 0.0247<br>Weights: [0.00000000e+00 1.53855407e-18 0.00000000e+00 3.04374297e-01\n 0.00000000e+00 8.75590567e-18 0.00000000e+00 1.10588256e-18\n 6.95625703e-01 9.17623467e-19]<br>Return: 0.0054",
          "Risks: 0.0255<br>Weights: [0.00000000e+00 5.29957469e-18 7.65448885e-18 2.70554932e-01\n 1.23599048e-17 0.00000000e+00 0.00000000e+00 0.00000000e+00\n 7.29445068e-01 3.59516307e-18]<br>Return: 0.0055",
          "Risks: 0.0263<br>Weights: [0.00000000e+00 0.00000000e+00 0.00000000e+00 2.36735564e-01\n 0.00000000e+00 9.71445147e-17 1.66533454e-16 4.16333634e-17\n 7.63264436e-01 0.00000000e+00]<br>Return: 0.0056",
          "Risks: 0.0271<br>Weights: [0.00000000e+00 0.00000000e+00 5.55111512e-17 2.02916197e-01\n 1.24900090e-16 0.00000000e+00 8.32667268e-17 0.00000000e+00\n 7.97083803e-01 0.00000000e+00]<br>Return: 0.0056",
          "Risks: 0.0280<br>Weights: [9.71445147e-17 4.16333634e-16 0.00000000e+00 1.69096831e-01\n 0.00000000e+00 4.16333634e-17 1.11022302e-16 0.00000000e+00\n 8.30903169e-01 1.66533454e-16]<br>Return: 0.0057",
          "Risks: 0.0288<br>Weights: [9.71445147e-17 8.32667268e-17 0.00000000e+00 1.35277465e-01\n 0.00000000e+00 0.00000000e+00 2.77555756e-16 3.19189120e-16\n 8.64722535e-01 0.00000000e+00]<br>Return: 0.0058",
          "Risks: 0.0297<br>Weights: [1.52655666e-16 0.00000000e+00 0.00000000e+00 1.01458090e-01\n 6.93889390e-17 0.00000000e+00 0.00000000e+00 2.08166817e-16\n 8.98541910e-01 1.66533454e-16]<br>Return: 0.0059",
          "Risks: 0.0306<br>Weights: [1.38777878e-16 0.00000000e+00 0.00000000e+00 6.76387224e-02\n 2.63677968e-16 1.24900090e-16 5.96744876e-16 8.32667268e-17\n 9.32361278e-01 4.71844785e-16]<br>Return: 0.0059",
          "Risks: 0.0315<br>Weights: [1.94289029e-16 0.00000000e+00 0.00000000e+00 3.38193550e-02\n 2.35922393e-16 2.08166817e-16 0.00000000e+00 0.00000000e+00\n 9.66180645e-01 6.93889390e-16]<br>Return: 0.0060",
          "Risks: 0.0324<br>Weights: [5.62436902e-18 0.00000000e+00 8.34932988e-18 2.13251888e-13\n 0.00000000e+00 0.00000000e+00 9.82316721e-18 0.00000000e+00\n 1.00000000e+00 0.00000000e+00]<br>Return: 0.0061"
         ],
         "type": "scatter",
         "x": [
          0.007716848025703703,
          0.007706404537777945,
          0.0077190643054981705,
          0.007733527080728119,
          0.007749717020603207,
          0.007769261149713801,
          0.007792548699742621,
          0.007842496761899421,
          0.007851310338202855,
          0.007885279951992855,
          0.007923288778517843,
          0.007965339979023978,
          0.00803442305579037,
          0.008057941333517065,
          0.008110077368623403,
          0.008165357719297585,
          0.008224093734607007,
          0.008286019889851264,
          0.008370831208920869,
          0.008437449376005934,
          0.008504921812156974,
          0.00858564748081034,
          0.008647751336164883,
          0.008731314273208718,
          0.008817739524622142,
          0.008906630708380915,
          0.008997584786916668,
          0.009087303774128759,
          0.009191227800031765,
          0.009309048429429433,
          0.009437692420799618,
          0.00958313314810093,
          0.009749301967390453,
          0.009911303062763029,
          0.010101000212060009,
          0.01030853075018022,
          0.010544230215008712,
          0.010804092220807334,
          0.011085344864918044,
          0.011386302338314686,
          0.011706562130733983,
          0.01204976641031851,
          0.012415480094875421,
          0.012779136199282056,
          0.013184271021064895,
          0.013567178460234818,
          0.01400241407771038,
          0.01442382541493597,
          0.014859595622432966,
          0.01531105794998475,
          0.015786681880835388,
          0.016284396787072844,
          0.016803254702012594,
          0.017341720232517205,
          0.017867192014768038,
          0.018420354980146717,
          0.018984390570647863,
          0.019558358419744126,
          0.02014140910873087,
          0.020732797577523963,
          0.021331778090480976,
          0.02194673678925118,
          0.02259758391478395,
          0.023282217143700643,
          0.02399774502409247,
          0.024741487270558384,
          0.025510976294994252,
          0.02630395269130701,
          0.02711835606441142,
          0.02795231365007208,
          0.02880412705592613,
          0.029672258756983025,
          0.030555317500372173,
          0.03145204619413684,
          0.03236130814347317
         ],
         "y": [
          0.0008898607227128155,
          0.0009597704150310255,
          0.0010296801073492355,
          0.0010995897996674455,
          0.0011694994919856554,
          0.0012394091843038655,
          0.0013093188766220756,
          0.0013792285689402856,
          0.0014491382612584955,
          0.0015190479535767054,
          0.0015889576458949155,
          0.0016588673382131255,
          0.0017287770305313356,
          0.0017986867228495455,
          0.0018685964151677556,
          0.0019385061074859654,
          0.0020084157998041755,
          0.0020783254921223856,
          0.0021482351844405957,
          0.0022181448767588053,
          0.0022880545690770154,
          0.0023579642613952255,
          0.0024278739537134356,
          0.0024977836460316457,
          0.0025676933383498553,
          0.002637603030668066,
          0.0027075127229862755,
          0.0027774224153044856,
          0.0028473321076226956,
          0.0029172417999409057,
          0.0029871514922591154,
          0.0030570611845773255,
          0.0031269708768955355,
          0.0031968805692137456,
          0.0032667902615319557,
          0.0033366999538501653,
          0.0034066096461683754,
          0.0034765193384865855,
          0.0035464290308047956,
          0.0036163387231230057,
          0.0036862484154412153,
          0.0037561581077594254,
          0.0038260678000776355,
          0.0038959774923958456,
          0.003965887184714056,
          0.004035796877032266,
          0.004105706569350475,
          0.004175616261668685,
          0.0042455259539868955,
          0.004315435646305106,
          0.004385345338623316,
          0.004455255030941525,
          0.004525164723259735,
          0.0045950744155779455,
          0.004664984107896156,
          0.004734893800214366,
          0.004804803492532575,
          0.004874713184850785,
          0.004944622877168996,
          0.005014532569487206,
          0.005084442261805416,
          0.005154351954123625,
          0.005224261646441835,
          0.005294171338760046,
          0.005364081031078256,
          0.005433990723396466,
          0.005503900415714675,
          0.005573810108032885,
          0.005643719800351096,
          0.005713629492669306,
          0.005783539184987516,
          0.005853448877305725,
          0.005923358569623935,
          0.005993268261942146,
          0.006063177954260356
         ]
        }
       ],
       "layout": {
        "template": {
         "data": {
          "bar": [
           {
            "error_x": {
             "color": "#2a3f5f"
            },
            "error_y": {
             "color": "#2a3f5f"
            },
            "marker": {
             "line": {
              "color": "#E5ECF6",
              "width": 0.5
             },
             "pattern": {
              "fillmode": "overlay",
              "size": 10,
              "solidity": 0.2
             }
            },
            "type": "bar"
           }
          ],
          "barpolar": [
           {
            "marker": {
             "line": {
              "color": "#E5ECF6",
              "width": 0.5
             },
             "pattern": {
              "fillmode": "overlay",
              "size": 10,
              "solidity": 0.2
             }
            },
            "type": "barpolar"
           }
          ],
          "carpet": [
           {
            "aaxis": {
             "endlinecolor": "#2a3f5f",
             "gridcolor": "white",
             "linecolor": "white",
             "minorgridcolor": "white",
             "startlinecolor": "#2a3f5f"
            },
            "baxis": {
             "endlinecolor": "#2a3f5f",
             "gridcolor": "white",
             "linecolor": "white",
             "minorgridcolor": "white",
             "startlinecolor": "#2a3f5f"
            },
            "type": "carpet"
           }
          ],
          "choropleth": [
           {
            "colorbar": {
             "outlinewidth": 0,
             "ticks": ""
            },
            "type": "choropleth"
           }
          ],
          "contour": [
           {
            "colorbar": {
             "outlinewidth": 0,
             "ticks": ""
            },
            "colorscale": [
             [
              0,
              "#0d0887"
             ],
             [
              0.1111111111111111,
              "#46039f"
             ],
             [
              0.2222222222222222,
              "#7201a8"
             ],
             [
              0.3333333333333333,
              "#9c179e"
             ],
             [
              0.4444444444444444,
              "#bd3786"
             ],
             [
              0.5555555555555556,
              "#d8576b"
             ],
             [
              0.6666666666666666,
              "#ed7953"
             ],
             [
              0.7777777777777778,
              "#fb9f3a"
             ],
             [
              0.8888888888888888,
              "#fdca26"
             ],
             [
              1,
              "#f0f921"
             ]
            ],
            "type": "contour"
           }
          ],
          "contourcarpet": [
           {
            "colorbar": {
             "outlinewidth": 0,
             "ticks": ""
            },
            "type": "contourcarpet"
           }
          ],
          "heatmap": [
           {
            "colorbar": {
             "outlinewidth": 0,
             "ticks": ""
            },
            "colorscale": [
             [
              0,
              "#0d0887"
             ],
             [
              0.1111111111111111,
              "#46039f"
             ],
             [
              0.2222222222222222,
              "#7201a8"
             ],
             [
              0.3333333333333333,
              "#9c179e"
             ],
             [
              0.4444444444444444,
              "#bd3786"
             ],
             [
              0.5555555555555556,
              "#d8576b"
             ],
             [
              0.6666666666666666,
              "#ed7953"
             ],
             [
              0.7777777777777778,
              "#fb9f3a"
             ],
             [
              0.8888888888888888,
              "#fdca26"
             ],
             [
              1,
              "#f0f921"
             ]
            ],
            "type": "heatmap"
           }
          ],
          "heatmapgl": [
           {
            "colorbar": {
             "outlinewidth": 0,
             "ticks": ""
            },
            "colorscale": [
             [
              0,
              "#0d0887"
             ],
             [
              0.1111111111111111,
              "#46039f"
             ],
             [
              0.2222222222222222,
              "#7201a8"
             ],
             [
              0.3333333333333333,
              "#9c179e"
             ],
             [
              0.4444444444444444,
              "#bd3786"
             ],
             [
              0.5555555555555556,
              "#d8576b"
             ],
             [
              0.6666666666666666,
              "#ed7953"
             ],
             [
              0.7777777777777778,
              "#fb9f3a"
             ],
             [
              0.8888888888888888,
              "#fdca26"
             ],
             [
              1,
              "#f0f921"
             ]
            ],
            "type": "heatmapgl"
           }
          ],
          "histogram": [
           {
            "marker": {
             "pattern": {
              "fillmode": "overlay",
              "size": 10,
              "solidity": 0.2
             }
            },
            "type": "histogram"
           }
          ],
          "histogram2d": [
           {
            "colorbar": {
             "outlinewidth": 0,
             "ticks": ""
            },
            "colorscale": [
             [
              0,
              "#0d0887"
             ],
             [
              0.1111111111111111,
              "#46039f"
             ],
             [
              0.2222222222222222,
              "#7201a8"
             ],
             [
              0.3333333333333333,
              "#9c179e"
             ],
             [
              0.4444444444444444,
              "#bd3786"
             ],
             [
              0.5555555555555556,
              "#d8576b"
             ],
             [
              0.6666666666666666,
              "#ed7953"
             ],
             [
              0.7777777777777778,
              "#fb9f3a"
             ],
             [
              0.8888888888888888,
              "#fdca26"
             ],
             [
              1,
              "#f0f921"
             ]
            ],
            "type": "histogram2d"
           }
          ],
          "histogram2dcontour": [
           {
            "colorbar": {
             "outlinewidth": 0,
             "ticks": ""
            },
            "colorscale": [
             [
              0,
              "#0d0887"
             ],
             [
              0.1111111111111111,
              "#46039f"
             ],
             [
              0.2222222222222222,
              "#7201a8"
             ],
             [
              0.3333333333333333,
              "#9c179e"
             ],
             [
              0.4444444444444444,
              "#bd3786"
             ],
             [
              0.5555555555555556,
              "#d8576b"
             ],
             [
              0.6666666666666666,
              "#ed7953"
             ],
             [
              0.7777777777777778,
              "#fb9f3a"
             ],
             [
              0.8888888888888888,
              "#fdca26"
             ],
             [
              1,
              "#f0f921"
             ]
            ],
            "type": "histogram2dcontour"
           }
          ],
          "mesh3d": [
           {
            "colorbar": {
             "outlinewidth": 0,
             "ticks": ""
            },
            "type": "mesh3d"
           }
          ],
          "parcoords": [
           {
            "line": {
             "colorbar": {
              "outlinewidth": 0,
              "ticks": ""
             }
            },
            "type": "parcoords"
           }
          ],
          "pie": [
           {
            "automargin": true,
            "type": "pie"
           }
          ],
          "scatter": [
           {
            "fillpattern": {
             "fillmode": "overlay",
             "size": 10,
             "solidity": 0.2
            },
            "type": "scatter"
           }
          ],
          "scatter3d": [
           {
            "line": {
             "colorbar": {
              "outlinewidth": 0,
              "ticks": ""
             }
            },
            "marker": {
             "colorbar": {
              "outlinewidth": 0,
              "ticks": ""
             }
            },
            "type": "scatter3d"
           }
          ],
          "scattercarpet": [
           {
            "marker": {
             "colorbar": {
              "outlinewidth": 0,
              "ticks": ""
             }
            },
            "type": "scattercarpet"
           }
          ],
          "scattergeo": [
           {
            "marker": {
             "colorbar": {
              "outlinewidth": 0,
              "ticks": ""
             }
            },
            "type": "scattergeo"
           }
          ],
          "scattergl": [
           {
            "marker": {
             "colorbar": {
              "outlinewidth": 0,
              "ticks": ""
             }
            },
            "type": "scattergl"
           }
          ],
          "scattermapbox": [
           {
            "marker": {
             "colorbar": {
              "outlinewidth": 0,
              "ticks": ""
             }
            },
            "type": "scattermapbox"
           }
          ],
          "scatterpolar": [
           {
            "marker": {
             "colorbar": {
              "outlinewidth": 0,
              "ticks": ""
             }
            },
            "type": "scatterpolar"
           }
          ],
          "scatterpolargl": [
           {
            "marker": {
             "colorbar": {
              "outlinewidth": 0,
              "ticks": ""
             }
            },
            "type": "scatterpolargl"
           }
          ],
          "scatterternary": [
           {
            "marker": {
             "colorbar": {
              "outlinewidth": 0,
              "ticks": ""
             }
            },
            "type": "scatterternary"
           }
          ],
          "surface": [
           {
            "colorbar": {
             "outlinewidth": 0,
             "ticks": ""
            },
            "colorscale": [
             [
              0,
              "#0d0887"
             ],
             [
              0.1111111111111111,
              "#46039f"
             ],
             [
              0.2222222222222222,
              "#7201a8"
             ],
             [
              0.3333333333333333,
              "#9c179e"
             ],
             [
              0.4444444444444444,
              "#bd3786"
             ],
             [
              0.5555555555555556,
              "#d8576b"
             ],
             [
              0.6666666666666666,
              "#ed7953"
             ],
             [
              0.7777777777777778,
              "#fb9f3a"
             ],
             [
              0.8888888888888888,
              "#fdca26"
             ],
             [
              1,
              "#f0f921"
             ]
            ],
            "type": "surface"
           }
          ],
          "table": [
           {
            "cells": {
             "fill": {
              "color": "#EBF0F8"
             },
             "line": {
              "color": "white"
             }
            },
            "header": {
             "fill": {
              "color": "#C8D4E3"
             },
             "line": {
              "color": "white"
             }
            },
            "type": "table"
           }
          ]
         },
         "layout": {
          "annotationdefaults": {
           "arrowcolor": "#2a3f5f",
           "arrowhead": 0,
           "arrowwidth": 1
          },
          "autotypenumbers": "strict",
          "coloraxis": {
           "colorbar": {
            "outlinewidth": 0,
            "ticks": ""
           }
          },
          "colorscale": {
           "diverging": [
            [
             0,
             "#8e0152"
            ],
            [
             0.1,
             "#c51b7d"
            ],
            [
             0.2,
             "#de77ae"
            ],
            [
             0.3,
             "#f1b6da"
            ],
            [
             0.4,
             "#fde0ef"
            ],
            [
             0.5,
             "#f7f7f7"
            ],
            [
             0.6,
             "#e6f5d0"
            ],
            [
             0.7,
             "#b8e186"
            ],
            [
             0.8,
             "#7fbc41"
            ],
            [
             0.9,
             "#4d9221"
            ],
            [
             1,
             "#276419"
            ]
           ],
           "sequential": [
            [
             0,
             "#0d0887"
            ],
            [
             0.1111111111111111,
             "#46039f"
            ],
            [
             0.2222222222222222,
             "#7201a8"
            ],
            [
             0.3333333333333333,
             "#9c179e"
            ],
            [
             0.4444444444444444,
             "#bd3786"
            ],
            [
             0.5555555555555556,
             "#d8576b"
            ],
            [
             0.6666666666666666,
             "#ed7953"
            ],
            [
             0.7777777777777778,
             "#fb9f3a"
            ],
            [
             0.8888888888888888,
             "#fdca26"
            ],
            [
             1,
             "#f0f921"
            ]
           ],
           "sequentialminus": [
            [
             0,
             "#0d0887"
            ],
            [
             0.1111111111111111,
             "#46039f"
            ],
            [
             0.2222222222222222,
             "#7201a8"
            ],
            [
             0.3333333333333333,
             "#9c179e"
            ],
            [
             0.4444444444444444,
             "#bd3786"
            ],
            [
             0.5555555555555556,
             "#d8576b"
            ],
            [
             0.6666666666666666,
             "#ed7953"
            ],
            [
             0.7777777777777778,
             "#fb9f3a"
            ],
            [
             0.8888888888888888,
             "#fdca26"
            ],
            [
             1,
             "#f0f921"
            ]
           ]
          },
          "colorway": [
           "#636efa",
           "#EF553B",
           "#00cc96",
           "#ab63fa",
           "#FFA15A",
           "#19d3f3",
           "#FF6692",
           "#B6E880",
           "#FF97FF",
           "#FECB52"
          ],
          "font": {
           "color": "#2a3f5f"
          },
          "geo": {
           "bgcolor": "white",
           "lakecolor": "white",
           "landcolor": "#E5ECF6",
           "showlakes": true,
           "showland": true,
           "subunitcolor": "white"
          },
          "hoverlabel": {
           "align": "left"
          },
          "hovermode": "closest",
          "mapbox": {
           "style": "light"
          },
          "paper_bgcolor": "white",
          "plot_bgcolor": "#E5ECF6",
          "polar": {
           "angularaxis": {
            "gridcolor": "white",
            "linecolor": "white",
            "ticks": ""
           },
           "bgcolor": "#E5ECF6",
           "radialaxis": {
            "gridcolor": "white",
            "linecolor": "white",
            "ticks": ""
           }
          },
          "scene": {
           "xaxis": {
            "backgroundcolor": "#E5ECF6",
            "gridcolor": "white",
            "gridwidth": 2,
            "linecolor": "white",
            "showbackground": true,
            "ticks": "",
            "zerolinecolor": "white"
           },
           "yaxis": {
            "backgroundcolor": "#E5ECF6",
            "gridcolor": "white",
            "gridwidth": 2,
            "linecolor": "white",
            "showbackground": true,
            "ticks": "",
            "zerolinecolor": "white"
           },
           "zaxis": {
            "backgroundcolor": "#E5ECF6",
            "gridcolor": "white",
            "gridwidth": 2,
            "linecolor": "white",
            "showbackground": true,
            "ticks": "",
            "zerolinecolor": "white"
           }
          },
          "shapedefaults": {
           "line": {
            "color": "#2a3f5f"
           }
          },
          "ternary": {
           "aaxis": {
            "gridcolor": "white",
            "linecolor": "white",
            "ticks": ""
           },
           "baxis": {
            "gridcolor": "white",
            "linecolor": "white",
            "ticks": ""
           },
           "bgcolor": "#E5ECF6",
           "caxis": {
            "gridcolor": "white",
            "linecolor": "white",
            "ticks": ""
           }
          },
          "title": {
           "x": 0.05
          },
          "xaxis": {
           "automargin": true,
           "gridcolor": "white",
           "linecolor": "white",
           "ticks": "",
           "title": {
            "standoff": 15
           },
           "zerolinecolor": "white",
           "zerolinewidth": 2
          },
          "yaxis": {
           "automargin": true,
           "gridcolor": "white",
           "linecolor": "white",
           "ticks": "",
           "title": {
            "standoff": 15
           },
           "zerolinecolor": "white",
           "zerolinewidth": 2
          }
         }
        },
        "title": {
         "text": "Efficient Frontier"
        },
        "xaxis": {
         "title": {
          "text": "Volatility"
         }
        },
        "yaxis": {
         "title": {
          "text": "Return"
         }
        }
       }
      }
     },
     "metadata": {},
     "output_type": "display_data"
    }
   ],
   "source": [
    "\n",
    "# Call the plot_efficient_frontier_parabola function\n",
    "portfolio_optimizer2.plot_efficient_frontier_parabola()\n",
    "\n",
    "# Call the plot_efficient_frontier function\n",
    "portfolio_optimizer2.plot_efficient_frontier()"
   ]
  },
  {
   "cell_type": "code",
   "execution_count": 23,
   "id": "ec09f27d-7c4b-40e0-a19f-cffead09a500",
   "metadata": {},
   "outputs": [
    {
     "name": "stdout",
     "output_type": "stream",
     "text": [
      "Markowitz Optimization for Target Return 0.005 Results:\n",
      "Optimal Weights:\n",
      "AAPL : 0.0\n",
      "MSFT : 0.0\n",
      "GOOGL : 0.0\n",
      "AMZN : 45.37\n",
      "CSCO : 3.87\n",
      "TSLA : 0.0\n",
      "NVDA : 0.0\n",
      "JPM : 0.0\n",
      "GS : 50.75\n",
      "NFLX : 0.0\n",
      "Optimal Risk: 2.06 %\n",
      "Optimal Return: 0.5 %\n"
     ]
    },
    {
     "data": {
      "application/vnd.plotly.v1+json": {
       "config": {
        "plotlyServerURL": "https://plot.ly"
       },
       "data": [
        {
         "mode": "lines",
         "name": "Efficient Frontier",
         "type": "scatter",
         "x": [
          0.007716848025703703,
          0.007711044531840155,
          0.007725515391880693,
          0.007745314093418994,
          0.007769624277239805,
          0.007821930499372711,
          0.007836055926585657,
          0.007878034842111215,
          0.00792463730979937,
          0.007977813993786035,
          0.008035495541567796,
          0.008121922766128163,
          0.008168232379230865,
          0.00824251040346482,
          0.008322951852553658,
          0.008424820312813459,
          0.008510068636257254,
          0.00861166687153202,
          0.008695698432166705,
          0.008803024843850824,
          0.0089143600734652,
          0.009027211660483803,
          0.009145286086794104,
          0.00929056129940614,
          0.009451414327455056,
          0.009639279932611818,
          0.009841118635829012,
          0.010074514424722807,
          0.010334972262183408,
          0.010638619357216529,
          0.010978058687413517,
          0.011349643309636363,
          0.011751573455816304,
          0.012190191413357344,
          0.012658752161098855,
          0.013143963063910363,
          0.013649878779633189,
          0.014173692479381269,
          0.014710239650851524,
          0.015271799840118474,
          0.015869504024765644,
          0.016501683894409334,
          0.017166268303968352,
          0.017830108346066645,
          0.018524719110956555,
          0.019236153759892034,
          0.01996261396935321,
          0.020702540969154755,
          0.02145447918513351,
          0.022240196309105665,
          0.02308165808777866,
          0.02397301330965337,
          0.024908906311083275,
          0.025884506556474566,
          0.026895493369388505,
          0.027938025456390517,
          0.029008701938030308,
          0.030104520303706396,
          0.031222833071996664,
          0.03236130814347317
         ],
         "y": [
          0.0008898607227128155,
          0.000977544065620401,
          0.0010652274085279864,
          0.0011529107514355718,
          0.0012405940943431572,
          0.0013282774372507427,
          0.001415960780158328,
          0.0015036441230659135,
          0.001591327465973499,
          0.0016790108088810844,
          0.0017666941517886698,
          0.0018543774946962552,
          0.0019420608376038405,
          0.002029744180511426,
          0.002117427523419011,
          0.002205110866326597,
          0.002292794209234182,
          0.002380477552141768,
          0.002468160895049353,
          0.0025558442379569387,
          0.0026435275808645237,
          0.0027312109237721096,
          0.0028188942666796946,
          0.00290657760958728,
          0.0029942609524948654,
          0.003081944295402451,
          0.0031696276383100363,
          0.0032573109812176217,
          0.003344994324125207,
          0.0034326776670327926,
          0.003520361009940378,
          0.0036080443528479634,
          0.003695727695755549,
          0.0037834110386631343,
          0.0038710943815707197,
          0.003958777724478306,
          0.004046461067385891,
          0.004134144410293476,
          0.0042218277532010615,
          0.004309511096108647,
          0.004397194439016232,
          0.004484877781923817,
          0.004572561124831403,
          0.004660244467738989,
          0.004747927810646574,
          0.004835611153554159,
          0.004923294496461745,
          0.005010977839369331,
          0.005098661182276915,
          0.005186344525184501,
          0.005274027868092087,
          0.0053617112109996725,
          0.005449394553907257,
          0.0055370778968148425,
          0.005624761239722428,
          0.005712444582630014,
          0.005800127925537598,
          0.005887811268445184,
          0.00597549461135277,
          0.006063177954260356
         ]
        },
        {
         "hoverinfo": "text",
         "mode": "markers",
         "name": "Efficient Frontier Points",
         "text": [
          "Risks: 0.0077<br>Weights: [0.16777669 0.04759293 0.29281263 0.01984871 0.1265924  0.16601699\n 0.08590083 0.09158015 0.00187866 0.        ]<br>Return: 0.0009",
          "Risks: 0.0077<br>Weights: [1.67559811e-01 3.02997556e-02 2.93469412e-01 4.47799628e-02\n 1.41193523e-01 1.55270360e-01 7.18668133e-02 9.55603620e-02\n 1.19262239e-18 0.00000000e+00]<br>Return: 0.0010",
          "Risks: 0.0077<br>Weights: [0.17812261 0.02430993 0.28158122 0.05415036 0.1511802  0.15450538\n 0.06365221 0.09205931 0.00043876 0.        ]<br>Return: 0.0011",
          "Risks: 0.0077<br>Weights: [1.85859067e-01 2.22219413e-02 2.67870214e-01 5.95060120e-02\n 1.59005493e-01 1.55050141e-01 5.83599084e-02 8.83331738e-02\n 3.79404967e-03 4.82469967e-18]<br>Return: 0.0012",
          "Risks: 0.0078<br>Weights: [0.19225166 0.01770481 0.25666286 0.06660557 0.16828516 0.1541781\n 0.05162911 0.08557429 0.00710844 0.        ]<br>Return: 0.0012",
          "Risks: 0.0078<br>Weights: [0.19049273 0.03823798 0.22089154 0.04790219 0.1740239  0.17656756\n 0.06300375 0.07172417 0.01715618 0.        ]<br>Return: 0.0013",
          "Risks: 0.0078<br>Weights: [2.05981133e-01 8.50334832e-03 2.33806305e-01 8.14436612e-02\n 1.86443286e-01 1.52291711e-01 3.75790862e-02 8.09256519e-02\n 1.30258182e-02 5.12285526e-18]<br>Return: 0.0014",
          "Risks: 0.0079<br>Weights: [2.13240178e-01 4.85320361e-03 2.21054574e-01 8.77636909e-02\n 1.95528852e-01 1.52113829e-01 3.12641381e-02 7.82703776e-02\n 1.59111571e-02 3.44234190e-18]<br>Return: 0.0015",
          "Risks: 0.0079<br>Weights: [0.21657386 0.00341361 0.2074321  0.09661584 0.20479948 0.1524369\n 0.02677451 0.07413575 0.01781796 0.        ]<br>Return: 0.0016",
          "Risks: 0.0080<br>Weights: [2.24931802e-01 1.08420217e-18 1.94183819e-01 1.01843354e-01\n 2.13290879e-01 1.52405061e-01 2.05508884e-02 7.17482896e-02\n 2.10459065e-02 1.13841228e-18]<br>Return: 0.0017",
          "Risks: 0.0080<br>Weights: [2.27377045e-01 0.00000000e+00 1.79772532e-01 1.09783970e-01\n 2.21236664e-01 1.53049284e-01 1.74278560e-02 6.75483725e-02\n 2.38042766e-02 5.51587855e-18]<br>Return: 0.0018",
          "Risks: 0.0081<br>Weights: [2.30565759e-01 1.67474102e-02 1.44589430e-01 8.96247823e-02\n 2.26207325e-01 1.78490466e-01 2.99929451e-02 4.94409737e-02\n 3.43409099e-02 6.12574227e-18]<br>Return: 0.0019",
          "Risks: 0.0082<br>Weights: [2.37055604e-01 0.00000000e+00 1.49739456e-01 1.21307103e-01\n 2.37218478e-01 1.56514028e-01 9.95963704e-03 5.81117300e-02\n 3.00939637e-02 6.50521303e-19]<br>Return: 0.0019",
          "Risks: 0.0082<br>Weights: [2.39418777e-01 2.71050543e-20 1.34914533e-01 1.27543943e-01\n 2.45435421e-01 1.59526733e-01 7.66534990e-03 5.18519683e-02\n 3.36432739e-02 4.40457133e-19]<br>Return: 0.0020",
          "Risks: 0.0083<br>Weights: [2.42967062e-01 0.00000000e+00 1.20509330e-01 1.34085993e-01\n 2.51211481e-01 1.59875477e-01 5.20811898e-03 4.84067333e-02\n 3.77358046e-02 6.36968776e-18]<br>Return: 0.0021",
          "Risks: 0.0084<br>Weights: [2.55407535e-01 3.70968069e-03 9.32842254e-02 1.17593166e-01\n 2.60197478e-01 1.80671450e-01 9.50555197e-03 3.33527708e-02\n 4.62781428e-02 1.73472348e-18]<br>Return: 0.0022",
          "Risks: 0.0085<br>Weights: [0.25293636 0.         0.07293132 0.13246057 0.27002547 0.18260085\n 0.00198705 0.04507042 0.04198797 0.        ]<br>Return: 0.0023",
          "Risks: 0.0086<br>Weights: [2.45827855e-01 2.73761049e-18 5.42019398e-02 1.49095613e-01\n 2.76730733e-01 1.83845233e-01 3.13063377e-18 5.03069961e-02\n 3.99916298e-02 5.75982404e-18]<br>Return: 0.0024",
          "Risks: 0.0087<br>Weights: [2.72236677e-01 1.08420217e-18 5.63617833e-02 1.44836298e-01\n 2.86917293e-01 1.65012012e-01 4.33680869e-19 2.19688256e-02\n 5.26671108e-02 2.71050543e-18]<br>Return: 0.0025",
          "Risks: 0.0088<br>Weights: [2.77028873e-01 2.16840434e-19 3.36635206e-02 1.51108101e-01\n 2.96527394e-01 1.68202754e-01 8.67361738e-19 2.21843717e-02\n 5.12849857e-02 1.73472348e-18]<br>Return: 0.0026",
          "Risks: 0.0089<br>Weights: [2.82505750e-01 0.00000000e+00 1.58986877e-02 1.55154592e-01\n 3.04300931e-01 1.68868025e-01 0.00000000e+00 1.90870111e-02\n 5.41850035e-02 4.33680869e-19]<br>Return: 0.0026",
          "Risks: 0.0090<br>Weights: [2.86531054e-01 0.00000000e+00 2.16965767e-03 1.62969537e-01\n 3.12463471e-01 1.67834820e-01 0.00000000e+00 1.08310890e-02\n 5.72003715e-02 1.43656788e-18]<br>Return: 0.0027",
          "Risks: 0.0091<br>Weights: [2.85096072e-01 3.36102673e-18 1.30104261e-18 1.71225594e-01\n 3.15403588e-01 1.59519127e-01 1.08420217e-18 1.08420217e-18\n 6.87556195e-02 2.16840434e-19]<br>Return: 0.0028",
          "Risks: 0.0093<br>Weights: [2.78612631e-01 4.77048956e-18 7.58941521e-19 1.80547368e-01\n 3.17461044e-01 1.41378511e-01 0.00000000e+00 7.58941521e-19\n 8.20004465e-02 2.60208521e-18]<br>Return: 0.0029",
          "Risks: 0.0095<br>Weights: [2.82098759e-01 0.00000000e+00 6.17995238e-18 1.90725817e-01\n 3.37107176e-01 1.03483152e-01 0.00000000e+00 6.93889390e-18\n 8.65850957e-02 0.00000000e+00]<br>Return: 0.0030",
          "Risks: 0.0096<br>Weights: [2.78274074e-01 8.67361738e-18 2.16840434e-18 2.09196089e-01\n 3.58743423e-01 6.64779939e-02 0.00000000e+00 0.00000000e+00\n 8.73084196e-02 0.00000000e+00]<br>Return: 0.0031",
          "Risks: 0.0098<br>Weights: [2.61520837e-01 2.56955915e-17 0.00000000e+00 2.07291510e-01\n 3.94992476e-01 3.85129072e-02 0.00000000e+00 3.59141970e-18\n 9.76822699e-02 0.00000000e+00]<br>Return: 0.0032",
          "Risks: 0.0101<br>Weights: [2.54882114e-01 0.00000000e+00 0.00000000e+00 2.15454130e-01\n 4.17278319e-01 7.62582411e-03 4.33680869e-18 0.00000000e+00\n 1.04759613e-01 2.16840434e-19]<br>Return: 0.0033",
          "Risks: 0.0103<br>Weights: [2.36411085e-01 0.00000000e+00 0.00000000e+00 2.28799374e-01\n 4.15005329e-01 7.91467586e-18 1.62630326e-18 0.00000000e+00\n 1.19784212e-01 0.00000000e+00]<br>Return: 0.0033",
          "Risks: 0.0106<br>Weights: [2.17605374e-01 1.36609474e-17 0.00000000e+00 2.43884554e-01\n 4.00466590e-01 1.06251813e-17 0.00000000e+00 0.00000000e+00\n 1.38043482e-01 1.23599048e-17]<br>Return: 0.0034",
          "Risks: 0.0110<br>Weights: [1.94724749e-01 0.00000000e+00 0.00000000e+00 2.55682931e-01\n 3.92844482e-01 2.26598254e-17 0.00000000e+00 7.04731412e-18\n 1.56747838e-01 0.00000000e+00]<br>Return: 0.0035",
          "Risks: 0.0113<br>Weights: [1.67231312e-01 2.71050543e-18 0.00000000e+00 2.65877111e-01\n 3.91698949e-01 4.66206934e-18 0.00000000e+00 0.00000000e+00\n 1.75192628e-01 1.28206907e-17]<br>Return: 0.0036",
          "Risks: 0.0118<br>Weights: [1.32078125e-01 0.00000000e+00 4.55364912e-18 2.81843859e-01\n 3.95914602e-01 5.20417043e-18 0.00000000e+00 2.16840434e-18\n 1.90163414e-01 0.00000000e+00]<br>Return: 0.0037",
          "Risks: 0.0122<br>Weights: [1.00553873e-01 0.00000000e+00 1.56125113e-17 3.15053777e-01\n 3.84818295e-01 2.08708918e-17 0.00000000e+00 0.00000000e+00\n 1.99574055e-01 0.00000000e+00]<br>Return: 0.0038",
          "Risks: 0.0127<br>Weights: [8.37694366e-02 0.00000000e+00 0.00000000e+00 3.41379409e-01\n 3.60704941e-01 1.38777878e-17 1.34441069e-17 2.12503626e-17\n 2.14146214e-01 0.00000000e+00]<br>Return: 0.0039",
          "Risks: 0.0131<br>Weights: [6.51628693e-02 1.55583012e-17 0.00000000e+00 3.57081645e-01\n 3.45536386e-01 0.00000000e+00 0.00000000e+00 0.00000000e+00\n 2.32219100e-01 3.46944695e-18]<br>Return: 0.0040",
          "Risks: 0.0136<br>Weights: [4.57378583e-02 0.00000000e+00 0.00000000e+00 3.72458048e-01\n 3.31543300e-01 6.32089867e-17 0.00000000e+00 0.00000000e+00\n 2.50260793e-01 6.07153217e-18]<br>Return: 0.0040",
          "Risks: 0.0142<br>Weights: [2.42508278e-02 0.00000000e+00 1.77809156e-17 3.88338722e-01\n 3.19664542e-01 1.73472348e-18 6.93889390e-18 0.00000000e+00\n 2.67745908e-01 0.00000000e+00]<br>Return: 0.0041",
          "Risks: 0.0147<br>Weights: [2.38743818e-03 0.00000000e+00 2.73218947e-17 4.00867410e-01\n 3.10373467e-01 2.03830008e-17 0.00000000e+00 0.00000000e+00\n 2.86371685e-01 0.00000000e+00]<br>Return: 0.0042",
          "Risks: 0.0153<br>Weights: [4.16333634e-17 0.00000000e+00 0.00000000e+00 3.97815346e-01\n 2.88028280e-01 0.00000000e+00 0.00000000e+00 2.60208521e-18\n 3.14156374e-01 0.00000000e+00]<br>Return: 0.0043",
          "Risks: 0.0159<br>Weights: [0.00000000e+00 1.04083409e-17 0.00000000e+00 3.91055909e-01\n 2.65231967e-01 2.58040117e-17 0.00000000e+00 8.45677695e-18\n 3.43712125e-01 5.20417043e-18]<br>Return: 0.0044",
          "Risks: 0.0165<br>Weights: [3.46944695e-17 0.00000000e+00 0.00000000e+00 3.82597338e-01\n 2.43521916e-01 0.00000000e+00 5.20417043e-18 0.00000000e+00\n 3.73880746e-01 0.00000000e+00]<br>Return: 0.0045",
          "Risks: 0.0172<br>Weights: [1.38777878e-17 0.00000000e+00 8.67361738e-18 3.73037230e-01\n 2.22516081e-01 0.00000000e+00 0.00000000e+00 3.46944695e-18\n 4.04446689e-01 2.16840434e-19]<br>Return: 0.0046",
          "Risks: 0.0178<br>Weights: [2.71735931e-17 0.00000000e+00 9.66479249e-18 4.15012855e-01\n 1.68563298e-01 8.38270924e-20 6.92799618e-18 0.00000000e+00\n 4.16423847e-01 0.00000000e+00]<br>Return: 0.0047",
          "Risks: 0.0185<br>Weights: [1.80057319e-17 7.66773451e-18 0.00000000e+00 4.25064770e-01\n 1.35019438e-01 0.00000000e+00 0.00000000e+00 2.79213084e-18\n 4.39915792e-01 1.88882636e-18]<br>Return: 0.0047",
          "Risks: 0.0192<br>Weights: [1.46640555e-17 0.00000000e+00 0.00000000e+00 4.35182939e-01\n 1.01433221e-01 7.39820048e-18 0.00000000e+00 1.16678364e-17\n 4.63383839e-01 2.59170074e-18]<br>Return: 0.0048",
          "Risks: 0.0200<br>Weights: [0.00000000e+00 0.00000000e+00 6.03400805e-18 4.45339037e-01\n 6.78227575e-02 0.00000000e+00 0.00000000e+00 1.15145874e-18\n 4.86838206e-01 2.71978846e-18]<br>Return: 0.0049",
          "Risks: 0.0207<br>Weights: [2.03287382e-17 3.21506188e-18 0.00000000e+00 4.56475044e-01\n 3.35858330e-02 8.55870255e-18 0.00000000e+00 4.19812700e-18\n 5.09939123e-01 2.24152545e-18]<br>Return: 0.0050",
          "Risks: 0.0215<br>Weights: [1.06645722e-17 0.00000000e+00 1.83053536e-18 4.65873677e-01\n 4.59618362e-04 0.00000000e+00 7.15726387e-18 9.18250744e-18\n 5.33666705e-01 3.53232749e-18]<br>Return: 0.0051",
          "Risks: 0.0222<br>Weights: [0.00000000e+00 1.60970508e-18 7.58501683e-18 4.24175105e-01\n 2.08166817e-17 0.00000000e+00 7.93709644e-18 0.00000000e+00\n 5.75824895e-01 5.31182627e-18]<br>Return: 0.0052",
          "Risks: 0.0231<br>Weights: [1.59491045e-18 5.28708461e-18 1.39268913e-18 3.81757594e-01\n 2.08166817e-17 0.00000000e+00 6.97471854e-18 4.69192045e-18\n 6.18242406e-01 5.43802880e-19]<br>Return: 0.0053",
          "Risks: 0.0240<br>Weights: [0.00000000e+00 8.45743874e-18 0.00000000e+00 3.39340084e-01\n 0.00000000e+00 0.00000000e+00 1.00735486e-17 4.68458618e-18\n 6.60659916e-01 1.41600578e-18]<br>Return: 0.0054",
          "Risks: 0.0249<br>Weights: [5.46220307e-18 2.65233728e-18 0.00000000e+00 2.96922573e-01\n 0.00000000e+00 1.57700063e-18 1.25528035e-18 7.36986277e-18\n 7.03077427e-01 3.07801886e-18]<br>Return: 0.0054",
          "Risks: 0.0259<br>Weights: [2.77555756e-17 6.93889390e-17 0.00000000e+00 2.54505061e-01\n 1.80411242e-16 5.55111512e-17 0.00000000e+00 6.93889390e-17\n 7.45494939e-01 0.00000000e+00]<br>Return: 0.0055",
          "Risks: 0.0269<br>Weights: [6.93889390e-17 3.05311332e-16 0.00000000e+00 2.12087551e-01\n 0.00000000e+00 0.00000000e+00 1.11022302e-16 0.00000000e+00\n 7.87912449e-01 2.77555756e-16]<br>Return: 0.0056",
          "Risks: 0.0279<br>Weights: [0.00000000e+00 0.00000000e+00 0.00000000e+00 1.69670041e-01\n 2.49800181e-16 0.00000000e+00 0.00000000e+00 0.00000000e+00\n 8.30329959e-01 1.66533454e-16]<br>Return: 0.0057",
          "Risks: 0.0290<br>Weights: [0.00000000e+00 3.46944695e-16 0.00000000e+00 1.27252530e-01\n 0.00000000e+00 4.16333634e-17 2.35922393e-16 3.19189120e-16\n 8.72747470e-01 0.00000000e+00]<br>Return: 0.0058",
          "Risks: 0.0301<br>Weights: [0.00000000e+00 5.41233725e-16 0.00000000e+00 8.48350108e-02\n 0.00000000e+00 4.85722573e-16 0.00000000e+00 0.00000000e+00\n 9.15164989e-01 0.00000000e+00]<br>Return: 0.0059",
          "Risks: 0.0312<br>Weights: [0.00000000e+00 0.00000000e+00 0.00000000e+00 4.24174992e-02\n 5.27355937e-16 0.00000000e+00 0.00000000e+00 0.00000000e+00\n 9.57582501e-01 5.27355937e-16]<br>Return: 0.0060",
          "Risks: 0.0324<br>Weights: [5.62436902e-18 0.00000000e+00 8.34932988e-18 2.13251888e-13\n 0.00000000e+00 0.00000000e+00 9.82316721e-18 0.00000000e+00\n 1.00000000e+00 0.00000000e+00]<br>Return: 0.0061"
         ],
         "type": "scatter",
         "x": [
          0.007716848025703703,
          0.007711044531840155,
          0.007725515391880693,
          0.007745314093418994,
          0.007769624277239805,
          0.007821930499372711,
          0.007836055926585657,
          0.007878034842111215,
          0.00792463730979937,
          0.007977813993786035,
          0.008035495541567796,
          0.008121922766128163,
          0.008168232379230865,
          0.00824251040346482,
          0.008322951852553658,
          0.008424820312813459,
          0.008510068636257254,
          0.00861166687153202,
          0.008695698432166705,
          0.008803024843850824,
          0.0089143600734652,
          0.009027211660483803,
          0.009145286086794104,
          0.00929056129940614,
          0.009451414327455056,
          0.009639279932611818,
          0.009841118635829012,
          0.010074514424722807,
          0.010334972262183408,
          0.010638619357216529,
          0.010978058687413517,
          0.011349643309636363,
          0.011751573455816304,
          0.012190191413357344,
          0.012658752161098855,
          0.013143963063910363,
          0.013649878779633189,
          0.014173692479381269,
          0.014710239650851524,
          0.015271799840118474,
          0.015869504024765644,
          0.016501683894409334,
          0.017166268303968352,
          0.017830108346066645,
          0.018524719110956555,
          0.019236153759892034,
          0.01996261396935321,
          0.020702540969154755,
          0.02145447918513351,
          0.022240196309105665,
          0.02308165808777866,
          0.02397301330965337,
          0.024908906311083275,
          0.025884506556474566,
          0.026895493369388505,
          0.027938025456390517,
          0.029008701938030308,
          0.030104520303706396,
          0.031222833071996664,
          0.03236130814347317
         ],
         "y": [
          0.0008898607227128155,
          0.000977544065620401,
          0.0010652274085279864,
          0.0011529107514355718,
          0.0012405940943431572,
          0.0013282774372507427,
          0.001415960780158328,
          0.0015036441230659135,
          0.001591327465973499,
          0.0016790108088810844,
          0.0017666941517886698,
          0.0018543774946962552,
          0.0019420608376038405,
          0.002029744180511426,
          0.002117427523419011,
          0.002205110866326597,
          0.002292794209234182,
          0.002380477552141768,
          0.002468160895049353,
          0.0025558442379569387,
          0.0026435275808645237,
          0.0027312109237721096,
          0.0028188942666796946,
          0.00290657760958728,
          0.0029942609524948654,
          0.003081944295402451,
          0.0031696276383100363,
          0.0032573109812176217,
          0.003344994324125207,
          0.0034326776670327926,
          0.003520361009940378,
          0.0036080443528479634,
          0.003695727695755549,
          0.0037834110386631343,
          0.0038710943815707197,
          0.003958777724478306,
          0.004046461067385891,
          0.004134144410293476,
          0.0042218277532010615,
          0.004309511096108647,
          0.004397194439016232,
          0.004484877781923817,
          0.004572561124831403,
          0.004660244467738989,
          0.004747927810646574,
          0.004835611153554159,
          0.004923294496461745,
          0.005010977839369331,
          0.005098661182276915,
          0.005186344525184501,
          0.005274027868092087,
          0.0053617112109996725,
          0.005449394553907257,
          0.0055370778968148425,
          0.005624761239722428,
          0.005712444582630014,
          0.005800127925537598,
          0.005887811268445184,
          0.00597549461135277,
          0.006063177954260356
         ]
        },
        {
         "marker": {
          "color": "purple",
          "size": 15,
          "symbol": "star"
         },
         "mode": "markers",
         "name": "Target Return  0.005",
         "type": "scatter",
         "x": [
          0.020702540969154755
         ],
         "y": [
          0.005010977839369331
         ]
        }
       ],
       "layout": {
        "template": {
         "data": {
          "bar": [
           {
            "error_x": {
             "color": "#2a3f5f"
            },
            "error_y": {
             "color": "#2a3f5f"
            },
            "marker": {
             "line": {
              "color": "#E5ECF6",
              "width": 0.5
             },
             "pattern": {
              "fillmode": "overlay",
              "size": 10,
              "solidity": 0.2
             }
            },
            "type": "bar"
           }
          ],
          "barpolar": [
           {
            "marker": {
             "line": {
              "color": "#E5ECF6",
              "width": 0.5
             },
             "pattern": {
              "fillmode": "overlay",
              "size": 10,
              "solidity": 0.2
             }
            },
            "type": "barpolar"
           }
          ],
          "carpet": [
           {
            "aaxis": {
             "endlinecolor": "#2a3f5f",
             "gridcolor": "white",
             "linecolor": "white",
             "minorgridcolor": "white",
             "startlinecolor": "#2a3f5f"
            },
            "baxis": {
             "endlinecolor": "#2a3f5f",
             "gridcolor": "white",
             "linecolor": "white",
             "minorgridcolor": "white",
             "startlinecolor": "#2a3f5f"
            },
            "type": "carpet"
           }
          ],
          "choropleth": [
           {
            "colorbar": {
             "outlinewidth": 0,
             "ticks": ""
            },
            "type": "choropleth"
           }
          ],
          "contour": [
           {
            "colorbar": {
             "outlinewidth": 0,
             "ticks": ""
            },
            "colorscale": [
             [
              0,
              "#0d0887"
             ],
             [
              0.1111111111111111,
              "#46039f"
             ],
             [
              0.2222222222222222,
              "#7201a8"
             ],
             [
              0.3333333333333333,
              "#9c179e"
             ],
             [
              0.4444444444444444,
              "#bd3786"
             ],
             [
              0.5555555555555556,
              "#d8576b"
             ],
             [
              0.6666666666666666,
              "#ed7953"
             ],
             [
              0.7777777777777778,
              "#fb9f3a"
             ],
             [
              0.8888888888888888,
              "#fdca26"
             ],
             [
              1,
              "#f0f921"
             ]
            ],
            "type": "contour"
           }
          ],
          "contourcarpet": [
           {
            "colorbar": {
             "outlinewidth": 0,
             "ticks": ""
            },
            "type": "contourcarpet"
           }
          ],
          "heatmap": [
           {
            "colorbar": {
             "outlinewidth": 0,
             "ticks": ""
            },
            "colorscale": [
             [
              0,
              "#0d0887"
             ],
             [
              0.1111111111111111,
              "#46039f"
             ],
             [
              0.2222222222222222,
              "#7201a8"
             ],
             [
              0.3333333333333333,
              "#9c179e"
             ],
             [
              0.4444444444444444,
              "#bd3786"
             ],
             [
              0.5555555555555556,
              "#d8576b"
             ],
             [
              0.6666666666666666,
              "#ed7953"
             ],
             [
              0.7777777777777778,
              "#fb9f3a"
             ],
             [
              0.8888888888888888,
              "#fdca26"
             ],
             [
              1,
              "#f0f921"
             ]
            ],
            "type": "heatmap"
           }
          ],
          "heatmapgl": [
           {
            "colorbar": {
             "outlinewidth": 0,
             "ticks": ""
            },
            "colorscale": [
             [
              0,
              "#0d0887"
             ],
             [
              0.1111111111111111,
              "#46039f"
             ],
             [
              0.2222222222222222,
              "#7201a8"
             ],
             [
              0.3333333333333333,
              "#9c179e"
             ],
             [
              0.4444444444444444,
              "#bd3786"
             ],
             [
              0.5555555555555556,
              "#d8576b"
             ],
             [
              0.6666666666666666,
              "#ed7953"
             ],
             [
              0.7777777777777778,
              "#fb9f3a"
             ],
             [
              0.8888888888888888,
              "#fdca26"
             ],
             [
              1,
              "#f0f921"
             ]
            ],
            "type": "heatmapgl"
           }
          ],
          "histogram": [
           {
            "marker": {
             "pattern": {
              "fillmode": "overlay",
              "size": 10,
              "solidity": 0.2
             }
            },
            "type": "histogram"
           }
          ],
          "histogram2d": [
           {
            "colorbar": {
             "outlinewidth": 0,
             "ticks": ""
            },
            "colorscale": [
             [
              0,
              "#0d0887"
             ],
             [
              0.1111111111111111,
              "#46039f"
             ],
             [
              0.2222222222222222,
              "#7201a8"
             ],
             [
              0.3333333333333333,
              "#9c179e"
             ],
             [
              0.4444444444444444,
              "#bd3786"
             ],
             [
              0.5555555555555556,
              "#d8576b"
             ],
             [
              0.6666666666666666,
              "#ed7953"
             ],
             [
              0.7777777777777778,
              "#fb9f3a"
             ],
             [
              0.8888888888888888,
              "#fdca26"
             ],
             [
              1,
              "#f0f921"
             ]
            ],
            "type": "histogram2d"
           }
          ],
          "histogram2dcontour": [
           {
            "colorbar": {
             "outlinewidth": 0,
             "ticks": ""
            },
            "colorscale": [
             [
              0,
              "#0d0887"
             ],
             [
              0.1111111111111111,
              "#46039f"
             ],
             [
              0.2222222222222222,
              "#7201a8"
             ],
             [
              0.3333333333333333,
              "#9c179e"
             ],
             [
              0.4444444444444444,
              "#bd3786"
             ],
             [
              0.5555555555555556,
              "#d8576b"
             ],
             [
              0.6666666666666666,
              "#ed7953"
             ],
             [
              0.7777777777777778,
              "#fb9f3a"
             ],
             [
              0.8888888888888888,
              "#fdca26"
             ],
             [
              1,
              "#f0f921"
             ]
            ],
            "type": "histogram2dcontour"
           }
          ],
          "mesh3d": [
           {
            "colorbar": {
             "outlinewidth": 0,
             "ticks": ""
            },
            "type": "mesh3d"
           }
          ],
          "parcoords": [
           {
            "line": {
             "colorbar": {
              "outlinewidth": 0,
              "ticks": ""
             }
            },
            "type": "parcoords"
           }
          ],
          "pie": [
           {
            "automargin": true,
            "type": "pie"
           }
          ],
          "scatter": [
           {
            "fillpattern": {
             "fillmode": "overlay",
             "size": 10,
             "solidity": 0.2
            },
            "type": "scatter"
           }
          ],
          "scatter3d": [
           {
            "line": {
             "colorbar": {
              "outlinewidth": 0,
              "ticks": ""
             }
            },
            "marker": {
             "colorbar": {
              "outlinewidth": 0,
              "ticks": ""
             }
            },
            "type": "scatter3d"
           }
          ],
          "scattercarpet": [
           {
            "marker": {
             "colorbar": {
              "outlinewidth": 0,
              "ticks": ""
             }
            },
            "type": "scattercarpet"
           }
          ],
          "scattergeo": [
           {
            "marker": {
             "colorbar": {
              "outlinewidth": 0,
              "ticks": ""
             }
            },
            "type": "scattergeo"
           }
          ],
          "scattergl": [
           {
            "marker": {
             "colorbar": {
              "outlinewidth": 0,
              "ticks": ""
             }
            },
            "type": "scattergl"
           }
          ],
          "scattermapbox": [
           {
            "marker": {
             "colorbar": {
              "outlinewidth": 0,
              "ticks": ""
             }
            },
            "type": "scattermapbox"
           }
          ],
          "scatterpolar": [
           {
            "marker": {
             "colorbar": {
              "outlinewidth": 0,
              "ticks": ""
             }
            },
            "type": "scatterpolar"
           }
          ],
          "scatterpolargl": [
           {
            "marker": {
             "colorbar": {
              "outlinewidth": 0,
              "ticks": ""
             }
            },
            "type": "scatterpolargl"
           }
          ],
          "scatterternary": [
           {
            "marker": {
             "colorbar": {
              "outlinewidth": 0,
              "ticks": ""
             }
            },
            "type": "scatterternary"
           }
          ],
          "surface": [
           {
            "colorbar": {
             "outlinewidth": 0,
             "ticks": ""
            },
            "colorscale": [
             [
              0,
              "#0d0887"
             ],
             [
              0.1111111111111111,
              "#46039f"
             ],
             [
              0.2222222222222222,
              "#7201a8"
             ],
             [
              0.3333333333333333,
              "#9c179e"
             ],
             [
              0.4444444444444444,
              "#bd3786"
             ],
             [
              0.5555555555555556,
              "#d8576b"
             ],
             [
              0.6666666666666666,
              "#ed7953"
             ],
             [
              0.7777777777777778,
              "#fb9f3a"
             ],
             [
              0.8888888888888888,
              "#fdca26"
             ],
             [
              1,
              "#f0f921"
             ]
            ],
            "type": "surface"
           }
          ],
          "table": [
           {
            "cells": {
             "fill": {
              "color": "#EBF0F8"
             },
             "line": {
              "color": "white"
             }
            },
            "header": {
             "fill": {
              "color": "#C8D4E3"
             },
             "line": {
              "color": "white"
             }
            },
            "type": "table"
           }
          ]
         },
         "layout": {
          "annotationdefaults": {
           "arrowcolor": "#2a3f5f",
           "arrowhead": 0,
           "arrowwidth": 1
          },
          "autotypenumbers": "strict",
          "coloraxis": {
           "colorbar": {
            "outlinewidth": 0,
            "ticks": ""
           }
          },
          "colorscale": {
           "diverging": [
            [
             0,
             "#8e0152"
            ],
            [
             0.1,
             "#c51b7d"
            ],
            [
             0.2,
             "#de77ae"
            ],
            [
             0.3,
             "#f1b6da"
            ],
            [
             0.4,
             "#fde0ef"
            ],
            [
             0.5,
             "#f7f7f7"
            ],
            [
             0.6,
             "#e6f5d0"
            ],
            [
             0.7,
             "#b8e186"
            ],
            [
             0.8,
             "#7fbc41"
            ],
            [
             0.9,
             "#4d9221"
            ],
            [
             1,
             "#276419"
            ]
           ],
           "sequential": [
            [
             0,
             "#0d0887"
            ],
            [
             0.1111111111111111,
             "#46039f"
            ],
            [
             0.2222222222222222,
             "#7201a8"
            ],
            [
             0.3333333333333333,
             "#9c179e"
            ],
            [
             0.4444444444444444,
             "#bd3786"
            ],
            [
             0.5555555555555556,
             "#d8576b"
            ],
            [
             0.6666666666666666,
             "#ed7953"
            ],
            [
             0.7777777777777778,
             "#fb9f3a"
            ],
            [
             0.8888888888888888,
             "#fdca26"
            ],
            [
             1,
             "#f0f921"
            ]
           ],
           "sequentialminus": [
            [
             0,
             "#0d0887"
            ],
            [
             0.1111111111111111,
             "#46039f"
            ],
            [
             0.2222222222222222,
             "#7201a8"
            ],
            [
             0.3333333333333333,
             "#9c179e"
            ],
            [
             0.4444444444444444,
             "#bd3786"
            ],
            [
             0.5555555555555556,
             "#d8576b"
            ],
            [
             0.6666666666666666,
             "#ed7953"
            ],
            [
             0.7777777777777778,
             "#fb9f3a"
            ],
            [
             0.8888888888888888,
             "#fdca26"
            ],
            [
             1,
             "#f0f921"
            ]
           ]
          },
          "colorway": [
           "#636efa",
           "#EF553B",
           "#00cc96",
           "#ab63fa",
           "#FFA15A",
           "#19d3f3",
           "#FF6692",
           "#B6E880",
           "#FF97FF",
           "#FECB52"
          ],
          "font": {
           "color": "#2a3f5f"
          },
          "geo": {
           "bgcolor": "white",
           "lakecolor": "white",
           "landcolor": "#E5ECF6",
           "showlakes": true,
           "showland": true,
           "subunitcolor": "white"
          },
          "hoverlabel": {
           "align": "left"
          },
          "hovermode": "closest",
          "mapbox": {
           "style": "light"
          },
          "paper_bgcolor": "white",
          "plot_bgcolor": "#E5ECF6",
          "polar": {
           "angularaxis": {
            "gridcolor": "white",
            "linecolor": "white",
            "ticks": ""
           },
           "bgcolor": "#E5ECF6",
           "radialaxis": {
            "gridcolor": "white",
            "linecolor": "white",
            "ticks": ""
           }
          },
          "scene": {
           "xaxis": {
            "backgroundcolor": "#E5ECF6",
            "gridcolor": "white",
            "gridwidth": 2,
            "linecolor": "white",
            "showbackground": true,
            "ticks": "",
            "zerolinecolor": "white"
           },
           "yaxis": {
            "backgroundcolor": "#E5ECF6",
            "gridcolor": "white",
            "gridwidth": 2,
            "linecolor": "white",
            "showbackground": true,
            "ticks": "",
            "zerolinecolor": "white"
           },
           "zaxis": {
            "backgroundcolor": "#E5ECF6",
            "gridcolor": "white",
            "gridwidth": 2,
            "linecolor": "white",
            "showbackground": true,
            "ticks": "",
            "zerolinecolor": "white"
           }
          },
          "shapedefaults": {
           "line": {
            "color": "#2a3f5f"
           }
          },
          "ternary": {
           "aaxis": {
            "gridcolor": "white",
            "linecolor": "white",
            "ticks": ""
           },
           "baxis": {
            "gridcolor": "white",
            "linecolor": "white",
            "ticks": ""
           },
           "bgcolor": "#E5ECF6",
           "caxis": {
            "gridcolor": "white",
            "linecolor": "white",
            "ticks": ""
           }
          },
          "title": {
           "x": 0.05
          },
          "xaxis": {
           "automargin": true,
           "gridcolor": "white",
           "linecolor": "white",
           "ticks": "",
           "title": {
            "standoff": 15
           },
           "zerolinecolor": "white",
           "zerolinewidth": 2
          },
          "yaxis": {
           "automargin": true,
           "gridcolor": "white",
           "linecolor": "white",
           "ticks": "",
           "title": {
            "standoff": 15
           },
           "zerolinecolor": "white",
           "zerolinewidth": 2
          }
         }
        },
        "title": {
         "text": "Efficient Frontier"
        },
        "xaxis": {
         "title": {
          "text": "Volatility"
         }
        },
        "yaxis": {
         "title": {
          "text": "Return"
         }
        }
       }
      }
     },
     "metadata": {},
     "output_type": "display_data"
    }
   ],
   "source": [
    "\n",
    "# Call the markowitz_optimization_for_target_return function\n",
    "target_return = 0.005\n",
    "optimal_weights_target, optimal_risk_target, optimal_return = portfolio_optimizer2.markowitz_optimization_for_target_return( target_return)\n",
    "print(f\"Markowitz Optimization for Target Return {target_return} Results:\")\n",
    "print(\"Optimal Weights:\" )\n",
    "for i in range(len(stocks)):\n",
    "    we = optimal_weights_target[i] * 100 \n",
    "    we = round(we , 2)\n",
    "    print(stocks[i] , \":\" , we ) \n",
    "print(\"Optimal Risk:\", round(optimal_risk_target * 100 , 2 ) , \"%\")\n",
    "print(\"Optimal Return:\", round(optimal_return * 100 , 2 ) , \"%\" ) \n",
    "portfolio_optimizer2.plot_efficient_frontier_for_given_target_return(target_return)"
   ]
  },
  {
   "cell_type": "code",
   "execution_count": null,
   "id": "9e2ef4fe-ea9e-4584-91aa-7c0bf9126c24",
   "metadata": {},
   "outputs": [],
   "source": []
  },
  {
   "cell_type": "code",
   "execution_count": 28,
   "id": "9d6613d0-11ed-47c4-8d19-2da0197e685c",
   "metadata": {},
   "outputs": [],
   "source": [
    "# portfolio_optimizer2.plot_efficient_frontier_for_given_risk_tolerance_levels(  0.006 , 0.01 )"
   ]
  },
  {
   "cell_type": "code",
   "execution_count": 25,
   "id": "2ceeec64-b22c-4f8b-b178-b31e9e3800a8",
   "metadata": {},
   "outputs": [
    {
     "name": "stdout",
     "output_type": "stream",
     "text": [
      "For risk :  0.006\n",
      "Expected Return :  0.08 %\n",
      "Optimal Weights  \n",
      "AAPL --- 14.79\n",
      "MSFT --- 2.13\n",
      "GOOGL --- 32.97\n",
      "AMZN --- 3.44\n",
      "CSCO --- 13.88\n",
      "TSLA --- 14.7\n",
      "NVDA --- 7.84\n",
      "JPM --- 10.26\n",
      "GS --- 0.0\n",
      "NFLX --- 0.0\n",
      "-----------------------------------------------------\n",
      "For risk :  0.01\n",
      "Expected Return :  0.32 %\n",
      "Optimal Weights \n",
      "AAPL --- 25.84\n",
      "MSFT --- 0.0\n",
      "GOOGL --- 0.0\n",
      "AMZN --- 24.81\n",
      "CSCO --- 36.23\n",
      "TSLA --- 3.56\n",
      "NVDA --- 0.0\n",
      "JPM --- 0.0\n",
      "GS --- 9.56\n",
      "NFLX --- 0.0\n"
     ]
    }
   ],
   "source": [
    "weights , expected_return = portfolio_optimizer2.markowitz_optimization_max_return( 0.006) \n",
    "print(\"For risk : \" , 0.006 ) \n",
    "print(\"Expected Return : \" , round(expected_return *100, 2)  , \"%\" )\n",
    "print(\"Optimal Weights  \"  )  \n",
    "for i in range(len(stocks)):\n",
    "    print(stocks[i] , \"---\" , round(weights[i]*100 , 2) ) \n",
    "print(\"-----------------------------------------------------\" ) \n",
    "weights , expected_return = portfolio_optimizer2.markowitz_optimization_max_return( 0.01) \n",
    "print(\"For risk : \" , 0.01) \n",
    "print(\"Expected Return : \" , round(expected_return * 100 , 2)  , \"%\" )\n",
    "print(\"Optimal Weights \" )  \n",
    "for i in range(len(stocks)):\n",
    "    print(stocks[i] , \"---\" , round(weights[i] * 100  , 2)  ) "
   ]
  },
  {
   "cell_type": "markdown",
   "id": "06168816-1483-4282-bd1d-341364bae94b",
   "metadata": {},
   "source": [
    "# PLotting Both Efficient Frontiers on same plot (in case of short selling vs not )"
   ]
  },
  {
   "cell_type": "code",
   "execution_count": 26,
   "id": "0fbccd79-32c2-4379-82ce-5ef95f4a2ecc",
   "metadata": {},
   "outputs": [],
   "source": [
    "\n",
    "def plot_efficient_frontier(short_selling_optimizer, no_short_selling_optimizer):\n",
    "    # Short Selling Case\n",
    "    min_return_short = short_selling_optimizer.optimal_return\n",
    "    max_return_short = short_selling_optimizer.returns.mean().max()\n",
    "    targets_short = np.linspace(min_return_short, max_return_short, 75)\n",
    "    weights_short = []\n",
    "    risks_short = []\n",
    "    return_short = []\n",
    "\n",
    "    for i in range(len(targets_short)):\n",
    "        w, ri, re = short_selling_optimizer.markowitz_optimization_for_target_return(targets_short[i])\n",
    "        weights_short.append(w)\n",
    "        risks_short.append(ri)\n",
    "        return_short.append(re)\n",
    "\n",
    "    # No Short Selling Case\n",
    "    min_return_no_short = no_short_selling_optimizer.optimal_return\n",
    "    max_return_no_short = no_short_selling_optimizer.returns.mean().max()\n",
    "    targets_no_short = np.linspace(min_return_no_short, max_return_no_short, 75)\n",
    "    weights_no_short = []\n",
    "    risks_no_short = []\n",
    "    return_no_short = []\n",
    "\n",
    "    for i in range(len(targets_no_short)):\n",
    "        w, ri, re = no_short_selling_optimizer.markowitz_optimization_for_target_return(targets_no_short[i])\n",
    "        weights_no_short.append(w)\n",
    "        risks_no_short.append(ri)\n",
    "        return_no_short.append(re)\n",
    "\n",
    "    # Create traces for efficient frontiers\n",
    "    efficient_frontier_trace_short = go.Scatter(\n",
    "        x=risks_short,\n",
    "        y=return_short,\n",
    "        mode='lines',\n",
    "        name='Efficient Frontier (Short Selling)'\n",
    "    )\n",
    "\n",
    "    efficient_frontier_trace_no_short = go.Scatter(\n",
    "        x=risks_no_short,\n",
    "        y=return_no_short,\n",
    "        mode='lines',\n",
    "        name='Efficient Frontier (No Short Selling)'\n",
    "    )\n",
    "\n",
    "    # Create layout\n",
    "    layout = go.Layout(\n",
    "        title='Efficient Frontier Comparison',\n",
    "        xaxis=dict(title='Volatility'),\n",
    "        yaxis=dict(title='Return')\n",
    "    )\n",
    "\n",
    "    # Create figure\n",
    "    fig = go.Figure(data=[efficient_frontier_trace_short, efficient_frontier_trace_no_short], layout=layout)\n",
    "\n",
    "    return fig\n"
   ]
  },
  {
   "cell_type": "code",
   "execution_count": 27,
   "id": "73c4586f-35e3-42a6-9a09-d26cdc5a159c",
   "metadata": {},
   "outputs": [
    {
     "data": {
      "application/vnd.plotly.v1+json": {
       "config": {
        "plotlyServerURL": "https://plot.ly"
       },
       "data": [
        {
         "mode": "lines",
         "name": "Efficient Frontier (Short Selling)",
         "type": "scatter",
         "x": [
          0.007695377754371738,
          0.007697331672956206,
          0.007703064087263485,
          0.007712565884028817,
          0.0077258214022062005,
          0.007742793669201384,
          0.007764028602272363,
          0.007788325418726761,
          0.007816297401926289,
          0.007847901194363098,
          0.007883078612970157,
          0.00792173349750948,
          0.007963673052768528,
          0.00800924536872009,
          0.008057731410252178,
          0.008109457347238646,
          0.008165865226002116,
          0.008223370115670705,
          0.008284346129102744,
          0.008348831335132405,
          0.008416239137694318,
          0.00848708828879832,
          0.008577237300243267,
          0.00865339599412955,
          0.008734294370007951,
          0.008815217091916424,
          0.00889879706615753,
          0.008984833756667632,
          0.009073245525893392,
          0.009163602619492084,
          0.009255283040070878,
          0.009332793488016489,
          0.009447958841782173,
          0.009554632170086518,
          0.009629992959650944,
          0.009751857717744231,
          0.009857469159555106,
          0.009963777287667005,
          0.01007251649220736,
          0.010182901751638896,
          0.010295535728774915,
          0.010408977901459907,
          0.010524515221985947,
          0.010641669764329838,
          0.010759639891686172,
          0.010879056760568757,
          0.01099984071299363,
          0.011121560642484004,
          0.011244337037360419,
          0.011368369621699053,
          0.0114941104465466,
          0.011620990071296189,
          0.011748967305249759,
          0.011877995743333519,
          0.012008031597046432,
          0.012139040421004142,
          0.012270998005722832,
          0.012403903186239816,
          0.012537639386127147,
          0.012673110119206877,
          0.012808849729738272,
          0.012945201867123338,
          0.013082354239350277,
          0.013220308703754383,
          0.013359321882514022,
          0.01349817241056191,
          0.013638242792041668,
          0.01377899765769756,
          0.013920592538662874,
          0.014062269697863547,
          0.014204690636741612,
          0.014347689191146339,
          0.01449174998570815,
          0.014636394222785058,
          0.01478084095582867
         ],
         "y": [
          0.0008343066230323329,
          0.0009049670464273062,
          0.0009756274698222795,
          0.0010462878932172527,
          0.001116948316612226,
          0.0011876087400071993,
          0.0012582691634021727,
          0.001328929586797146,
          0.0013995900101921193,
          0.0014702504335870926,
          0.0015409108569820658,
          0.001611571280377039,
          0.0016822317037720124,
          0.0017528921271669855,
          0.0018235525505619589,
          0.0018942129739569322,
          0.0019648733973519055,
          0.002035533820746879,
          0.002106194244141852,
          0.002176854667536825,
          0.002247515090931799,
          0.0023181755143267717,
          0.0023888359377217455,
          0.0024594963611167184,
          0.002530156784511692,
          0.002600817207906665,
          0.0026714776313016384,
          0.0027421380546966117,
          0.0028127984780915846,
          0.0028834589014865583,
          0.0029541193248815312,
          0.003024779748276505,
          0.003095440171671478,
          0.0031661005950664517,
          0.0032367610184614246,
          0.0033074214418563983,
          0.003378081865251371,
          0.003448742288646345,
          0.003519402712041318,
          0.0035900631354362908,
          0.0036607235588312645,
          0.0037313839822262374,
          0.003802044405621211,
          0.003872704829016184,
          0.003943365252411158,
          0.004014025675806131,
          0.0040846860992011045,
          0.004155346522596077,
          0.004226006945991051,
          0.004296667369386024,
          0.004367327792780997,
          0.004437988216175971,
          0.004508648639570944,
          0.004579309062965917,
          0.00464996948636089,
          0.004720629909755864,
          0.004791290333150837,
          0.004861950756545811,
          0.004932611179940784,
          0.005003271603335757,
          0.00507393202673073,
          0.005144592450125704,
          0.005215252873520677,
          0.005285913296915651,
          0.0053565737203106235,
          0.005427234143705596,
          0.00549789456710057,
          0.005568554990495543,
          0.005639215413890517,
          0.00570987583728549,
          0.0057805362606804635,
          0.005851196684075436,
          0.00592185710747041,
          0.005992517530865383,
          0.006063177954260356
         ]
        },
        {
         "mode": "lines",
         "name": "Efficient Frontier (No Short Selling)",
         "type": "scatter",
         "x": [
          0.007716848025703703,
          0.007706404537777945,
          0.0077190643054981705,
          0.007733527080728119,
          0.007749717020603207,
          0.007769261149713801,
          0.007792548699742621,
          0.007842496761899421,
          0.007851310338202855,
          0.007885279951992855,
          0.007923288778517843,
          0.007965339979023978,
          0.00803442305579037,
          0.008057941333517065,
          0.008110077368623403,
          0.008165357719297585,
          0.008224093734607007,
          0.008286019889851264,
          0.008370831208920869,
          0.008437449376005934,
          0.008504921812156974,
          0.00858564748081034,
          0.008647751336164883,
          0.008731314273208718,
          0.008817739524622142,
          0.008906630708380915,
          0.008997584786916668,
          0.009087303774128759,
          0.009191227800031765,
          0.009309048429429433,
          0.009437692420799618,
          0.00958313314810093,
          0.009749301967390453,
          0.009911303062763029,
          0.010101000212060009,
          0.01030853075018022,
          0.010544230215008712,
          0.010804092220807334,
          0.011085344864918044,
          0.011386302338314686,
          0.011706562130733983,
          0.01204976641031851,
          0.012415480094875421,
          0.012779136199282056,
          0.013184271021064895,
          0.013567178460234818,
          0.01400241407771038,
          0.01442382541493597,
          0.014859595622432966,
          0.01531105794998475,
          0.015786681880835388,
          0.016284396787072844,
          0.016803254702012594,
          0.017341720232517205,
          0.017867192014768038,
          0.018420354980146717,
          0.018984390570647863,
          0.019558358419744126,
          0.02014140910873087,
          0.020732797577523963,
          0.021331778090480976,
          0.02194673678925118,
          0.02259758391478395,
          0.023282217143700643,
          0.02399774502409247,
          0.024741487270558384,
          0.025510976294994252,
          0.02630395269130701,
          0.02711835606441142,
          0.02795231365007208,
          0.02880412705592613,
          0.029672258756983025,
          0.030555317500372173,
          0.03145204619413684,
          0.03236130814347317
         ],
         "y": [
          0.0008898607227128155,
          0.0009597704150310255,
          0.0010296801073492355,
          0.0010995897996674455,
          0.0011694994919856554,
          0.0012394091843038655,
          0.0013093188766220756,
          0.0013792285689402856,
          0.0014491382612584955,
          0.0015190479535767054,
          0.0015889576458949155,
          0.0016588673382131255,
          0.0017287770305313356,
          0.0017986867228495455,
          0.0018685964151677556,
          0.0019385061074859654,
          0.0020084157998041755,
          0.0020783254921223856,
          0.0021482351844405957,
          0.0022181448767588053,
          0.0022880545690770154,
          0.0023579642613952255,
          0.0024278739537134356,
          0.0024977836460316457,
          0.0025676933383498553,
          0.002637603030668066,
          0.0027075127229862755,
          0.0027774224153044856,
          0.0028473321076226956,
          0.0029172417999409057,
          0.0029871514922591154,
          0.0030570611845773255,
          0.0031269708768955355,
          0.0031968805692137456,
          0.0032667902615319557,
          0.0033366999538501653,
          0.0034066096461683754,
          0.0034765193384865855,
          0.0035464290308047956,
          0.0036163387231230057,
          0.0036862484154412153,
          0.0037561581077594254,
          0.0038260678000776355,
          0.0038959774923958456,
          0.003965887184714056,
          0.004035796877032266,
          0.004105706569350475,
          0.004175616261668685,
          0.0042455259539868955,
          0.004315435646305106,
          0.004385345338623316,
          0.004455255030941525,
          0.004525164723259735,
          0.0045950744155779455,
          0.004664984107896156,
          0.004734893800214366,
          0.004804803492532575,
          0.004874713184850785,
          0.004944622877168996,
          0.005014532569487206,
          0.005084442261805416,
          0.005154351954123625,
          0.005224261646441835,
          0.005294171338760046,
          0.005364081031078256,
          0.005433990723396466,
          0.005503900415714675,
          0.005573810108032885,
          0.005643719800351096,
          0.005713629492669306,
          0.005783539184987516,
          0.005853448877305725,
          0.005923358569623935,
          0.005993268261942146,
          0.006063177954260356
         ]
        }
       ],
       "layout": {
        "template": {
         "data": {
          "bar": [
           {
            "error_x": {
             "color": "#2a3f5f"
            },
            "error_y": {
             "color": "#2a3f5f"
            },
            "marker": {
             "line": {
              "color": "#E5ECF6",
              "width": 0.5
             },
             "pattern": {
              "fillmode": "overlay",
              "size": 10,
              "solidity": 0.2
             }
            },
            "type": "bar"
           }
          ],
          "barpolar": [
           {
            "marker": {
             "line": {
              "color": "#E5ECF6",
              "width": 0.5
             },
             "pattern": {
              "fillmode": "overlay",
              "size": 10,
              "solidity": 0.2
             }
            },
            "type": "barpolar"
           }
          ],
          "carpet": [
           {
            "aaxis": {
             "endlinecolor": "#2a3f5f",
             "gridcolor": "white",
             "linecolor": "white",
             "minorgridcolor": "white",
             "startlinecolor": "#2a3f5f"
            },
            "baxis": {
             "endlinecolor": "#2a3f5f",
             "gridcolor": "white",
             "linecolor": "white",
             "minorgridcolor": "white",
             "startlinecolor": "#2a3f5f"
            },
            "type": "carpet"
           }
          ],
          "choropleth": [
           {
            "colorbar": {
             "outlinewidth": 0,
             "ticks": ""
            },
            "type": "choropleth"
           }
          ],
          "contour": [
           {
            "colorbar": {
             "outlinewidth": 0,
             "ticks": ""
            },
            "colorscale": [
             [
              0,
              "#0d0887"
             ],
             [
              0.1111111111111111,
              "#46039f"
             ],
             [
              0.2222222222222222,
              "#7201a8"
             ],
             [
              0.3333333333333333,
              "#9c179e"
             ],
             [
              0.4444444444444444,
              "#bd3786"
             ],
             [
              0.5555555555555556,
              "#d8576b"
             ],
             [
              0.6666666666666666,
              "#ed7953"
             ],
             [
              0.7777777777777778,
              "#fb9f3a"
             ],
             [
              0.8888888888888888,
              "#fdca26"
             ],
             [
              1,
              "#f0f921"
             ]
            ],
            "type": "contour"
           }
          ],
          "contourcarpet": [
           {
            "colorbar": {
             "outlinewidth": 0,
             "ticks": ""
            },
            "type": "contourcarpet"
           }
          ],
          "heatmap": [
           {
            "colorbar": {
             "outlinewidth": 0,
             "ticks": ""
            },
            "colorscale": [
             [
              0,
              "#0d0887"
             ],
             [
              0.1111111111111111,
              "#46039f"
             ],
             [
              0.2222222222222222,
              "#7201a8"
             ],
             [
              0.3333333333333333,
              "#9c179e"
             ],
             [
              0.4444444444444444,
              "#bd3786"
             ],
             [
              0.5555555555555556,
              "#d8576b"
             ],
             [
              0.6666666666666666,
              "#ed7953"
             ],
             [
              0.7777777777777778,
              "#fb9f3a"
             ],
             [
              0.8888888888888888,
              "#fdca26"
             ],
             [
              1,
              "#f0f921"
             ]
            ],
            "type": "heatmap"
           }
          ],
          "heatmapgl": [
           {
            "colorbar": {
             "outlinewidth": 0,
             "ticks": ""
            },
            "colorscale": [
             [
              0,
              "#0d0887"
             ],
             [
              0.1111111111111111,
              "#46039f"
             ],
             [
              0.2222222222222222,
              "#7201a8"
             ],
             [
              0.3333333333333333,
              "#9c179e"
             ],
             [
              0.4444444444444444,
              "#bd3786"
             ],
             [
              0.5555555555555556,
              "#d8576b"
             ],
             [
              0.6666666666666666,
              "#ed7953"
             ],
             [
              0.7777777777777778,
              "#fb9f3a"
             ],
             [
              0.8888888888888888,
              "#fdca26"
             ],
             [
              1,
              "#f0f921"
             ]
            ],
            "type": "heatmapgl"
           }
          ],
          "histogram": [
           {
            "marker": {
             "pattern": {
              "fillmode": "overlay",
              "size": 10,
              "solidity": 0.2
             }
            },
            "type": "histogram"
           }
          ],
          "histogram2d": [
           {
            "colorbar": {
             "outlinewidth": 0,
             "ticks": ""
            },
            "colorscale": [
             [
              0,
              "#0d0887"
             ],
             [
              0.1111111111111111,
              "#46039f"
             ],
             [
              0.2222222222222222,
              "#7201a8"
             ],
             [
              0.3333333333333333,
              "#9c179e"
             ],
             [
              0.4444444444444444,
              "#bd3786"
             ],
             [
              0.5555555555555556,
              "#d8576b"
             ],
             [
              0.6666666666666666,
              "#ed7953"
             ],
             [
              0.7777777777777778,
              "#fb9f3a"
             ],
             [
              0.8888888888888888,
              "#fdca26"
             ],
             [
              1,
              "#f0f921"
             ]
            ],
            "type": "histogram2d"
           }
          ],
          "histogram2dcontour": [
           {
            "colorbar": {
             "outlinewidth": 0,
             "ticks": ""
            },
            "colorscale": [
             [
              0,
              "#0d0887"
             ],
             [
              0.1111111111111111,
              "#46039f"
             ],
             [
              0.2222222222222222,
              "#7201a8"
             ],
             [
              0.3333333333333333,
              "#9c179e"
             ],
             [
              0.4444444444444444,
              "#bd3786"
             ],
             [
              0.5555555555555556,
              "#d8576b"
             ],
             [
              0.6666666666666666,
              "#ed7953"
             ],
             [
              0.7777777777777778,
              "#fb9f3a"
             ],
             [
              0.8888888888888888,
              "#fdca26"
             ],
             [
              1,
              "#f0f921"
             ]
            ],
            "type": "histogram2dcontour"
           }
          ],
          "mesh3d": [
           {
            "colorbar": {
             "outlinewidth": 0,
             "ticks": ""
            },
            "type": "mesh3d"
           }
          ],
          "parcoords": [
           {
            "line": {
             "colorbar": {
              "outlinewidth": 0,
              "ticks": ""
             }
            },
            "type": "parcoords"
           }
          ],
          "pie": [
           {
            "automargin": true,
            "type": "pie"
           }
          ],
          "scatter": [
           {
            "fillpattern": {
             "fillmode": "overlay",
             "size": 10,
             "solidity": 0.2
            },
            "type": "scatter"
           }
          ],
          "scatter3d": [
           {
            "line": {
             "colorbar": {
              "outlinewidth": 0,
              "ticks": ""
             }
            },
            "marker": {
             "colorbar": {
              "outlinewidth": 0,
              "ticks": ""
             }
            },
            "type": "scatter3d"
           }
          ],
          "scattercarpet": [
           {
            "marker": {
             "colorbar": {
              "outlinewidth": 0,
              "ticks": ""
             }
            },
            "type": "scattercarpet"
           }
          ],
          "scattergeo": [
           {
            "marker": {
             "colorbar": {
              "outlinewidth": 0,
              "ticks": ""
             }
            },
            "type": "scattergeo"
           }
          ],
          "scattergl": [
           {
            "marker": {
             "colorbar": {
              "outlinewidth": 0,
              "ticks": ""
             }
            },
            "type": "scattergl"
           }
          ],
          "scattermapbox": [
           {
            "marker": {
             "colorbar": {
              "outlinewidth": 0,
              "ticks": ""
             }
            },
            "type": "scattermapbox"
           }
          ],
          "scatterpolar": [
           {
            "marker": {
             "colorbar": {
              "outlinewidth": 0,
              "ticks": ""
             }
            },
            "type": "scatterpolar"
           }
          ],
          "scatterpolargl": [
           {
            "marker": {
             "colorbar": {
              "outlinewidth": 0,
              "ticks": ""
             }
            },
            "type": "scatterpolargl"
           }
          ],
          "scatterternary": [
           {
            "marker": {
             "colorbar": {
              "outlinewidth": 0,
              "ticks": ""
             }
            },
            "type": "scatterternary"
           }
          ],
          "surface": [
           {
            "colorbar": {
             "outlinewidth": 0,
             "ticks": ""
            },
            "colorscale": [
             [
              0,
              "#0d0887"
             ],
             [
              0.1111111111111111,
              "#46039f"
             ],
             [
              0.2222222222222222,
              "#7201a8"
             ],
             [
              0.3333333333333333,
              "#9c179e"
             ],
             [
              0.4444444444444444,
              "#bd3786"
             ],
             [
              0.5555555555555556,
              "#d8576b"
             ],
             [
              0.6666666666666666,
              "#ed7953"
             ],
             [
              0.7777777777777778,
              "#fb9f3a"
             ],
             [
              0.8888888888888888,
              "#fdca26"
             ],
             [
              1,
              "#f0f921"
             ]
            ],
            "type": "surface"
           }
          ],
          "table": [
           {
            "cells": {
             "fill": {
              "color": "#EBF0F8"
             },
             "line": {
              "color": "white"
             }
            },
            "header": {
             "fill": {
              "color": "#C8D4E3"
             },
             "line": {
              "color": "white"
             }
            },
            "type": "table"
           }
          ]
         },
         "layout": {
          "annotationdefaults": {
           "arrowcolor": "#2a3f5f",
           "arrowhead": 0,
           "arrowwidth": 1
          },
          "autotypenumbers": "strict",
          "coloraxis": {
           "colorbar": {
            "outlinewidth": 0,
            "ticks": ""
           }
          },
          "colorscale": {
           "diverging": [
            [
             0,
             "#8e0152"
            ],
            [
             0.1,
             "#c51b7d"
            ],
            [
             0.2,
             "#de77ae"
            ],
            [
             0.3,
             "#f1b6da"
            ],
            [
             0.4,
             "#fde0ef"
            ],
            [
             0.5,
             "#f7f7f7"
            ],
            [
             0.6,
             "#e6f5d0"
            ],
            [
             0.7,
             "#b8e186"
            ],
            [
             0.8,
             "#7fbc41"
            ],
            [
             0.9,
             "#4d9221"
            ],
            [
             1,
             "#276419"
            ]
           ],
           "sequential": [
            [
             0,
             "#0d0887"
            ],
            [
             0.1111111111111111,
             "#46039f"
            ],
            [
             0.2222222222222222,
             "#7201a8"
            ],
            [
             0.3333333333333333,
             "#9c179e"
            ],
            [
             0.4444444444444444,
             "#bd3786"
            ],
            [
             0.5555555555555556,
             "#d8576b"
            ],
            [
             0.6666666666666666,
             "#ed7953"
            ],
            [
             0.7777777777777778,
             "#fb9f3a"
            ],
            [
             0.8888888888888888,
             "#fdca26"
            ],
            [
             1,
             "#f0f921"
            ]
           ],
           "sequentialminus": [
            [
             0,
             "#0d0887"
            ],
            [
             0.1111111111111111,
             "#46039f"
            ],
            [
             0.2222222222222222,
             "#7201a8"
            ],
            [
             0.3333333333333333,
             "#9c179e"
            ],
            [
             0.4444444444444444,
             "#bd3786"
            ],
            [
             0.5555555555555556,
             "#d8576b"
            ],
            [
             0.6666666666666666,
             "#ed7953"
            ],
            [
             0.7777777777777778,
             "#fb9f3a"
            ],
            [
             0.8888888888888888,
             "#fdca26"
            ],
            [
             1,
             "#f0f921"
            ]
           ]
          },
          "colorway": [
           "#636efa",
           "#EF553B",
           "#00cc96",
           "#ab63fa",
           "#FFA15A",
           "#19d3f3",
           "#FF6692",
           "#B6E880",
           "#FF97FF",
           "#FECB52"
          ],
          "font": {
           "color": "#2a3f5f"
          },
          "geo": {
           "bgcolor": "white",
           "lakecolor": "white",
           "landcolor": "#E5ECF6",
           "showlakes": true,
           "showland": true,
           "subunitcolor": "white"
          },
          "hoverlabel": {
           "align": "left"
          },
          "hovermode": "closest",
          "mapbox": {
           "style": "light"
          },
          "paper_bgcolor": "white",
          "plot_bgcolor": "#E5ECF6",
          "polar": {
           "angularaxis": {
            "gridcolor": "white",
            "linecolor": "white",
            "ticks": ""
           },
           "bgcolor": "#E5ECF6",
           "radialaxis": {
            "gridcolor": "white",
            "linecolor": "white",
            "ticks": ""
           }
          },
          "scene": {
           "xaxis": {
            "backgroundcolor": "#E5ECF6",
            "gridcolor": "white",
            "gridwidth": 2,
            "linecolor": "white",
            "showbackground": true,
            "ticks": "",
            "zerolinecolor": "white"
           },
           "yaxis": {
            "backgroundcolor": "#E5ECF6",
            "gridcolor": "white",
            "gridwidth": 2,
            "linecolor": "white",
            "showbackground": true,
            "ticks": "",
            "zerolinecolor": "white"
           },
           "zaxis": {
            "backgroundcolor": "#E5ECF6",
            "gridcolor": "white",
            "gridwidth": 2,
            "linecolor": "white",
            "showbackground": true,
            "ticks": "",
            "zerolinecolor": "white"
           }
          },
          "shapedefaults": {
           "line": {
            "color": "#2a3f5f"
           }
          },
          "ternary": {
           "aaxis": {
            "gridcolor": "white",
            "linecolor": "white",
            "ticks": ""
           },
           "baxis": {
            "gridcolor": "white",
            "linecolor": "white",
            "ticks": ""
           },
           "bgcolor": "#E5ECF6",
           "caxis": {
            "gridcolor": "white",
            "linecolor": "white",
            "ticks": ""
           }
          },
          "title": {
           "x": 0.05
          },
          "xaxis": {
           "automargin": true,
           "gridcolor": "white",
           "linecolor": "white",
           "ticks": "",
           "title": {
            "standoff": 15
           },
           "zerolinecolor": "white",
           "zerolinewidth": 2
          },
          "yaxis": {
           "automargin": true,
           "gridcolor": "white",
           "linecolor": "white",
           "ticks": "",
           "title": {
            "standoff": 15
           },
           "zerolinecolor": "white",
           "zerolinewidth": 2
          }
         }
        },
        "title": {
         "text": "Efficient Frontier Comparison"
        },
        "xaxis": {
         "title": {
          "text": "Volatility"
         }
        },
        "yaxis": {
         "title": {
          "text": "Return"
         }
        }
       }
      }
     },
     "metadata": {},
     "output_type": "display_data"
    }
   ],
   "source": [
    "plot_efficient_frontier(portfolio_optimizer1 , portfolio_optimizer2)"
   ]
  },
  {
   "cell_type": "code",
   "execution_count": null,
   "id": "37f0e0a2-8aaf-4323-8043-cda5065066fe",
   "metadata": {},
   "outputs": [],
   "source": []
  },
  {
   "cell_type": "code",
   "execution_count": null,
   "id": "b2adc276",
   "metadata": {},
   "outputs": [],
   "source": []
  }
 ],
 "metadata": {
  "kernelspec": {
   "display_name": "Python 3 (ipykernel)",
   "language": "python",
   "name": "python3"
  },
  "language_info": {
   "codemirror_mode": {
    "name": "ipython",
    "version": 3
   },
   "file_extension": ".py",
   "mimetype": "text/x-python",
   "name": "python",
   "nbconvert_exporter": "python",
   "pygments_lexer": "ipython3",
   "version": "3.11.0"
  }
 },
 "nbformat": 4,
 "nbformat_minor": 5
}
